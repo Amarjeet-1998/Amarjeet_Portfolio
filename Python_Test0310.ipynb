{
  "nbformat": 4,
  "nbformat_minor": 0,
  "metadata": {
    "colab": {
      "provenance": [],
      "authorship_tag": "ABX9TyOanLx+v4N9whiTCwO4Rl5s",
      "include_colab_link": true
    },
    "kernelspec": {
      "name": "python3",
      "display_name": "Python 3"
    },
    "language_info": {
      "name": "python"
    }
  },
  "cells": [
    {
      "cell_type": "markdown",
      "metadata": {
        "id": "view-in-github",
        "colab_type": "text"
      },
      "source": [
        "<a href=\"https://colab.research.google.com/github/Amarjeet-1998/Amarjeet_Portfolio/blob/main/Python_Test0310.ipynb\" target=\"_parent\"><img src=\"https://colab.research.google.com/assets/colab-badge.svg\" alt=\"Open In Colab\"/></a>"
      ]
    },
    {
      "cell_type": "markdown",
      "source": [
        "1. Write a program that prompts the user for two numbers and displays the addition, subtraction, multiplication, and division between them.\n"
      ],
      "metadata": {
        "id": "Y-M4_I6bX9KH"
      }
    },
    {
      "cell_type": "code",
      "execution_count": 1,
      "metadata": {
        "colab": {
          "base_uri": "https://localhost:8080/"
        },
        "id": "2vYvaYCfX14G",
        "outputId": "c2eef21e-08a2-4753-e511-7d3b532867df"
      },
      "outputs": [
        {
          "output_type": "stream",
          "name": "stdout",
          "text": [
            "Enter the first number: 12\n",
            "Enter the second number: 23\n",
            "Addition 35.0\n",
            "Subtraction -11.0\n",
            "Multiplication 276.0\n",
            "Division 0.5217391304347826\n"
          ]
        }
      ],
      "source": [
        "num1 = float(input(\"Enter the first number: \"))\n",
        "num2 = float(input(\"Enter the second number: \"))\n",
        "\n",
        "\n",
        "\n",
        "addition = num1 + num2\n",
        "subtraction = num1 - num2\n",
        "multiplication  = num1 * num2\n",
        "division = num1/num2\n",
        "\n",
        "print(\"Addition\", addition)\n",
        "print(\"Subtraction\", subtraction)\n",
        "print(\"Multiplication\", multiplication)\n",
        "print(\"Division\", division)\n"
      ]
    },
    {
      "cell_type": "markdown",
      "source": [
        "2. Write a program that calculates the geometric mean of three numbers entered by the user\n"
      ],
      "metadata": {
        "id": "t435RTPgZaf0"
      }
    },
    {
      "cell_type": "code",
      "source": [
        "import math\n",
        "num1 = float(input(\"Enter the first number: \"))\n",
        "num2 = float(input(\"Enter the second number: \"))\n",
        "num3 = float(input(\"Enter the third number: \"))\n",
        "\n",
        "product = num1 * num2 * num3\n",
        "geometric_mean = math.pow(product, 1/3)\n",
        "\n",
        "print(\"Geometric mean:\", geometric_mean)\n",
        "\n",
        "\n"
      ],
      "metadata": {
        "colab": {
          "base_uri": "https://localhost:8080/"
        },
        "id": "nlaN2FM4Yzwt",
        "outputId": "38bb713e-c788-4c42-8b46-71b90aad4243"
      },
      "execution_count": 2,
      "outputs": [
        {
          "output_type": "stream",
          "name": "stdout",
          "text": [
            "Enter the first number: 54\n",
            "Enter the second number: 763\n",
            "Enter the third number: 123\n",
            "Geometric mean: 171.76755603227818\n"
          ]
        }
      ]
    },
    {
      "cell_type": "markdown",
      "source": [
        "3. Write a program that calculates the BMI of an individual,\n",
        "using the formula BMI = weight / height²"
      ],
      "metadata": {
        "id": "n7NdY8wHab9g"
      }
    },
    {
      "cell_type": "code",
      "source": [
        "weight = float(input(\"Enter your weigt in kilgrams: \"))\n",
        "height = float(input(\"Enter your height in meters: \"))\n",
        "\n",
        "bmi = weight / (height ** 2)\n",
        "\n",
        "print(\"Your BMI is: \", bmi)\n"
      ],
      "metadata": {
        "colab": {
          "base_uri": "https://localhost:8080/"
        },
        "id": "fTIGRGfvaXWW",
        "outputId": "4c8e0539-ccb8-4b91-fce9-58f0098ead95"
      },
      "execution_count": 3,
      "outputs": [
        {
          "output_type": "stream",
          "name": "stdout",
          "text": [
            "Enter your weigt in kilgrams: 54\n",
            "Enter your height in meters: 32\n",
            "Your BMI is:  0.052734375\n"
          ]
        }
      ]
    },
    {
      "cell_type": "markdown",
      "source": [
        "4. Write a program that reads the x and y position of two\n",
        "points in the Cartesian plane, and calculates the distance\n",
        "between them.\n",
        "\n",
        "distance = math.sqrt((x2 - x1) ** 2 + (y2 -y1) ** 2)"
      ],
      "metadata": {
        "id": "EgbcJxk5bWU9"
      }
    },
    {
      "cell_type": "code",
      "source": [
        "x = 5\n",
        "\n",
        "if x > 10:\n",
        "  print(\"x is greater than 10\")\n",
        "elif x > 5:\n",
        "  print(\"x is greater than 5 but not greater than 1\")\n",
        "else:\n",
        "  print(\"x is 5 or less\")"
      ],
      "metadata": {
        "colab": {
          "base_uri": "https://localhost:8080/"
        },
        "id": "sWLEs9z9a68z",
        "outputId": "c66d14c5-f3fa-46c9-f276-56b4fae5ed2c"
      },
      "execution_count": 4,
      "outputs": [
        {
          "output_type": "stream",
          "name": "stdout",
          "text": [
            "x is 5 or less\n"
          ]
        }
      ]
    },
    {
      "cell_type": "code",
      "source": [
        "year_of_birth = int(input(\"Enter the year of birth: \"))\n",
        "\n",
        "import datetime\n",
        "current_year = datetime.datetime.now().year\n",
        "\n",
        "age = current_year - year_of_birth\n",
        "\n",
        "if age>= 16:\n",
        "  print(\"You are eligible to vote!\")\n",
        "else:\n",
        "  print(\"you are not eligible to vote yet.\")\n",
        ""
      ],
      "metadata": {
        "colab": {
          "base_uri": "https://localhost:8080/"
        },
        "id": "ouwfY7zocH91",
        "outputId": "1f2985a0-b2da-4e30-fac1-2960993d89dc"
      },
      "execution_count": 5,
      "outputs": [
        {
          "output_type": "stream",
          "name": "stdout",
          "text": [
            "Enter the year of birth: 1998\n",
            "You are eligible to vote!\n"
          ]
        }
      ]
    },
    {
      "cell_type": "code",
      "source": [
        "number = int(input(\"Enter an integer: \"))\n",
        "\n",
        "if number % 3 == 0 and number % 5 == 0:\n",
        "  result = \"divisible by 3 and 5\"\n",
        "else:\n",
        "  result = \"not divisible by 3 and 5\"\n",
        "\n",
        "# display the result\n",
        "print(f\"The number {number} is {result}.\")\n"
      ],
      "metadata": {
        "colab": {
          "base_uri": "https://localhost:8080/"
        },
        "id": "yUG9SdSUdE0e",
        "outputId": "ee30aaa1-c266-48af-f341-5b551ce4cf76"
      },
      "execution_count": 6,
      "outputs": [
        {
          "output_type": "stream",
          "name": "stdout",
          "text": [
            "Enter an integer: 24\n",
            "The number 24 is not divisible by 3 and 5.\n"
          ]
        }
      ]
    },
    {
      "cell_type": "code",
      "source": [
        "num1 = int(input(\"Enter the first number: \"))\n",
        "\n",
        "num2 = int(input(\"Enter the second number: \"))\n",
        "\n",
        "if num1 % num2 == 0:\n",
        "  result = 'divisible'\n",
        "else:\n",
        "  result = 'not divisible'\n",
        "\n",
        "print(f\"The first number is {result} by the second number.\")"
      ],
      "metadata": {
        "colab": {
          "base_uri": "https://localhost:8080/"
        },
        "id": "kZuyuj_LdxDi",
        "outputId": "ac14601a-a73c-403c-97d3-efb821a2a76e"
      },
      "execution_count": 7,
      "outputs": [
        {
          "output_type": "stream",
          "name": "stdout",
          "text": [
            "Enter the first number: 54\n",
            "Enter the second number: 34\n",
            "The first number is not divisible by the second number.\n"
          ]
        }
      ]
    },
    {
      "cell_type": "code",
      "source": [
        "num = 1\n",
        "\n",
        "while num <= 100:\n",
        "  if num % 2 == 0:\n",
        "    print(num)\n",
        "  num += 1\n",
        ""
      ],
      "metadata": {
        "colab": {
          "base_uri": "https://localhost:8080/"
        },
        "id": "hPo92iJCeQ3S",
        "outputId": "c3e3ca1b-f34d-42c2-f501-5df948bec106"
      },
      "execution_count": 8,
      "outputs": [
        {
          "output_type": "stream",
          "name": "stdout",
          "text": [
            "2\n",
            "4\n",
            "6\n",
            "8\n",
            "10\n",
            "12\n",
            "14\n",
            "16\n",
            "18\n",
            "20\n",
            "22\n",
            "24\n",
            "26\n",
            "28\n",
            "30\n",
            "32\n",
            "34\n",
            "36\n",
            "38\n",
            "40\n",
            "42\n",
            "44\n",
            "46\n",
            "48\n",
            "50\n",
            "52\n",
            "54\n",
            "56\n",
            "58\n",
            "60\n",
            "62\n",
            "64\n",
            "66\n",
            "68\n",
            "70\n",
            "72\n",
            "74\n",
            "76\n",
            "78\n",
            "80\n",
            "82\n",
            "84\n",
            "86\n",
            "88\n",
            "90\n",
            "92\n",
            "94\n",
            "96\n",
            "98\n",
            "100\n"
          ]
        }
      ]
    },
    {
      "cell_type": "code",
      "source": [
        "for num in range(2, 101, 2):\n",
        "  print(num)"
      ],
      "metadata": {
        "colab": {
          "base_uri": "https://localhost:8080/"
        },
        "id": "27flVA2xeodj",
        "outputId": "bd6540fc-07b2-4281-e060-904c803f6008"
      },
      "execution_count": 9,
      "outputs": [
        {
          "output_type": "stream",
          "name": "stdout",
          "text": [
            "2\n",
            "4\n",
            "6\n",
            "8\n",
            "10\n",
            "12\n",
            "14\n",
            "16\n",
            "18\n",
            "20\n",
            "22\n",
            "24\n",
            "26\n",
            "28\n",
            "30\n",
            "32\n",
            "34\n",
            "36\n",
            "38\n",
            "40\n",
            "42\n",
            "44\n",
            "46\n",
            "48\n",
            "50\n",
            "52\n",
            "54\n",
            "56\n",
            "58\n",
            "60\n",
            "62\n",
            "64\n",
            "66\n",
            "68\n",
            "70\n",
            "72\n",
            "74\n",
            "76\n",
            "78\n",
            "80\n",
            "82\n",
            "84\n",
            "86\n",
            "88\n",
            "90\n",
            "92\n",
            "94\n",
            "96\n",
            "98\n",
            "100\n"
          ]
        }
      ]
    },
    {
      "cell_type": "markdown",
      "source": [
        "5. Write a program that displays even numbers 1 to 50 and\n",
        "odd numbers 51 to 100 using a repeating loop"
      ],
      "metadata": {
        "id": "XyJAy3qwe2v_"
      }
    },
    {
      "cell_type": "code",
      "source": [
        "num = 1\n",
        "\n",
        "while num <= 100:\n",
        "  if num <= 50:\n",
        "    if num % 2 == 0:\n",
        "      print(\"Even:\", num)\n",
        "  else:\n",
        "    if num % 2 != 0:\n",
        "      print(\"Odd\", num)\n",
        "  num += 1"
      ],
      "metadata": {
        "colab": {
          "base_uri": "https://localhost:8080/"
        },
        "id": "dNzpq7dHexSg",
        "outputId": "21b251b4-db75-4b6f-b380-ee073780bf91"
      },
      "execution_count": 10,
      "outputs": [
        {
          "output_type": "stream",
          "name": "stdout",
          "text": [
            "Even: 2\n",
            "Even: 4\n",
            "Even: 6\n",
            "Even: 8\n",
            "Even: 10\n",
            "Even: 12\n",
            "Even: 14\n",
            "Even: 16\n",
            "Even: 18\n",
            "Even: 20\n",
            "Even: 22\n",
            "Even: 24\n",
            "Even: 26\n",
            "Even: 28\n",
            "Even: 30\n",
            "Even: 32\n",
            "Even: 34\n",
            "Even: 36\n",
            "Even: 38\n",
            "Even: 40\n",
            "Even: 42\n",
            "Even: 44\n",
            "Even: 46\n",
            "Even: 48\n",
            "Even: 50\n",
            "Odd 51\n",
            "Odd 53\n",
            "Odd 55\n",
            "Odd 57\n",
            "Odd 59\n",
            "Odd 61\n",
            "Odd 63\n",
            "Odd 65\n",
            "Odd 67\n",
            "Odd 69\n",
            "Odd 71\n",
            "Odd 73\n",
            "Odd 75\n",
            "Odd 77\n",
            "Odd 79\n",
            "Odd 81\n",
            "Odd 83\n",
            "Odd 85\n",
            "Odd 87\n",
            "Odd 89\n",
            "Odd 91\n",
            "Odd 93\n",
            "Odd 95\n",
            "Odd 97\n",
            "Odd 99\n"
          ]
        }
      ]
    },
    {
      "cell_type": "markdown",
      "source": [
        "6. Create a program that prompts the user for a number and\n",
        "displays the table of that number using a loop.\n"
      ],
      "metadata": {
        "id": "XNzuW2vpfVwh"
      }
    },
    {
      "cell_type": "code",
      "source": [
        "for i in range(1, 11):\n",
        "  for j in range(1, 11):\n",
        "    product = i * j\n",
        "\n",
        "    print(i, \"x\", j, \"=\", product)\n",
        "\n",
        "  print(\"=\"*20)"
      ],
      "metadata": {
        "colab": {
          "base_uri": "https://localhost:8080/"
        },
        "id": "DQxxEhXkfGfQ",
        "outputId": "dcf6fb92-7145-436c-c29e-a71173690d7c"
      },
      "execution_count": 11,
      "outputs": [
        {
          "output_type": "stream",
          "name": "stdout",
          "text": [
            "1 x 1 = 1\n",
            "1 x 2 = 2\n",
            "1 x 3 = 3\n",
            "1 x 4 = 4\n",
            "1 x 5 = 5\n",
            "1 x 6 = 6\n",
            "1 x 7 = 7\n",
            "1 x 8 = 8\n",
            "1 x 9 = 9\n",
            "1 x 10 = 10\n",
            "====================\n",
            "2 x 1 = 2\n",
            "2 x 2 = 4\n",
            "2 x 3 = 6\n",
            "2 x 4 = 8\n",
            "2 x 5 = 10\n",
            "2 x 6 = 12\n",
            "2 x 7 = 14\n",
            "2 x 8 = 16\n",
            "2 x 9 = 18\n",
            "2 x 10 = 20\n",
            "====================\n",
            "3 x 1 = 3\n",
            "3 x 2 = 6\n",
            "3 x 3 = 9\n",
            "3 x 4 = 12\n",
            "3 x 5 = 15\n",
            "3 x 6 = 18\n",
            "3 x 7 = 21\n",
            "3 x 8 = 24\n",
            "3 x 9 = 27\n",
            "3 x 10 = 30\n",
            "====================\n",
            "4 x 1 = 4\n",
            "4 x 2 = 8\n",
            "4 x 3 = 12\n",
            "4 x 4 = 16\n",
            "4 x 5 = 20\n",
            "4 x 6 = 24\n",
            "4 x 7 = 28\n",
            "4 x 8 = 32\n",
            "4 x 9 = 36\n",
            "4 x 10 = 40\n",
            "====================\n",
            "5 x 1 = 5\n",
            "5 x 2 = 10\n",
            "5 x 3 = 15\n",
            "5 x 4 = 20\n",
            "5 x 5 = 25\n",
            "5 x 6 = 30\n",
            "5 x 7 = 35\n",
            "5 x 8 = 40\n",
            "5 x 9 = 45\n",
            "5 x 10 = 50\n",
            "====================\n",
            "6 x 1 = 6\n",
            "6 x 2 = 12\n",
            "6 x 3 = 18\n",
            "6 x 4 = 24\n",
            "6 x 5 = 30\n",
            "6 x 6 = 36\n",
            "6 x 7 = 42\n",
            "6 x 8 = 48\n",
            "6 x 9 = 54\n",
            "6 x 10 = 60\n",
            "====================\n",
            "7 x 1 = 7\n",
            "7 x 2 = 14\n",
            "7 x 3 = 21\n",
            "7 x 4 = 28\n",
            "7 x 5 = 35\n",
            "7 x 6 = 42\n",
            "7 x 7 = 49\n",
            "7 x 8 = 56\n",
            "7 x 9 = 63\n",
            "7 x 10 = 70\n",
            "====================\n",
            "8 x 1 = 8\n",
            "8 x 2 = 16\n",
            "8 x 3 = 24\n",
            "8 x 4 = 32\n",
            "8 x 5 = 40\n",
            "8 x 6 = 48\n",
            "8 x 7 = 56\n",
            "8 x 8 = 64\n",
            "8 x 9 = 72\n",
            "8 x 10 = 80\n",
            "====================\n",
            "9 x 1 = 9\n",
            "9 x 2 = 18\n",
            "9 x 3 = 27\n",
            "9 x 4 = 36\n",
            "9 x 5 = 45\n",
            "9 x 6 = 54\n",
            "9 x 7 = 63\n",
            "9 x 8 = 72\n",
            "9 x 9 = 81\n",
            "9 x 10 = 90\n",
            "====================\n",
            "10 x 1 = 10\n",
            "10 x 2 = 20\n",
            "10 x 3 = 30\n",
            "10 x 4 = 40\n",
            "10 x 5 = 50\n",
            "10 x 6 = 60\n",
            "10 x 7 = 70\n",
            "10 x 8 = 80\n",
            "10 x 9 = 90\n",
            "10 x 10 = 100\n",
            "====================\n"
          ]
        }
      ]
    },
    {
      "cell_type": "markdown",
      "source": [
        "7. Write a program that asks the user for a number N and displays the sum of all numbers from 1 to N."
      ],
      "metadata": {
        "id": "i5izXrqwf6oI"
      }
    },
    {
      "cell_type": "code",
      "source": [
        "N = int(input(\"Enter a number: \"))\n",
        "\n",
        "sum_of_numbers = 0\n",
        "for num in range(1, N + 1):\n",
        "  sum_of_numbers += num\n",
        "\n",
        "print(\"The sum of numbers from 1 to\", N, \"is:\", sum_of_numbers)"
      ],
      "metadata": {
        "colab": {
          "base_uri": "https://localhost:8080/"
        },
        "id": "6S5dNMQGfkOR",
        "outputId": "1b5adb4b-f7d9-441a-a16a-1aa0982573e2"
      },
      "execution_count": 12,
      "outputs": [
        {
          "output_type": "stream",
          "name": "stdout",
          "text": [
            "Enter a number: 54\n",
            "The sum of numbers from 1 to 54 is: 1485\n"
          ]
        }
      ]
    },
    {
      "cell_type": "code",
      "source": [
        "sum_of_evens = 0\n",
        "\n",
        "num = 2\n",
        "\n",
        "while num<= 100:\n",
        "\n",
        "  sum_of_evens += num\n",
        "\n",
        "  num += 2\n",
        "\n",
        "print(\"The sum of even numbers from 1 to 100 is:\", sum_of_evens)"
      ],
      "metadata": {
        "colab": {
          "base_uri": "https://localhost:8080/"
        },
        "id": "p0cBZBK-gTwr",
        "outputId": "b12cb727-5f9a-47e6-e750-082c9fcce850"
      },
      "execution_count": 13,
      "outputs": [
        {
          "output_type": "stream",
          "name": "stdout",
          "text": [
            "The sum of even numbers from 1 to 100 is: 2550\n"
          ]
        }
      ]
    },
    {
      "cell_type": "code",
      "source": [
        "base = int(input(\"Enter the base number: \"))\n",
        "exponent = int(input(\"Enter the exponent: \"))\n",
        "\n",
        "result = 1\n",
        "for _ in range(1, exponent + 1):\n",
        "  result *= base\n",
        "\n",
        "print(\"The result of\", base , \"raised to the power of\", exponent, \"is:\", result)"
      ],
      "metadata": {
        "colab": {
          "base_uri": "https://localhost:8080/"
        },
        "id": "SP7jsurngy_V",
        "outputId": "e6449419-2081-4dd8-e554-c4092285aa5a"
      },
      "execution_count": 14,
      "outputs": [
        {
          "output_type": "stream",
          "name": "stdout",
          "text": [
            "Enter the base number: 54\n",
            "Enter the exponent: 3\n",
            "The result of 54 raised to the power of 3 is: 157464\n"
          ]
        }
      ]
    },
    {
      "cell_type": "code",
      "source": [
        "number = int(input(\"Enter a number: \"))\n",
        "\n",
        "if number < 2:\n",
        "  is_prime = False\n",
        "else:\n",
        "  is_prime = True\n",
        "\n",
        "  for i in range(2, int(number ** 0.5) + 1):\n",
        "    if number % i == 0:\n",
        "      is_prime = False\n",
        "      break\n",
        "\n",
        "if  is_prime:\n",
        "  print(number, \"is a prime Number\")\n",
        "else:\n",
        "  print(number, \"is not a prime number\")"
      ],
      "metadata": {
        "colab": {
          "base_uri": "https://localhost:8080/"
        },
        "id": "aAYCOajkhYnN",
        "outputId": "79861472-4b3e-4825-850b-3c1f4b746028"
      },
      "execution_count": 15,
      "outputs": [
        {
          "output_type": "stream",
          "name": "stdout",
          "text": [
            "Enter a number: 66\n",
            "66 is not a prime number\n"
          ]
        }
      ]
    },
    {
      "cell_type": "markdown",
      "source": [
        "7. Write a program that prompts the user for a number N and\n",
        "displays all prime numbers less than N.\n"
      ],
      "metadata": {
        "id": "yP88jxS4iPt-"
      }
    },
    {
      "cell_type": "code",
      "source": [
        "n = int(input(\"Enter a number: \"))\n",
        "\n",
        "for num in range(2, n):\n",
        "  is_prime = True\n",
        "\n",
        "  for i in range(2, int(num** 0.5) + 1):\n",
        "    if num % i == 0:\n",
        "      is_prime = False\n",
        "      break\n",
        "\n",
        "  if is_prime:\n",
        "    print(num, end=\" \")\n",
        "\n",
        "print()"
      ],
      "metadata": {
        "colab": {
          "base_uri": "https://localhost:8080/"
        },
        "id": "NWrPE-V6iEqF",
        "outputId": "160e8bae-83c0-4a9a-ec00-54334ab8559b"
      },
      "execution_count": 17,
      "outputs": [
        {
          "output_type": "stream",
          "name": "stdout",
          "text": [
            "Enter a number: 45\n",
            "2 3 5 7 11 13 17 19 23 29 31 37 41 43 \n"
          ]
        }
      ]
    },
    {
      "cell_type": "markdown",
      "source": [
        "8. Create a program that displays the first N first perfect\n",
        "squares, where N is informed by the user, using a loop"
      ],
      "metadata": {
        "id": "PvxsFnzPjC5J"
      }
    },
    {
      "cell_type": "code",
      "source": [
        "N = int(input(\"Enter the value of N: \"))\n",
        "\n",
        "count = 0\n",
        "num = 1\n",
        "\n",
        "while count < N:\n",
        "  square = num ** 2\n",
        "\n",
        "  print(square, end =\" \")\n",
        "  count += 1\n",
        "\n",
        "  num += 1\n",
        "print()\n",
        "\n"
      ],
      "metadata": {
        "colab": {
          "base_uri": "https://localhost:8080/"
        },
        "id": "YWfcZKU6imJ2",
        "outputId": "e8e2b577-0fbb-4b22-b38b-716d892d4573"
      },
      "execution_count": 18,
      "outputs": [
        {
          "output_type": "stream",
          "name": "stdout",
          "text": [
            "Enter the value of N: 45\n",
            "1 4 9 16 25 36 49 64 81 100 121 144 169 196 225 256 289 324 361 400 441 484 529 576 625 676 729 784 841 900 961 1024 1089 1156 1225 1296 1369 1444 1521 1600 1681 1764 1849 1936 2025 \n"
          ]
        }
      ]
    },
    {
      "cell_type": "code",
      "source": [
        "A = int(input(\"Enter the value of A: \"))\n",
        "B = int(input(\"Enter the value of B: \"))\n",
        "\n",
        "start = min(A, B)\n",
        "end = max(A, B)\n",
        "\n",
        "for num in range(start, end + 1):\n",
        "  print(num, end= \" \")\n",
        "\n",
        "print()"
      ],
      "metadata": {
        "colab": {
          "base_uri": "https://localhost:8080/"
        },
        "id": "3zmYu6RyjesL",
        "outputId": "f9097163-b6ba-496d-9c7f-869a0dc61497"
      },
      "execution_count": 19,
      "outputs": [
        {
          "output_type": "stream",
          "name": "stdout",
          "text": [
            "Enter the value of A: 23\n",
            "Enter the value of B: 43\n",
            "23 24 25 26 27 28 29 30 31 32 33 34 35 36 37 38 39 40 41 42 43 \n"
          ]
        }
      ]
    },
    {
      "cell_type": "markdown",
      "source": [
        "10. Write a program that prompts the user for a number and\n",
        "displays the Fibonacci sequence up to the given number using a\n",
        "repeating loop"
      ],
      "metadata": {
        "id": "zMO9NZ0tkP78"
      }
    },
    {
      "cell_type": "code",
      "source": [
        "number = int(input(\"Enter a number: \"))\n",
        "\n",
        "previous_number = 0\n",
        "current_number = 1\n",
        "\n",
        "print(\"Fibonacci sequence up to\", number, \":\")\n",
        "print(previous_number, end=\" \")\n",
        "\n",
        "while current_number <= number:\n",
        "  print(current_number, end =\" \")\n",
        "\n",
        "  next_number = previous_number + current_number\n",
        "\n",
        "  previous_number = current_number\n",
        "  current_number = next_number\n"
      ],
      "metadata": {
        "colab": {
          "base_uri": "https://localhost:8080/"
        },
        "id": "eDBTvg8Jj-c4",
        "outputId": "44fd3f93-2753-4e33-fae5-76a12a296b93"
      },
      "execution_count": 20,
      "outputs": [
        {
          "output_type": "stream",
          "name": "stdout",
          "text": [
            "Enter a number: 45\n",
            "Fibonacci sequence up to 45 :\n",
            "0 1 1 2 3 5 8 13 21 34 "
          ]
        }
      ]
    },
    {
      "cell_type": "markdown",
      "source": [
        "11. Write a program that prompts the user for a sentence and\n",
        "displays the number of vowels in the sentence."
      ],
      "metadata": {
        "id": "ZxFq6Or5lTuf"
      }
    },
    {
      "cell_type": "code",
      "source": [
        "sentence = input(\"Enter a sentence: \")\n",
        "\n",
        "vowel_count = 0\n",
        "\n",
        "for char in sentence:\n",
        "  char_lower = char.lower()\n",
        "\n",
        "  if char_lower  in 'aeiou':\n",
        "    vowel_count += 1\n",
        "\n",
        "print(\"Number of vowels:\", vowel_count)"
      ],
      "metadata": {
        "colab": {
          "base_uri": "https://localhost:8080/"
        },
        "id": "II9kY-UAk22S",
        "outputId": "b943fc36-0e77-4a90-bb3d-7719e45623fc"
      },
      "execution_count": 21,
      "outputs": [
        {
          "output_type": "stream",
          "name": "stdout",
          "text": [
            "Enter a sentence: We are in the room and keys will disapper\n",
            "Number of vowels: 13\n"
          ]
        }
      ]
    },
    {
      "cell_type": "markdown",
      "source": [
        "12. Write a program that prompts the user for a number and\n",
        "displays its divisors\n",
        "\n"
      ],
      "metadata": {
        "id": "188pLIt_l0E1"
      }
    },
    {
      "cell_type": "code",
      "source": [
        "number = int(input(\"Enter a number: \"))\n",
        "\n",
        "print(\"DIvisors of\", number, \":\")\n",
        "for i in range(1, number+1):\n",
        "  if number % i == 0:\n",
        "    print(i)"
      ],
      "metadata": {
        "colab": {
          "base_uri": "https://localhost:8080/"
        },
        "id": "jCy8JWy_lojS",
        "outputId": "ecdd2db9-0ca5-42ee-b40f-8752525bd088"
      },
      "execution_count": 22,
      "outputs": [
        {
          "output_type": "stream",
          "name": "stdout",
          "text": [
            "Enter a number: 87\n",
            "DIvisors of 87 :\n",
            "1\n",
            "3\n",
            "29\n",
            "87\n"
          ]
        }
      ]
    },
    {
      "cell_type": "code",
      "source": [],
      "metadata": {
        "id": "B29Omx1WmCNh"
      },
      "execution_count": null,
      "outputs": []
    }
  ]
}