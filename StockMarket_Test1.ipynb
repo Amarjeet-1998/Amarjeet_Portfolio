{
  "nbformat": 4,
  "nbformat_minor": 0,
  "metadata": {
    "colab": {
      "provenance": [],
      "authorship_tag": "ABX9TyOv1qM8veqdSPPX/0HWElw+",
      "include_colab_link": true
    },
    "kernelspec": {
      "name": "python3",
      "display_name": "Python 3"
    },
    "language_info": {
      "name": "python"
    }
  },
  "cells": [
    {
      "cell_type": "markdown",
      "metadata": {
        "id": "view-in-github",
        "colab_type": "text"
      },
      "source": [
        "<a href=\"https://colab.research.google.com/github/Amarjeet-1998/Amarjeet_Portfolio/blob/main/StockMarket_Test1.ipynb\" target=\"_parent\"><img src=\"https://colab.research.google.com/assets/colab-badge.svg\" alt=\"Open In Colab\"/></a>"
      ]
    },
    {
      "cell_type": "code",
      "source": [
        "!pip install yfinance"
      ],
      "metadata": {
        "colab": {
          "base_uri": "https://localhost:8080/"
        },
        "id": "f-Mu5vFzs8Tz",
        "outputId": "6cdae68f-1967-4b64-83fd-21321c4d6680"
      },
      "execution_count": 3,
      "outputs": [
        {
          "output_type": "stream",
          "name": "stdout",
          "text": [
            "Requirement already satisfied: yfinance in /usr/local/lib/python3.10/dist-packages (0.2.43)\n",
            "Requirement already satisfied: pandas>=1.3.0 in /usr/local/lib/python3.10/dist-packages (from yfinance) (2.1.4)\n",
            "Requirement already satisfied: numpy>=1.16.5 in /usr/local/lib/python3.10/dist-packages (from yfinance) (1.26.4)\n",
            "Requirement already satisfied: requests>=2.31 in /usr/local/lib/python3.10/dist-packages (from yfinance) (2.32.3)\n",
            "Requirement already satisfied: multitasking>=0.0.7 in /usr/local/lib/python3.10/dist-packages (from yfinance) (0.0.11)\n",
            "Requirement already satisfied: lxml>=4.9.1 in /usr/local/lib/python3.10/dist-packages (from yfinance) (4.9.4)\n",
            "Requirement already satisfied: platformdirs>=2.0.0 in /usr/local/lib/python3.10/dist-packages (from yfinance) (4.2.2)\n",
            "Requirement already satisfied: pytz>=2022.5 in /usr/local/lib/python3.10/dist-packages (from yfinance) (2024.1)\n",
            "Requirement already satisfied: frozendict>=2.3.4 in /usr/local/lib/python3.10/dist-packages (from yfinance) (2.4.4)\n",
            "Requirement already satisfied: peewee>=3.16.2 in /usr/local/lib/python3.10/dist-packages (from yfinance) (3.17.6)\n",
            "Requirement already satisfied: beautifulsoup4>=4.11.1 in /usr/local/lib/python3.10/dist-packages (from yfinance) (4.12.3)\n",
            "Requirement already satisfied: html5lib>=1.1 in /usr/local/lib/python3.10/dist-packages (from yfinance) (1.1)\n",
            "Requirement already satisfied: soupsieve>1.2 in /usr/local/lib/python3.10/dist-packages (from beautifulsoup4>=4.11.1->yfinance) (2.6)\n",
            "Requirement already satisfied: six>=1.9 in /usr/local/lib/python3.10/dist-packages (from html5lib>=1.1->yfinance) (1.16.0)\n",
            "Requirement already satisfied: webencodings in /usr/local/lib/python3.10/dist-packages (from html5lib>=1.1->yfinance) (0.5.1)\n",
            "Requirement already satisfied: python-dateutil>=2.8.2 in /usr/local/lib/python3.10/dist-packages (from pandas>=1.3.0->yfinance) (2.8.2)\n",
            "Requirement already satisfied: tzdata>=2022.1 in /usr/local/lib/python3.10/dist-packages (from pandas>=1.3.0->yfinance) (2024.1)\n",
            "Requirement already satisfied: charset-normalizer<4,>=2 in /usr/local/lib/python3.10/dist-packages (from requests>=2.31->yfinance) (3.3.2)\n",
            "Requirement already satisfied: idna<4,>=2.5 in /usr/local/lib/python3.10/dist-packages (from requests>=2.31->yfinance) (3.8)\n",
            "Requirement already satisfied: urllib3<3,>=1.21.1 in /usr/local/lib/python3.10/dist-packages (from requests>=2.31->yfinance) (2.0.7)\n",
            "Requirement already satisfied: certifi>=2017.4.17 in /usr/local/lib/python3.10/dist-packages (from requests>=2.31->yfinance) (2024.8.30)\n"
          ]
        }
      ]
    },
    {
      "cell_type": "code",
      "source": [
        "!pip install jugaad_data"
      ],
      "metadata": {
        "colab": {
          "base_uri": "https://localhost:8080/"
        },
        "id": "7J1-o89VtDqk",
        "outputId": "7c37974c-297a-4680-9744-3159121b51fb"
      },
      "execution_count": 4,
      "outputs": [
        {
          "output_type": "stream",
          "name": "stdout",
          "text": [
            "Collecting jugaad_data\n",
            "  Downloading jugaad_data-0.26-py3-none-any.whl.metadata (5.5 kB)\n",
            "Requirement already satisfied: requests in /usr/local/lib/python3.10/dist-packages (from jugaad_data) (2.32.3)\n",
            "Collecting click==7.1.2 (from jugaad_data)\n",
            "  Downloading click-7.1.2-py2.py3-none-any.whl.metadata (2.9 kB)\n",
            "Collecting appdirs==1.4.4 (from jugaad_data)\n",
            "  Downloading appdirs-1.4.4-py2.py3-none-any.whl.metadata (9.0 kB)\n",
            "Collecting beautifulsoup4==4.9.3 (from jugaad_data)\n",
            "  Downloading beautifulsoup4-4.9.3-py3-none-any.whl.metadata (4.2 kB)\n",
            "Requirement already satisfied: soupsieve>1.2 in /usr/local/lib/python3.10/dist-packages (from beautifulsoup4==4.9.3->jugaad_data) (2.6)\n",
            "Requirement already satisfied: charset-normalizer<4,>=2 in /usr/local/lib/python3.10/dist-packages (from requests->jugaad_data) (3.3.2)\n",
            "Requirement already satisfied: idna<4,>=2.5 in /usr/local/lib/python3.10/dist-packages (from requests->jugaad_data) (3.8)\n",
            "Requirement already satisfied: urllib3<3,>=1.21.1 in /usr/local/lib/python3.10/dist-packages (from requests->jugaad_data) (2.0.7)\n",
            "Requirement already satisfied: certifi>=2017.4.17 in /usr/local/lib/python3.10/dist-packages (from requests->jugaad_data) (2024.8.30)\n",
            "Downloading jugaad_data-0.26-py3-none-any.whl (17 kB)\n",
            "Downloading appdirs-1.4.4-py2.py3-none-any.whl (9.6 kB)\n",
            "Downloading beautifulsoup4-4.9.3-py3-none-any.whl (115 kB)\n",
            "\u001b[2K   \u001b[90m━━━━━━━━━━━━━━━━━━━━━━━━━━━━━━━━━━━━━━━━\u001b[0m \u001b[32m115.8/115.8 kB\u001b[0m \u001b[31m3.8 MB/s\u001b[0m eta \u001b[36m0:00:00\u001b[0m\n",
            "\u001b[?25hDownloading click-7.1.2-py2.py3-none-any.whl (82 kB)\n",
            "\u001b[2K   \u001b[90m━━━━━━━━━━━━━━━━━━━━━━━━━━━━━━━━━━━━━━━━\u001b[0m \u001b[32m82.8/82.8 kB\u001b[0m \u001b[31m5.7 MB/s\u001b[0m eta \u001b[36m0:00:00\u001b[0m\n",
            "\u001b[?25hInstalling collected packages: appdirs, click, beautifulsoup4, jugaad_data\n",
            "  Attempting uninstall: click\n",
            "    Found existing installation: click 8.1.7\n",
            "    Uninstalling click-8.1.7:\n",
            "      Successfully uninstalled click-8.1.7\n",
            "  Attempting uninstall: beautifulsoup4\n",
            "    Found existing installation: beautifulsoup4 4.12.3\n",
            "    Uninstalling beautifulsoup4-4.12.3:\n",
            "      Successfully uninstalled beautifulsoup4-4.12.3\n",
            "\u001b[31mERROR: pip's dependency resolver does not currently take into account all the packages that are installed. This behaviour is the source of the following dependency conflicts.\n",
            "flask 2.2.5 requires click>=8.0, but you have click 7.1.2 which is incompatible.\n",
            "dask 2024.7.1 requires click>=8.1, but you have click 7.1.2 which is incompatible.\n",
            "distributed 2024.7.1 requires click>=8.0, but you have click 7.1.2 which is incompatible.\n",
            "fiona 1.9.6 requires click~=8.0, but you have click 7.1.2 which is incompatible.\n",
            "pip-tools 7.4.1 requires click>=8, but you have click 7.1.2 which is incompatible.\n",
            "typer 0.12.5 requires click>=8.0.0, but you have click 7.1.2 which is incompatible.\n",
            "yfinance 0.2.43 requires beautifulsoup4>=4.11.1, but you have beautifulsoup4 4.9.3 which is incompatible.\u001b[0m\u001b[31m\n",
            "\u001b[0mSuccessfully installed appdirs-1.4.4 beautifulsoup4-4.9.3 click-7.1.2 jugaad_data-0.26\n"
          ]
        }
      ]
    },
    {
      "cell_type": "code",
      "source": [
        "import jugaad_data as jd\n",
        "import yfinance as yf"
      ],
      "metadata": {
        "id": "ftEa0Otgs0H_"
      },
      "execution_count": 5,
      "outputs": []
    },
    {
      "cell_type": "code",
      "execution_count": 6,
      "metadata": {
        "id": "dO7YNxiXruJm"
      },
      "outputs": [],
      "source": [
        "import pandas as pd\n",
        "import sqlite3\n",
        "import requests\n",
        "\n"
      ]
    },
    {
      "cell_type": "code",
      "source": [
        "from jugaad_data.nse import NSELive\n",
        "n = NSELive()\n",
        "# nifty_data = n.live_index('NIFTY 50')\n",
        "# print(nifty_data['name'], nifty_data['timestamp'], nifty_data['data'][0]['lastPrice'])\n",
        "status = n.market_status()\n",
        "status['marketState']"
      ],
      "metadata": {
        "colab": {
          "base_uri": "https://localhost:8080/"
        },
        "id": "_zbawi3nr0qp",
        "outputId": "de620c9f-b9ed-4596-9a24-858f7ae50813"
      },
      "execution_count": 11,
      "outputs": [
        {
          "output_type": "execute_result",
          "data": {
            "text/plain": [
              "[{'market': 'Capital Market',\n",
              "  'marketStatus': 'Close',\n",
              "  'tradeDate': '06-Sep-2024 15:30',\n",
              "  'index': 'NIFTY 50',\n",
              "  'last': 24852.15,\n",
              "  'variation': -292.9499999999971,\n",
              "  'percentChange': -1.17,\n",
              "  'marketStatusMessage': 'Market is Closed'},\n",
              " {'market': 'Currency',\n",
              "  'marketStatus': 'Close',\n",
              "  'tradeDate': '06-Sep-2024',\n",
              "  'index': '',\n",
              "  'last': '',\n",
              "  'variation': '',\n",
              "  'percentChange': '',\n",
              "  'marketStatusMessage': 'Market is Closed'},\n",
              " {'market': 'Commodity',\n",
              "  'marketStatus': 'Close',\n",
              "  'tradeDate': '06-Sep-2024',\n",
              "  'index': '',\n",
              "  'last': '',\n",
              "  'variation': '',\n",
              "  'percentChange': '',\n",
              "  'marketStatusMessage': 'Market is Closed'},\n",
              " {'market': 'Debt',\n",
              "  'marketStatus': 'Close',\n",
              "  'tradeDate': '06-Sep-2024',\n",
              "  'index': '',\n",
              "  'last': '',\n",
              "  'variation': '',\n",
              "  'percentChange': '',\n",
              "  'marketStatusMessage': 'Market is Closed'},\n",
              " {'market': 'currencyfuture',\n",
              "  'marketStatus': 'Close',\n",
              "  'tradeDate': '06-Sep-2024',\n",
              "  'index': '',\n",
              "  'last': '82.9800',\n",
              "  'variation': '',\n",
              "  'percentChange': '',\n",
              "  'marketStatusMessage': 'Market is Closed',\n",
              "  'expiryDate': '20-Sep-2024',\n",
              "  'underlying': 'USDINR',\n",
              "  'updated_time': '06-Sep-2024 17:00',\n",
              "  'tradeDateFormatted': '06-Sep-2024 17:00',\n",
              "  'slickclass': 'slick-item'}]"
            ]
          },
          "metadata": {},
          "execution_count": 11
        }
      ]
    },
    {
      "cell_type": "code",
      "source": [
        "all_indices = n.all_indices()\n",
        "all_indices.keys()"
      ],
      "metadata": {
        "colab": {
          "base_uri": "https://localhost:8080/"
        },
        "id": "H4C3we_vstuW",
        "outputId": "43dc2f83-bfd1-4828-ced5-dcb1b896c202"
      },
      "execution_count": 12,
      "outputs": [
        {
          "output_type": "execute_result",
          "data": {
            "text/plain": [
              "dict_keys(['data', 'timestamp', 'advances', 'declines', 'unchanged', 'dates', 'date30dAgo', 'date365dAgo'])"
            ]
          },
          "metadata": {},
          "execution_count": 12
        }
      ]
    },
    {
      "cell_type": "code",
      "source": [
        "all_indices['timestamp']"
      ],
      "metadata": {
        "colab": {
          "base_uri": "https://localhost:8080/",
          "height": 35
        },
        "id": "GEHsBLtdt9mT",
        "outputId": "7b400431-0eb7-48e4-8e46-cc9da8f32ced"
      },
      "execution_count": 13,
      "outputs": [
        {
          "output_type": "execute_result",
          "data": {
            "text/plain": [
              "'06-Sep-2024 15:30'"
            ],
            "application/vnd.google.colaboratory.intrinsic+json": {
              "type": "string"
            }
          },
          "metadata": {},
          "execution_count": 13
        }
      ]
    },
    {
      "cell_type": "code",
      "source": [
        "all_indices['data'][0]"
      ],
      "metadata": {
        "colab": {
          "base_uri": "https://localhost:8080/"
        },
        "id": "0uvYAs-OuAOx",
        "outputId": "4e7ac107-6c14-4a28-e0f3-d4e0dd26c66f"
      },
      "execution_count": 14,
      "outputs": [
        {
          "output_type": "execute_result",
          "data": {
            "text/plain": [
              "{'key': 'BROAD MARKET INDICES',\n",
              " 'index': 'NIFTY 50',\n",
              " 'indexSymbol': 'NIFTY 50',\n",
              " 'last': 24852.15,\n",
              " 'variation': -292.95,\n",
              " 'percentChange': -1.17,\n",
              " 'open': 25093.7,\n",
              " 'high': 25168.75,\n",
              " 'low': 24801.3,\n",
              " 'previousClose': 25145.1,\n",
              " 'yearHigh': 25333.65,\n",
              " 'yearLow': 18837.85,\n",
              " 'indicativeClose': 0,\n",
              " 'pe': '23.11',\n",
              " 'pb': '4.2',\n",
              " 'dy': '1.23',\n",
              " 'declines': '42',\n",
              " 'advances': '8',\n",
              " 'unchanged': '0',\n",
              " 'perChange365d': 25.98,\n",
              " 'date365dAgo': '07-Sep-2023',\n",
              " 'chart365dPath': 'https://nsearchives.nseindia.com/365d/NIFTY-50.svg',\n",
              " 'date30dAgo': '07-Aug-2024',\n",
              " 'perChange30d': 2.28,\n",
              " 'chart30dPath': 'https://nsearchives.nseindia.com/30d/NIFTY-50.svg',\n",
              " 'chartTodayPath': 'https://nsearchives.nseindia.com/today/NIFTY-50.svg',\n",
              " 'previousDay': 25145.1,\n",
              " 'oneWeekAgo': 25235.9,\n",
              " 'oneMonthAgo': 24297.5,\n",
              " 'oneYearAgo': 19727.05}"
            ]
          },
          "metadata": {},
          "execution_count": 14
        }
      ]
    },
    {
      "cell_type": "code",
      "source": [
        "for idx in all_indices['data']:\n",
        "    print(\"{} - {}\".format(idx['index'], idx['last']))"
      ],
      "metadata": {
        "colab": {
          "base_uri": "https://localhost:8080/"
        },
        "id": "LlaVzJmEuDpD",
        "outputId": "628ba724-7d54-43f6-f50a-59eae4620304"
      },
      "execution_count": 15,
      "outputs": [
        {
          "output_type": "stream",
          "name": "stdout",
          "text": [
            "NIFTY 50 - 24852.15\n",
            "NIFTY NEXT 50 - 74462\n",
            "NIFTY 100 - 25928.55\n",
            "NIFTY 200 - 14107.4\n",
            "NIFTY 500 - 23477.7\n",
            "NIFTY MIDCAP 50 - 16413.95\n",
            "NIFTY MIDCAP 100 - 58501.95\n",
            "NIFTY SMALLCAP 100 - 19276.05\n",
            "INDIA VIX - 15.2175\n",
            "NIFTY MIDCAP 150 - 21675.8\n",
            "NIFTY SMALLCAP 50 - 9226.6\n",
            "NIFTY SMALLCAP 250 - 18307.85\n",
            "NIFTY MIDSMALLCAP 400 - 20524.55\n",
            "NIFTY500 MULTICAP 50:25:25 - 16471.7\n",
            "NIFTY LARGEMIDCAP 250 - 16365.6\n",
            "NIFTY MIDCAP SELECT - 13066.05\n",
            "NIFTY TOTAL MARKET - 13230\n",
            "NIFTY MICROCAP 250 - 24957.35\n",
            "NIFTY BANK - 50576.85\n",
            "NIFTY AUTO - 25527.15\n",
            "NIFTY FINANCIAL SERVICES - 23529.75\n",
            "NIFTY FINANCIAL SERVICES 25/50 - 26438.25\n",
            "NIFTY FMCG - 63175.7\n",
            "NIFTY IT - 42228.9\n",
            "NIFTY MEDIA - 2059.9\n",
            "NIFTY METAL - 9161.15\n",
            "NIFTY PHARMA - 23043.4\n",
            "NIFTY PSU BANK - 6655.05\n",
            "NIFTY PRIVATE BANK - 25328.8\n",
            "NIFTY REALTY - 1032.1\n",
            "NIFTY HEALTHCARE INDEX - 14449.8\n",
            "NIFTY CONSUMER DURABLES - 41531.1\n",
            "NIFTY OIL & GAS - 13024.55\n",
            "NIFTY MIDSMALL HEALTHCARE - 42293.1\n",
            "NIFTY DIVIDEND OPPORTUNITIES 50 - 6763.7\n",
            "NIFTY GROWTH SECTORS 15 - 12611.3\n",
            "NIFTY100 QUALITY 30 - 6072\n",
            "NIFTY50 VALUE 20 - 14043.65\n",
            "NIFTY50 TR 2X LEVERAGE - 21308.2\n",
            "NIFTY50 PR 2X LEVERAGE - 14643.35\n",
            "NIFTY50 TR 1X INVERSE - 164.55\n",
            "NIFTY50 PR 1X INVERSE - 198.3\n",
            "NIFTY50 DIVIDEND POINTS - 194.25\n",
            "NIFTY ALPHA 50 - 58824.25\n",
            "NIFTY50 EQUAL WEIGHT - 32080.2\n",
            "NIFTY100 EQUAL WEIGHT - 34228.1\n",
            "NIFTY100 LOW VOLATILITY 30 - 20651.15\n",
            "NIFTY200 QUALITY 30 - 22743.4\n",
            "NIFTY ALPHA LOW-VOLATILITY 30 - 29899.85\n",
            "NIFTY200 MOMENTUM 30 - 35954.3\n",
            "NIFTY MIDCAP150 QUALITY 50 - 25444.7\n",
            "NIFTY200 ALPHA 30 - 28420.05\n",
            "NIFTY MIDCAP150 MOMENTUM 50 - 64510.6\n",
            "NIFTY COMMODITIES - 9291.95\n",
            "NIFTY INDIA CONSUMPTION - 12064.5\n",
            "NIFTY CPSE - 7007.7\n",
            "NIFTY ENERGY - 42212.45\n",
            "NIFTY INFRASTRUCTURE - 9183.9\n",
            "NIFTY100 LIQUID 15 - 6785.7\n",
            "NIFTY MIDCAP LIQUID 15 - 14003.15\n",
            "NIFTY MNC - 30708.3\n",
            "NIFTY PSE - 11055.2\n",
            "NIFTY SERVICES SECTOR - 31718.7\n",
            "NIFTY100 ESG SECTOR LEADERS - 4159.25\n",
            "NIFTY INDIA DIGITAL - 9415.8\n",
            "NIFTY100 ESG - 5032.65\n",
            "NIFTY INDIA MANUFACTURING - 14906\n",
            "NIFTY INDIA CORPORATE GROUP INDEX - TATA GROUP 25% CAP - 18184.15\n",
            "NIFTY500 MULTICAP INDIA MANUFACTURING 50:30:20 - 15550.95\n",
            "NIFTY500 MULTICAP INFRASTRUCTURE 50:30:20 - 14596.45\n",
            "NIFTY 8-13 YR G-SEC - 2696.25\n",
            "NIFTY 10 YR BENCHMARK G-SEC - 2387.18\n",
            "NIFTY 10 YR BENCHMARK G-SEC (CLEAN PRICE) - 887.33\n",
            "NIFTY 4-8 YR G-SEC INDEX - 2917.57\n",
            "NIFTY 11-15 YR G-SEC INDEX - 2989.34\n",
            "NIFTY 15 YR AND ABOVE G-SEC INDEX - 3315.17\n",
            "NIFTY COMPOSITE G-SEC INDEX - 2793.78\n"
          ]
        }
      ]
    },
    {
      "cell_type": "code",
      "source": [
        "print(all_indices['advances'], all_indices['declines'])"
      ],
      "metadata": {
        "colab": {
          "base_uri": "https://localhost:8080/"
        },
        "id": "cNcnSG1RuKKB",
        "outputId": "907096a7-c1bb-40e6-ece1-d3052878ee08"
      },
      "execution_count": 16,
      "outputs": [
        {
          "output_type": "stream",
          "name": "stdout",
          "text": [
            "1063 4111\n"
          ]
        }
      ]
    },
    {
      "cell_type": "code",
      "source": [
        "nifty = n.live_index(\"NIFTY 50\")"
      ],
      "metadata": {
        "id": "sN_04fnKuPVm"
      },
      "execution_count": 17,
      "outputs": []
    },
    {
      "cell_type": "code",
      "source": [
        "nifty.keys()"
      ],
      "metadata": {
        "colab": {
          "base_uri": "https://localhost:8080/"
        },
        "id": "mWsQ3gRKuSlo",
        "outputId": "e45a7241-be36-4ec0-d653-94d2fd70c53b"
      },
      "execution_count": 19,
      "outputs": [
        {
          "output_type": "execute_result",
          "data": {
            "text/plain": [
              "dict_keys(['name', 'advance', 'timestamp', 'data', 'metadata', 'marketStatus', 'date30dAgo', 'date365dAgo'])"
            ]
          },
          "metadata": {},
          "execution_count": 19
        }
      ]
    },
    {
      "cell_type": "code",
      "source": [
        "nifty['timestamp']"
      ],
      "metadata": {
        "colab": {
          "base_uri": "https://localhost:8080/",
          "height": 35
        },
        "id": "y1yDG8Z0uWAg",
        "outputId": "5e92974a-42d5-4088-e493-390e8483f48b"
      },
      "execution_count": 20,
      "outputs": [
        {
          "output_type": "execute_result",
          "data": {
            "text/plain": [
              "'06-Sep-2024 16:00:00'"
            ],
            "application/vnd.google.colaboratory.intrinsic+json": {
              "type": "string"
            }
          },
          "metadata": {},
          "execution_count": 20
        }
      ]
    },
    {
      "cell_type": "code",
      "source": [
        "nifty['name']"
      ],
      "metadata": {
        "colab": {
          "base_uri": "https://localhost:8080/",
          "height": 35
        },
        "id": "oxddRctIugQP",
        "outputId": "0ca3bf6f-9c9e-459a-a3f9-5a6162e10fd8"
      },
      "execution_count": 21,
      "outputs": [
        {
          "output_type": "execute_result",
          "data": {
            "text/plain": [
              "'NIFTY 50'"
            ],
            "application/vnd.google.colaboratory.intrinsic+json": {
              "type": "string"
            }
          },
          "metadata": {},
          "execution_count": 21
        }
      ]
    },
    {
      "cell_type": "code",
      "source": [
        "nifty['marketStatus']"
      ],
      "metadata": {
        "colab": {
          "base_uri": "https://localhost:8080/"
        },
        "id": "NxBmOoStujjx",
        "outputId": "6442a0a9-f21b-4c2b-f220-6f09d66d06bf"
      },
      "execution_count": 22,
      "outputs": [
        {
          "output_type": "execute_result",
          "data": {
            "text/plain": [
              "{'market': 'Capital Market',\n",
              " 'marketStatus': 'Close',\n",
              " 'tradeDate': '06-Sep-2024 15:30',\n",
              " 'index': 'NIFTY 50',\n",
              " 'last': 24852.15,\n",
              " 'variation': -292.9499999999971,\n",
              " 'percentChange': -1.17,\n",
              " 'marketStatusMessage': 'Normal Market has Closed'}"
            ]
          },
          "metadata": {},
          "execution_count": 22
        }
      ]
    },
    {
      "cell_type": "code",
      "source": [
        "nifty['data'][0]"
      ],
      "metadata": {
        "colab": {
          "base_uri": "https://localhost:8080/"
        },
        "id": "9IEnWPC5unW1",
        "outputId": "3f54a47a-d263-484d-8461-af597552879b"
      },
      "execution_count": 23,
      "outputs": [
        {
          "output_type": "execute_result",
          "data": {
            "text/plain": [
              "{'priority': 1,\n",
              " 'symbol': 'NIFTY 50',\n",
              " 'identifier': 'NIFTY 50',\n",
              " 'open': 25093.7,\n",
              " 'dayHigh': 25168.75,\n",
              " 'dayLow': 24801.3,\n",
              " 'lastPrice': 24852.15,\n",
              " 'previousClose': 25145.1,\n",
              " 'change': -292.9499999999971,\n",
              " 'pChange': -1.17,\n",
              " 'ffmc': 1103372885.45,\n",
              " 'yearHigh': 25333.65,\n",
              " 'yearLow': 18837.85,\n",
              " 'totalTradedVolume': 311671856,\n",
              " 'totalTradedValue': 330010084470.54,\n",
              " 'lastUpdateTime': '06-Sep-2024 16:00:00',\n",
              " 'nearWKH': 1.9006341368101318,\n",
              " 'nearWKL': -31.926679530838193,\n",
              " 'perChange365d': 29.85,\n",
              " 'date365dAgo': '01-Sep-2023',\n",
              " 'chart365dPath': 'https://nsearchives.nseindia.com/365d/NIFTY-50.svg',\n",
              " 'date30dAgo': '02-Aug-2024',\n",
              " 'perChange30d': 2.1,\n",
              " 'chart30dPath': 'https://nsearchives.nseindia.com/30d/NIFTY-50.svg',\n",
              " 'chartTodayPath': 'https://nsearchives.nseindia.com/today/NIFTY-50.svg'}"
            ]
          },
          "metadata": {},
          "execution_count": 23
        }
      ]
    },
    {
      "cell_type": "code",
      "source": [
        "nifty['advance']"
      ],
      "metadata": {
        "colab": {
          "base_uri": "https://localhost:8080/"
        },
        "id": "wvYnAouC3p0T",
        "outputId": "74a1fb8a-6072-433c-88e5-8a6b6aa64155"
      },
      "execution_count": 24,
      "outputs": [
        {
          "output_type": "execute_result",
          "data": {
            "text/plain": [
              "{'declines': '42', 'advances': '8', 'unchanged': '0'}"
            ]
          },
          "metadata": {},
          "execution_count": 24
        }
      ]
    },
    {
      "cell_type": "code",
      "source": [
        "nifty['metadata']"
      ],
      "metadata": {
        "colab": {
          "base_uri": "https://localhost:8080/"
        },
        "id": "OIyyTZJF31P_",
        "outputId": "d630bb94-2e30-42fc-f2af-6c8b960df36a"
      },
      "execution_count": 25,
      "outputs": [
        {
          "output_type": "execute_result",
          "data": {
            "text/plain": [
              "{'indexName': 'NIFTY 50',\n",
              " 'open': 25093.7,\n",
              " 'high': 25168.75,\n",
              " 'low': 24801.3,\n",
              " 'previousClose': 25145.1,\n",
              " 'last': 24852.15,\n",
              " 'percChange': -1.17,\n",
              " 'change': -292.9499999999971,\n",
              " 'timeVal': '06-Sep-2024 21:00:30',\n",
              " 'yearHigh': 25333.65,\n",
              " 'yearLow': 18837.85,\n",
              " 'totalTradedVolume': 311671856,\n",
              " 'totalTradedValue': 330010084470.54,\n",
              " 'ffmc_sum': 1103372885.45}"
            ]
          },
          "metadata": {},
          "execution_count": 25
        }
      ]
    },
    {
      "cell_type": "code",
      "source": [
        "# turnover = n.market_turnover()\n",
        "# # Turnovers across different segments\n",
        "# for t in turnover['data']:\n",
        "#     print(\"{} - {}\".format(t['name'], t['today']))"
      ],
      "metadata": {
        "id": "nwiYcq9d38rq"
      },
      "execution_count": 28,
      "outputs": []
    },
    {
      "cell_type": "code",
      "source": [
        "q = n.stock_quote(\"HDFC\")\n",
        "q['priceInfo']"
      ],
      "metadata": {
        "colab": {
          "base_uri": "https://localhost:8080/"
        },
        "id": "6xFbK2bo4Cau",
        "outputId": "d2526309-f736-46a3-8abe-8708fec45891"
      },
      "execution_count": 29,
      "outputs": [
        {
          "output_type": "execute_result",
          "data": {
            "text/plain": [
              "{'lastPrice': 0,\n",
              " 'change': 0,\n",
              " 'pChange': 0,\n",
              " 'previousClose': 0,\n",
              " 'open': 0,\n",
              " 'close': 2724.3,\n",
              " 'vwap': 0,\n",
              " 'lowerCP': '2472.65',\n",
              " 'upperCP': '3022.05',\n",
              " 'pPriceBand': 'No Band',\n",
              " 'basePrice': 0,\n",
              " 'intraDayHighLow': {'min': 0, 'max': 0, 'value': 0},\n",
              " 'weekHighLow': {'min': 0,\n",
              "  'minDate': None,\n",
              "  'max': 0,\n",
              "  'maxDate': None,\n",
              "  'value': 0},\n",
              " 'iNavValue': None,\n",
              " 'checkINAV': False,\n",
              " 'tickSize': 0}"
            ]
          },
          "metadata": {},
          "execution_count": 29
        }
      ]
    },
    {
      "cell_type": "code",
      "source": [
        "q['info']"
      ],
      "metadata": {
        "colab": {
          "base_uri": "https://localhost:8080/"
        },
        "id": "UhI4f2Dd4X8H",
        "outputId": "9d5d2f9b-07e2-45c4-b05c-d9948030957f"
      },
      "execution_count": 30,
      "outputs": [
        {
          "output_type": "execute_result",
          "data": {
            "text/plain": [
              "{'symbol': 'HDFC',\n",
              " 'companyName': 'Housing Development Finance Corporation Limited',\n",
              " 'industry': 'Housing Finance Company',\n",
              " 'activeSeries': [],\n",
              " 'debtSeries': [],\n",
              " 'isFNOSec': False,\n",
              " 'isCASec': False,\n",
              " 'isSLBSec': False,\n",
              " 'isDebtSec': False,\n",
              " 'isSuspended': True,\n",
              " 'tempSuspendedSeries': ['W3', 'EQ', 'W1', 'W2'],\n",
              " 'isETFSec': False,\n",
              " 'isDelisted': False,\n",
              " 'isin': 'INE001A13031',\n",
              " 'isMunicipalBond': False,\n",
              " 'isTop10': False,\n",
              " 'identifier': 'HDFCEQN'}"
            ]
          },
          "metadata": {},
          "execution_count": 30
        }
      ]
    },
    {
      "cell_type": "code",
      "source": [
        "q['metadata']"
      ],
      "metadata": {
        "colab": {
          "base_uri": "https://localhost:8080/"
        },
        "id": "G_Jy5l8x4xXJ",
        "outputId": "226d8dbb-4f5e-4a42-f9bd-8f39b0f06f09"
      },
      "execution_count": 31,
      "outputs": [
        {
          "output_type": "execute_result",
          "data": {
            "text/plain": [
              "{'series': 'EQ',\n",
              " 'symbol': 'HDFC',\n",
              " 'isin': 'INE001A01036',\n",
              " 'status': 'Permanent Suspended',\n",
              " 'listingDate': '23-Oct-1996',\n",
              " 'industry': 'Housing Finance Company',\n",
              " 'lastUpdateTime': '-',\n",
              " 'pdSectorPe': 'NA',\n",
              " 'pdSymbolPe': 'NA',\n",
              " 'pdSectorInd': 'NA',\n",
              " 'pdSectorIndAll': 'NA'}"
            ]
          },
          "metadata": {},
          "execution_count": 31
        }
      ]
    },
    {
      "cell_type": "code",
      "source": [
        "q['securityInfo']"
      ],
      "metadata": {
        "colab": {
          "base_uri": "https://localhost:8080/"
        },
        "id": "HaT5-Wzn42da",
        "outputId": "83e4b075-0f68-4458-b9c4-8464375fe719"
      },
      "execution_count": 32,
      "outputs": [
        {
          "output_type": "execute_result",
          "data": {
            "text/plain": [
              "{'boardStatus': 'Main',\n",
              " 'tradingStatus': 'Suspended',\n",
              " 'tradingSegment': 'Normal Market',\n",
              " 'sessionNo': '-',\n",
              " 'slb': 'No',\n",
              " 'classOfShare': 'Equity',\n",
              " 'derivatives': 'No',\n",
              " 'surveillance': {'surv': None, 'desc': None},\n",
              " 'faceValue': 2,\n",
              " 'issuedSize': 1851426483}"
            ]
          },
          "metadata": {},
          "execution_count": 32
        }
      ]
    },
    {
      "cell_type": "code",
      "source": [
        "q['preOpenMarket']"
      ],
      "metadata": {
        "colab": {
          "base_uri": "https://localhost:8080/"
        },
        "id": "Tmk2oRMP5lym",
        "outputId": "06f00a11-af42-4e60-8035-a439dbbb9c73"
      },
      "execution_count": 33,
      "outputs": [
        {
          "output_type": "execute_result",
          "data": {
            "text/plain": [
              "{'preopen': [{'iep': True}], 'ato': {'buy': 0, 'sell': 0}}"
            ]
          },
          "metadata": {},
          "execution_count": 33
        }
      ]
    },
    {
      "cell_type": "code",
      "source": [
        "tick_data = n.tick_data(\"HDFC\")"
      ],
      "metadata": {
        "id": "u6uLpg555pkZ"
      },
      "execution_count": 34,
      "outputs": []
    },
    {
      "cell_type": "code",
      "source": [
        "tick_data['grapthData'][0:10]"
      ],
      "metadata": {
        "colab": {
          "base_uri": "https://localhost:8080/"
        },
        "id": "mhVbNrjb5wet",
        "outputId": "0b6ae751-c9ee-40b2-ba39-dedd0b8cea6c"
      },
      "execution_count": 35,
      "outputs": [
        {
          "output_type": "execute_result",
          "data": {
            "text/plain": [
              "[]"
            ]
          },
          "metadata": {},
          "execution_count": 35
        }
      ]
    },
    {
      "cell_type": "code",
      "source": [
        "trade_info = n.trade_info(\"HDFC\")"
      ],
      "metadata": {
        "id": "KxFwXhno5y3X"
      },
      "execution_count": 36,
      "outputs": []
    },
    {
      "cell_type": "code",
      "source": [
        "trade_info"
      ],
      "metadata": {
        "colab": {
          "base_uri": "https://localhost:8080/"
        },
        "id": "Tctz_VZA52_C",
        "outputId": "3732cdc3-be9c-4139-de8f-de4ca6ae46b4"
      },
      "execution_count": 37,
      "outputs": [
        {
          "output_type": "execute_result",
          "data": {
            "text/plain": [
              "{'noBlockDeals': True,\n",
              " 'bulkBlockDeals': [{'name': 'Session I'}, {'name': 'Session II'}],\n",
              " 'marketDeptOrderBook': {'totalBuyQuantity': 0,\n",
              "  'totalSellQuantity': 0,\n",
              "  'bid': [{'price': 0, 'quantity': 0},\n",
              "   {'price': 0, 'quantity': 0},\n",
              "   {'price': 0, 'quantity': 0},\n",
              "   {'price': 0, 'quantity': 0},\n",
              "   {'price': 0, 'quantity': 0}],\n",
              "  'ask': [{'price': 0, 'quantity': 0},\n",
              "   {'price': 0, 'quantity': 0},\n",
              "   {'price': 0, 'quantity': 0},\n",
              "   {'price': 0, 'quantity': 0},\n",
              "   {'price': 0, 'quantity': 0}],\n",
              "  'tradeInfo': {'totalTradedVolume': 0,\n",
              "   'totalTradedValue': 0,\n",
              "   'totalMarketCap': 0,\n",
              "   'ffmc': 0,\n",
              "   'impactCost': 0,\n",
              "   'cmDailyVolatility': None,\n",
              "   'cmAnnualVolatility': None,\n",
              "   'marketLot': '',\n",
              "   'activeSeries': 'EQ'},\n",
              "  'valueAtRisk': {'securityVar': 9.22,\n",
              "   'indexVar': 0,\n",
              "   'varMargin': 9.22,\n",
              "   'extremeLossMargin': 3.5,\n",
              "   'adhocMargin': 0,\n",
              "   'applicableMargin': 12.72}},\n",
              " 'securityWiseDP': {'quantityTraded': 0,\n",
              "  'deliveryQuantity': 0,\n",
              "  'deliveryToTradedQuantity': 0,\n",
              "  'seriesRemarks': None,\n",
              "  'secWiseDelPosDate': '-'}}"
            ]
          },
          "metadata": {},
          "execution_count": 37
        }
      ]
    },
    {
      "cell_type": "markdown",
      "source": [
        "Live Option Chain\n"
      ],
      "metadata": {
        "id": "uO-sCgky6B7A"
      }
    },
    {
      "cell_type": "code",
      "source": [
        "option_chain = n.index_option_chain(\"NIFTY\") # Index Option chains\n",
        "eq_option_chain = n.equities_option_chain(\"RELIANCE\") # Equity option chains\n",
        "curr_option_chain = n.currency_option_chain(\"USDINR\") # Currency option chains"
      ],
      "metadata": {
        "id": "2B2KlGz-557a"
      },
      "execution_count": 38,
      "outputs": []
    },
    {
      "cell_type": "code",
      "source": [
        "option_chain['records']['expiryDates']"
      ],
      "metadata": {
        "colab": {
          "base_uri": "https://localhost:8080/"
        },
        "id": "bsFgiCa06ETo",
        "outputId": "52da4647-db93-43dd-bb26-c2e4aa3f61f5"
      },
      "execution_count": 40,
      "outputs": [
        {
          "output_type": "execute_result",
          "data": {
            "text/plain": [
              "['12-Sep-2024',\n",
              " '19-Sep-2024',\n",
              " '26-Sep-2024',\n",
              " '03-Oct-2024',\n",
              " '10-Oct-2024',\n",
              " '31-Oct-2024',\n",
              " '28-Nov-2024',\n",
              " '26-Dec-2024',\n",
              " '27-Mar-2025',\n",
              " '26-Jun-2025',\n",
              " '24-Dec-2025',\n",
              " '25-Jun-2026',\n",
              " '31-Dec-2026',\n",
              " '24-Jun-2027',\n",
              " '30-Dec-2027',\n",
              " '29-Jun-2028',\n",
              " '28-Dec-2028',\n",
              " '28-Jun-2029']"
            ]
          },
          "metadata": {},
          "execution_count": 40
        }
      ]
    },
    {
      "cell_type": "code",
      "source": [
        "print(\"----Index option chain-----\")\n",
        "print(\"CE\\tStrike\\tPE\")\n",
        "for option in option_chain['filtered']['data'][80:100]:\n",
        "    print(\"{}\\t{}\\t{}\".format(option['CE']['lastPrice'], option['strikePrice'], option['PE']['lastPrice']))"
      ],
      "metadata": {
        "colab": {
          "base_uri": "https://localhost:8080/"
        },
        "id": "vWlC_wRP6MOx",
        "outputId": "e8804384-2d28-4912-bd50-083c71578903"
      },
      "execution_count": 41,
      "outputs": [
        {
          "output_type": "stream",
          "name": "stdout",
          "text": [
            "----Index option chain-----\n",
            "CE\tStrike\tPE\n",
            "2.1\t26350\t0\n",
            "2.05\t26400\t0\n",
            "2.3\t26450\t0\n",
            "1.85\t26500\t1617\n",
            "1.8\t26550\t0\n",
            "2.1\t26600\t1730\n",
            "1.8\t26650\t0\n",
            "1.9\t26700\t1470\n",
            "1.6\t26750\t1553.15\n",
            "1.9\t26800\t1601.6\n",
            "2.2\t26850\t0\n",
            "1.8\t26900\t0\n",
            "1.65\t26950\t0\n",
            "1.75\t27000\t2164.85\n",
            "1.8\t27050\t1923.15\n"
          ]
        }
      ]
    },
    {
      "cell_type": "code",
      "source": [
        "print(\"-----Equity option chain-----\")\n",
        "print(\"CE\\tStrike\\tPE\")\n",
        "for option in eq_option_chain['filtered']['data'][30:50]:\n",
        "    print(\"{}\\t{}\\t{}\".format(option['CE']['lastPrice'], option['strikePrice'], option['PE']['lastPrice']))"
      ],
      "metadata": {
        "colab": {
          "base_uri": "https://localhost:8080/",
          "height": 436
        },
        "id": "_jYIaVsX6bTT",
        "outputId": "d1508783-89f7-4d7a-c887-33beabf78245"
      },
      "execution_count": 43,
      "outputs": [
        {
          "output_type": "stream",
          "name": "stdout",
          "text": [
            "-----Equity option chain-----\n",
            "CE\tStrike\tPE\n",
            "7.65\t3140\t205.7\n",
            "6.45\t3160\t214\n",
            "5.7\t3180\t241.8\n",
            "5.4\t3200\t265.4\n",
            "4.5\t3220\t276.9\n",
            "4.15\t3240\t308.45\n",
            "3.55\t3260\t329.5\n",
            "3.35\t3280\t331.25\n",
            "3\t3320\t348.75\n",
            "2.25\t3360\t0\n",
            "1.95\t3400\t462\n",
            "1.95\t3440\t0\n",
            "1.65\t3480\t438\n"
          ]
        },
        {
          "output_type": "error",
          "ename": "KeyError",
          "evalue": "'PE'",
          "traceback": [
            "\u001b[0;31m---------------------------------------------------------------------------\u001b[0m",
            "\u001b[0;31mKeyError\u001b[0m                                  Traceback (most recent call last)",
            "\u001b[0;32m<ipython-input-43-74dd823ac11a>\u001b[0m in \u001b[0;36m<cell line: 3>\u001b[0;34m()\u001b[0m\n\u001b[1;32m      2\u001b[0m \u001b[0mprint\u001b[0m\u001b[0;34m(\u001b[0m\u001b[0;34m\"CE\\tStrike\\tPE\"\u001b[0m\u001b[0;34m)\u001b[0m\u001b[0;34m\u001b[0m\u001b[0;34m\u001b[0m\u001b[0m\n\u001b[1;32m      3\u001b[0m \u001b[0;32mfor\u001b[0m \u001b[0moption\u001b[0m \u001b[0;32min\u001b[0m \u001b[0meq_option_chain\u001b[0m\u001b[0;34m[\u001b[0m\u001b[0;34m'filtered'\u001b[0m\u001b[0;34m]\u001b[0m\u001b[0;34m[\u001b[0m\u001b[0;34m'data'\u001b[0m\u001b[0;34m]\u001b[0m\u001b[0;34m[\u001b[0m\u001b[0;36m30\u001b[0m\u001b[0;34m:\u001b[0m\u001b[0;36m50\u001b[0m\u001b[0;34m]\u001b[0m\u001b[0;34m:\u001b[0m\u001b[0;34m\u001b[0m\u001b[0;34m\u001b[0m\u001b[0m\n\u001b[0;32m----> 4\u001b[0;31m     \u001b[0mprint\u001b[0m\u001b[0;34m(\u001b[0m\u001b[0;34m\"{}\\t{}\\t{}\"\u001b[0m\u001b[0;34m.\u001b[0m\u001b[0mformat\u001b[0m\u001b[0;34m(\u001b[0m\u001b[0moption\u001b[0m\u001b[0;34m[\u001b[0m\u001b[0;34m'CE'\u001b[0m\u001b[0;34m]\u001b[0m\u001b[0;34m[\u001b[0m\u001b[0;34m'lastPrice'\u001b[0m\u001b[0;34m]\u001b[0m\u001b[0;34m,\u001b[0m \u001b[0moption\u001b[0m\u001b[0;34m[\u001b[0m\u001b[0;34m'strikePrice'\u001b[0m\u001b[0;34m]\u001b[0m\u001b[0;34m,\u001b[0m \u001b[0moption\u001b[0m\u001b[0;34m[\u001b[0m\u001b[0;34m'PE'\u001b[0m\u001b[0;34m]\u001b[0m\u001b[0;34m[\u001b[0m\u001b[0;34m'lastPrice'\u001b[0m\u001b[0;34m]\u001b[0m\u001b[0;34m)\u001b[0m\u001b[0;34m)\u001b[0m\u001b[0;34m\u001b[0m\u001b[0;34m\u001b[0m\u001b[0m\n\u001b[0m",
            "\u001b[0;31mKeyError\u001b[0m: 'PE'"
          ]
        }
      ]
    },
    {
      "cell_type": "code",
      "source": [
        "print(\"----Currency option chain ----\")\n",
        "print(\"CE\\tStrike\\tPE\")\n",
        "for option in curr_option_chain['filtered']['data'][10:30]:\n",
        "    print(\"{}\\t{}\\t{}\".format(option['CE']['lastPrice'], option['strikePrice'], option['PE']['lastPrice']))"
      ],
      "metadata": {
        "colab": {
          "base_uri": "https://localhost:8080/"
        },
        "id": "Xeo4pPgS6hC3",
        "outputId": "f6e3086b-a46d-4840-b0c2-354112039026"
      },
      "execution_count": 44,
      "outputs": [
        {
          "output_type": "stream",
          "name": "stdout",
          "text": [
            "----Currency option chain ----\n",
            "CE\tStrike\tPE\n"
          ]
        }
      ]
    },
    {
      "cell_type": "markdown",
      "source": [
        "Equity Derivative Turnover"
      ],
      "metadata": {
        "id": "bXrFUeEF6y0e"
      }
    },
    {
      "cell_type": "code",
      "source": [
        "turnover = n.eq_derivative_turnover()"
      ],
      "metadata": {
        "id": "zPFI6wxc6tvH"
      },
      "execution_count": 45,
      "outputs": []
    },
    {
      "cell_type": "code",
      "source": [
        "for t in turnover['value']:\n",
        "    print(\"{} \\t {}\".format(t['identifier'], t['totalTurnover']))"
      ],
      "metadata": {
        "colab": {
          "base_uri": "https://localhost:8080/"
        },
        "id": "yCjun3vs62LU",
        "outputId": "92951c16-5c00-441a-aca4-36a9d88cde51"
      },
      "execution_count": 46,
      "outputs": [
        {
          "output_type": "stream",
          "name": "stdout",
          "text": [
            "FUTIDXNIFTY26-09-2024XX0.00 \t 2600017.2423125\n",
            "FUTIDXBANKNIFTY25-09-2024XX0.00 \t 1449215.0878410002\n",
            "FUTSTKSBIN26-09-2024XX0.00 \t 585518.8584\n",
            "FUTSTKRELIANCE26-09-2024XX0.00 \t 537298.704475\n",
            "FUTSTKHDFCBANK26-09-2024XX0.00 \t 456191.19315\n",
            "FUTSTKICICIBANK26-09-2024XX0.00 \t 346530.8063\n",
            "FUTSTKIDEA26-09-2024XX0.00 \t 251114.02\n",
            "FUTSTKBAJFINANCE26-09-2024XX0.00 \t 226324.9890625\n",
            "FUTSTKINDUSTOWER26-09-2024XX0.00 \t 218474.22432\n",
            "FUTSTKINFY26-09-2024XX0.00 \t 214940.7976\n",
            "FUTIDXNIFTY31-10-2024XX0.00 \t 214621.47612\n",
            "FUTSTKAXISBANK26-09-2024XX0.00 \t 192329.796875\n",
            "OPTIDXBANKNIFTY11-09-2024PE51000.00 \t 185871.673119\n",
            "FUTSTKITC26-09-2024XX0.00 \t 183104.3712\n",
            "FUTSTKTATAMOTORS26-09-2024XX0.00 \t 174248.285805\n",
            "FUTSTKLT26-09-2024XX0.00 \t 166490.88603\n",
            "FUTSTKSBICARD26-09-2024XX0.00 \t 165468.41439999998\n",
            "OPTIDXNIFTY12-09-2024PE25000.00 \t 149923.93676999997\n",
            "FUTSTKTCS26-09-2024XX0.00 \t 142765.69608\n",
            "FUTSTKBHARTIARTL26-09-2024XX0.00 \t 142359.123455\n"
          ]
        }
      ]
    },
    {
      "cell_type": "code",
      "source": [
        "turnover['value'][0]"
      ],
      "metadata": {
        "colab": {
          "base_uri": "https://localhost:8080/"
        },
        "id": "BGUfZoq464qE",
        "outputId": "da8e45b4-362e-4fc2-9ae7-be029beca830"
      },
      "execution_count": 47,
      "outputs": [
        {
          "output_type": "execute_result",
          "data": {
            "text/plain": [
              "{'underlying': 'NIFTY',\n",
              " 'identifier': 'FUTIDXNIFTY26-09-2024XX0.00',\n",
              " 'instrumentType': 'FUTIDX',\n",
              " 'instrument': 'Index Futures',\n",
              " 'expiryDate': '26-Sep-2024',\n",
              " 'optionType': '-',\n",
              " 'strikePrice': 0,\n",
              " 'lastPrice': 24909.4,\n",
              " 'pChange': -1.2971163085579505,\n",
              " 'openPrice': 25189.8,\n",
              " 'highPrice': 25219,\n",
              " 'lowPrice': 24855,\n",
              " 'numberOfContractsTraded': 416285,\n",
              " 'totalTurnover': 2600017.2423125,\n",
              " 'premiumTurnover': 260001724231.25,\n",
              " 'openInterest': 570923,\n",
              " 'underlyingValue': 24852.15}"
            ]
          },
          "metadata": {},
          "execution_count": 47
        }
      ]
    },
    {
      "cell_type": "code",
      "source": [
        "quotes = n.stock_quote_fno(\"HDFC\")"
      ],
      "metadata": {
        "id": "A5Ncrr_26-Ia"
      },
      "execution_count": 48,
      "outputs": []
    },
    {
      "cell_type": "code",
      "source": [
        "for quote in quotes['stocks']:\n",
        "    print(\"{}\\t{}\".format(quote['metadata']['identifier'], quote['metadata']['lastPrice']))"
      ],
      "metadata": {
        "id": "1XojLpTL7Dyg"
      },
      "execution_count": 49,
      "outputs": []
    },
    {
      "cell_type": "code",
      "source": [
        "quotes['stocks'][0]"
      ],
      "metadata": {
        "colab": {
          "base_uri": "https://localhost:8080/",
          "height": 141
        },
        "id": "rdOUWzwn7G_h",
        "outputId": "9606bdef-60b8-4d97-f6db-1fd66f9e9f81"
      },
      "execution_count": 50,
      "outputs": [
        {
          "output_type": "error",
          "ename": "IndexError",
          "evalue": "list index out of range",
          "traceback": [
            "\u001b[0;31m---------------------------------------------------------------------------\u001b[0m",
            "\u001b[0;31mIndexError\u001b[0m                                Traceback (most recent call last)",
            "\u001b[0;32m<ipython-input-50-17c1b007ac78>\u001b[0m in \u001b[0;36m<cell line: 1>\u001b[0;34m()\u001b[0m\n\u001b[0;32m----> 1\u001b[0;31m \u001b[0mquotes\u001b[0m\u001b[0;34m[\u001b[0m\u001b[0;34m'stocks'\u001b[0m\u001b[0;34m]\u001b[0m\u001b[0;34m[\u001b[0m\u001b[0;36m0\u001b[0m\u001b[0;34m]\u001b[0m\u001b[0;34m\u001b[0m\u001b[0;34m\u001b[0m\u001b[0m\n\u001b[0m",
            "\u001b[0;31mIndexError\u001b[0m: list index out of range"
          ]
        }
      ]
    },
    {
      "cell_type": "code",
      "source": [
        "import pandas as pd\n",
        "\n",
        "import sqlite3\n",
        "import requests\n"
      ],
      "metadata": {
        "id": "WfujQcY17M1F"
      },
      "execution_count": 51,
      "outputs": []
    },
    {
      "cell_type": "code",
      "source": [
        "url = \"https://www.google.com/sites\""
      ],
      "metadata": {
        "id": "FeEYuN3i7eTC"
      },
      "execution_count": 54,
      "outputs": []
    },
    {
      "cell_type": "code",
      "source": [
        "r = requests.get(url)"
      ],
      "metadata": {
        "id": "NOtUH0-I7hzz"
      },
      "execution_count": 55,
      "outputs": []
    },
    {
      "cell_type": "code",
      "source": [
        "data = r.json()"
      ],
      "metadata": {
        "colab": {
          "base_uri": "https://localhost:8080/",
          "height": 408
        },
        "id": "ng7cx_Th7lof",
        "outputId": "60628463-10f5-43d0-da6c-debd851d41a8"
      },
      "execution_count": 57,
      "outputs": [
        {
          "output_type": "error",
          "ename": "JSONDecodeError",
          "evalue": "Expecting value: line 1 column 1 (char 0)",
          "traceback": [
            "\u001b[0;31m---------------------------------------------------------------------------\u001b[0m",
            "\u001b[0;31mJSONDecodeError\u001b[0m                           Traceback (most recent call last)",
            "\u001b[0;32m/usr/local/lib/python3.10/dist-packages/requests/models.py\u001b[0m in \u001b[0;36mjson\u001b[0;34m(self, **kwargs)\u001b[0m\n\u001b[1;32m    973\u001b[0m         \u001b[0;32mtry\u001b[0m\u001b[0;34m:\u001b[0m\u001b[0;34m\u001b[0m\u001b[0;34m\u001b[0m\u001b[0m\n\u001b[0;32m--> 974\u001b[0;31m             \u001b[0;32mreturn\u001b[0m \u001b[0mcomplexjson\u001b[0m\u001b[0;34m.\u001b[0m\u001b[0mloads\u001b[0m\u001b[0;34m(\u001b[0m\u001b[0mself\u001b[0m\u001b[0;34m.\u001b[0m\u001b[0mtext\u001b[0m\u001b[0;34m,\u001b[0m \u001b[0;34m**\u001b[0m\u001b[0mkwargs\u001b[0m\u001b[0;34m)\u001b[0m\u001b[0;34m\u001b[0m\u001b[0;34m\u001b[0m\u001b[0m\n\u001b[0m\u001b[1;32m    975\u001b[0m         \u001b[0;32mexcept\u001b[0m \u001b[0mJSONDecodeError\u001b[0m \u001b[0;32mas\u001b[0m \u001b[0me\u001b[0m\u001b[0;34m:\u001b[0m\u001b[0;34m\u001b[0m\u001b[0;34m\u001b[0m\u001b[0m\n",
            "\u001b[0;32m/usr/lib/python3.10/json/__init__.py\u001b[0m in \u001b[0;36mloads\u001b[0;34m(s, cls, object_hook, parse_float, parse_int, parse_constant, object_pairs_hook, **kw)\u001b[0m\n\u001b[1;32m    345\u001b[0m             parse_constant is None and object_pairs_hook is None and not kw):\n\u001b[0;32m--> 346\u001b[0;31m         \u001b[0;32mreturn\u001b[0m \u001b[0m_default_decoder\u001b[0m\u001b[0;34m.\u001b[0m\u001b[0mdecode\u001b[0m\u001b[0;34m(\u001b[0m\u001b[0ms\u001b[0m\u001b[0;34m)\u001b[0m\u001b[0;34m\u001b[0m\u001b[0;34m\u001b[0m\u001b[0m\n\u001b[0m\u001b[1;32m    347\u001b[0m     \u001b[0;32mif\u001b[0m \u001b[0mcls\u001b[0m \u001b[0;32mis\u001b[0m \u001b[0;32mNone\u001b[0m\u001b[0;34m:\u001b[0m\u001b[0;34m\u001b[0m\u001b[0;34m\u001b[0m\u001b[0m\n",
            "\u001b[0;32m/usr/lib/python3.10/json/decoder.py\u001b[0m in \u001b[0;36mdecode\u001b[0;34m(self, s, _w)\u001b[0m\n\u001b[1;32m    336\u001b[0m         \"\"\"\n\u001b[0;32m--> 337\u001b[0;31m         \u001b[0mobj\u001b[0m\u001b[0;34m,\u001b[0m \u001b[0mend\u001b[0m \u001b[0;34m=\u001b[0m \u001b[0mself\u001b[0m\u001b[0;34m.\u001b[0m\u001b[0mraw_decode\u001b[0m\u001b[0;34m(\u001b[0m\u001b[0ms\u001b[0m\u001b[0;34m,\u001b[0m \u001b[0midx\u001b[0m\u001b[0;34m=\u001b[0m\u001b[0m_w\u001b[0m\u001b[0;34m(\u001b[0m\u001b[0ms\u001b[0m\u001b[0;34m,\u001b[0m \u001b[0;36m0\u001b[0m\u001b[0;34m)\u001b[0m\u001b[0;34m.\u001b[0m\u001b[0mend\u001b[0m\u001b[0;34m(\u001b[0m\u001b[0;34m)\u001b[0m\u001b[0;34m)\u001b[0m\u001b[0;34m\u001b[0m\u001b[0;34m\u001b[0m\u001b[0m\n\u001b[0m\u001b[1;32m    338\u001b[0m         \u001b[0mend\u001b[0m \u001b[0;34m=\u001b[0m \u001b[0m_w\u001b[0m\u001b[0;34m(\u001b[0m\u001b[0ms\u001b[0m\u001b[0;34m,\u001b[0m \u001b[0mend\u001b[0m\u001b[0;34m)\u001b[0m\u001b[0;34m.\u001b[0m\u001b[0mend\u001b[0m\u001b[0;34m(\u001b[0m\u001b[0;34m)\u001b[0m\u001b[0;34m\u001b[0m\u001b[0;34m\u001b[0m\u001b[0m\n",
            "\u001b[0;32m/usr/lib/python3.10/json/decoder.py\u001b[0m in \u001b[0;36mraw_decode\u001b[0;34m(self, s, idx)\u001b[0m\n\u001b[1;32m    354\u001b[0m         \u001b[0;32mexcept\u001b[0m \u001b[0mStopIteration\u001b[0m \u001b[0;32mas\u001b[0m \u001b[0merr\u001b[0m\u001b[0;34m:\u001b[0m\u001b[0;34m\u001b[0m\u001b[0;34m\u001b[0m\u001b[0m\n\u001b[0;32m--> 355\u001b[0;31m             \u001b[0;32mraise\u001b[0m \u001b[0mJSONDecodeError\u001b[0m\u001b[0;34m(\u001b[0m\u001b[0;34m\"Expecting value\"\u001b[0m\u001b[0;34m,\u001b[0m \u001b[0ms\u001b[0m\u001b[0;34m,\u001b[0m \u001b[0merr\u001b[0m\u001b[0;34m.\u001b[0m\u001b[0mvalue\u001b[0m\u001b[0;34m)\u001b[0m \u001b[0;32mfrom\u001b[0m \u001b[0;32mNone\u001b[0m\u001b[0;34m\u001b[0m\u001b[0;34m\u001b[0m\u001b[0m\n\u001b[0m\u001b[1;32m    356\u001b[0m         \u001b[0;32mreturn\u001b[0m \u001b[0mobj\u001b[0m\u001b[0;34m,\u001b[0m \u001b[0mend\u001b[0m\u001b[0;34m\u001b[0m\u001b[0;34m\u001b[0m\u001b[0m\n",
            "\u001b[0;31mJSONDecodeError\u001b[0m: Expecting value: line 1 column 1 (char 0)",
            "\nDuring handling of the above exception, another exception occurred:\n",
            "\u001b[0;31mJSONDecodeError\u001b[0m                           Traceback (most recent call last)",
            "\u001b[0;32m<ipython-input-57-47690001e107>\u001b[0m in \u001b[0;36m<cell line: 1>\u001b[0;34m()\u001b[0m\n\u001b[0;32m----> 1\u001b[0;31m \u001b[0mdata\u001b[0m \u001b[0;34m=\u001b[0m \u001b[0mr\u001b[0m\u001b[0;34m.\u001b[0m\u001b[0mjson\u001b[0m\u001b[0;34m(\u001b[0m\u001b[0;34m)\u001b[0m\u001b[0;34m\u001b[0m\u001b[0;34m\u001b[0m\u001b[0m\n\u001b[0m",
            "\u001b[0;32m/usr/local/lib/python3.10/dist-packages/requests/models.py\u001b[0m in \u001b[0;36mjson\u001b[0;34m(self, **kwargs)\u001b[0m\n\u001b[1;32m    976\u001b[0m             \u001b[0;31m# Catch JSON-related errors and raise as requests.JSONDecodeError\u001b[0m\u001b[0;34m\u001b[0m\u001b[0;34m\u001b[0m\u001b[0m\n\u001b[1;32m    977\u001b[0m             \u001b[0;31m# This aliases json.JSONDecodeError and simplejson.JSONDecodeError\u001b[0m\u001b[0;34m\u001b[0m\u001b[0;34m\u001b[0m\u001b[0m\n\u001b[0;32m--> 978\u001b[0;31m             \u001b[0;32mraise\u001b[0m \u001b[0mRequestsJSONDecodeError\u001b[0m\u001b[0;34m(\u001b[0m\u001b[0me\u001b[0m\u001b[0;34m.\u001b[0m\u001b[0mmsg\u001b[0m\u001b[0;34m,\u001b[0m \u001b[0me\u001b[0m\u001b[0;34m.\u001b[0m\u001b[0mdoc\u001b[0m\u001b[0;34m,\u001b[0m \u001b[0me\u001b[0m\u001b[0;34m.\u001b[0m\u001b[0mpos\u001b[0m\u001b[0;34m)\u001b[0m\u001b[0;34m\u001b[0m\u001b[0;34m\u001b[0m\u001b[0m\n\u001b[0m\u001b[1;32m    979\u001b[0m \u001b[0;34m\u001b[0m\u001b[0m\n\u001b[1;32m    980\u001b[0m     \u001b[0;34m@\u001b[0m\u001b[0mproperty\u001b[0m\u001b[0;34m\u001b[0m\u001b[0;34m\u001b[0m\u001b[0m\n",
            "\u001b[0;31mJSONDecodeError\u001b[0m: Expecting value: line 1 column 1 (char 0)"
          ]
        }
      ]
    },
    {
      "cell_type": "code",
      "source": [
        "pd.DataFrame(data.get('Time Series (1min)')).T"
      ],
      "metadata": {
        "colab": {
          "base_uri": "https://localhost:8080/",
          "height": 141
        },
        "id": "r7DYt9rS7u1N",
        "outputId": "c9c2170c-3ad6-4e99-8245-ecbc39781715"
      },
      "execution_count": 60,
      "outputs": [
        {
          "output_type": "error",
          "ename": "NameError",
          "evalue": "name 'data' is not defined",
          "traceback": [
            "\u001b[0;31m---------------------------------------------------------------------------\u001b[0m",
            "\u001b[0;31mNameError\u001b[0m                                 Traceback (most recent call last)",
            "\u001b[0;32m<ipython-input-60-9c56a81a2e06>\u001b[0m in \u001b[0;36m<cell line: 1>\u001b[0;34m()\u001b[0m\n\u001b[0;32m----> 1\u001b[0;31m \u001b[0mpd\u001b[0m\u001b[0;34m.\u001b[0m\u001b[0mDataFrame\u001b[0m\u001b[0;34m(\u001b[0m\u001b[0mdata\u001b[0m\u001b[0;34m.\u001b[0m\u001b[0mget\u001b[0m\u001b[0;34m(\u001b[0m\u001b[0;34m'Time Series (1min)'\u001b[0m\u001b[0;34m)\u001b[0m\u001b[0;34m)\u001b[0m\u001b[0;34m.\u001b[0m\u001b[0mT\u001b[0m\u001b[0;34m\u001b[0m\u001b[0;34m\u001b[0m\u001b[0m\n\u001b[0m",
            "\u001b[0;31mNameError\u001b[0m: name 'data' is not defined"
          ]
        }
      ]
    },
    {
      "cell_type": "code",
      "source": [],
      "metadata": {
        "id": "lMRI6Pw17-bW"
      },
      "execution_count": null,
      "outputs": []
    }
  ]
}