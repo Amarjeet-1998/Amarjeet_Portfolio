{
  "nbformat": 4,
  "nbformat_minor": 0,
  "metadata": {
    "colab": {
      "name": "Numpy_practice.ipynb",
      "provenance": [],
      "authorship_tag": "ABX9TyO6nG7foGBytJz7OadNTxqi",
      "include_colab_link": true
    },
    "kernelspec": {
      "name": "python3",
      "display_name": "Python 3"
    },
    "language_info": {
      "name": "python"
    }
  },
  "cells": [
    {
      "cell_type": "markdown",
      "metadata": {
        "id": "view-in-github",
        "colab_type": "text"
      },
      "source": [
        "<a href=\"https://colab.research.google.com/github/Amarjeet-1998/Amarjeet_Portfolio/blob/main/Numpy_practice.ipynb\" target=\"_parent\"><img src=\"https://colab.research.google.com/assets/colab-badge.svg\" alt=\"Open In Colab\"/></a>"
      ]
    },
    {
      "cell_type": "markdown",
      "source": [
        "# **What is NumPy?**\n",
        "\n",
        "NumPy is a Python library used for working with arrays. it also has functions for working in domain of linear algebra, fourier transform, and the matrices. NumPy was created in 2005 by Travis Oliphant. It is an open sources project and you can use it freely. NumPy stands for Numerical Python.\n",
        "\n",
        "\n",
        "\n",
        "# **Why Use NumPy?**\n",
        "\n",
        "In python we have lists that serve the purpose of arrays, but they are slow to process. NumPy aims to provide an array object that is up to 50x faster than traditional python lists. The array object in NumPy is called ndarray, it provides a lot of supporting functions that make working with ndarray very easy. Arrays are very frequently used in data science, where speed and resources are very important.\n",
        "\n",
        "\n",
        "# **Why is NumPy Faster than Lists?**\n",
        "\n",
        "\n",
        "NumPy array are stored at one continuous place in memory unlike lists, so processes can access and manipulate them very efficiently.\n",
        "\n",
        "This behaviour is called locality of reference in computer science.\n",
        "\n",
        "This is the main reason why NumPy is faster than lists. also it is optimized to work with latest CPU architectures.\n",
        "\n",
        "\n",
        "# **Which Language is NumPy written in?** \n",
        "\n",
        "NumPy is a python library and is written partially in python, but most of the parts that require fast computation are written in C or C++."
      ],
      "metadata": {
        "id": "tZRV_wbYRfVP"
      }
    },
    {
      "cell_type": "code",
      "execution_count": 1,
      "metadata": {
        "colab": {
          "base_uri": "https://localhost:8080/"
        },
        "id": "Sn_bofPxQx1a",
        "outputId": "a8bb3415-6fc5-41fa-d278-2b5caed975e7"
      },
      "outputs": [
        {
          "output_type": "stream",
          "name": "stdout",
          "text": [
            "[1 2 3 4 5]\n",
            "<class 'numpy.ndarray'>\n"
          ]
        }
      ],
      "source": [
        "'''To create an ndarray, we can pass a list, tuple or any array-like object into the array method, and it will be converted into an ndarray:'''\n",
        "\n",
        "import numpy as np\n",
        "arr = np.array([1,2,3,4,5]) #creating array\n",
        "print(arr)\n",
        "print(type(arr))     # check type of arr"
      ]
    },
    {
      "cell_type": "code",
      "source": [
        "import numpy as np\n",
        "print(np.__version__) # check numpy version"
      ],
      "metadata": {
        "colab": {
          "base_uri": "https://localhost:8080/"
        },
        "id": "iubQGW_tXHC2",
        "outputId": "bc9b2c5a-1c9e-4ea5-d468-eb7499b4dbeb"
      },
      "execution_count": 2,
      "outputs": [
        {
          "output_type": "stream",
          "name": "stdout",
          "text": [
            "1.21.6\n"
          ]
        }
      ]
    },
    {
      "cell_type": "code",
      "source": [
        "#use tuple to create numpy array\n",
        "import numpy as np\n",
        "arr = np.array((1,2,3,4,5))\n",
        "print(arr)"
      ],
      "metadata": {
        "colab": {
          "base_uri": "https://localhost:8080/"
        },
        "id": "vJ2gMs8FXTJy",
        "outputId": "e79b6c0e-81a8-4822-9dfa-daf8c1aae543"
      },
      "execution_count": 3,
      "outputs": [
        {
          "output_type": "stream",
          "name": "stdout",
          "text": [
            "[1 2 3 4 5]\n"
          ]
        }
      ]
    },
    {
      "cell_type": "code",
      "source": [
        "# create a 2-D array containing the values 1,2,3,4,5 and  6,7,8,9:\n",
        "arr = np.array([[1,2,3,4,5],[5,6,7,8,9]])\n",
        "print(arr)"
      ],
      "metadata": {
        "colab": {
          "base_uri": "https://localhost:8080/"
        },
        "id": "OSHHuWlhXkYk",
        "outputId": "b923261f-92c3-48ec-fb39-d418823ed054"
      },
      "execution_count": 4,
      "outputs": [
        {
          "output_type": "stream",
          "name": "stdout",
          "text": [
            "[[1 2 3 4 5]\n",
            " [5 6 7 8 9]]\n"
          ]
        }
      ]
    },
    {
      "cell_type": "code",
      "source": [
        "#create a 1-D array containing the values 1,2,3,4,5:\n",
        "arr = np.array([1,2,3,4,5])\n",
        "print(arr)"
      ],
      "metadata": {
        "colab": {
          "base_uri": "https://localhost:8080/"
        },
        "id": "i_d2QVKGX7e1",
        "outputId": "baf3b8f4-ea0a-4b6b-98db-736b129701aa"
      },
      "execution_count": 5,
      "outputs": [
        {
          "output_type": "stream",
          "name": "stdout",
          "text": [
            "[1 2 3 4 5]\n"
          ]
        }
      ]
    },
    {
      "cell_type": "code",
      "source": [
        "#create a 3-D array with two 2-D arrays, both containing two arrays with the values 1,2,3,4,5\n",
        "arr = np.array([[[1,2,3],[4,5,6]],[[1,2,3],[4,5,6]]])\n",
        "print(arr)"
      ],
      "metadata": {
        "colab": {
          "base_uri": "https://localhost:8080/"
        },
        "id": "EirCEXSUYI88",
        "outputId": "c1fe0fbc-05e0-4920-8ebe-961003eb930a"
      },
      "execution_count": 6,
      "outputs": [
        {
          "output_type": "stream",
          "name": "stdout",
          "text": [
            "[[[1 2 3]\n",
            "  [4 5 6]]\n",
            "\n",
            " [[1 2 3]\n",
            "  [4 5 6]]]\n"
          ]
        }
      ]
    },
    {
      "cell_type": "code",
      "source": [
        "#Numpy Array provides the ndim attribute that returns an integer that tells us how many dimemnsions\n",
        "a = np.array(42)\n",
        "b = np.array([1,2,3,4,5])\n",
        "c = np.array([[1,2,3],[4,5,6]])\n",
        "d = np.array([[[1,2,3],[4,5,6]],[[1,2,3],[4,5,6]]])\n",
        "\n",
        "print(a.ndim)\n",
        "print(b.ndim)\n",
        "print(c.ndim)\n",
        "print(d.ndim)"
      ],
      "metadata": {
        "colab": {
          "base_uri": "https://localhost:8080/"
        },
        "id": "ZiyOwJyFYoH5",
        "outputId": "d8608e47-d1c8-4ff1-f1cc-129e9b0b3745"
      },
      "execution_count": 7,
      "outputs": [
        {
          "output_type": "stream",
          "name": "stdout",
          "text": [
            "0\n",
            "1\n",
            "2\n",
            "3\n"
          ]
        }
      ]
    },
    {
      "cell_type": "code",
      "source": [
        "#create an array with  dimensions and verify that it has 5 dimensions:\n",
        "arr = np.array([1,2,3,4], ndmin=5)\n",
        "print(arr)\n",
        "print('number of dimensions:', arr.ndim)"
      ],
      "metadata": {
        "colab": {
          "base_uri": "https://localhost:8080/"
        },
        "id": "qmo0TFr4Zdlg",
        "outputId": "8d227abe-02cf-4912-8551-85fd537e244b"
      },
      "execution_count": 9,
      "outputs": [
        {
          "output_type": "stream",
          "name": "stdout",
          "text": [
            "[[[[[1 2 3 4]]]]]\n",
            "number of dimensions: 5\n"
          ]
        }
      ]
    },
    {
      "cell_type": "code",
      "source": [
        "#access array element using indexing\n",
        "arr = np.array([1,2,3,4])\n",
        "print(arr[1])\n",
        "\n",
        "print(arr[2] + arr[3])  #add two element in array using indexing"
      ],
      "metadata": {
        "colab": {
          "base_uri": "https://localhost:8080/"
        },
        "id": "-gYAarqbZ49K",
        "outputId": "6c57cc22-c4dd-4369-d07c-dfd3b11c1458"
      },
      "execution_count": 10,
      "outputs": [
        {
          "output_type": "stream",
          "name": "stdout",
          "text": [
            "2\n",
            "7\n"
          ]
        }
      ]
    },
    {
      "cell_type": "code",
      "source": [
        "#accessing of 2D-array element\n",
        "arr = np.array([[1,2,3,4,5],[6,7,8,9,10]])\n",
        "print('2nd element on 1st row:', arr[0,1])\n",
        "print('5th element on 2nd row:', arr[1,4])"
      ],
      "metadata": {
        "colab": {
          "base_uri": "https://localhost:8080/"
        },
        "id": "-EdA696TaRNA",
        "outputId": "79ebfe6e-b5ed-4aeb-d66c-a060e756ab96"
      },
      "execution_count": 11,
      "outputs": [
        {
          "output_type": "stream",
          "name": "stdout",
          "text": [
            "2nd element on 1st row: 2\n",
            "5th element on 2nd row: 10\n"
          ]
        }
      ]
    },
    {
      "cell_type": "code",
      "source": [
        "#Access 3-D arrays \n",
        "arr = np.array([[[1,2,3],[4,5,6]],[[7,8,9],[10,11,12]]])\n",
        "print(arr[0,1,2]) # Access the third element of the second array of the first array:"
      ],
      "metadata": {
        "colab": {
          "base_uri": "https://localhost:8080/"
        },
        "id": "nnsc-twNax4I",
        "outputId": "39cdecf1-bd75-4118-c0b3-ed52131e1828"
      },
      "execution_count": 12,
      "outputs": [
        {
          "output_type": "stream",
          "name": "stdout",
          "text": [
            "6\n"
          ]
        }
      ]
    },
    {
      "cell_type": "code",
      "source": [
        "arr = np.array([[1,2,3,4,5], [6,7,8,9,10]])\n",
        "print('last element from 2nd dim:', arr[1, -1])"
      ],
      "metadata": {
        "colab": {
          "base_uri": "https://localhost:8080/"
        },
        "id": "E2oQwkoqbLIs",
        "outputId": "2daa013c-36d2-40b2-aca0-82b7acbc8e9b"
      },
      "execution_count": 13,
      "outputs": [
        {
          "output_type": "stream",
          "name": "stdout",
          "text": [
            "last element from 2nd dim: 10\n"
          ]
        }
      ]
    },
    {
      "cell_type": "markdown",
      "source": [
        "# **Slicing arrays**\n",
        "\n",
        "slicing in python means taking elements from one given index to another given index.\n",
        "\n",
        "we pass slice instead of index like this:[ start:end].\n",
        "\n",
        "we can also define the step, like this :[start:end:step].\n",
        "\n",
        "if we don't pass start its considered 0\n",
        "\n",
        "if we don't pass end its considered length of array in that dimension\n",
        "\n",
        "if we don't pass step its considered 1"
      ],
      "metadata": {
        "id": "7D5mflkYbmJK"
      }
    },
    {
      "cell_type": "code",
      "source": [
        "import numpy as np\n",
        "arr = np.array([1,2,3,4,5,6,7])\n",
        "\n",
        "print(arr[1:5])\n",
        "print(arr[2:4])\n",
        "print(arr[4:])\n",
        "print(arr[:4])\n",
        "print(arr[-3:-1])\n",
        "print(arr[1:5:3])\n",
        "print(arr[::2])\n",
        "print(arr[-1:3])\n",
        "print(arr[::-2])\n",
        "print(arr[2::])\n",
        "print(arr[-2:3:1])\n",
        "print(arr[3:])\n"
      ],
      "metadata": {
        "colab": {
          "base_uri": "https://localhost:8080/"
        },
        "id": "bE02rJl1bkRz",
        "outputId": "d70dee52-8810-460e-ade1-eb3525711b72"
      },
      "execution_count": 14,
      "outputs": [
        {
          "output_type": "stream",
          "name": "stdout",
          "text": [
            "[2 3 4 5]\n",
            "[3 4]\n",
            "[5 6 7]\n",
            "[1 2 3 4]\n",
            "[5 6]\n",
            "[2 5]\n",
            "[1 3 5 7]\n",
            "[]\n",
            "[7 5 3 1]\n",
            "[3 4 5 6 7]\n",
            "[]\n",
            "[4 5 6 7]\n"
          ]
        }
      ]
    },
    {
      "cell_type": "code",
      "source": [
        "#slicing 2-D arrays\n",
        "arr = np.array([[1,2,3,4,5],[6,7,8,9,10]])\n",
        "print(arr[1,1:4])\n",
        "print(arr[0, 0:6])\n",
        "print(arr[0:2 , 2])\n",
        "print(arr[0:2, 1:4])\n"
      ],
      "metadata": {
        "colab": {
          "base_uri": "https://localhost:8080/"
        },
        "id": "g3tZ07p3dAyM",
        "outputId": "ba24ac6b-2716-4f68-d5b3-2a700adc1e39"
      },
      "execution_count": 15,
      "outputs": [
        {
          "output_type": "stream",
          "name": "stdout",
          "text": [
            "[7 8 9]\n",
            "[1 2 3 4 5]\n",
            "[3 8]\n",
            "[[2 3 4]\n",
            " [7 8 9]]\n"
          ]
        }
      ]
    },
    {
      "cell_type": "markdown",
      "source": [
        "# **Data Types in NumPy**\n",
        "\n",
        "NumPy has some extra data types, and refer to data types with one character, like i for integers, u for unsign integers etc.\n",
        "\n",
        "below is a list of all data types in NumPy and the characters used to represent them.\n",
        "\n",
        "i-integer b-boolean u- unsigned integer f- float c-complex float m-timedelta M-datetime O- object S-string U-unicode string V- fixed chunk of memory for other type (void)"
      ],
      "metadata": {
        "id": "Ip15gXl2de0W"
      }
    },
    {
      "cell_type": "code",
      "source": [
        ""
      ],
      "metadata": {
        "id": "po6TNlO9dcU7"
      },
      "execution_count": null,
      "outputs": []
    }
  ]
}