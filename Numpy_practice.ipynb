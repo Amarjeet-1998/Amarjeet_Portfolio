{
  "nbformat": 4,
  "nbformat_minor": 0,
  "metadata": {
    "colab": {
      "name": "Numpy_practice.ipynb",
      "provenance": [],
      "authorship_tag": "ABX9TyNR/d0XzL9a9qtH8++GdH6n",
      "include_colab_link": true
    },
    "kernelspec": {
      "name": "python3",
      "display_name": "Python 3"
    },
    "language_info": {
      "name": "python"
    }
  },
  "cells": [
    {
      "cell_type": "markdown",
      "metadata": {
        "id": "view-in-github",
        "colab_type": "text"
      },
      "source": [
        "<a href=\"https://colab.research.google.com/github/Amarjeet-1998/Amarjeet_Portfolio/blob/main/Numpy_practice.ipynb\" target=\"_parent\"><img src=\"https://colab.research.google.com/assets/colab-badge.svg\" alt=\"Open In Colab\"/></a>"
      ]
    },
    {
      "cell_type": "markdown",
      "source": [
        "# **What is NumPy?**\n",
        "\n",
        "NumPy is a Python library used for working with arrays. it also has functions for working in domain of linear algebra, fourier transform, and the matrices. NumPy was created in 2005 by Travis Oliphant. It is an open sources project and you can use it freely. NumPy stands for Numerical Python.\n",
        "\n",
        "\n",
        "\n",
        "# **Why Use NumPy?**\n",
        "\n",
        "In python we have lists that serve the purpose of arrays, but they are slow to process. NumPy aims to provide an array object that is up to 50x faster than traditional python lists. The array object in NumPy is called ndarray, it provides a lot of supporting functions that make working with ndarray very easy. Arrays are very frequently used in data science, where speed and resources are very important.\n",
        "\n",
        "\n",
        "# **Why is NumPy Faster than Lists?**\n",
        "\n",
        "\n",
        "NumPy array are stored at one continuous place in memory unlike lists, so processes can access and manipulate them very efficiently.\n",
        "\n",
        "This behaviour is called locality of reference in computer science.\n",
        "\n",
        "This is the main reason why NumPy is faster than lists. also it is optimized to work with latest CPU architectures.\n",
        "\n",
        "\n",
        "# **Which Language is NumPy written in?** \n",
        "\n",
        "NumPy is a python library and is written partially in python, but most of the parts that require fast computation are written in C or C++."
      ],
      "metadata": {
        "id": "tZRV_wbYRfVP"
      }
    },
    {
      "cell_type": "code",
      "execution_count": 1,
      "metadata": {
        "colab": {
          "base_uri": "https://localhost:8080/"
        },
        "id": "Sn_bofPxQx1a",
        "outputId": "24901172-49ca-4cb7-cf46-014de40b4783"
      },
      "outputs": [
        {
          "output_type": "stream",
          "name": "stdout",
          "text": [
            "[1 2 3 4 5]\n",
            "<class 'numpy.ndarray'>\n"
          ]
        }
      ],
      "source": [
        "'''To create an ndarray, we can pass a list, tuple or any array-like object into the array method, and it will be converted into an ndarray:'''\n",
        "\n",
        "import numpy as np\n",
        "arr = np.array([1,2,3,4,5]) #creating array\n",
        "print(arr)\n",
        "print(type(arr))     # check type of arr"
      ]
    },
    {
      "cell_type": "code",
      "source": [
        "import numpy as np\n",
        "print(np.__version__) # check numpy version"
      ],
      "metadata": {
        "colab": {
          "base_uri": "https://localhost:8080/"
        },
        "id": "iubQGW_tXHC2",
        "outputId": "a6633746-aba0-43bf-b0c6-7961911bfaf1"
      },
      "execution_count": 2,
      "outputs": [
        {
          "output_type": "stream",
          "name": "stdout",
          "text": [
            "1.21.6\n"
          ]
        }
      ]
    },
    {
      "cell_type": "code",
      "source": [
        "#use tuple to create numpy array\n",
        "import numpy as np\n",
        "arr = np.array((1,2,3,4,5))\n",
        "print(arr)"
      ],
      "metadata": {
        "colab": {
          "base_uri": "https://localhost:8080/"
        },
        "id": "vJ2gMs8FXTJy",
        "outputId": "455e8789-7b53-4055-c320-797d6326dd04"
      },
      "execution_count": 3,
      "outputs": [
        {
          "output_type": "stream",
          "name": "stdout",
          "text": [
            "[1 2 3 4 5]\n"
          ]
        }
      ]
    },
    {
      "cell_type": "code",
      "source": [
        "# create a 2-D array containing the values 1,2,3,4,5 and  6,7,8,9:\n",
        "arr = np.array([[1,2,3,4,5],[5,6,7,8,9]])\n",
        "print(arr)"
      ],
      "metadata": {
        "colab": {
          "base_uri": "https://localhost:8080/"
        },
        "id": "OSHHuWlhXkYk",
        "outputId": "ca191a37-2415-47a1-cd1a-e349512f5644"
      },
      "execution_count": 4,
      "outputs": [
        {
          "output_type": "stream",
          "name": "stdout",
          "text": [
            "[[1 2 3 4 5]\n",
            " [5 6 7 8 9]]\n"
          ]
        }
      ]
    },
    {
      "cell_type": "code",
      "source": [
        "#create a 1-D array containing the values 1,2,3,4,5:\n",
        "arr = np.array([1,2,3,4,5])\n",
        "print(arr)"
      ],
      "metadata": {
        "colab": {
          "base_uri": "https://localhost:8080/"
        },
        "id": "i_d2QVKGX7e1",
        "outputId": "364a0a6f-6bbe-4cda-b086-32652a2206d1"
      },
      "execution_count": 5,
      "outputs": [
        {
          "output_type": "stream",
          "name": "stdout",
          "text": [
            "[1 2 3 4 5]\n"
          ]
        }
      ]
    },
    {
      "cell_type": "code",
      "source": [
        "#create a 3-D array with two 2-D arrays, both containing two arrays with the values 1,2,3,4,5\n",
        "arr = np.array([[[1,2,3],[4,5,6]],[[1,2,3],[4,5,6]]])\n",
        "print(arr)"
      ],
      "metadata": {
        "colab": {
          "base_uri": "https://localhost:8080/"
        },
        "id": "EirCEXSUYI88",
        "outputId": "9f7e732b-5c43-468f-ddd8-22a275df7878"
      },
      "execution_count": 6,
      "outputs": [
        {
          "output_type": "stream",
          "name": "stdout",
          "text": [
            "[[[1 2 3]\n",
            "  [4 5 6]]\n",
            "\n",
            " [[1 2 3]\n",
            "  [4 5 6]]]\n"
          ]
        }
      ]
    },
    {
      "cell_type": "code",
      "source": [
        "#Numpy Array provides the ndim attribute that returns an integer that tells us how many dimemnsions\n",
        "a = np.array(42)\n",
        "b = np.array([1,2,3,4,5])\n",
        "c = np.array([[1,2,3],[4,5,6]])\n",
        "d = np.array([[[1,2,3],[4,5,6]],[[1,2,3],[4,5,6]]])\n",
        "\n",
        "print(a.ndim)\n",
        "print(b.ndim)\n",
        "print(c.ndim)\n",
        "print(d.ndim)"
      ],
      "metadata": {
        "colab": {
          "base_uri": "https://localhost:8080/"
        },
        "id": "ZiyOwJyFYoH5",
        "outputId": "3e1a8bcc-15f7-43df-c3a2-5e29b6b6a1f0"
      },
      "execution_count": 7,
      "outputs": [
        {
          "output_type": "stream",
          "name": "stdout",
          "text": [
            "0\n",
            "1\n",
            "2\n",
            "3\n"
          ]
        }
      ]
    },
    {
      "cell_type": "code",
      "source": [
        "#create an array with  dimensions and verify that it has 5 dimensions:\n",
        "arr = np.array([1,2,3,4], ndmin=5)\n",
        "print(arr)\n",
        "print('number of dimensions:', arr.ndim)"
      ],
      "metadata": {
        "colab": {
          "base_uri": "https://localhost:8080/"
        },
        "id": "qmo0TFr4Zdlg",
        "outputId": "37b9b613-76c3-4ac9-e7b4-16e2c0177c87"
      },
      "execution_count": 8,
      "outputs": [
        {
          "output_type": "stream",
          "name": "stdout",
          "text": [
            "[[[[[1 2 3 4]]]]]\n",
            "number of dimensions: 5\n"
          ]
        }
      ]
    },
    {
      "cell_type": "code",
      "source": [
        "#access array element using indexing\n",
        "arr = np.array([1,2,3,4])\n",
        "print(arr[1])\n",
        "\n",
        "print(arr[2] + arr[3])  #add two element in array using indexing"
      ],
      "metadata": {
        "colab": {
          "base_uri": "https://localhost:8080/"
        },
        "id": "-gYAarqbZ49K",
        "outputId": "52711e3c-5073-464b-ddfe-75a6c36df0b5"
      },
      "execution_count": 9,
      "outputs": [
        {
          "output_type": "stream",
          "name": "stdout",
          "text": [
            "2\n",
            "7\n"
          ]
        }
      ]
    },
    {
      "cell_type": "code",
      "source": [
        "#accessing of 2D-array element\n",
        "arr = np.array([[1,2,3,4,5],[6,7,8,9,10]])\n",
        "print('2nd element on 1st row:', arr[0,1])\n",
        "print('5th element on 2nd row:', arr[1,4])"
      ],
      "metadata": {
        "colab": {
          "base_uri": "https://localhost:8080/"
        },
        "id": "-EdA696TaRNA",
        "outputId": "e4c1cf80-d827-4558-a633-585f8fb01cda"
      },
      "execution_count": 10,
      "outputs": [
        {
          "output_type": "stream",
          "name": "stdout",
          "text": [
            "2nd element on 1st row: 2\n",
            "5th element on 2nd row: 10\n"
          ]
        }
      ]
    },
    {
      "cell_type": "code",
      "source": [
        "#Access 3-D arrays \n",
        "arr = np.array([[[1,2,3],[4,5,6]],[[7,8,9],[10,11,12]]])\n",
        "print(arr[0,1,2]) # Access the third element of the second array of the first array:"
      ],
      "metadata": {
        "colab": {
          "base_uri": "https://localhost:8080/"
        },
        "id": "nnsc-twNax4I",
        "outputId": "edb3d769-94b2-4ab7-8f05-1fb2a79e954f"
      },
      "execution_count": 11,
      "outputs": [
        {
          "output_type": "stream",
          "name": "stdout",
          "text": [
            "6\n"
          ]
        }
      ]
    },
    {
      "cell_type": "code",
      "source": [
        "arr = np.array([[1,2,3,4,5], [6,7,8,9,10]])\n",
        "print('last element from 2nd dim:', arr[1, -1])"
      ],
      "metadata": {
        "colab": {
          "base_uri": "https://localhost:8080/"
        },
        "id": "E2oQwkoqbLIs",
        "outputId": "643a410a-6acb-4620-ba99-c14ef8dbdef3"
      },
      "execution_count": 12,
      "outputs": [
        {
          "output_type": "stream",
          "name": "stdout",
          "text": [
            "last element from 2nd dim: 10\n"
          ]
        }
      ]
    },
    {
      "cell_type": "markdown",
      "source": [
        "# **Slicing arrays**\n",
        "\n",
        "slicing in python means taking elements from one given index to another given index.\n",
        "\n",
        "we pass slice instead of index like this:[ start:end].\n",
        "\n",
        "we can also define the step, like this :[start:end:step].\n",
        "\n",
        "if we don't pass start its considered 0\n",
        "\n",
        "if we don't pass end its considered length of array in that dimension\n",
        "\n",
        "if we don't pass step its considered 1"
      ],
      "metadata": {
        "id": "7D5mflkYbmJK"
      }
    },
    {
      "cell_type": "code",
      "source": [
        "import numpy as np\n",
        "arr = np.array([1,2,3,4,5,6,7])\n",
        "\n",
        "print(arr[1:5])\n",
        "print(arr[2:4])\n",
        "print(arr[4:])\n",
        "print(arr[:4])\n",
        "print(arr[-3:-1])\n",
        "print(arr[1:5:3])\n",
        "print(arr[::2])\n",
        "print(arr[-1:3])\n",
        "print(arr[::-2])\n",
        "print(arr[2::])\n",
        "print(arr[-2:3:1])\n",
        "print(arr[3:])\n"
      ],
      "metadata": {
        "colab": {
          "base_uri": "https://localhost:8080/"
        },
        "id": "bE02rJl1bkRz",
        "outputId": "cbb4d0a7-d1f5-4568-93ab-862e7132e8ad"
      },
      "execution_count": 13,
      "outputs": [
        {
          "output_type": "stream",
          "name": "stdout",
          "text": [
            "[2 3 4 5]\n",
            "[3 4]\n",
            "[5 6 7]\n",
            "[1 2 3 4]\n",
            "[5 6]\n",
            "[2 5]\n",
            "[1 3 5 7]\n",
            "[]\n",
            "[7 5 3 1]\n",
            "[3 4 5 6 7]\n",
            "[]\n",
            "[4 5 6 7]\n"
          ]
        }
      ]
    },
    {
      "cell_type": "code",
      "source": [
        "#slicing 2-D arrays\n",
        "arr = np.array([[1,2,3,4,5],[6,7,8,9,10]])\n",
        "print(arr[1,1:4])\n",
        "print(arr[0, 0:6])\n",
        "print(arr[0:2 , 2])\n",
        "print(arr[0:2, 1:4])\n"
      ],
      "metadata": {
        "colab": {
          "base_uri": "https://localhost:8080/"
        },
        "id": "g3tZ07p3dAyM",
        "outputId": "668586f8-b75d-4738-a3b0-69e027a9155c"
      },
      "execution_count": 14,
      "outputs": [
        {
          "output_type": "stream",
          "name": "stdout",
          "text": [
            "[7 8 9]\n",
            "[1 2 3 4 5]\n",
            "[3 8]\n",
            "[[2 3 4]\n",
            " [7 8 9]]\n"
          ]
        }
      ]
    },
    {
      "cell_type": "markdown",
      "source": [
        "# **Data Types in NumPy**\n",
        "\n",
        "NumPy has some extra data types, and refer to data types with one character, like i for integers, u for unsign integers etc.\n",
        "\n",
        "below is a list of all data types in NumPy and the characters used to represent them.\n",
        "\n",
        "i-integer b-boolean u- unsigned integer f- float c-complex float m-timedelta M-datetime O- object S-string U-unicode string V- fixed chunk of memory for other type (void)"
      ],
      "metadata": {
        "id": "Ip15gXl2de0W"
      }
    },
    {
      "cell_type": "code",
      "source": [
        "arr = np.array(['apple','banana','cherry'])\n",
        "print(arr.dtype)\n",
        "\n",
        "arr = np.array([1,2,3,4])\n",
        "print(arr.dtype)"
      ],
      "metadata": {
        "id": "po6TNlO9dcU7",
        "colab": {
          "base_uri": "https://localhost:8080/"
        },
        "outputId": "3934f45f-312e-4a8f-ac71-74c59e92830c"
      },
      "execution_count": 15,
      "outputs": [
        {
          "output_type": "stream",
          "name": "stdout",
          "text": [
            "<U6\n",
            "int64\n"
          ]
        }
      ]
    },
    {
      "cell_type": "code",
      "source": [
        "#create a array with data type string\n",
        "arr = np.array([1,2,3,4])\n",
        "print(arr.dtype)"
      ],
      "metadata": {
        "colab": {
          "base_uri": "https://localhost:8080/"
        },
        "id": "wvgrmvmj_Lx5",
        "outputId": "6b1ee8b4-7ee8-48b2-a4fd-558a5611d587"
      },
      "execution_count": 16,
      "outputs": [
        {
          "output_type": "stream",
          "name": "stdout",
          "text": [
            "int64\n"
          ]
        }
      ]
    },
    {
      "cell_type": "code",
      "source": [
        "#create a array with data type string\n",
        "arr = np.array([1,2,3,4], dtype ='S')\n",
        "print(arr)\n",
        "print(arr.dtype)"
      ],
      "metadata": {
        "colab": {
          "base_uri": "https://localhost:8080/"
        },
        "id": "4KoVCRsk_rZB",
        "outputId": "1a455892-dd29-482a-89b0-0edf73a43c82"
      },
      "execution_count": 17,
      "outputs": [
        {
          "output_type": "stream",
          "name": "stdout",
          "text": [
            "[b'1' b'2' b'3' b'4']\n",
            "|S1\n"
          ]
        }
      ]
    },
    {
      "cell_type": "code",
      "source": [
        "#create an array with data type 4 bytes integer:\n",
        "arr = np.array([1,2,3,4], dtype='i4')\n",
        "print(arr)\n",
        "print(arr.dtype)"
      ],
      "metadata": {
        "colab": {
          "base_uri": "https://localhost:8080/"
        },
        "id": "Z68zcSun__Gr",
        "outputId": "dc13b844-ea9f-4c65-b287-d75ada19ad48"
      },
      "execution_count": 18,
      "outputs": [
        {
          "output_type": "stream",
          "name": "stdout",
          "text": [
            "[1 2 3 4]\n",
            "int32\n"
          ]
        }
      ]
    },
    {
      "cell_type": "markdown",
      "source": [
        "# **Converting Data Type on Existing Arrays**\n",
        "\n",
        "\n",
        "The best way to change the data type of an existing array, is to make a copy of the array with the astype() method.\n",
        "\n",
        "The astype()function creates a copy of the array, and allows you to specify the data type as a parameter. \n",
        "\n",
        "the data type can be specified using a string, like 'f' for float, 'i'for integer etc. or you can use the data type directly like float for float and int for integer."
      ],
      "metadata": {
        "id": "TEi8piBFAWnh"
      }
    },
    {
      "cell_type": "code",
      "source": [
        "# change data type float into integer\n",
        "arr = np.array([1.1, 2.1, 3.1])\n",
        "print(arr.dtype)\n",
        "newarr = arr.astype('int')\n",
        "print(newarr)\n",
        "print(newarr.dtype)"
      ],
      "metadata": {
        "colab": {
          "base_uri": "https://localhost:8080/"
        },
        "id": "PiDEPUmWAM0i",
        "outputId": "f48188f8-6f3e-40b6-fda1-d73847dc2b2e"
      },
      "execution_count": 19,
      "outputs": [
        {
          "output_type": "stream",
          "name": "stdout",
          "text": [
            "float64\n",
            "[1 2 3]\n",
            "int64\n"
          ]
        }
      ]
    },
    {
      "cell_type": "markdown",
      "source": [
        "# **The Difference Between copy and view**\n",
        "\n",
        "The main difference between a copy and a view of an array is that the copy is a new array, and the view is just a view of the original array.\n",
        "\n",
        "The copy owns the data and any changes made to the copy will not affect original array, and any changes made to the original array will not affect the copy.\n",
        "\n",
        "The view does not own that data and any changes made to the view will affect the original array, and any changes made to the original array will affect the view."
      ],
      "metadata": {
        "id": "tZ6nKtpeBnoE"
      }
    },
    {
      "cell_type": "code",
      "source": [
        "arr = np.array([1,2,3,4,5])\n",
        "x = arr.copy()\n",
        "arr[0] = 42\n",
        "\n",
        "print(arr)\n",
        "print(x)"
      ],
      "metadata": {
        "colab": {
          "base_uri": "https://localhost:8080/"
        },
        "id": "DW6VZLPiBkyY",
        "outputId": "54592332-d75a-4a65-d661-52ee61e18472"
      },
      "execution_count": 20,
      "outputs": [
        {
          "output_type": "stream",
          "name": "stdout",
          "text": [
            "[42  2  3  4  5]\n",
            "[1 2 3 4 5]\n"
          ]
        }
      ]
    },
    {
      "cell_type": "code",
      "source": [
        "arr = np.array([1,2,3,4,5])\n",
        "x = arr.view()\n",
        "arr[0] = 42\n",
        "\n",
        "print(arr)\n",
        "print(x)"
      ],
      "metadata": {
        "colab": {
          "base_uri": "https://localhost:8080/"
        },
        "id": "0tc5jxAcDKUN",
        "outputId": "f7c8ae9d-d1af-4253-daa2-1f0ed08c8cba"
      },
      "execution_count": 21,
      "outputs": [
        {
          "output_type": "stream",
          "name": "stdout",
          "text": [
            "[42  2  3  4  5]\n",
            "[42  2  3  4  5]\n"
          ]
        }
      ]
    },
    {
      "cell_type": "markdown",
      "source": [
        "# **Get the shape of an Array**\n",
        "\n",
        "NumPy arrays have an attribute called shape that returns a tuple with each index having the number of corresponding elements."
      ],
      "metadata": {
        "id": "8TeNJ8abDwdk"
      }
    },
    {
      "cell_type": "code",
      "source": [
        "arr = np.array([[1,2,3,4],[5,6,7,8]])\n",
        "print(arr.shape)"
      ],
      "metadata": {
        "colab": {
          "base_uri": "https://localhost:8080/"
        },
        "id": "BMzoltMvDmER",
        "outputId": "5c255982-837d-4bf1-84eb-a8d74da335fa"
      },
      "execution_count": 23,
      "outputs": [
        {
          "output_type": "stream",
          "name": "stdout",
          "text": [
            "(2, 4)\n"
          ]
        }
      ]
    },
    {
      "cell_type": "markdown",
      "source": [
        "# **Reshaping arrays**\n",
        "\n",
        "Reshaping means changing the shape of an array.\n",
        "\n",
        "The shape of an array is the number of elements in each dimension.\n",
        "\n",
        "By reshaping we can add or remove dimensions or change number of elements in each dimension."
      ],
      "metadata": {
        "id": "Qq5EM17gEtOh"
      }
    },
    {
      "cell_type": "code",
      "source": [
        "'''Convert the following 1-D array with elements into a 3-D array.\n",
        "The outermost dimension will have 2 arrays that contains 3 arrays, each with 2 elements'''\n",
        "\n",
        "arr = np.array([1,2,3,4,5,6,7,8,9,10,11,12])\n",
        "newarr = arr.reshape(2,3,2)\n",
        "print(newarr)"
      ],
      "metadata": {
        "colab": {
          "base_uri": "https://localhost:8080/"
        },
        "id": "HzMF5PssEYDH",
        "outputId": "794fafae-f2c8-4de5-acf1-e869f994b17c"
      },
      "execution_count": 24,
      "outputs": [
        {
          "output_type": "stream",
          "name": "stdout",
          "text": [
            "[[[ 1  2]\n",
            "  [ 3  4]\n",
            "  [ 5  6]]\n",
            "\n",
            " [[ 7  8]\n",
            "  [ 9 10]\n",
            "  [11 12]]]\n"
          ]
        }
      ]
    },
    {
      "cell_type": "markdown",
      "source": [
        "# **Iterating Arrays**\n",
        "\n",
        "Iterating means going through elements one by one.\n",
        "\n",
        "AS we deal with multi-dimensional arrays in numpy, we can do this using basic for loop of python.\n",
        "\n",
        "if we iterate on a 1-D array it will go through each element one by one.\n"
      ],
      "metadata": {
        "id": "70rXix1YGEpK"
      }
    },
    {
      "cell_type": "code",
      "source": [
        "arr = np.array([1,2,3])\n",
        "\n",
        "for x in arr:\n",
        "  print(x)"
      ],
      "metadata": {
        "colab": {
          "base_uri": "https://localhost:8080/"
        },
        "id": "K0vfX3kCF6F7",
        "outputId": "19075bfe-111a-4f21-b0f9-7dc869d308fd"
      },
      "execution_count": 25,
      "outputs": [
        {
          "output_type": "stream",
          "name": "stdout",
          "text": [
            "1\n",
            "2\n",
            "3\n"
          ]
        }
      ]
    },
    {
      "cell_type": "code",
      "source": [
        "arr = np.array([[1,2,3],[4,5,6]])\n",
        "\n",
        "for x in arr:\n",
        "  print(x)"
      ],
      "metadata": {
        "colab": {
          "base_uri": "https://localhost:8080/"
        },
        "id": "OXFUul0xGnxN",
        "outputId": "bd957d9e-4758-4b03-d70e-579f06b2c92c"
      },
      "execution_count": 26,
      "outputs": [
        {
          "output_type": "stream",
          "name": "stdout",
          "text": [
            "[1 2 3]\n",
            "[4 5 6]\n"
          ]
        }
      ]
    },
    {
      "cell_type": "code",
      "source": [
        "arr = np.array([[1,2,3],[4,5,6],[3,4,5]])\n",
        "\n",
        "for x in arr:\n",
        "  print(x)"
      ],
      "metadata": {
        "colab": {
          "base_uri": "https://localhost:8080/"
        },
        "id": "ciE-nLFGG1a7",
        "outputId": "c7f4e957-f063-40fd-e492-5b657755da4b"
      },
      "execution_count": 27,
      "outputs": [
        {
          "output_type": "stream",
          "name": "stdout",
          "text": [
            "[1 2 3]\n",
            "[4 5 6]\n",
            "[3 4 5]\n"
          ]
        }
      ]
    },
    {
      "cell_type": "code",
      "source": [
        "arr = np.array([[1,2,3],[4,5,6]])\n",
        "\n",
        "for x in arr:\n",
        "  for y in x:\n",
        "    print(y)"
      ],
      "metadata": {
        "colab": {
          "base_uri": "https://localhost:8080/"
        },
        "id": "EI1l_KwmG6qw",
        "outputId": "f4be1ff4-68d9-4dc8-97e5-d04066c51063"
      },
      "execution_count": 28,
      "outputs": [
        {
          "output_type": "stream",
          "name": "stdout",
          "text": [
            "1\n",
            "2\n",
            "3\n",
            "4\n",
            "5\n",
            "6\n"
          ]
        }
      ]
    },
    {
      "cell_type": "code",
      "source": [
        "arr = np.array([[[1,2,3],[4,5,6]],[[7,8,9],[10,11,12]]])\n",
        "\n",
        "for x in arr:\n",
        "  print(x)"
      ],
      "metadata": {
        "colab": {
          "base_uri": "https://localhost:8080/"
        },
        "id": "VOudXmjGHW4P",
        "outputId": "43e5a8dc-3b48-44f8-d59b-95e791b0aebd"
      },
      "execution_count": 29,
      "outputs": [
        {
          "output_type": "stream",
          "name": "stdout",
          "text": [
            "[[1 2 3]\n",
            " [4 5 6]]\n",
            "[[ 7  8  9]\n",
            " [10 11 12]]\n"
          ]
        }
      ]
    },
    {
      "cell_type": "code",
      "source": [
        "arr = np.array([[[1,2,3],[4,5,6]],[[7,8,9],[10,11,12]]])\n",
        "\n",
        "for x in arr:\n",
        "  for y in x:\n",
        "    for z in y:\n",
        "      print(z)"
      ],
      "metadata": {
        "colab": {
          "base_uri": "https://localhost:8080/"
        },
        "id": "RDESJu9kHkvX",
        "outputId": "358af5da-fc17-4b0b-f456-6d3f99e6d8e8"
      },
      "execution_count": 30,
      "outputs": [
        {
          "output_type": "stream",
          "name": "stdout",
          "text": [
            "1\n",
            "2\n",
            "3\n",
            "4\n",
            "5\n",
            "6\n",
            "7\n",
            "8\n",
            "9\n",
            "10\n",
            "11\n",
            "12\n"
          ]
        }
      ]
    },
    {
      "cell_type": "code",
      "source": [
        "#3-d array using nditer() method\n",
        "arr = np.array([[[1,2],[3,4]],[[5,6],[7,8]]])\n",
        "for x in np.nditer(arr):\n",
        "  print(x)"
      ],
      "metadata": {
        "colab": {
          "base_uri": "https://localhost:8080/"
        },
        "id": "QPoq-8HLIHGV",
        "outputId": "83b59002-dd3a-4344-a0af-9564c1860714"
      },
      "execution_count": 31,
      "outputs": [
        {
          "output_type": "stream",
          "name": "stdout",
          "text": [
            "1\n",
            "2\n",
            "3\n",
            "4\n",
            "5\n",
            "6\n",
            "7\n",
            "8\n"
          ]
        }
      ]
    },
    {
      "cell_type": "code",
      "source": [
        "# Iterate through every scalar element of the 2D array skipping 1 element:\n",
        "\n",
        "arr = np.array([[1,2,3,4],[5,6,7,8]])\n",
        "for x in np.nditer(arr[:, ::2]):\n",
        "  print(x)"
      ],
      "metadata": {
        "colab": {
          "base_uri": "https://localhost:8080/"
        },
        "id": "Fkl01XnGIktW",
        "outputId": "cb25dec8-5356-49ad-a742-c8d6adb03dcf"
      },
      "execution_count": 32,
      "outputs": [
        {
          "output_type": "stream",
          "name": "stdout",
          "text": [
            "1\n",
            "3\n",
            "5\n",
            "7\n"
          ]
        }
      ]
    },
    {
      "cell_type": "code",
      "source": [
        "#sometimes we require corresponding index of the element white iterating, the ndenumerator\n",
        "arr = np.array([1,2,3])\n",
        "for idx, x in np.ndenumerate(arr):\n",
        "  print(idx, x)"
      ],
      "metadata": {
        "colab": {
          "base_uri": "https://localhost:8080/"
        },
        "id": "_YPLWcnrI82S",
        "outputId": "c53f553e-486a-41ce-b081-ef75c37d6617"
      },
      "execution_count": 33,
      "outputs": [
        {
          "output_type": "stream",
          "name": "stdout",
          "text": [
            "(0,) 1\n",
            "(1,) 2\n",
            "(2,) 3\n"
          ]
        }
      ]
    },
    {
      "cell_type": "code",
      "source": [
        "#initializing numpy array with same number\n",
        "arr = np.full((2,2),10)\n",
        "print(arr)"
      ],
      "metadata": {
        "colab": {
          "base_uri": "https://localhost:8080/"
        },
        "id": "saKjxnjrJsJ5",
        "outputId": "bf189e9f-4065-4527-8030-f219248ce106"
      },
      "execution_count": 34,
      "outputs": [
        {
          "output_type": "stream",
          "name": "stdout",
          "text": [
            "[[10 10]\n",
            " [10 10]]\n"
          ]
        }
      ]
    },
    {
      "cell_type": "code",
      "source": [
        "#initializing numpy array within a range\n",
        "arr = np.arange(10,20)\n",
        "print(arr)"
      ],
      "metadata": {
        "colab": {
          "base_uri": "https://localhost:8080/"
        },
        "id": "PhPb7ho6J7fX",
        "outputId": "1ba7c89e-15a3-460f-ea72-cba53574385d"
      },
      "execution_count": 36,
      "outputs": [
        {
          "output_type": "stream",
          "name": "stdout",
          "text": [
            "[10 11 12 13 14 15 16 17 18 19]\n"
          ]
        }
      ]
    },
    {
      "cell_type": "code",
      "source": [
        "arr = np.random.randint(1,100,5)\n",
        "print(arr)"
      ],
      "metadata": {
        "colab": {
          "base_uri": "https://localhost:8080/"
        },
        "id": "TWUpdpIeKK_t",
        "outputId": "aac03d20-25f3-4618-d444-cb37dc1aeadb"
      },
      "execution_count": 37,
      "outputs": [
        {
          "output_type": "stream",
          "name": "stdout",
          "text": [
            "[53 45 50 52 47]\n"
          ]
        }
      ]
    },
    {
      "cell_type": "markdown",
      "source": [
        "# **Joining NumPy Arrays**\n",
        "\n",
        "Joining means putting contents of two or more arrays in a single array.\n",
        "\n",
        "In SQL we join tables based on a key whereas in NumPy we join arrays by axes.\n",
        "\n",
        "we pass a sequence of arrays that we want to join to the concatenate() function, along with axis. if axis is not explicity passed, it is taken as 0.\n"
      ],
      "metadata": {
        "id": "F2T2R9b8K9hy"
      }
    },
    {
      "cell_type": "code",
      "source": [
        "arr1 = np.array([1,2,3])\n",
        "arr2 = np.array([4,5,6])\n",
        "arr = np.concatenate((arr1,arr2))\n",
        "print(arr)"
      ],
      "metadata": {
        "colab": {
          "base_uri": "https://localhost:8080/"
        },
        "id": "qUcFGmHKK4ZH",
        "outputId": "70175b1c-26f5-4810-f06b-2145f8b5cde7"
      },
      "execution_count": 39,
      "outputs": [
        {
          "output_type": "stream",
          "name": "stdout",
          "text": [
            "[1 2 3 4 5 6]\n"
          ]
        }
      ]
    },
    {
      "cell_type": "code",
      "source": [
        "arr1 = np.array([[1,2],[3,4]])\n",
        "\n",
        "arr2 = np.array([[5,6],[7,8]])\n",
        "arr = np.concatenate((arr1,arr2), axis =1)\n",
        "print(arr)"
      ],
      "metadata": {
        "colab": {
          "base_uri": "https://localhost:8080/"
        },
        "id": "DTbeNy-EMXGH",
        "outputId": "9e4d75b3-33c6-4fe0-dee8-299049cc4b28"
      },
      "execution_count": 40,
      "outputs": [
        {
          "output_type": "stream",
          "name": "stdout",
          "text": [
            "[[1 2 5 6]\n",
            " [3 4 7 8]]\n"
          ]
        }
      ]
    },
    {
      "cell_type": "markdown",
      "source": [
        "# **Using Stack Function**"
      ],
      "metadata": {
        "id": "NM6K56lNNkD3"
      }
    },
    {
      "cell_type": "code",
      "source": [
        "import numpy as np\n",
        "\n",
        "arr1 = np.array([1,2,3])\n",
        "\n",
        "arr2 = np.array([4,5,6])\n",
        "\n",
        "arr = np.stack((arr1, arr2), axis=1)\n",
        "\n",
        "print(arr)"
      ],
      "metadata": {
        "colab": {
          "base_uri": "https://localhost:8080/"
        },
        "id": "SHtHzz9hNeF3",
        "outputId": "41013798-be8c-4db4-8dbd-24984d7c6919"
      },
      "execution_count": 42,
      "outputs": [
        {
          "output_type": "stream",
          "name": "stdout",
          "text": [
            "[[1 4]\n",
            " [2 5]\n",
            " [3 6]]\n"
          ]
        }
      ]
    },
    {
      "cell_type": "code",
      "source": [
        "\n",
        "arr1 = np.array([1,2,3])\n",
        "\n",
        "arr2 = np.array([4,5,6])\n",
        "\n",
        "arr = np.hstack((arr1, arr2))\n",
        "\n",
        "print(arr)"
      ],
      "metadata": {
        "colab": {
          "base_uri": "https://localhost:8080/"
        },
        "id": "AoMqfORBN58_",
        "outputId": "7d4c8d3b-0e8a-455d-9285-34723f9f6d76"
      },
      "execution_count": 43,
      "outputs": [
        {
          "output_type": "stream",
          "name": "stdout",
          "text": [
            "[1 2 3 4 5 6]\n"
          ]
        }
      ]
    },
    {
      "cell_type": "code",
      "source": [
        "arr1 = np.array([1,2,3])\n",
        "\n",
        "arr2 = np.array([4,5,6])\n",
        "\n",
        "arr = np.vstack((arr1, arr2))\n",
        "print(arr)"
      ],
      "metadata": {
        "colab": {
          "base_uri": "https://localhost:8080/"
        },
        "id": "LYu65UN1ONFW",
        "outputId": "308ccc83-5d5a-435e-bf6b-b481f2685cd4"
      },
      "execution_count": 44,
      "outputs": [
        {
          "output_type": "stream",
          "name": "stdout",
          "text": [
            "[[1 2 3]\n",
            " [4 5 6]]\n"
          ]
        }
      ]
    },
    {
      "cell_type": "code",
      "source": [
        "arr1 = np.array([1,2,3])\n",
        "arr2 = np.array([4,5,6])\n",
        "\n",
        "arr = np.dstack((arr1, arr2))\n",
        "print(arr)"
      ],
      "metadata": {
        "colab": {
          "base_uri": "https://localhost:8080/"
        },
        "id": "E13Xi2DDOWjc",
        "outputId": "8372a9e7-9e2e-4290-a7ec-447ca80e92c8"
      },
      "execution_count": 45,
      "outputs": [
        {
          "output_type": "stream",
          "name": "stdout",
          "text": [
            "[[[1 4]\n",
            "  [2 5]\n",
            "  [3 6]]]\n"
          ]
        }
      ]
    },
    {
      "cell_type": "markdown",
      "source": [
        "# **numpy intersection and difference**"
      ],
      "metadata": {
        "id": "uqh5zflsOnJ2"
      }
    },
    {
      "cell_type": "code",
      "source": [
        "arr1 = np.array([1,2,3,4,5])\n",
        "arr2 = np.array([3,4,5,6,8])\n",
        "\n",
        "np.intersect1d(arr1, arr2)"
      ],
      "metadata": {
        "colab": {
          "base_uri": "https://localhost:8080/"
        },
        "id": "Dj56ku17Oh4G",
        "outputId": "313bf9ed-faf4-4775-d42d-b2114b26f3d1"
      },
      "execution_count": 46,
      "outputs": [
        {
          "output_type": "execute_result",
          "data": {
            "text/plain": [
              "array([3, 4, 5])"
            ]
          },
          "metadata": {},
          "execution_count": 46
        }
      ]
    },
    {
      "cell_type": "code",
      "source": [
        "np.setdiff1d(arr1,arr2) # return unique element from arr1"
      ],
      "metadata": {
        "colab": {
          "base_uri": "https://localhost:8080/"
        },
        "id": "pCbB-mR5PDYj",
        "outputId": "15e8dfec-7083-4186-d904-a4fb07294bfc"
      },
      "execution_count": 47,
      "outputs": [
        {
          "output_type": "execute_result",
          "data": {
            "text/plain": [
              "array([1, 2])"
            ]
          },
          "metadata": {},
          "execution_count": 47
        }
      ]
    },
    {
      "cell_type": "code",
      "source": [
        "np.setdiff1d(arr2,arr1)   # return uniq element from arr2"
      ],
      "metadata": {
        "colab": {
          "base_uri": "https://localhost:8080/"
        },
        "id": "dkOXeNF5PPXp",
        "outputId": "7528ea51-b063-4056-f1cb-53efbd40262d"
      },
      "execution_count": 48,
      "outputs": [
        {
          "output_type": "execute_result",
          "data": {
            "text/plain": [
              "array([6, 8])"
            ]
          },
          "metadata": {},
          "execution_count": 48
        }
      ]
    },
    {
      "cell_type": "markdown",
      "source": [
        "# **Addition of numpy array**\n",
        "\n"
      ],
      "metadata": {
        "id": "ZZA6TjsHPmbL"
      }
    },
    {
      "cell_type": "code",
      "source": [
        "arr1 = np.array([1,2,3,4,5])\n",
        "arr2 = np.array([3,4,5,6,8])\n",
        "\n",
        "a = np.sum([arr1,arr2])\n",
        "print(a)"
      ],
      "metadata": {
        "colab": {
          "base_uri": "https://localhost:8080/"
        },
        "id": "mKEuH0eIPeB8",
        "outputId": "9e50fb6d-72f7-463e-9244-5e3355d0afcd"
      },
      "execution_count": 49,
      "outputs": [
        {
          "output_type": "stream",
          "name": "stdout",
          "text": [
            "41\n"
          ]
        }
      ]
    },
    {
      "cell_type": "code",
      "source": [
        "arr1 = np.array([1,2,3,4,5])\n",
        "arr2 = np.array([3,4,5,6,8])\n",
        "\n",
        "a = np.sum([arr1,arr2], axis=0)"
      ],
      "metadata": {
        "id": "q5CqvkfVP2oX"
      },
      "execution_count": 50,
      "outputs": []
    },
    {
      "cell_type": "code",
      "source": [
        "print(a)"
      ],
      "metadata": {
        "colab": {
          "base_uri": "https://localhost:8080/"
        },
        "id": "fL9azLKHQOfb",
        "outputId": "d44b64ae-0f11-4cb7-be78-a2be9447a847"
      },
      "execution_count": 51,
      "outputs": [
        {
          "output_type": "stream",
          "name": "stdout",
          "text": [
            "[ 4  6  8 10 13]\n"
          ]
        }
      ]
    },
    {
      "cell_type": "code",
      "source": [
        "arr1 = np.array([1,2,3,4,5])\n",
        "arr2 = np.array([3,4,5,6,8])\n",
        "\n",
        "a= np.sum([arr1,arr2], axis=1)\n",
        "print(a)"
      ],
      "metadata": {
        "colab": {
          "base_uri": "https://localhost:8080/"
        },
        "id": "DjtVkf2aQQab",
        "outputId": "f05e103b-92f2-4c64-bbeb-b31de30f3a47"
      },
      "execution_count": 52,
      "outputs": [
        {
          "output_type": "stream",
          "name": "stdout",
          "text": [
            "[15 26]\n"
          ]
        }
      ]
    },
    {
      "cell_type": "markdown",
      "source": [
        "# **numpy array mathematics**"
      ],
      "metadata": {
        "id": "QWjto9bDQcYH"
      }
    },
    {
      "cell_type": "code",
      "source": [
        "#basic Addition\n",
        "arr = np.array([10,20,30])\n",
        "arr = arr+1\n",
        "print(arr)"
      ],
      "metadata": {
        "colab": {
          "base_uri": "https://localhost:8080/"
        },
        "id": "bxXLTl0BQZXt",
        "outputId": "d55877b7-4668-44b1-a06d-179b831e2f48"
      },
      "execution_count": 53,
      "outputs": [
        {
          "output_type": "stream",
          "name": "stdout",
          "text": [
            "[11 21 31]\n"
          ]
        }
      ]
    },
    {
      "cell_type": "code",
      "source": [
        "#basic subtraction\n",
        "arr = np.array([10,20,30])\n",
        "arr = arr-1\n",
        "print(arr)"
      ],
      "metadata": {
        "colab": {
          "base_uri": "https://localhost:8080/"
        },
        "id": "2SdlMUvuQn6r",
        "outputId": "42363e1d-fd2f-4792-a403-91686cf55937"
      },
      "execution_count": 54,
      "outputs": [
        {
          "output_type": "stream",
          "name": "stdout",
          "text": [
            "[ 9 19 29]\n"
          ]
        }
      ]
    },
    {
      "cell_type": "code",
      "source": [
        "#basic multiplication\n",
        "arr = np.array([10,20,30])\n",
        "arr =arr*2\n",
        "print(arr)"
      ],
      "metadata": {
        "colab": {
          "base_uri": "https://localhost:8080/"
        },
        "id": "chkZcYb2Qy2Y",
        "outputId": "49c4fc8d-21d9-4087-a840-b8d84fe8426a"
      },
      "execution_count": 55,
      "outputs": [
        {
          "output_type": "stream",
          "name": "stdout",
          "text": [
            "[20 40 60]\n"
          ]
        }
      ]
    },
    {
      "cell_type": "code",
      "source": [
        "#basic division\n",
        "arr = np.array([10,20,30])\n",
        "arr = arr/2\n",
        "print(arr)"
      ],
      "metadata": {
        "colab": {
          "base_uri": "https://localhost:8080/"
        },
        "id": "J9Tt3F6CQ-80",
        "outputId": "aae2a332-57e6-484a-e590-d80e851455eb"
      },
      "execution_count": 56,
      "outputs": [
        {
          "output_type": "stream",
          "name": "stdout",
          "text": [
            "[ 5. 10. 15.]\n"
          ]
        }
      ]
    },
    {
      "cell_type": "code",
      "source": [
        "arr = np.array([10,20,30])\n",
        "np.mean(arr)"
      ],
      "metadata": {
        "colab": {
          "base_uri": "https://localhost:8080/"
        },
        "id": "IXUgO0ynRQRb",
        "outputId": "4a5533a0-aeac-44f5-e214-fc11b8c5663a"
      },
      "execution_count": 57,
      "outputs": [
        {
          "output_type": "execute_result",
          "data": {
            "text/plain": [
              "20.0"
            ]
          },
          "metadata": {},
          "execution_count": 57
        }
      ]
    },
    {
      "cell_type": "code",
      "source": [
        "arr = np.array([10,20,30])\n",
        "np.median(arr)\n"
      ],
      "metadata": {
        "colab": {
          "base_uri": "https://localhost:8080/"
        },
        "id": "piMa3FacRWJQ",
        "outputId": "6d57a23a-df29-4c55-9ba2-9d95ca81058d"
      },
      "execution_count": 58,
      "outputs": [
        {
          "output_type": "execute_result",
          "data": {
            "text/plain": [
              "20.0"
            ]
          },
          "metadata": {},
          "execution_count": 58
        }
      ]
    },
    {
      "cell_type": "code",
      "source": [
        "arr = np.array([10,20,30])\n",
        "np.std(arr)"
      ],
      "metadata": {
        "colab": {
          "base_uri": "https://localhost:8080/"
        },
        "id": "humse7hRRlbQ",
        "outputId": "5673ebde-0fe7-492c-c3b9-14e0ea24a57e"
      },
      "execution_count": 59,
      "outputs": [
        {
          "output_type": "execute_result",
          "data": {
            "text/plain": [
              "8.16496580927726"
            ]
          },
          "metadata": {},
          "execution_count": 59
        }
      ]
    },
    {
      "cell_type": "code",
      "source": [
        "np.save('myarray', arr)"
      ],
      "metadata": {
        "id": "_8ICRXa0Rrov"
      },
      "execution_count": 60,
      "outputs": []
    },
    {
      "cell_type": "code",
      "source": [
        "newarr = np.load('myarray.npy',)"
      ],
      "metadata": {
        "id": "k6iH0v4dR49c"
      },
      "execution_count": 61,
      "outputs": []
    },
    {
      "cell_type": "code",
      "source": [
        "print(newarr)"
      ],
      "metadata": {
        "colab": {
          "base_uri": "https://localhost:8080/"
        },
        "id": "Xsf1HZlASAlL",
        "outputId": "dc9fd04d-a5a9-468d-b70f-636eca618dfc"
      },
      "execution_count": 62,
      "outputs": [
        {
          "output_type": "stream",
          "name": "stdout",
          "text": [
            "[10 20 30]\n"
          ]
        }
      ]
    },
    {
      "cell_type": "markdown",
      "source": [
        "# **Splitting NumPy Arrays**\n",
        "\n",
        "Splitting is reverse operating of joining.\n",
        "\n",
        "joining merges multiple arrays into one and splitting breaks one array into multiple.\n",
        "\n",
        "we use array_split() for splitting arrays, we pass it the array we want to split and the number of splits"
      ],
      "metadata": {
        "id": "z1X40DFFSIKZ"
      }
    },
    {
      "cell_type": "code",
      "source": [
        "import numpy as np\n",
        "arr = np.array([1,2,3,4,5])\n",
        "new_arr = np.array_split(arr,3)\n",
        "print(new_arr)\n",
        "print(new_arr[0])\n",
        "print(new_arr[1])\n",
        "print(new_arr[2])"
      ],
      "metadata": {
        "colab": {
          "base_uri": "https://localhost:8080/"
        },
        "id": "2m8QMYzESFDn",
        "outputId": "93796817-7516-4959-e731-01be0136c032"
      },
      "execution_count": 63,
      "outputs": [
        {
          "output_type": "stream",
          "name": "stdout",
          "text": [
            "[array([1, 2]), array([3, 4]), array([5])]\n",
            "[1 2]\n",
            "[3 4]\n",
            "[5]\n"
          ]
        }
      ]
    },
    {
      "cell_type": "code",
      "source": [
        "#splitting 2D array\n",
        "arr = np.array([[1, 2], [3, 4], [5, 6], [7, 8], [9, 10], [11, 12]])\n",
        "newarr = np.array_split(arr, 3)\n",
        "print(newarr)"
      ],
      "metadata": {
        "colab": {
          "base_uri": "https://localhost:8080/"
        },
        "id": "VlppBM4NTtUc",
        "outputId": "e5d06f76-e312-4e65-c621-5bbef6f4dc66"
      },
      "execution_count": 64,
      "outputs": [
        {
          "output_type": "stream",
          "name": "stdout",
          "text": [
            "[array([[1, 2],\n",
            "       [3, 4]]), array([[5, 6],\n",
            "       [7, 8]]), array([[ 9, 10],\n",
            "       [11, 12]])]\n"
          ]
        }
      ]
    },
    {
      "cell_type": "code",
      "source": [
        "#use the hsplit() method to split the 2-D array into array into three 2-D arrays along rows\n",
        "arr = np.array([[1, 2, 3], [4, 5, 6], [7, 8, 9], [10, 11, 12], [13, 14, 15], [16, 17, 18]])\n",
        "newarr = np.array_split(arr, 3, axis=1)\n",
        "\n",
        "print(newarr)"
      ],
      "metadata": {
        "colab": {
          "base_uri": "https://localhost:8080/"
        },
        "id": "gSkRwj5MVt1v",
        "outputId": "e8ff99c4-eb37-4431-bf07-41b1871c3f7b"
      },
      "execution_count": 65,
      "outputs": [
        {
          "output_type": "stream",
          "name": "stdout",
          "text": [
            "[array([[ 1],\n",
            "       [ 4],\n",
            "       [ 7],\n",
            "       [10],\n",
            "       [13],\n",
            "       [16]]), array([[ 2],\n",
            "       [ 5],\n",
            "       [ 8],\n",
            "       [11],\n",
            "       [14],\n",
            "       [17]]), array([[ 3],\n",
            "       [ 6],\n",
            "       [ 9],\n",
            "       [12],\n",
            "       [15],\n",
            "       [18]])]\n"
          ]
        }
      ]
    },
    {
      "cell_type": "markdown",
      "source": [
        "# **Searching Arrays**\n",
        "\n",
        "You can search an array for a certain value, and return the indexes that grt a match\n",
        "\n",
        "to search an array, use the where () match"
      ],
      "metadata": {
        "id": "AU1aTUTvXLUg"
      }
    },
    {
      "cell_type": "code",
      "source": [
        "arr = np.array([1,2,3,4,5,6,7])\n",
        "x = np.where(arr==7)  # return indexes where the value is 4\n",
        "print(x)"
      ],
      "metadata": {
        "colab": {
          "base_uri": "https://localhost:8080/"
        },
        "id": "BUy0Z3Q7XGLc",
        "outputId": "54141449-506c-43cf-d1f0-eb29377d748a"
      },
      "execution_count": 67,
      "outputs": [
        {
          "output_type": "stream",
          "name": "stdout",
          "text": [
            "(array([6]),)\n"
          ]
        }
      ]
    },
    {
      "cell_type": "code",
      "source": [
        "arr = np.array([1,2,3,4,5,6,4])\n",
        "x = np.where(arr%2==0)\n",
        "print(x)\n"
      ],
      "metadata": {
        "colab": {
          "base_uri": "https://localhost:8080/"
        },
        "id": "Jt2o8Z_OXhWS",
        "outputId": "63b50db0-cc68-4d40-ddaf-a45f4dcbf2c8"
      },
      "execution_count": 68,
      "outputs": [
        {
          "output_type": "stream",
          "name": "stdout",
          "text": [
            "(array([1, 3, 5, 6]),)\n"
          ]
        }
      ]
    },
    {
      "cell_type": "code",
      "source": [
        "# find the indexes where the values are odd:\n",
        "arr = np.array([1,2,3,4,5,6,4])\n",
        "x = np.where(arr%2==1)\n",
        "print(x)"
      ],
      "metadata": {
        "colab": {
          "base_uri": "https://localhost:8080/"
        },
        "id": "GRwsbc9zX7Vg",
        "outputId": "e72f051a-d8ba-4ff1-e21c-6b8cc0493e8a"
      },
      "execution_count": 69,
      "outputs": [
        {
          "output_type": "stream",
          "name": "stdout",
          "text": [
            "(array([0, 2, 4]),)\n"
          ]
        }
      ]
    },
    {
      "cell_type": "code",
      "source": [
        "#"
      ],
      "metadata": {
        "id": "bhU121uwYJtJ"
      },
      "execution_count": null,
      "outputs": []
    }
  ]
}