{
  "cells": [
    {
      "cell_type": "markdown",
      "metadata": {
        "id": "view-in-github",
        "colab_type": "text"
      },
      "source": [
        "<a href=\"https://colab.research.google.com/github/Amarjeet-1998/Amarjeet_Portfolio/blob/main/Recommedation_System.ipynb\" target=\"_parent\"><img src=\"https://colab.research.google.com/assets/colab-badge.svg\" alt=\"Open In Colab\"/></a>"
      ]
    },
    {
      "cell_type": "code",
      "execution_count": 1,
      "id": "9c29dd46",
      "metadata": {
        "ExecuteTime": {
          "end_time": "2021-12-29T17:08:38.971166Z",
          "start_time": "2021-12-29T17:08:38.376155Z"
        },
        "id": "9c29dd46"
      },
      "outputs": [],
      "source": [
        "##Import Libraries\n",
        "import pandas as pd"
      ]
    },
    {
      "cell_type": "code",
      "execution_count": 2,
      "id": "f2ea2cb1",
      "metadata": {
        "ExecuteTime": {
          "end_time": "2021-12-29T17:08:40.001474Z",
          "start_time": "2021-12-29T17:08:39.903125Z"
        },
        "id": "f2ea2cb1"
      },
      "outputs": [],
      "source": [
        "dataset=pd.read_csv(\"data.csv\")"
      ]
    },
    {
      "cell_type": "code",
      "execution_count": 3,
      "id": "422e2add",
      "metadata": {
        "ExecuteTime": {
          "end_time": "2021-12-29T17:08:40.972237Z",
          "start_time": "2021-12-29T17:08:40.918376Z"
        },
        "colab": {
          "base_uri": "https://localhost:8080/",
          "height": 337
        },
        "id": "422e2add",
        "outputId": "e6c28aae-2bf5-441a-82a0-5bb5269441c2"
      },
      "outputs": [
        {
          "output_type": "execute_result",
          "data": {
            "text/html": [
              "\n",
              "  <div id=\"df-6ea1822a-5e79-429d-87dc-9fb33d677dad\">\n",
              "    <div class=\"colab-df-container\">\n",
              "      <div>\n",
              "<style scoped>\n",
              "    .dataframe tbody tr th:only-of-type {\n",
              "        vertical-align: middle;\n",
              "    }\n",
              "\n",
              "    .dataframe tbody tr th {\n",
              "        vertical-align: top;\n",
              "    }\n",
              "\n",
              "    .dataframe thead th {\n",
              "        text-align: right;\n",
              "    }\n",
              "</style>\n",
              "<table border=\"1\" class=\"dataframe\">\n",
              "  <thead>\n",
              "    <tr style=\"text-align: right;\">\n",
              "      <th></th>\n",
              "      <th>Name</th>\n",
              "      <th>Year</th>\n",
              "      <th>Stars</th>\n",
              "      <th>Score</th>\n",
              "      <th>Time</th>\n",
              "      <th>Votes</th>\n",
              "      <th>Total</th>\n",
              "      <th>Tags</th>\n",
              "      <th>Directors_Cast</th>\n",
              "      <th>Discription</th>\n",
              "    </tr>\n",
              "  </thead>\n",
              "  <tbody>\n",
              "    <tr>\n",
              "      <th>0</th>\n",
              "      <td>Pulp Fiction</td>\n",
              "      <td>1994</td>\n",
              "      <td>8.9</td>\n",
              "      <td>94.0</td>\n",
              "      <td>154</td>\n",
              "      <td>1,871,051</td>\n",
              "      <td>$107.93</td>\n",
              "      <td>\\nCrime Drama</td>\n",
              "      <td>Quentin Tarantino John Travolta Uma Thurman Sa...</td>\n",
              "      <td>\\nThe lives of two mob hitmen a boxer a gangst...</td>\n",
              "    </tr>\n",
              "    <tr>\n",
              "      <th>1</th>\n",
              "      <td>The Amazing Spider-Man 2</td>\n",
              "      <td>2014</td>\n",
              "      <td>6.6</td>\n",
              "      <td>53.0</td>\n",
              "      <td>142</td>\n",
              "      <td>425,529</td>\n",
              "      <td>$202.85</td>\n",
              "      <td>\\nAction Adventure Fantasy</td>\n",
              "      <td>Marc Webb Andrew Garfield Emma Stone Jamie Fox...</td>\n",
              "      <td>\\nWhen New York is put under siege by Oscorp i...</td>\n",
              "    </tr>\n",
              "    <tr>\n",
              "      <th>2</th>\n",
              "      <td>The Shawshank Redemption</td>\n",
              "      <td>1994</td>\n",
              "      <td>9.3</td>\n",
              "      <td>80.0</td>\n",
              "      <td>142</td>\n",
              "      <td>2,409,436</td>\n",
              "      <td>$28.34</td>\n",
              "      <td>\\nDrama</td>\n",
              "      <td>Frank Darabont Tim Robbins Morgan Freeman Bob ...</td>\n",
              "      <td>\\nTwo imprisoned men bond over a number of yea...</td>\n",
              "    </tr>\n",
              "    <tr>\n",
              "      <th>3</th>\n",
              "      <td>Star Wars: Episode IV - A New Hope</td>\n",
              "      <td>1977</td>\n",
              "      <td>8.6</td>\n",
              "      <td>90.0</td>\n",
              "      <td>121</td>\n",
              "      <td>1,255,464</td>\n",
              "      <td>$322.74</td>\n",
              "      <td>\\nAction Adventure Fantasy</td>\n",
              "      <td>George Lucas Mark Hamill Harrison Ford Carrie ...</td>\n",
              "      <td>\\nLuke Skywalker joins forces with a Jedi Knig...</td>\n",
              "    </tr>\n",
              "    <tr>\n",
              "      <th>4</th>\n",
              "      <td>Back to the Future</td>\n",
              "      <td>1985</td>\n",
              "      <td>8.5</td>\n",
              "      <td>87.0</td>\n",
              "      <td>116</td>\n",
              "      <td>1,087,878</td>\n",
              "      <td>$210.61</td>\n",
              "      <td>\\nAdventure Comedy Sci-Fi</td>\n",
              "      <td>Robert Zemeckis Michael J. Fox Christopher Llo...</td>\n",
              "      <td>\\nMarty McFly a 17-year-old high school studen...</td>\n",
              "    </tr>\n",
              "  </tbody>\n",
              "</table>\n",
              "</div>\n",
              "      <button class=\"colab-df-convert\" onclick=\"convertToInteractive('df-6ea1822a-5e79-429d-87dc-9fb33d677dad')\"\n",
              "              title=\"Convert this dataframe to an interactive table.\"\n",
              "              style=\"display:none;\">\n",
              "        \n",
              "  <svg xmlns=\"http://www.w3.org/2000/svg\" height=\"24px\"viewBox=\"0 0 24 24\"\n",
              "       width=\"24px\">\n",
              "    <path d=\"M0 0h24v24H0V0z\" fill=\"none\"/>\n",
              "    <path d=\"M18.56 5.44l.94 2.06.94-2.06 2.06-.94-2.06-.94-.94-2.06-.94 2.06-2.06.94zm-11 1L8.5 8.5l.94-2.06 2.06-.94-2.06-.94L8.5 2.5l-.94 2.06-2.06.94zm10 10l.94 2.06.94-2.06 2.06-.94-2.06-.94-.94-2.06-.94 2.06-2.06.94z\"/><path d=\"M17.41 7.96l-1.37-1.37c-.4-.4-.92-.59-1.43-.59-.52 0-1.04.2-1.43.59L10.3 9.45l-7.72 7.72c-.78.78-.78 2.05 0 2.83L4 21.41c.39.39.9.59 1.41.59.51 0 1.02-.2 1.41-.59l7.78-7.78 2.81-2.81c.8-.78.8-2.07 0-2.86zM5.41 20L4 18.59l7.72-7.72 1.47 1.35L5.41 20z\"/>\n",
              "  </svg>\n",
              "      </button>\n",
              "      \n",
              "  <style>\n",
              "    .colab-df-container {\n",
              "      display:flex;\n",
              "      flex-wrap:wrap;\n",
              "      gap: 12px;\n",
              "    }\n",
              "\n",
              "    .colab-df-convert {\n",
              "      background-color: #E8F0FE;\n",
              "      border: none;\n",
              "      border-radius: 50%;\n",
              "      cursor: pointer;\n",
              "      display: none;\n",
              "      fill: #1967D2;\n",
              "      height: 32px;\n",
              "      padding: 0 0 0 0;\n",
              "      width: 32px;\n",
              "    }\n",
              "\n",
              "    .colab-df-convert:hover {\n",
              "      background-color: #E2EBFA;\n",
              "      box-shadow: 0px 1px 2px rgba(60, 64, 67, 0.3), 0px 1px 3px 1px rgba(60, 64, 67, 0.15);\n",
              "      fill: #174EA6;\n",
              "    }\n",
              "\n",
              "    [theme=dark] .colab-df-convert {\n",
              "      background-color: #3B4455;\n",
              "      fill: #D2E3FC;\n",
              "    }\n",
              "\n",
              "    [theme=dark] .colab-df-convert:hover {\n",
              "      background-color: #434B5C;\n",
              "      box-shadow: 0px 1px 3px 1px rgba(0, 0, 0, 0.15);\n",
              "      filter: drop-shadow(0px 1px 2px rgba(0, 0, 0, 0.3));\n",
              "      fill: #FFFFFF;\n",
              "    }\n",
              "  </style>\n",
              "\n",
              "      <script>\n",
              "        const buttonEl =\n",
              "          document.querySelector('#df-6ea1822a-5e79-429d-87dc-9fb33d677dad button.colab-df-convert');\n",
              "        buttonEl.style.display =\n",
              "          google.colab.kernel.accessAllowed ? 'block' : 'none';\n",
              "\n",
              "        async function convertToInteractive(key) {\n",
              "          const element = document.querySelector('#df-6ea1822a-5e79-429d-87dc-9fb33d677dad');\n",
              "          const dataTable =\n",
              "            await google.colab.kernel.invokeFunction('convertToInteractive',\n",
              "                                                     [key], {});\n",
              "          if (!dataTable) return;\n",
              "\n",
              "          const docLinkHtml = 'Like what you see? Visit the ' +\n",
              "            '<a target=\"_blank\" href=https://colab.research.google.com/notebooks/data_table.ipynb>data table notebook</a>'\n",
              "            + ' to learn more about interactive tables.';\n",
              "          element.innerHTML = '';\n",
              "          dataTable['output_type'] = 'display_data';\n",
              "          await google.colab.output.renderOutput(dataTable, element);\n",
              "          const docLink = document.createElement('div');\n",
              "          docLink.innerHTML = docLinkHtml;\n",
              "          element.appendChild(docLink);\n",
              "        }\n",
              "      </script>\n",
              "    </div>\n",
              "  </div>\n",
              "  "
            ],
            "text/plain": [
              "                                 Name  ...                                        Discription\n",
              "0                        Pulp Fiction  ...  \\nThe lives of two mob hitmen a boxer a gangst...\n",
              "1            The Amazing Spider-Man 2  ...  \\nWhen New York is put under siege by Oscorp i...\n",
              "2            The Shawshank Redemption  ...  \\nTwo imprisoned men bond over a number of yea...\n",
              "3  Star Wars: Episode IV - A New Hope  ...  \\nLuke Skywalker joins forces with a Jedi Knig...\n",
              "4                  Back to the Future  ...  \\nMarty McFly a 17-year-old high school studen...\n",
              "\n",
              "[5 rows x 10 columns]"
            ]
          },
          "metadata": {},
          "execution_count": 3
        }
      ],
      "source": [
        "dataset.head()"
      ]
    },
    {
      "cell_type": "code",
      "execution_count": 4,
      "id": "93072be1",
      "metadata": {
        "ExecuteTime": {
          "end_time": "2021-12-29T17:08:42.020332Z",
          "start_time": "2021-12-29T17:08:41.999351Z"
        },
        "colab": {
          "base_uri": "https://localhost:8080/"
        },
        "id": "93072be1",
        "outputId": "19836a9f-54e0-48ea-cf90-d149b82487c4"
      },
      "outputs": [
        {
          "output_type": "execute_result",
          "data": {
            "text/plain": [
              "(9937, 10)"
            ]
          },
          "metadata": {},
          "execution_count": 4
        }
      ],
      "source": [
        "dataset.shape"
      ]
    },
    {
      "cell_type": "code",
      "execution_count": 5,
      "id": "58207082",
      "metadata": {
        "ExecuteTime": {
          "end_time": "2021-12-29T17:08:43.206810Z",
          "start_time": "2021-12-29T17:08:43.120043Z"
        },
        "colab": {
          "base_uri": "https://localhost:8080/"
        },
        "id": "58207082",
        "outputId": "51e62b64-fb91-4560-9e68-21158e45c846"
      },
      "outputs": [
        {
          "output_type": "stream",
          "name": "stdout",
          "text": [
            "<class 'pandas.core.frame.DataFrame'>\n",
            "RangeIndex: 9937 entries, 0 to 9936\n",
            "Data columns (total 10 columns):\n",
            " #   Column          Non-Null Count  Dtype  \n",
            "---  ------          --------------  -----  \n",
            " 0   Name            9937 non-null   object \n",
            " 1   Year            9754 non-null   object \n",
            " 2   Stars           9725 non-null   float64\n",
            " 3   Score           6145 non-null   float64\n",
            " 4   Time            9722 non-null   object \n",
            " 5   Votes           9736 non-null   object \n",
            " 6   Total           6892 non-null   object \n",
            " 7   Tags            9929 non-null   object \n",
            " 8   Directors_Cast  9853 non-null   object \n",
            " 9   Discription     6145 non-null   object \n",
            "dtypes: float64(2), object(8)\n",
            "memory usage: 776.5+ KB\n"
          ]
        }
      ],
      "source": [
        "dataset.info()"
      ]
    },
    {
      "cell_type": "markdown",
      "id": "e5c965ac",
      "metadata": {
        "id": "e5c965ac"
      },
      "source": [
        "Only stars and score are in float rest are objects"
      ]
    },
    {
      "cell_type": "code",
      "execution_count": 6,
      "id": "024c0643",
      "metadata": {
        "ExecuteTime": {
          "end_time": "2021-12-29T17:08:57.509857Z",
          "start_time": "2021-12-29T17:08:57.489947Z"
        },
        "id": "024c0643"
      },
      "outputs": [],
      "source": [
        "def important_features(dataset):\n",
        "    data=dataset.copy()\n",
        "    for i in range(0, dataset.shape[0]):\n",
        "        data[\"imp\"]=data[\"Name\"]+' '+data[\"Directors_Cast\"]+\" \"+data[\"Tags\"]\n",
        "    return data"
      ]
    },
    {
      "cell_type": "code",
      "execution_count": 7,
      "id": "87b48772",
      "metadata": {
        "ExecuteTime": {
          "start_time": "2021-12-29T17:09:28.938Z"
        },
        "id": "87b48772"
      },
      "outputs": [],
      "source": [
        "data=important_features(dataset)"
      ]
    },
    {
      "cell_type": "code",
      "execution_count": 8,
      "id": "f7d434fa",
      "metadata": {
        "ExecuteTime": {
          "start_time": "2021-12-29T17:09:32.426Z"
        },
        "colab": {
          "base_uri": "https://localhost:8080/",
          "height": 424
        },
        "id": "f7d434fa",
        "outputId": "6a60a9fb-c209-4009-964a-418af5cbcde3"
      },
      "outputs": [
        {
          "output_type": "execute_result",
          "data": {
            "text/html": [
              "\n",
              "  <div id=\"df-ca621523-4da2-4b7c-9876-114fd2ecc94c\">\n",
              "    <div class=\"colab-df-container\">\n",
              "      <div>\n",
              "<style scoped>\n",
              "    .dataframe tbody tr th:only-of-type {\n",
              "        vertical-align: middle;\n",
              "    }\n",
              "\n",
              "    .dataframe tbody tr th {\n",
              "        vertical-align: top;\n",
              "    }\n",
              "\n",
              "    .dataframe thead th {\n",
              "        text-align: right;\n",
              "    }\n",
              "</style>\n",
              "<table border=\"1\" class=\"dataframe\">\n",
              "  <thead>\n",
              "    <tr style=\"text-align: right;\">\n",
              "      <th></th>\n",
              "      <th>Name</th>\n",
              "      <th>Year</th>\n",
              "      <th>Stars</th>\n",
              "      <th>Score</th>\n",
              "      <th>Time</th>\n",
              "      <th>Votes</th>\n",
              "      <th>Total</th>\n",
              "      <th>Tags</th>\n",
              "      <th>Directors_Cast</th>\n",
              "      <th>Discription</th>\n",
              "      <th>imp</th>\n",
              "    </tr>\n",
              "  </thead>\n",
              "  <tbody>\n",
              "    <tr>\n",
              "      <th>0</th>\n",
              "      <td>Pulp Fiction</td>\n",
              "      <td>1994</td>\n",
              "      <td>8.9</td>\n",
              "      <td>94.0</td>\n",
              "      <td>154</td>\n",
              "      <td>1,871,051</td>\n",
              "      <td>$107.93</td>\n",
              "      <td>\\nCrime Drama</td>\n",
              "      <td>Quentin Tarantino John Travolta Uma Thurman Sa...</td>\n",
              "      <td>\\nThe lives of two mob hitmen a boxer a gangst...</td>\n",
              "      <td>Pulp Fiction Quentin Tarantino John Travolta U...</td>\n",
              "    </tr>\n",
              "    <tr>\n",
              "      <th>1</th>\n",
              "      <td>The Amazing Spider-Man 2</td>\n",
              "      <td>2014</td>\n",
              "      <td>6.6</td>\n",
              "      <td>53.0</td>\n",
              "      <td>142</td>\n",
              "      <td>425,529</td>\n",
              "      <td>$202.85</td>\n",
              "      <td>\\nAction Adventure Fantasy</td>\n",
              "      <td>Marc Webb Andrew Garfield Emma Stone Jamie Fox...</td>\n",
              "      <td>\\nWhen New York is put under siege by Oscorp i...</td>\n",
              "      <td>The Amazing Spider-Man 2 Marc Webb Andrew Garf...</td>\n",
              "    </tr>\n",
              "    <tr>\n",
              "      <th>2</th>\n",
              "      <td>The Shawshank Redemption</td>\n",
              "      <td>1994</td>\n",
              "      <td>9.3</td>\n",
              "      <td>80.0</td>\n",
              "      <td>142</td>\n",
              "      <td>2,409,436</td>\n",
              "      <td>$28.34</td>\n",
              "      <td>\\nDrama</td>\n",
              "      <td>Frank Darabont Tim Robbins Morgan Freeman Bob ...</td>\n",
              "      <td>\\nTwo imprisoned men bond over a number of yea...</td>\n",
              "      <td>The Shawshank Redemption Frank Darabont Tim Ro...</td>\n",
              "    </tr>\n",
              "    <tr>\n",
              "      <th>3</th>\n",
              "      <td>Star Wars: Episode IV - A New Hope</td>\n",
              "      <td>1977</td>\n",
              "      <td>8.6</td>\n",
              "      <td>90.0</td>\n",
              "      <td>121</td>\n",
              "      <td>1,255,464</td>\n",
              "      <td>$322.74</td>\n",
              "      <td>\\nAction Adventure Fantasy</td>\n",
              "      <td>George Lucas Mark Hamill Harrison Ford Carrie ...</td>\n",
              "      <td>\\nLuke Skywalker joins forces with a Jedi Knig...</td>\n",
              "      <td>Star Wars: Episode IV - A New Hope George Luca...</td>\n",
              "    </tr>\n",
              "    <tr>\n",
              "      <th>4</th>\n",
              "      <td>Back to the Future</td>\n",
              "      <td>1985</td>\n",
              "      <td>8.5</td>\n",
              "      <td>87.0</td>\n",
              "      <td>116</td>\n",
              "      <td>1,087,878</td>\n",
              "      <td>$210.61</td>\n",
              "      <td>\\nAdventure Comedy Sci-Fi</td>\n",
              "      <td>Robert Zemeckis Michael J. Fox Christopher Llo...</td>\n",
              "      <td>\\nMarty McFly a 17-year-old high school studen...</td>\n",
              "      <td>Back to the Future Robert Zemeckis Michael J. ...</td>\n",
              "    </tr>\n",
              "  </tbody>\n",
              "</table>\n",
              "</div>\n",
              "      <button class=\"colab-df-convert\" onclick=\"convertToInteractive('df-ca621523-4da2-4b7c-9876-114fd2ecc94c')\"\n",
              "              title=\"Convert this dataframe to an interactive table.\"\n",
              "              style=\"display:none;\">\n",
              "        \n",
              "  <svg xmlns=\"http://www.w3.org/2000/svg\" height=\"24px\"viewBox=\"0 0 24 24\"\n",
              "       width=\"24px\">\n",
              "    <path d=\"M0 0h24v24H0V0z\" fill=\"none\"/>\n",
              "    <path d=\"M18.56 5.44l.94 2.06.94-2.06 2.06-.94-2.06-.94-.94-2.06-.94 2.06-2.06.94zm-11 1L8.5 8.5l.94-2.06 2.06-.94-2.06-.94L8.5 2.5l-.94 2.06-2.06.94zm10 10l.94 2.06.94-2.06 2.06-.94-2.06-.94-.94-2.06-.94 2.06-2.06.94z\"/><path d=\"M17.41 7.96l-1.37-1.37c-.4-.4-.92-.59-1.43-.59-.52 0-1.04.2-1.43.59L10.3 9.45l-7.72 7.72c-.78.78-.78 2.05 0 2.83L4 21.41c.39.39.9.59 1.41.59.51 0 1.02-.2 1.41-.59l7.78-7.78 2.81-2.81c.8-.78.8-2.07 0-2.86zM5.41 20L4 18.59l7.72-7.72 1.47 1.35L5.41 20z\"/>\n",
              "  </svg>\n",
              "      </button>\n",
              "      \n",
              "  <style>\n",
              "    .colab-df-container {\n",
              "      display:flex;\n",
              "      flex-wrap:wrap;\n",
              "      gap: 12px;\n",
              "    }\n",
              "\n",
              "    .colab-df-convert {\n",
              "      background-color: #E8F0FE;\n",
              "      border: none;\n",
              "      border-radius: 50%;\n",
              "      cursor: pointer;\n",
              "      display: none;\n",
              "      fill: #1967D2;\n",
              "      height: 32px;\n",
              "      padding: 0 0 0 0;\n",
              "      width: 32px;\n",
              "    }\n",
              "\n",
              "    .colab-df-convert:hover {\n",
              "      background-color: #E2EBFA;\n",
              "      box-shadow: 0px 1px 2px rgba(60, 64, 67, 0.3), 0px 1px 3px 1px rgba(60, 64, 67, 0.15);\n",
              "      fill: #174EA6;\n",
              "    }\n",
              "\n",
              "    [theme=dark] .colab-df-convert {\n",
              "      background-color: #3B4455;\n",
              "      fill: #D2E3FC;\n",
              "    }\n",
              "\n",
              "    [theme=dark] .colab-df-convert:hover {\n",
              "      background-color: #434B5C;\n",
              "      box-shadow: 0px 1px 3px 1px rgba(0, 0, 0, 0.15);\n",
              "      filter: drop-shadow(0px 1px 2px rgba(0, 0, 0, 0.3));\n",
              "      fill: #FFFFFF;\n",
              "    }\n",
              "  </style>\n",
              "\n",
              "      <script>\n",
              "        const buttonEl =\n",
              "          document.querySelector('#df-ca621523-4da2-4b7c-9876-114fd2ecc94c button.colab-df-convert');\n",
              "        buttonEl.style.display =\n",
              "          google.colab.kernel.accessAllowed ? 'block' : 'none';\n",
              "\n",
              "        async function convertToInteractive(key) {\n",
              "          const element = document.querySelector('#df-ca621523-4da2-4b7c-9876-114fd2ecc94c');\n",
              "          const dataTable =\n",
              "            await google.colab.kernel.invokeFunction('convertToInteractive',\n",
              "                                                     [key], {});\n",
              "          if (!dataTable) return;\n",
              "\n",
              "          const docLinkHtml = 'Like what you see? Visit the ' +\n",
              "            '<a target=\"_blank\" href=https://colab.research.google.com/notebooks/data_table.ipynb>data table notebook</a>'\n",
              "            + ' to learn more about interactive tables.';\n",
              "          element.innerHTML = '';\n",
              "          dataTable['output_type'] = 'display_data';\n",
              "          await google.colab.output.renderOutput(dataTable, element);\n",
              "          const docLink = document.createElement('div');\n",
              "          docLink.innerHTML = docLinkHtml;\n",
              "          element.appendChild(docLink);\n",
              "        }\n",
              "      </script>\n",
              "    </div>\n",
              "  </div>\n",
              "  "
            ],
            "text/plain": [
              "                                 Name  ...                                                imp\n",
              "0                        Pulp Fiction  ...  Pulp Fiction Quentin Tarantino John Travolta U...\n",
              "1            The Amazing Spider-Man 2  ...  The Amazing Spider-Man 2 Marc Webb Andrew Garf...\n",
              "2            The Shawshank Redemption  ...  The Shawshank Redemption Frank Darabont Tim Ro...\n",
              "3  Star Wars: Episode IV - A New Hope  ...  Star Wars: Episode IV - A New Hope George Luca...\n",
              "4                  Back to the Future  ...  Back to the Future Robert Zemeckis Michael J. ...\n",
              "\n",
              "[5 rows x 11 columns]"
            ]
          },
          "metadata": {},
          "execution_count": 8
        }
      ],
      "source": [
        "data.head()"
      ]
    },
    {
      "cell_type": "code",
      "execution_count": 9,
      "id": "25dca716",
      "metadata": {
        "ExecuteTime": {
          "start_time": "2021-12-29T17:09:33.223Z"
        },
        "id": "25dca716"
      },
      "outputs": [],
      "source": [
        "data[\"ids\"]=[i for i in range(0,data.shape[0])]"
      ]
    },
    {
      "cell_type": "code",
      "execution_count": 10,
      "id": "b5e4c834",
      "metadata": {
        "ExecuteTime": {
          "start_time": "2021-12-29T17:09:33.926Z"
        },
        "id": "b5e4c834"
      },
      "outputs": [],
      "source": [
        "##Importing vectoriser"
      ]
    },
    {
      "cell_type": "code",
      "execution_count": 11,
      "id": "76bfc1ca",
      "metadata": {
        "ExecuteTime": {
          "start_time": "2021-12-29T17:09:34.171Z"
        },
        "id": "76bfc1ca"
      },
      "outputs": [],
      "source": [
        "from sklearn.feature_extraction.text import TfidfVectorizer\n",
        "import numpy as np\n",
        "vec=TfidfVectorizer()"
      ]
    },
    {
      "cell_type": "code",
      "execution_count": 12,
      "id": "963e52fd",
      "metadata": {
        "ExecuteTime": {
          "start_time": "2021-12-29T17:09:34.367Z"
        },
        "id": "963e52fd"
      },
      "outputs": [],
      "source": [
        "vecs=vec.fit_transform(data[\"imp\"].apply(lambda x: np.str_(x)))"
      ]
    },
    {
      "cell_type": "code",
      "execution_count": 13,
      "id": "ba3206a6",
      "metadata": {
        "ExecuteTime": {
          "start_time": "2021-12-29T17:09:35.005Z"
        },
        "colab": {
          "base_uri": "https://localhost:8080/"
        },
        "id": "ba3206a6",
        "outputId": "aff3ba70-ca94-4bea-9fa1-1f330baaa411"
      },
      "outputs": [
        {
          "output_type": "execute_result",
          "data": {
            "text/plain": [
              "(9937, 20994)"
            ]
          },
          "metadata": {},
          "execution_count": 13
        }
      ],
      "source": [
        "vecs.shape"
      ]
    },
    {
      "cell_type": "code",
      "execution_count": 14,
      "id": "694de2ba",
      "metadata": {
        "ExecuteTime": {
          "start_time": "2021-12-29T17:09:35.197Z"
        },
        "id": "694de2ba"
      },
      "outputs": [],
      "source": [
        "from sklearn.metrics.pairwise import cosine_similarity"
      ]
    },
    {
      "cell_type": "code",
      "execution_count": 15,
      "id": "6b7bfd07",
      "metadata": {
        "ExecuteTime": {
          "start_time": "2021-12-29T17:09:35.381Z"
        },
        "id": "6b7bfd07"
      },
      "outputs": [],
      "source": [
        "sim=cosine_similarity(vecs) "
      ]
    },
    {
      "cell_type": "code",
      "execution_count": 16,
      "id": "6f83c43b",
      "metadata": {
        "ExecuteTime": {
          "start_time": "2021-12-29T17:09:35.579Z"
        },
        "colab": {
          "base_uri": "https://localhost:8080/"
        },
        "id": "6f83c43b",
        "outputId": "a8c74880-8cf1-4266-bd7d-eb5c1d9baf3e"
      },
      "outputs": [
        {
          "output_type": "execute_result",
          "data": {
            "text/plain": [
              "(9937, 9937)"
            ]
          },
          "metadata": {},
          "execution_count": 16
        }
      ],
      "source": [
        "sim.shape##Columns represnt movie-ids and not rows"
      ]
    },
    {
      "cell_type": "code",
      "execution_count": 17,
      "id": "384eb756",
      "metadata": {
        "ExecuteTime": {
          "start_time": "2021-12-29T17:09:35.799Z"
        },
        "colab": {
          "base_uri": "https://localhost:8080/"
        },
        "id": "384eb756",
        "outputId": "2c57c126-db74-4aa4-b005-780a8bccdfbf"
      },
      "outputs": [
        {
          "output_type": "execute_result",
          "data": {
            "text/plain": [
              "1.0"
            ]
          },
          "metadata": {},
          "execution_count": 17
        }
      ],
      "source": [
        "sim[100][100]"
      ]
    },
    {
      "cell_type": "code",
      "execution_count": 18,
      "id": "4850392d",
      "metadata": {
        "ExecuteTime": {
          "start_time": "2021-12-29T17:09:36.045Z"
        },
        "id": "4850392d"
      },
      "outputs": [],
      "source": [
        "def recommend(title):\n",
        "    movie_id=data[data.Name==title][\"ids\"].values[0]\n",
        "    scores=list(enumerate(sim[movie_id]))\n",
        "    sorted_scores=sorted(scores,key=lambda x:x[1],reverse=True)\n",
        "    sorted_scores=sorted_scores[1:]\n",
        "    movies=[data[movies[0]==data[\"ids\"]][\"Name\"].values[0] for movies in sorted_scores]\n",
        "    return movies"
      ]
    },
    {
      "cell_type": "code",
      "execution_count": 19,
      "id": "4a3ac27c",
      "metadata": {
        "ExecuteTime": {
          "start_time": "2021-12-29T17:09:36.698Z"
        },
        "id": "4a3ac27c"
      },
      "outputs": [],
      "source": [
        "def recommend_ten(movie_list):\n",
        "    first_ten=[]\n",
        "    count=0\n",
        "    for movie in movie_list:\n",
        "        if count > 9:\n",
        "            break\n",
        "        count+=1\n",
        "        first_ten.append(movie)\n",
        "    return first_ten"
      ]
    },
    {
      "cell_type": "code",
      "execution_count": 23,
      "id": "120117e7",
      "metadata": {
        "ExecuteTime": {
          "start_time": "2021-12-29T17:09:36.905Z"
        },
        "id": "120117e7"
      },
      "outputs": [],
      "source": [
        "lst=recommend(\"Back to the Future\")\n",
        "m=recommend_ten(lst)"
      ]
    },
    {
      "cell_type": "code",
      "execution_count": 24,
      "id": "898f23dd",
      "metadata": {
        "ExecuteTime": {
          "start_time": "2021-12-29T17:09:37.124Z"
        },
        "colab": {
          "base_uri": "https://localhost:8080/"
        },
        "id": "898f23dd",
        "outputId": "74c2709b-754e-4140-c134-9b31569586a9"
      },
      "outputs": [
        {
          "output_type": "execute_result",
          "data": {
            "text/plain": [
              "['Back to the Future Part II',\n",
              " 'Back to the Future Part III',\n",
              " 'Beowulf',\n",
              " 'The Polar Express',\n",
              " '9',\n",
              " 'SpaceCamp',\n",
              " 'Who Framed Roger Rabbit',\n",
              " 'Ivan Vasilievich: Back to the Future',\n",
              " 'Dead Man',\n",
              " 'Chasers']"
            ]
          },
          "metadata": {},
          "execution_count": 24
        }
      ],
      "source": [
        "m"
      ]
    },
    {
      "cell_type": "code",
      "execution_count": null,
      "id": "42be2170",
      "metadata": {
        "id": "42be2170"
      },
      "outputs": [],
      "source": [
        ""
      ]
    },
    {
      "cell_type": "code",
      "execution_count": null,
      "id": "003cd681",
      "metadata": {
        "id": "003cd681"
      },
      "outputs": [],
      "source": [
        ""
      ]
    },
    {
      "cell_type": "code",
      "execution_count": null,
      "id": "bafc3072",
      "metadata": {
        "id": "bafc3072"
      },
      "outputs": [],
      "source": [
        ""
      ]
    },
    {
      "cell_type": "code",
      "execution_count": null,
      "id": "64e5b9a2",
      "metadata": {
        "id": "64e5b9a2"
      },
      "outputs": [],
      "source": [
        ""
      ]
    },
    {
      "cell_type": "code",
      "execution_count": null,
      "id": "7da29ba1",
      "metadata": {
        "id": "7da29ba1"
      },
      "outputs": [],
      "source": [
        ""
      ]
    },
    {
      "cell_type": "code",
      "execution_count": null,
      "id": "2564cbbe",
      "metadata": {
        "id": "2564cbbe"
      },
      "outputs": [],
      "source": [
        ""
      ]
    },
    {
      "cell_type": "code",
      "execution_count": null,
      "id": "038365b6",
      "metadata": {
        "id": "038365b6"
      },
      "outputs": [],
      "source": [
        ""
      ]
    }
  ],
  "metadata": {
    "hide_input": false,
    "kernelspec": {
      "display_name": "Python 3",
      "language": "python",
      "name": "python3"
    },
    "language_info": {
      "codemirror_mode": {
        "name": "ipython",
        "version": 3
      },
      "file_extension": ".py",
      "mimetype": "text/x-python",
      "name": "python",
      "nbconvert_exporter": "python",
      "pygments_lexer": "ipython3",
      "version": "3.8.8"
    },
    "varInspector": {
      "cols": {
        "lenName": 16,
        "lenType": 16,
        "lenVar": 40
      },
      "kernels_config": {
        "python": {
          "delete_cmd_postfix": "",
          "delete_cmd_prefix": "del ",
          "library": "var_list.py",
          "varRefreshCmd": "print(var_dic_list())"
        },
        "r": {
          "delete_cmd_postfix": ") ",
          "delete_cmd_prefix": "rm(",
          "library": "var_list.r",
          "varRefreshCmd": "cat(var_dic_list()) "
        }
      },
      "types_to_exclude": [
        "module",
        "function",
        "builtin_function_or_method",
        "instance",
        "_Feature"
      ],
      "window_display": false
    },
    "colab": {
      "name": "Recommedation System.ipynb",
      "provenance": [],
      "include_colab_link": true
    }
  },
  "nbformat": 4,
  "nbformat_minor": 5
}