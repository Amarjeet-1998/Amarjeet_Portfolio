{
  "nbformat": 4,
  "nbformat_minor": 0,
  "metadata": {
    "colab": {
      "provenance": [],
      "authorship_tag": "ABX9TyM/ZgmBxGp0iAsDCc48D/gG",
      "include_colab_link": true
    },
    "kernelspec": {
      "name": "python3",
      "display_name": "Python 3"
    },
    "language_info": {
      "name": "python"
    }
  },
  "cells": [
    {
      "cell_type": "markdown",
      "metadata": {
        "id": "view-in-github",
        "colab_type": "text"
      },
      "source": [
        "<a href=\"https://colab.research.google.com/github/Amarjeet-1998/Amarjeet_Portfolio/blob/main/Python_interview22.ipynb\" target=\"_parent\"><img src=\"https://colab.research.google.com/assets/colab-badge.svg\" alt=\"Open In Colab\"/></a>"
      ]
    },
    {
      "cell_type": "code",
      "execution_count": 2,
      "metadata": {
        "colab": {
          "base_uri": "https://localhost:8080/"
        },
        "id": "dBjWOT4oIwWK",
        "outputId": "62830c09-14ef-4019-906e-bcd7ba0f3c07"
      },
      "outputs": [
        {
          "output_type": "stream",
          "name": "stdout",
          "text": [
            "Enter a number to check even/odd: 20\n",
            "20 is even number\n"
          ]
        }
      ],
      "source": [
        "#Python program to check given number is even or odd\n",
        "num = int(input(\"Enter a number to check even/odd: \"))\n",
        "\n",
        "if num%2  == 0:\n",
        "  print(num, \"is even number\")\n",
        "else:\n",
        "  print(num, \"is odd number\")"
      ]
    },
    {
      "cell_type": "code",
      "source": [
        "#Python program to find smallest number among three\n",
        "\n",
        "a = int(input(\"Enter the value for a: \"))\n",
        "b = int(input(\"Enter the value for b: \"))\n",
        "c = int(input(\"Enter the value for c: \"))\n",
        "\n",
        "if a<=b and a<=c:\n",
        "  print(\"a is smallest\")\n",
        "elif b<=a and b<=c:\n",
        "  print(\"b is smallest\")\n",
        "elif c<=a and c<=b:\n",
        "  print(\"c is smallest\")\n"
      ],
      "metadata": {
        "colab": {
          "base_uri": "https://localhost:8080/"
        },
        "id": "3_rK9UjfJwXZ",
        "outputId": "aa768494-5fd1-4bd3-e253-388b85d9d96c"
      },
      "execution_count": 3,
      "outputs": [
        {
          "output_type": "stream",
          "name": "stdout",
          "text": [
            "Enter the value for a: 12\n",
            "Enter the value for b: 12\n",
            "Enter the value for c: 34\n",
            "a is smallest\n"
          ]
        }
      ]
    },
    {
      "cell_type": "code",
      "source": [
        "# Python program to calculate the power using ‘pow()’ method\n",
        "\n",
        "base = int(input(\"Enter the value for base: \"))\n",
        "exponent = int(input(\"Enter the value for exponent: \"))\n",
        "\n",
        "print(base, \"to power\", exponent, \"=\",end=' ')\n",
        "print(pow(base, exponent))"
      ],
      "metadata": {
        "colab": {
          "base_uri": "https://localhost:8080/"
        },
        "id": "MYLIKe_HMlYA",
        "outputId": "df7dfba8-291f-44d2-bda7-bc55f988605e"
      },
      "execution_count": 4,
      "outputs": [
        {
          "output_type": "stream",
          "name": "stdout",
          "text": [
            "Enter the value for base: 10\n",
            "Enter the value for exponent: 5\n",
            "10 to power 5 = 100000\n"
          ]
        }
      ]
    },
    {
      "cell_type": "code",
      "source": [
        "# Python program to calculate the power using ‘for-loop’\n",
        "\n",
        "base = int(input(\"Enter the value for base: \"))\n",
        "exponent = int(input(\"Enter the value for exponent: \"))\n",
        "result = 1\n",
        "print(base,\"to power\",exponent,\"=\",end =' ')\n",
        "\n",
        "for exponent in range(exponent, 0, -1):\n",
        "  result *= base\n",
        "print(result)"
      ],
      "metadata": {
        "colab": {
          "base_uri": "https://localhost:8080/"
        },
        "id": "g0TptUqONtF-",
        "outputId": "4d40ebc6-1bb2-49d1-feee-e7bbbd4047b7"
      },
      "execution_count": 5,
      "outputs": [
        {
          "output_type": "stream",
          "name": "stdout",
          "text": [
            "Enter the value for base: 5\n",
            "Enter the value for exponent: 10\n",
            "5 to power 10 = 9765625\n"
          ]
        }
      ]
    },
    {
      "cell_type": "code",
      "source": [
        "# Python program to calculate the power using ‘while-loop’\n",
        "base = int(input(\"Enter the value for base: \"))\n",
        "exponent = int(input(\"Enter the value for exponent: \"))\n",
        "result = 1\n",
        "print(base, 'to power', exponent, \"=\",end = ' ')\n",
        "\n",
        "while exponent != 0:\n",
        "  result = base * result\n",
        "  exponent -= 1\n",
        "print(result)"
      ],
      "metadata": {
        "colab": {
          "base_uri": "https://localhost:8080/"
        },
        "id": "43JNgQAYPNgu",
        "outputId": "91a5a1c8-f2f5-48ec-bab6-9dea91461f98"
      },
      "execution_count": 6,
      "outputs": [
        {
          "output_type": "stream",
          "name": "stdout",
          "text": [
            "Enter the value for base: 5\n",
            "Enter the value for exponent: 22\n",
            "5 to power 22 = 2384185791015625\n"
          ]
        }
      ]
    },
    {
      "cell_type": "code",
      "source": [
        "# Python program to calculate the square of a number\n",
        "\n",
        "num = int(input(\"Enter a number to calculate square: \"))\n",
        "\n",
        "print(\"square =\",num*num)"
      ],
      "metadata": {
        "colab": {
          "base_uri": "https://localhost:8080/"
        },
        "id": "TQjVx5fTRnr4",
        "outputId": "d22b66fd-e18c-41f4-e757-47497f32a8b6"
      },
      "execution_count": 7,
      "outputs": [
        {
          "output_type": "stream",
          "name": "stdout",
          "text": [
            "Enter a number to calculate square: 21\n",
            "square = 441\n"
          ]
        }
      ]
    },
    {
      "cell_type": "code",
      "source": [
        "# Python program to calculate the cube of a number\n",
        "num = int(input(\"Enter a number to calculate cube: \"))\n",
        "print(\"cube=\", num*num*num)"
      ],
      "metadata": {
        "colab": {
          "base_uri": "https://localhost:8080/"
        },
        "id": "zkoNN9DAS-J4",
        "outputId": "3ddb3cf4-9272-4537-aff7-fd4cc8115723"
      },
      "execution_count": 8,
      "outputs": [
        {
          "output_type": "stream",
          "name": "stdout",
          "text": [
            "Enter a number to calculate cube: 12\n",
            "cube= 1728\n"
          ]
        }
      ]
    },
    {
      "cell_type": "code",
      "source": [
        "# Python program to calculate the square root of a number\n",
        "\n",
        "import math\n",
        "num = int(input(\"Enter a number to find square root: \"))\n",
        "if num<0:\n",
        "  print(\"Negative numbers can't have square roots: \")\n",
        "\n",
        "else:\n",
        "  print(\"square roots = \",math.sqrt(num))"
      ],
      "metadata": {
        "colab": {
          "base_uri": "https://localhost:8080/"
        },
        "id": "ofmLu1owTZMt",
        "outputId": "2e160148-871a-4265-b259-9b9b169910f9"
      },
      "execution_count": 9,
      "outputs": [
        {
          "output_type": "stream",
          "name": "stdout",
          "text": [
            "Enter a number to find square root: 56\n",
            "square roots =  7.483314773547883\n"
          ]
        }
      ]
    },
    {
      "cell_type": "code",
      "source": [
        "# Python program to find l.c.m. of two numbers\n",
        "\n",
        "num1 = int(input(\"Enter first number: \"))\n",
        "num2 = int(input(\"Enter second number: \"))\n",
        "\n",
        "if num1 > num2:\n",
        "  greater = num1\n",
        "else:\n",
        "  greater = num2\n",
        "\n",
        "while(True):\n",
        "  if ((greater % num1 == 0) and (greater % num2 == 0)):\n",
        "    lcm = greater\n",
        "    break\n",
        "  greater += 1\n",
        "print(\"LCM of\", num1, \"and\", num2,\"=\",greater)"
      ],
      "metadata": {
        "colab": {
          "base_uri": "https://localhost:8080/"
        },
        "id": "WTW2AYwjUgpM",
        "outputId": "a2dda81e-f377-40e2-ce11-64c61be6417a"
      },
      "execution_count": 10,
      "outputs": [
        {
          "output_type": "stream",
          "name": "stdout",
          "text": [
            "Enter first number: 12\n",
            "Enter second number: 23\n",
            "LCM of 12 and 23 = 276\n"
          ]
        }
      ]
    },
    {
      "cell_type": "code",
      "source": [
        "# Python program to calculate simple interest\n",
        "\n",
        "principle = int(input(\"Enter the principle amount: \"))\n",
        "rate = int(input(\"Enter the rate of interest: \"))\n",
        "time = int(input(\"Enter the time of interest in year: \"))\n",
        "\n",
        "simpleInterest = (principle * rate * time)/100\n",
        "print(\"Simple Interest =\", simpleInterest)"
      ],
      "metadata": {
        "colab": {
          "base_uri": "https://localhost:8080/"
        },
        "id": "RP3CZr_EWdFi",
        "outputId": "db7cdec4-98ef-4dea-f4c5-259fd5780a9a"
      },
      "execution_count": 11,
      "outputs": [
        {
          "output_type": "stream",
          "name": "stdout",
          "text": [
            "Enter the principle amount: 10000\n",
            "Enter the rate of interest: 10\n",
            "Enter the time of interest in year: 5\n",
            "Simple Interest = 5000.0\n"
          ]
        }
      ]
    },
    {
      "cell_type": "code",
      "source": [
        "# Remove character from string in Python\n",
        "\n",
        "str = input(\"please enter a string: \")\n",
        "ch = input(\"please enter a character: \")\n",
        "print(str.replace(ch, \" \"))"
      ],
      "metadata": {
        "colab": {
          "base_uri": "https://localhost:8080/"
        },
        "id": "fFjSYF7wX6mx",
        "outputId": "d538cde5-3a9b-4122-ed09-36a8dcc453d3"
      },
      "execution_count": 12,
      "outputs": [
        {
          "output_type": "stream",
          "name": "stdout",
          "text": [
            "please enter a string: I love my country. if you want to know more . i will tell you more interesting history.\n",
            "please enter a character: 28\n",
            "I love my country. if you want to know more . i will tell you more interesting history.\n"
          ]
        }
      ]
    },
    {
      "cell_type": "code",
      "source": [
        "# Python Program to count occurrence of characters in string\n",
        "\n",
        "string = input(\"please enter string: \")\n",
        "char = input(\"please enter a string: \")\n",
        "count = 0\n",
        "for i in range(len(string)):\n",
        "  if (string[i] == char):\n",
        "    count = count + 1\n",
        "\n",
        "print(\"Total Number of occurence of\", char, \"is: \",count )"
      ],
      "metadata": {
        "colab": {
          "base_uri": "https://localhost:8080/"
        },
        "id": "rsik2goBbUrr",
        "outputId": "f1982a62-bd36-48fe-ae96-be39713abd64"
      },
      "execution_count": 13,
      "outputs": [
        {
          "output_type": "stream",
          "name": "stdout",
          "text": [
            "please enter string: I love my country\n",
            "please enter a string: 5\n",
            "Total Number of occurence of 5 is:  0\n"
          ]
        }
      ]
    },
    {
      "cell_type": "code",
      "source": [
        "# Anagram Program in Python\n",
        "\n",
        "def anagramcheck(str1, str2):\n",
        "  if (sorted(str1) == sorted(str2)):\n",
        "    return True\n",
        "  else:\n",
        "    return False\n",
        "\n",
        "str1 = input(\"please enter string 1: \")\n",
        "str2 = input(\"please enter string 2: \")\n",
        "\n",
        "if anagramcheck(str1,str2):\n",
        "  print(\"Anagram\")\n",
        "else:\n",
        "  print(\"Not an anagram\")"
      ],
      "metadata": {
        "colab": {
          "base_uri": "https://localhost:8080/"
        },
        "id": "b8zmCESMcr0m",
        "outputId": "a8b1b39c-e288-47a6-b693-8442f9ad3b5b"
      },
      "execution_count": 14,
      "outputs": [
        {
          "output_type": "stream",
          "name": "stdout",
          "text": [
            "please enter string 1: python\n",
            "please enter string 2: word\n",
            "Not an anagram\n"
          ]
        }
      ]
    },
    {
      "cell_type": "code",
      "source": [
        "# String Palindrome program in python\n",
        "\n",
        "string = input(\"please give a string: \")\n",
        "if (string == string[::-1]):\n",
        "  print(\"Given string is a palindrom\")\n",
        "else:\n",
        "  print(\"Given string is not a palindrome\")"
      ],
      "metadata": {
        "colab": {
          "base_uri": "https://localhost:8080/"
        },
        "id": "c4chAjayhlFR",
        "outputId": "b798f744-0741-4793-adea-040040cf3334"
      },
      "execution_count": 16,
      "outputs": [
        {
          "output_type": "stream",
          "name": "stdout",
          "text": [
            "please give a string: MADAM\n",
            "Given string is a palindrom\n"
          ]
        }
      ]
    },
    {
      "cell_type": "code",
      "source": [
        "# Python program to check given character is vowel or consonant\n",
        "\n",
        "ch = input(\"Enter a character to check vowel or consonant: \")\n",
        "if(ch == 'a' or ch == 'e' or ch == 'i' or ch == 'o' or ch == 'u' or ch == 'A' or ch == 'E' or ch == 'I' or ch == 'O' or ch == 'U'):\n",
        "  print(\"Given character\",ch,\"is vowel\")\n",
        "else:\n",
        "  print(\"Given character\",ch,'is consonant')"
      ],
      "metadata": {
        "colab": {
          "base_uri": "https://localhost:8080/"
        },
        "id": "XjjBTxB2ieVQ",
        "outputId": "5790783b-5b13-4c63-ca58-b72acce377c9"
      },
      "execution_count": 17,
      "outputs": [
        {
          "output_type": "stream",
          "name": "stdout",
          "text": [
            "Enter a character to check vowel or consonant: o\n",
            "Given character o is vowel\n"
          ]
        }
      ]
    },
    {
      "cell_type": "code",
      "source": [
        "# Python program to check given input is digit or not\n",
        "\n",
        "#taking input from user\n",
        "ch = input(\"Enter a character : \") \n",
        "if ch >= '0' and ch <= '9': #comparing the value of ‘ch’ \n",
        "\t# if the condition holds true then this block will execute\n",
        "    \tprint(\"Given Character \", ch, \"is a Digit\")\n",
        "else: #this block will execute if the condition will not satisfies\n",
        "    print(\"Given Character \", ch, \"is not a Digit\")\n"
      ],
      "metadata": {
        "colab": {
          "base_uri": "https://localhost:8080/"
        },
        "id": "YvHcmp6Kj1Zp",
        "outputId": "3ac9ff36-803c-477b-ff6f-7180c200dc8a"
      },
      "execution_count": 18,
      "outputs": [
        {
          "output_type": "stream",
          "name": "stdout",
          "text": [
            "Enter a character : 5\n",
            "Given Character  5 is a Digit\n"
          ]
        }
      ]
    },
    {
      "cell_type": "code",
      "source": [],
      "metadata": {
        "id": "RbkLk2VBlB0u"
      },
      "execution_count": null,
      "outputs": []
    }
  ]
}