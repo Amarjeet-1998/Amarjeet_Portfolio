{
  "nbformat": 4,
  "nbformat_minor": 0,
  "metadata": {
    "colab": {
      "name": "Untitled38.ipynb",
      "provenance": [],
      "authorship_tag": "ABX9TyP+vAWpONXZ0nOSdqXrgqMT",
      "include_colab_link": true
    },
    "kernelspec": {
      "name": "python3",
      "display_name": "Python 3"
    },
    "language_info": {
      "name": "python"
    }
  },
  "cells": [
    {
      "cell_type": "markdown",
      "metadata": {
        "id": "view-in-github",
        "colab_type": "text"
      },
      "source": [
        "<a href=\"https://colab.research.google.com/github/Amarjeet-1998/Amarjeet_Portfolio/blob/main/Backpropagation%20.ipynb\" target=\"_parent\"><img src=\"https://colab.research.google.com/assets/colab-badge.svg\" alt=\"Open In Colab\"/></a>"
      ]
    },
    {
      "cell_type": "code",
      "execution_count": 1,
      "metadata": {
        "id": "_zdVy-mNyk2x"
      },
      "outputs": [],
      "source": [
        "import numpy as np"
      ]
    },
    {
      "cell_type": "code",
      "source": [
        "# define the sigmoid function\n",
        "def sigmoid(x, derivative=False):\n",
        "\n",
        "    if (derivative == True):\n",
        "        return sigmoid(x,derivative=False) * (1 - sigmoid(x,derivative=False))\n",
        "    else:\n",
        "        return 1 / (1 + np.exp(-x))"
      ],
      "metadata": {
        "id": "ka6O0z4_ztU2"
      },
      "execution_count": 2,
      "outputs": []
    },
    {
      "cell_type": "code",
      "source": [
        "# choose a random seed for reproducible results\n",
        "np.random.seed(1)"
      ],
      "metadata": {
        "id": "KDWF17Vyyu8c"
      },
      "execution_count": 3,
      "outputs": []
    },
    {
      "cell_type": "code",
      "source": [
        "# learning rate\n",
        "alpha = .1"
      ],
      "metadata": {
        "id": "sb1XQMtUywPL"
      },
      "execution_count": 4,
      "outputs": []
    },
    {
      "cell_type": "code",
      "source": [
        "# number of nodes in the hidden layer\n",
        "num_hidden = 3\n",
        "\n",
        "# inputs\n",
        "X = np.array([  \n",
        "    [0, 0, 1],\n",
        "    [0, 1, 1],\n",
        "    [1, 0, 0],\n",
        "    [1, 1, 0],\n",
        "    [1, 0, 1],\n",
        "    [1, 1, 1],\n",
        "])"
      ],
      "metadata": {
        "id": "XHKLIN8Ty4-7"
      },
      "execution_count": 5,
      "outputs": []
    },
    {
      "cell_type": "code",
      "source": [
        "# outputs\n",
        "# x.T is the transpose of x, making this a column vector\n",
        "y = np.array([[0, 1, 0, 1, 1, 0]]).T"
      ],
      "metadata": {
        "id": "r3VEhLmWy9Ho"
      },
      "execution_count": 6,
      "outputs": []
    },
    {
      "cell_type": "code",
      "source": [
        "# initialize weights randomly with mean 0 and range [-1, 1]\n",
        "# the +1 in the 1st dimension of the weight matrices is for the bias weight\n",
        "hidden_weights = 2*np.random.random((X.shape[1] + 1, num_hidden)) - 1\n",
        "output_weights = 2*np.random.random((num_hidden + 1, y.shape[1])) - 1"
      ],
      "metadata": {
        "id": "udG7Ne1szCEd"
      },
      "execution_count": 7,
      "outputs": []
    },
    {
      "cell_type": "code",
      "source": [
        "# number of iterations of gradient descent\n",
        "num_iterations = 10000"
      ],
      "metadata": {
        "id": "RcrYY6u41G6A"
      },
      "execution_count": 15,
      "outputs": []
    },
    {
      "cell_type": "code",
      "source": [
        "# for each iteration of gradient descent\n",
        "for i in range(num_iterations):\n",
        "  # forward phase\n",
        "    # np.hstack((np.ones(...), X) adds a fixed input of 1 for the bias weight\n",
        "        input_layer_outputs = np.hstack((np.ones((X.shape[0], 1)), X))\n",
        "        hidden_layer_outputs = np.hstack((np.ones((X.shape[0], 1)), sigmoid(np.dot(input_layer_outputs, hidden_weights))))\n",
        "        output_layer_outputs = np.dot(hidden_layer_outputs, output_weights)"
      ],
      "metadata": {
        "id": "q_ghtb9ZzJHx"
      },
      "execution_count": 18,
      "outputs": []
    },
    {
      "cell_type": "code",
      "source": [
        " # backward phase\n",
        "    # output layer error term\n",
        "output_error = output_layer_outputs - y\n",
        "    # hidden layer error term\n",
        "    # [:, 1:] removes the bias term from the backpropagation\n",
        "hidden_error = hidden_layer_outputs[:, 1:] * (1 - hidden_layer_outputs[:, 1:]) * np.dot(output_error, output_weights.T[:, 1:])"
      ],
      "metadata": {
        "id": "Pd4qbtI4zNcg"
      },
      "execution_count": 22,
      "outputs": []
    },
    {
      "cell_type": "code",
      "source": [
        "# partial derivatives\n",
        "hidden_pd = input_layer_outputs[:, :, np.newaxis] * hidden_error[: , np.newaxis, :]\n",
        "output_pd = hidden_layer_outputs[:, :, np.newaxis] * output_error[:, np.newaxis, :]\n"
      ],
      "metadata": {
        "id": "gc1DpNPkzTOU"
      },
      "execution_count": 24,
      "outputs": []
    },
    {
      "cell_type": "code",
      "source": [
        "# average for total gradients\n",
        "total_hidden_gradient = np.average(hidden_pd, axis=0)\n",
        "total_output_gradient = np.average(output_pd, axis=0)"
      ],
      "metadata": {
        "id": "tIosGWhFzYBS"
      },
      "execution_count": 26,
      "outputs": []
    },
    {
      "cell_type": "code",
      "source": [
        "# update weights\n",
        "hidden_weights += - alpha * total_hidden_gradient\n",
        "output_weights += - alpha * total_output_gradient"
      ],
      "metadata": {
        "id": "NPg3lWKJzcBM"
      },
      "execution_count": 27,
      "outputs": []
    },
    {
      "cell_type": "code",
      "source": [
        "# print the final outputs of the neural network on the inputs X\n",
        "print(\"Output After Training: \\n{}\".format(output_layer_outputs))"
      ],
      "metadata": {
        "colab": {
          "base_uri": "https://localhost:8080/"
        },
        "id": "4M9Ke8xOzfjy",
        "outputId": "ed1b99fa-7acf-42ca-8a62-3a612557a69d"
      },
      "execution_count": 28,
      "outputs": [
        {
          "output_type": "stream",
          "name": "stdout",
          "text": [
            "Output After Training: \n",
            "[[-0.64926151]\n",
            " [-0.70526557]\n",
            " [-0.67881543]\n",
            " [-0.71507728]\n",
            " [-0.6107305 ]\n",
            " [-0.6550019 ]]\n"
          ]
        }
      ]
    },
    {
      "cell_type": "code",
      "source": [
        ""
      ],
      "metadata": {
        "id": "KOK4HB511mQB"
      },
      "execution_count": null,
      "outputs": []
    }
  ]
}