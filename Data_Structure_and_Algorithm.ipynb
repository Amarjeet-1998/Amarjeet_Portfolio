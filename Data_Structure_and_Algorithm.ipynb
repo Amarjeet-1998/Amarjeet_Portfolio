{
  "nbformat": 4,
  "nbformat_minor": 0,
  "metadata": {
    "colab": {
      "provenance": [],
      "authorship_tag": "ABX9TyOtOffn7LBHkyZOik+uzOEx",
      "include_colab_link": true
    },
    "kernelspec": {
      "name": "python3",
      "display_name": "Python 3"
    },
    "language_info": {
      "name": "python"
    }
  },
  "cells": [
    {
      "cell_type": "markdown",
      "metadata": {
        "id": "view-in-github",
        "colab_type": "text"
      },
      "source": [
        "<a href=\"https://colab.research.google.com/github/Amarjeet-1998/Amarjeet_Portfolio/blob/main/Data_Structure_and_Algorithm.ipynb\" target=\"_parent\"><img src=\"https://colab.research.google.com/assets/colab-badge.svg\" alt=\"Open In Colab\"/></a>"
      ]
    },
    {
      "cell_type": "markdown",
      "source": [
        "# Selection Sort\n",
        "\n",
        "Selection sort is another simple comparison-based sorting algorithm. it divides the input list into two parts.\n",
        "\n",
        "a sorted part at the front and an unsorted part at the back. The algorithm repeatedly selects the smallest (or largest, depending on the sorting order) elements from the unsorted part and moves it to the end of the sorted part.\n",
        "\n",
        "**How Selection sort works**\n",
        "\n",
        "1. Start with the first elements: Consider the first elements as the minimum.\n",
        "\n",
        "2. Find the minimum: Scan the entire unsorted part of the list to find the smallest elements.\n",
        "\n",
        "3. Swap: Swap the found minimum element with the first elements of the unsorted part.\n",
        "\n",
        "4. Repeat: Move the boundary of the sorted part one element to the right and repeat the process for the rest of the unsorted elements.\n"
      ],
      "metadata": {
        "id": "7gP5Aldbggvr"
      }
    },
    {
      "cell_type": "code",
      "source": [
        "def Selection_sort(arr):\n",
        "\n",
        "  n = len(arr)\n",
        "  for i in range(n):\n",
        "\n",
        "    min_idx = i\n",
        "\n",
        "    #Traverse the unsorted part\n",
        "    for j in range(i + 1, n):\n",
        "      #if a smaller element is found, update the minimum index\n",
        "      if arr[j] < arr[min_idx]:\n",
        "        min_idx = j\n",
        "\n",
        "    #swap the found minimum element with the first element of the unsorted part\n",
        "    arr[i], arr[min_idx] = arr[min_idx], arr[i]\n",
        "\n",
        "\n",
        "arr = [-2, 45, 0, 11, -9,88,-97,-202,747]\n",
        "size = len(arr)\n",
        "Selection_sort(arr)\n",
        "print('The array after sorting in Ascending Order by selection sort is:')\n",
        "print(arr)\n",
        "\n",
        "\n",
        "\n"
      ],
      "metadata": {
        "colab": {
          "base_uri": "https://localhost:8080/"
        },
        "id": "errSg9TXiAmI",
        "outputId": "89fffb84-be4b-4d8b-b287-970c51535b4a"
      },
      "execution_count": 6,
      "outputs": [
        {
          "output_type": "stream",
          "name": "stdout",
          "text": [
            "The array after sorting in Ascending Order by selection sort is:\n",
            "[-202, -97, -9, -2, 0, 11, 45, 88, 747]\n"
          ]
        }
      ]
    },
    {
      "cell_type": "code",
      "execution_count": 4,
      "metadata": {
        "colab": {
          "base_uri": "https://localhost:8080/"
        },
        "id": "zB5_ciMbdbGP",
        "outputId": "dc3cefaa-f7c4-4dd7-9826-048ebab280cd"
      },
      "outputs": [
        {
          "output_type": "stream",
          "name": "stdout",
          "text": [
            "The array after sorting in Ascending Order by selection sort is:\n",
            "[-202, -97, -9, -2, 11, 0, 45, 88, 747]\n"
          ]
        }
      ],
      "source": [
        "def selectionSort(array, size):\n",
        "\n",
        "  for ind in range(size):\n",
        "    min_index = ind\n",
        "\n",
        "    for j in range(ind + 1, size):\n",
        "      # select the minimum element in every iteration\n",
        "      if array[j] < array[min_index]:\n",
        "        min_index = j\n",
        "\n",
        "        (array[ind], array[min_index]) = (array[min_index], array[ind])\n",
        "\n",
        "\n",
        "arr = [-2, 45, 0, 11, -9,88,-97,-202,747]\n",
        "size = len(arr)\n",
        "selectionSort(arr, size)\n",
        "print('The array after sorting in Ascending Order by selection sort is:')\n",
        "print(arr)\n"
      ]
    },
    {
      "cell_type": "markdown",
      "source": [
        "Bubble sort is a simple sorting algorithm that repeatedly steps through a list, compares adjacent elements, and swaps them if they are in the wrong order. This process is repeated until list is sorted.\n",
        "\n"
      ],
      "metadata": {
        "id": "c2CnUEU7fIPm"
      }
    },
    {
      "cell_type": "code",
      "source": [
        "def bubble_sort(arr):\n",
        "\n",
        "  n = len(arr)\n",
        "  for i in range(n):\n",
        "    # last i elements are already in place\n",
        "    for j in range(0, n-i-1):\n",
        "\n",
        "      #swap if the element found is greater than the next element\n",
        "      if arr[j] > arr[j+1]:\n",
        "        arr[j], arr[j + 1] = arr[j + 1], arr[j]\n",
        "\n",
        "\n",
        "arr = [64,54,653,7,5,3,5,3,5,2,56,3,67,7,8,3,6435]\n",
        "bubble_sort(arr)\n",
        "print(\"Sorted array list:\", arr)\n",
        "\n",
        "\n"
      ],
      "metadata": {
        "colab": {
          "base_uri": "https://localhost:8080/"
        },
        "id": "1GJqFVzYd02w",
        "outputId": "a65a5e76-f824-4228-8f32-43914cd7ddce"
      },
      "execution_count": 5,
      "outputs": [
        {
          "output_type": "stream",
          "name": "stdout",
          "text": [
            "Sorted array list: [2, 3, 3, 3, 3, 5, 5, 5, 7, 7, 8, 54, 56, 64, 67, 653, 6435]\n"
          ]
        }
      ]
    },
    {
      "cell_type": "markdown",
      "source": [
        "# Insertion Sort\n",
        "\n"
      ],
      "metadata": {
        "id": "dGMzn3MXj3Tq"
      }
    },
    {
      "cell_type": "code",
      "source": [
        "def insertion_sort(arr):\n",
        "\n",
        "  n = len(arr)\n",
        "\n",
        "  if n <= 1:\n",
        "    return # If the array has 0 or 1 element, it is already sorted, so return\n",
        "\n",
        "  for i in range(1, n):   # Iterate over the array starting from the second element\n",
        "    key = arr[i]  # Store the current element as the key to be inserted in the right position\n",
        "\n",
        "    j = i - 1\n",
        "    while j >= 0 and key < arr[j]: # Move elements greater than key one position ahead\n",
        "      arr[j + 1] = arr[j]  # Shift elements to the right\n",
        "      j -= 1\n",
        "\n",
        "    arr[j+1] = key  # Insert the key in the correct position\n",
        "\n",
        "\n",
        "# Sorting the array [12, 11, 13, 5, 6] using insertionSort\n",
        "arr = [12, 11, 13, 5, 6]\n",
        "insertion_sort(arr)\n",
        "print(arr)\n",
        "\n"
      ],
      "metadata": {
        "colab": {
          "base_uri": "https://localhost:8080/"
        },
        "id": "Lmf3pWbhgdVP",
        "outputId": "21ddadc6-8237-4c6d-d6e7-0b3f4870cf75"
      },
      "execution_count": 7,
      "outputs": [
        {
          "output_type": "stream",
          "name": "stdout",
          "text": [
            "[5, 6, 11, 12, 13]\n"
          ]
        }
      ]
    },
    {
      "cell_type": "markdown",
      "source": [
        "# Recursive Algorithm\n",
        "\n"
      ],
      "metadata": {
        "id": "NgP2oDJdlhcx"
      }
    },
    {
      "cell_type": "code",
      "source": [
        "# Recursive function to sort an array using insertion sort\n",
        "def insertionSortRecursive(arr, n):\n",
        "    # base case\n",
        "    if n <= 1:\n",
        "        return\n",
        "\n",
        "    # Sort first n-1 elements\n",
        "    insertionSortRecursive(arr, n - 1)\n",
        "\n",
        "    # Insert last element at its correct position in sorted array.\n",
        "    last = arr[n - 1]\n",
        "    j = n - 2\n",
        "\n",
        "    # Move elements of arr[0..i-1], that are\n",
        "    # greater than key, to one position ahead\n",
        "    # of their current position\n",
        "    while (j >= 0 and arr[j] > last):\n",
        "        arr[j + 1] = arr[j]\n",
        "        j = j - 1\n",
        "    arr[j + 1] = last\n",
        "\n",
        "\n",
        "# Driver program to test insertion sort\n",
        "if __name__ == '__main__':\n",
        "    A = [-7, 11, 6, 0, -3, 5, 10, 2]\n",
        "    n = len(A)\n",
        "    insertionSortRecursive(A, n)\n",
        "    print(A)"
      ],
      "metadata": {
        "colab": {
          "base_uri": "https://localhost:8080/"
        },
        "id": "PlJmro0KlBM1",
        "outputId": "af0e021d-f1e7-4453-8e5b-d86c31355666"
      },
      "execution_count": 8,
      "outputs": [
        {
          "output_type": "stream",
          "name": "stdout",
          "text": [
            "[-7, -3, 0, 2, 5, 6, 10, 11]\n"
          ]
        }
      ]
    },
    {
      "cell_type": "markdown",
      "source": [
        "# Python program to sort a stack using recursion"
      ],
      "metadata": {
        "id": "I9Cw86dsm0M0"
      }
    },
    {
      "cell_type": "code",
      "source": [
        "def sortedInsert(s, element):\n",
        "\n",
        "  if len(s) == 0 or element > s[-1]:\n",
        "    s.append(element)\n",
        "    return\n",
        "\n",
        "  else:\n",
        "\n",
        "    #Remove the top item and recursive\n",
        "    temp = s.pop()\n",
        "    sortedInsert(s, element)\n",
        "\n",
        "    # Put back the top item removed earlier\n",
        "    s.append(temp)\n",
        "\n",
        "\n",
        "def sortStack(s):\n",
        "\n",
        "  if len(s) != 0:\n",
        "\n",
        "    #Remove the top item\n",
        "    temp = s.pop()\n",
        "\n",
        "    #sort remaining stack\n",
        "    sortStack(s)\n",
        "\n",
        "    #push the top item back in sorted stack\n",
        "    sortedInsert(s, temp)\n",
        "\n",
        "\n",
        "def printStack(s):\n",
        "  for i in s[::-1]:\n",
        "    print(i, end=\" \")\n",
        "  print()\n",
        "\n",
        "# Driver Code\n",
        "if __name__ == '__main__':\n",
        "    s = []\n",
        "    s.append(30)\n",
        "    s.append(-5)\n",
        "    s.append(18)\n",
        "    s.append(14)\n",
        "    s.append(-3)\n",
        "\n",
        "    print(\"Stack elements before sorting: \")\n",
        "    printStack(s)\n",
        "\n",
        "    sortStack(s)\n",
        "\n",
        "    print(\"\\nStack elements after sorting: \")\n",
        "    printStack(s)\n",
        "\n"
      ],
      "metadata": {
        "colab": {
          "base_uri": "https://localhost:8080/"
        },
        "id": "Y13Q9EdIlujv",
        "outputId": "7131f496-f843-4bb1-aea5-4035892a6496"
      },
      "execution_count": 9,
      "outputs": [
        {
          "output_type": "stream",
          "name": "stdout",
          "text": [
            "Stack elements before sorting: \n",
            "-3 14 18 -5 30 \n",
            "\n",
            "Stack elements after sorting: \n",
            "30 18 14 -3 -5 \n"
          ]
        }
      ]
    },
    {
      "cell_type": "code",
      "source": [],
      "metadata": {
        "id": "-r7kQDjBob8R"
      },
      "execution_count": null,
      "outputs": []
    }
  ]
}