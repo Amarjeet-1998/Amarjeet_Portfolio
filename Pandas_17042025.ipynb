{
  "nbformat": 4,
  "nbformat_minor": 0,
  "metadata": {
    "colab": {
      "provenance": [],
      "authorship_tag": "ABX9TyPRan/pOxfZZVpRso10k2Dj",
      "include_colab_link": true
    },
    "kernelspec": {
      "name": "python3",
      "display_name": "Python 3"
    },
    "language_info": {
      "name": "python"
    }
  },
  "cells": [
    {
      "cell_type": "markdown",
      "metadata": {
        "id": "view-in-github",
        "colab_type": "text"
      },
      "source": [
        "<a href=\"https://colab.research.google.com/github/Amarjeet-1998/Amarjeet_Portfolio/blob/main/Pandas_17042025.ipynb\" target=\"_parent\"><img src=\"https://colab.research.google.com/assets/colab-badge.svg\" alt=\"Open In Colab\"/></a>"
      ]
    },
    {
      "cell_type": "markdown",
      "source": [
        "#Pandas\n"
      ],
      "metadata": {
        "id": "GwuPGcKktj2N"
      }
    },
    {
      "cell_type": "markdown",
      "source": [
        "* Pandas offers an extensive array of tools designed for handling tabular data, encompassing tasks such as data cleaning, aggregation, and visualization.\n",
        "\n",
        "* At the heart of pandas is its core data structure, the dataframe, which represents a versatile two-dimensional table with flexible data types and operations.\n",
        "\n",
        "* This structure facilitates efficient data manipulation, allowing for actions like indexing, slicing, and filtering.\n",
        "\n"
      ],
      "metadata": {
        "id": "ZnXbdwwTtrPz"
      }
    },
    {
      "cell_type": "code",
      "execution_count": 1,
      "metadata": {
        "colab": {
          "base_uri": "https://localhost:8080/",
          "height": 35
        },
        "id": "mg-YsPLfthOL",
        "outputId": "34fe260b-a7cc-41a4-a035-c9b6cb13e2c8"
      },
      "outputs": [
        {
          "output_type": "execute_result",
          "data": {
            "text/plain": [
              "'2.2.2'"
            ],
            "application/vnd.google.colaboratory.intrinsic+json": {
              "type": "string"
            }
          },
          "metadata": {},
          "execution_count": 1
        }
      ],
      "source": [
        "import pandas as pd\n",
        "pd.__version__"
      ]
    },
    {
      "cell_type": "code",
      "source": [
        "# Series in pandas is a one-dimensional labeled array, capable of\n",
        "# handling data of any type and facilitating efficient data manipulation.\n",
        "\n",
        "data = pd.Series([0.25, 0.5, 0.75, 1.0])\n",
        "print(data)"
      ],
      "metadata": {
        "colab": {
          "base_uri": "https://localhost:8080/"
        },
        "id": "HJkxrIgXuhdL",
        "outputId": "c3cf5b1b-2694-4ca1-800a-d8c6f6208454"
      },
      "execution_count": 2,
      "outputs": [
        {
          "output_type": "stream",
          "name": "stdout",
          "text": [
            "0    0.25\n",
            "1    0.50\n",
            "2    0.75\n",
            "3    1.00\n",
            "dtype: float64\n"
          ]
        }
      ]
    },
    {
      "cell_type": "code",
      "source": [
        "data = pd.Series((0,25, 0.5, 0.75, 1.0))\n",
        "# print(data.values)\n",
        "# print(data.index)\n",
        "print(data.keys)\n"
      ],
      "metadata": {
        "colab": {
          "base_uri": "https://localhost:8080/"
        },
        "id": "RTjo-yhMu3Yf",
        "outputId": "227e2619-f4ec-4f12-9773-3ac2d9f39322"
      },
      "execution_count": 5,
      "outputs": [
        {
          "output_type": "stream",
          "name": "stdout",
          "text": [
            "<bound method Series.keys of 0     0.00\n",
            "1    25.00\n",
            "2     0.50\n",
            "3     0.75\n",
            "4     1.00\n",
            "dtype: float64>\n"
          ]
        }
      ]
    },
    {
      "cell_type": "code",
      "source": [
        "data = pd.Series((3,4,5,6,6,7,8,2))\n",
        "print(data.describe())"
      ],
      "metadata": {
        "colab": {
          "base_uri": "https://localhost:8080/"
        },
        "id": "L0dqbQT1vCiF",
        "outputId": "f54240a5-c8a9-40a8-abf7-5359f52e4274"
      },
      "execution_count": 6,
      "outputs": [
        {
          "output_type": "stream",
          "name": "stdout",
          "text": [
            "count    8.00000\n",
            "mean     5.12500\n",
            "std      2.03101\n",
            "min      2.00000\n",
            "25%      3.75000\n",
            "50%      5.50000\n",
            "75%      6.25000\n",
            "max      8.00000\n",
            "dtype: float64\n"
          ]
        }
      ]
    },
    {
      "cell_type": "code",
      "source": [
        "data = pd.Series((3,4,5,6,6,7,8,2))\n",
        "print(data.agg(['max','min','sum','mean','std']))"
      ],
      "metadata": {
        "colab": {
          "base_uri": "https://localhost:8080/"
        },
        "id": "bDp_4A9Uva0L",
        "outputId": "ad9ac4b7-ee0c-4086-bc9e-a9b9e955a768"
      },
      "execution_count": 7,
      "outputs": [
        {
          "output_type": "stream",
          "name": "stdout",
          "text": [
            "max      8.00000\n",
            "min      2.00000\n",
            "sum     41.00000\n",
            "mean     5.12500\n",
            "std      2.03101\n",
            "dtype: float64\n"
          ]
        }
      ]
    },
    {
      "cell_type": "markdown",
      "source": [
        " Keep in your mind\n",
        "😊\n",
        " --> data[start : end : steps]"
      ],
      "metadata": {
        "id": "x6rwjG7Jv8zH"
      }
    },
    {
      "cell_type": "code",
      "source": [
        "data = pd.Series((0.25, 0.5, 0.75, 1.0))\n",
        "print(data[1])\n",
        "print(data[1:3])\n",
        "print(data[1:3:2])"
      ],
      "metadata": {
        "colab": {
          "base_uri": "https://localhost:8080/"
        },
        "id": "_sNaG4ujvm8K",
        "outputId": "38194372-8ec1-4a93-b4cc-70011ad21ab0"
      },
      "execution_count": 10,
      "outputs": [
        {
          "output_type": "stream",
          "name": "stdout",
          "text": [
            "0.5\n",
            "1    0.50\n",
            "2    0.75\n",
            "dtype: float64\n",
            "1    0.5\n",
            "dtype: float64\n"
          ]
        }
      ]
    },
    {
      "cell_type": "code",
      "source": [
        "data1 = pd.Series([1,2,3,4], index=['a', 'b', 'c', 'd'])\n",
        "data2 = pd.Series({'a':1,'b':2,'c':3,'d':4})\n",
        "print(data1)\n",
        "print(data2)"
      ],
      "metadata": {
        "colab": {
          "base_uri": "https://localhost:8080/"
        },
        "id": "atCKCJihvu1n",
        "outputId": "08848f8e-fb61-4ea8-eaf4-3892aff84e34"
      },
      "execution_count": 11,
      "outputs": [
        {
          "output_type": "stream",
          "name": "stdout",
          "text": [
            "a    1\n",
            "b    2\n",
            "c    3\n",
            "d    4\n",
            "dtype: int64\n",
            "a    1\n",
            "b    2\n",
            "c    3\n",
            "d    4\n",
            "dtype: int64\n"
          ]
        }
      ]
    },
    {
      "cell_type": "code",
      "source": [
        "import pandas as pd\n",
        "data1 = pd.Series([1,2,3,4], index=['a', 'b', 'c', 'd'])\n",
        "data2 = pd.Series({'a':1,'b':2,'c':3,'d':4})\n",
        "print(data1['a'])\n",
        "print(data2['b'])"
      ],
      "metadata": {
        "colab": {
          "base_uri": "https://localhost:8080/"
        },
        "id": "QacicYhXwKiy",
        "outputId": "4dd41cd4-0ca9-4475-e43d-668325afa612"
      },
      "execution_count": 12,
      "outputs": [
        {
          "output_type": "stream",
          "name": "stdout",
          "text": [
            "1\n",
            "2\n"
          ]
        }
      ]
    },
    {
      "cell_type": "code",
      "source": [
        "X = pd.Index([2,3,5,7,11])\n",
        "print(X)"
      ],
      "metadata": {
        "colab": {
          "base_uri": "https://localhost:8080/"
        },
        "id": "Y-EtNPz9wOZJ",
        "outputId": "47c4f615-387e-48c1-a090-447b28136f91"
      },
      "execution_count": 13,
      "outputs": [
        {
          "output_type": "stream",
          "name": "stdout",
          "text": [
            "Index([2, 3, 5, 7, 11], dtype='int64')\n"
          ]
        }
      ]
    },
    {
      "cell_type": "code",
      "source": [
        "import pandas as pd\n",
        "a = pd.Index([1, 3, 5, 7, 9])\n",
        "b = pd.Index([2, 3, 5, 7, 11])\n",
        "\n",
        "print(a)\n",
        "print(b)\n",
        "print(a & b)\n",
        "print(a | b)\n",
        "print(a ^ b)"
      ],
      "metadata": {
        "colab": {
          "base_uri": "https://localhost:8080/"
        },
        "id": "Y5psg1qCwUKI",
        "outputId": "26dfd8c9-bd7a-435b-cf4b-93035961134f"
      },
      "execution_count": 14,
      "outputs": [
        {
          "output_type": "stream",
          "name": "stdout",
          "text": [
            "Index([1, 3, 5, 7, 9], dtype='int64')\n",
            "Index([2, 3, 5, 7, 11], dtype='int64')\n",
            "Index([0, 3, 5, 7, 9], dtype='int64')\n",
            "Index([3, 3, 5, 7, 11], dtype='int64')\n",
            "Index([3, 0, 0, 0, 2], dtype='int64')\n"
          ]
        }
      ]
    },
    {
      "cell_type": "code",
      "source": [
        "data = pd.Series((3,6,9,8,5,4,2,6,3,5,8))\n",
        "\n",
        "# data.plot()\n",
        "data.plot(kind='line');"
      ],
      "metadata": {
        "colab": {
          "base_uri": "https://localhost:8080/",
          "height": 430
        },
        "id": "kiTyTI19wd4M",
        "outputId": "7242d47e-4e75-42ff-8706-e6bd2e392860"
      },
      "execution_count": 16,
      "outputs": [
        {
          "output_type": "display_data",
          "data": {
            "text/plain": [
              "<Figure size 640x480 with 1 Axes>"
            ],
            "image/png": "[encoded data removed]"
          },
          "metadata": {}
        }
      ]
    },
    {
      "cell_type": "code",
      "source": [
        "import pandas as pd\n",
        "data = pd.Series((3,6,9,8,5,4,3,2,5))\n",
        "data.plot(kind='pie')"
      ],
      "metadata": {
        "colab": {
          "base_uri": "https://localhost:8080/",
          "height": 423
        },
        "id": "FETQghAFwkbf",
        "outputId": "100d32ac-09d7-4cf9-a017-26049831062f"
      },
      "execution_count": 17,
      "outputs": [
        {
          "output_type": "execute_result",
          "data": {
            "text/plain": [
              "<Axes: >"
            ]
          },
          "metadata": {},
          "execution_count": 17
        },
        {
          "output_type": "display_data",
          "data": {
            "text/plain": [
              "<Figure size 640x480 with 1 Axes>"
            ],
            "image/png": "[encoded data removed]"
          },
          "metadata": {}
        }
      ]
    },
    {
      "cell_type": "code",
      "source": [
        "import pandas as pd\n",
        "data = pd.Series((3,6,9,8,5,4,2,6,3,5,8))\n",
        "data.plot(kind='bar');"
      ],
      "metadata": {
        "colab": {
          "base_uri": "https://localhost:8080/",
          "height": 433
        },
        "id": "VmEDiF7pw8DR",
        "outputId": "c74be5c7-83c9-4bea-dc38-3b46ff303b8a"
      },
      "execution_count": 18,
      "outputs": [
        {
          "output_type": "display_data",
          "data": {
            "text/plain": [
              "<Figure size 640x480 with 1 Axes>"
            ],
            "image/png": "[encoded data removed]"
          },
          "metadata": {}
        }
      ]
    },
    {
      "cell_type": "code",
      "source": [
        "import pandas as pd\n",
        "data = pd.Series((3,6,9,8,5,4,2,6,3,5,8))\n",
        "data.plot(kind='barh');"
      ],
      "metadata": {
        "colab": {
          "base_uri": "https://localhost:8080/",
          "height": 430
        },
        "id": "DgOTHvkgxB0T",
        "outputId": "0fee6012-9834-4808-fe98-bff4cf444f4f"
      },
      "execution_count": 19,
      "outputs": [
        {
          "output_type": "display_data",
          "data": {
            "text/plain": [
              "<Figure size 640x480 with 1 Axes>"
            ],
            "image/png": "[encoded data removed]"
          },
          "metadata": {}
        }
      ]
    },
    {
      "cell_type": "code",
      "source": [
        "import pandas as pd\n",
        "data = pd.Series((3,6,9,8,5,4,2,6,3,5,8))\n",
        "data.plot(kind='hist');"
      ],
      "metadata": {
        "colab": {
          "base_uri": "https://localhost:8080/",
          "height": 430
        },
        "id": "mqK4ZemexFgn",
        "outputId": "1cd1573b-ea22-4771-9a10-760593e1ccf1"
      },
      "execution_count": 20,
      "outputs": [
        {
          "output_type": "display_data",
          "data": {
            "text/plain": [
              "<Figure size 640x480 with 1 Axes>"
            ],
            "image/png": "[encoded data removed]"
          },
          "metadata": {}
        }
      ]
    },
    {
      "cell_type": "code",
      "source": [
        "import pandas as pd\n",
        "data = pd.Series((3,6,9,8,5,4,2,6,3,5,8))\n",
        "data.plot(kind='box');"
      ],
      "metadata": {
        "colab": {
          "base_uri": "https://localhost:8080/",
          "height": 411
        },
        "id": "AR7SyFskxJtq",
        "outputId": "203a0006-7046-428e-e698-e9d6242b4532"
      },
      "execution_count": 21,
      "outputs": [
        {
          "output_type": "display_data",
          "data": {
            "text/plain": [
              "<Figure size 640x480 with 1 Axes>"
            ],
            "image/png": "[encoded data removed]"
          },
          "metadata": {}
        }
      ]
    },
    {
      "cell_type": "code",
      "source": [
        "import pandas as pd\n",
        "data = pd.Series((3,6,9,8,5,4,2,6,3,5,8))\n",
        "data.plot(kind='kde');"
      ],
      "metadata": {
        "colab": {
          "base_uri": "https://localhost:8080/",
          "height": 430
        },
        "id": "bXyrxZX3xOCx",
        "outputId": "913024b5-def9-47b5-d3f8-a7c61549014c"
      },
      "execution_count": 22,
      "outputs": [
        {
          "output_type": "display_data",
          "data": {
            "text/plain": [
              "<Figure size 640x480 with 1 Axes>"
            ],
            "image/png": "[encoded data removed]"
          },
          "metadata": {}
        }
      ]
    },
    {
      "cell_type": "code",
      "source": [
        "import pandas as pd\n",
        "data = pd.Series((3,6,9,8,5,4,2,6,3,5,8))\n",
        "data.plot(kind='density');"
      ],
      "metadata": {
        "colab": {
          "base_uri": "https://localhost:8080/",
          "height": 430
        },
        "id": "V3VtT2csxRi6",
        "outputId": "4379753f-183d-47ab-e896-b2645ae465a6"
      },
      "execution_count": 23,
      "outputs": [
        {
          "output_type": "display_data",
          "data": {
            "text/plain": [
              "<Figure size 640x480 with 1 Axes>"
            ],
            "image/png": "[encoded data removed]"
          },
          "metadata": {}
        }
      ]
    },
    {
      "cell_type": "code",
      "source": [
        "import pandas as pd\n",
        "data = pd.Series((3,6,9,8,5,4,2,6,3,5,8))\n",
        "data.plot(kind='area');"
      ],
      "metadata": {
        "colab": {
          "base_uri": "https://localhost:8080/",
          "height": 430
        },
        "id": "NeV9BNiZxVhH",
        "outputId": "158fa358-928b-417e-f2be-b5fd27118b2a"
      },
      "execution_count": 24,
      "outputs": [
        {
          "output_type": "display_data",
          "data": {
            "text/plain": [
              "<Figure size 640x480 with 1 Axes>"
            ],
            "image/png": "[encoded data removed]"
          },
          "metadata": {}
        }
      ]
    },
    {
      "cell_type": "markdown",
      "source": [
        "# DataFrames"
      ],
      "metadata": {
        "id": "rgVSCXsfxbx1"
      }
    },
    {
      "cell_type": "markdown",
      "source": [],
      "metadata": {
        "id": "paCvKIthxf4d"
      }
    },
    {
      "cell_type": "code",
      "source": [
        "import pandas as pd\n",
        "import numpy as np\n",
        "\n",
        "myarray = np.array([[6,9,8,5,4,3],[0,3,2,4,5,6],\n",
        "                   [8,5,6,7,5,7],[4,3,5,6,7,7],\n",
        "                   [0,5,3,5,7,1],[4,2,35,6,7,7]])\n",
        "\n",
        "row_names = ['a','b','c','d','e','f']\n",
        "col_names = ['one','two','three','four','five','six']\n",
        "df = pd.DataFrame(myarray, index = row_names, columns = col_names)\n",
        "print(df)"
      ],
      "metadata": {
        "colab": {
          "base_uri": "https://localhost:8080/"
        },
        "id": "4gWvV6UPxY7q",
        "outputId": "8cce9cc1-355d-45be-99dd-841f30f01cbc"
      },
      "execution_count": 25,
      "outputs": [
        {
          "output_type": "stream",
          "name": "stdout",
          "text": [
            "   one  two  three  four  five  six\n",
            "a    6    9      8     5     4    3\n",
            "b    0    3      2     4     5    6\n",
            "c    8    5      6     7     5    7\n",
            "d    4    3      5     6     7    7\n",
            "e    0    5      3     5     7    1\n",
            "f    4    2     35     6     7    7\n"
          ]
        }
      ]
    },
    {
      "cell_type": "code",
      "source": [
        "# Creating DF from list\n",
        "\n",
        "import pandas as pd\n",
        "\n",
        "data_list = [\n",
        "    ['Alice',25, 'Engineer'],\n",
        "    ['Bob',30, 'Data Scientist'],\n",
        "    ['Charlie',28, 'Designer']\n",
        "]\n",
        "columns = ['Name', 'Age', 'Occupation']\n",
        "\n",
        "df = pd.DataFrame(data_list, columns = columns)\n",
        "print(df)"
      ],
      "metadata": {
        "colab": {
          "base_uri": "https://localhost:8080/"
        },
        "id": "dVPcgOWgyelZ",
        "outputId": "faf0a05e-8c6b-43cd-a939-43035ee0aa66"
      },
      "execution_count": 26,
      "outputs": [
        {
          "output_type": "stream",
          "name": "stdout",
          "text": [
            "      Name  Age      Occupation\n",
            "0    Alice   25        Engineer\n",
            "1      Bob   30  Data Scientist\n",
            "2  Charlie   28        Designer\n"
          ]
        }
      ]
    },
    {
      "cell_type": "code",
      "source": [
        "import pandas as pd\n",
        "w = pd.Series({'a':1 ,'b':2 ,'c':3 ,'d':4 ,'e':5})\n",
        "x = pd.Series({'a':6 ,'b':7 ,'c':8 ,'d':9 ,'e':10})\n",
        "y = pd.Series({'a':11 ,'b':12 ,'c':13 ,'d':14 ,'e':15})\n",
        "z = pd.Series({'a':16 ,'b':17 ,'c':18 ,'d':19 ,'e':20})\n",
        "\n",
        "grades = pd.DataFrame({'Math': w, 'Physics': x, 'French':y,\n",
        "                       'chemistry':z})\n",
        "print(grades)"
      ],
      "metadata": {
        "colab": {
          "base_uri": "https://localhost:8080/"
        },
        "id": "TDpnaNemzHSO",
        "outputId": "30921b42-2073-4ad1-89f6-1fdb8775594f"
      },
      "execution_count": 27,
      "outputs": [
        {
          "output_type": "stream",
          "name": "stdout",
          "text": [
            "   Math  Physics  French  chemistry\n",
            "a     1        6      11         16\n",
            "b     2        7      12         17\n",
            "c     3        8      13         18\n",
            "d     4        9      14         19\n",
            "e     5       10      15         20\n"
          ]
        }
      ]
    },
    {
      "cell_type": "code",
      "source": [
        "import pandas as pd\n",
        "data1 = pd.Index([3,5,6,0,18,38,48,54,3,5])\n",
        "data2 = pd.Index([13,15,16,10,118,138,148,154,13,15])\n",
        "row_names = [\"Row no 1 \", \"Row no 2 \", \"Row no 3 \", \"Row no 4 \", \"Row no 5 \",\"Row no 6 \", \"Row no 7 \", \"Row no 8 \", \"Row no 9 \", \"Row no 10 \"]\n",
        "df= pd.DataFrame({\"Column No 1\":data1,\"Column No 2\":data2},index=row_names)\n",
        "df"
      ],
      "metadata": {
        "colab": {
          "base_uri": "https://localhost:8080/",
          "height": 363
        },
        "id": "O54aFCd-zeOy",
        "outputId": "ec25d116-d391-46ee-b0ab-98e2f9e96b70"
      },
      "execution_count": 29,
      "outputs": [
        {
          "output_type": "execute_result",
          "data": {
            "text/plain": [
              "            Column No 1  Column No 2\n",
              "Row no 1              3           13\n",
              "Row no 2              5           15\n",
              "Row no 3              6           16\n",
              "Row no 4              0           10\n",
              "Row no 5             18          118\n",
              "Row no 6             38          138\n",
              "Row no 7             48          148\n",
              "Row no 8             54          154\n",
              "Row no 9              3           13\n",
              "Row no 10             5           15"
            ],
            "text/html": [
              "\n",
              "  <div id=\"df-b7b636c6-590d-43f1-8692-93a3758ac368\" class=\"colab-df-container\">\n",
              "    <div>\n",
              "<style scoped>\n",
              "    .dataframe tbody tr th:only-of-type {\n",
              "        vertical-align: middle;\n",
              "    }\n",
              "\n",
              "    .dataframe tbody tr th {\n",
              "        vertical-align: top;\n",
              "    }\n",
              "\n",
              "    .dataframe thead th {\n",
              "        text-align: right;\n",
              "    }\n",
              "</style>\n",
              "<table border=\"1\" class=\"dataframe\">\n",
              "  <thead>\n",
              "    <tr style=\"text-align: right;\">\n",
              "      <th></th>\n",
              "      <th>Column No 1</th>\n",
              "      <th>Column No 2</th>\n",
              "    </tr>\n",
              "  </thead>\n",
              "  <tbody>\n",
              "    <tr>\n",
              "      <th>Row no 1</th>\n",
              "      <td>3</td>\n",
              "      <td>13</td>\n",
              "    </tr>\n",
              "    <tr>\n",
              "      <th>Row no 2</th>\n",
              "      <td>5</td>\n",
              "      <td>15</td>\n",
              "    </tr>\n",
              "    <tr>\n",
              "      <th>Row no 3</th>\n",
              "      <td>6</td>\n",
              "      <td>16</td>\n",
              "    </tr>\n",
              "    <tr>\n",
              "      <th>Row no 4</th>\n",
              "      <td>0</td>\n",
              "      <td>10</td>\n",
              "    </tr>\n",
              "    <tr>\n",
              "      <th>Row no 5</th>\n",
              "      <td>18</td>\n",
              "      <td>118</td>\n",
              "    </tr>\n",
              "    <tr>\n",
              "      <th>Row no 6</th>\n",
              "      <td>38</td>\n",
              "      <td>138</td>\n",
              "    </tr>\n",
              "    <tr>\n",
              "      <th>Row no 7</th>\n",
              "      <td>48</td>\n",
              "      <td>148</td>\n",
              "    </tr>\n",
              "    <tr>\n",
              "      <th>Row no 8</th>\n",
              "      <td>54</td>\n",
              "      <td>154</td>\n",
              "    </tr>\n",
              "    <tr>\n",
              "      <th>Row no 9</th>\n",
              "      <td>3</td>\n",
              "      <td>13</td>\n",
              "    </tr>\n",
              "    <tr>\n",
              "      <th>Row no 10</th>\n",
              "      <td>5</td>\n",
              "      <td>15</td>\n",
              "    </tr>\n",
              "  </tbody>\n",
              "</table>\n",
              "</div>\n",
              "    <div class=\"colab-df-buttons\">\n",
              "\n",
              "  <div class=\"colab-df-container\">\n",
              "    <button class=\"colab-df-convert\" onclick=\"convertToInteractive('df-b7b636c6-590d-43f1-8692-93a3758ac368')\"\n",
              "            title=\"Convert this dataframe to an interactive table.\"\n",
              "            style=\"display:none;\">\n",
              "\n",
              "  <svg xmlns=\"http://www.w3.org/2000/svg\" height=\"24px\" viewBox=\"0 -960 960 960\">\n",
              "    <path d=\"M120-120v-720h720v720H120Zm60-500h600v-160H180v160Zm220 220h160v-160H400v160Zm0 220h160v-160H400v160ZM180-400h160v-160H180v160Zm440 0h160v-160H620v160ZM180-180h160v-160H180v160Zm440 0h160v-160H620v160Z\"/>\n",
              "  </svg>\n",
              "    </button>\n",
              "\n",
              "  <style>\n",
              "    .colab-df-container {\n",
              "      display:flex;\n",
              "      gap: 12px;\n",
              "    }\n",
              "\n",
              "    .colab-df-convert {\n",
              "      background-color: #E8F0FE;\n",
              "      border: none;\n",
              "      border-radius: 50%;\n",
              "      cursor: pointer;\n",
              "      display: none;\n",
              "      fill: #1967D2;\n",
              "      height: 32px;\n",
              "      padding: 0 0 0 0;\n",
              "      width: 32px;\n",
              "    }\n",
              "\n",
              "    .colab-df-convert:hover {\n",
              "      background-color: #E2EBFA;\n",
              "      box-shadow: 0px 1px 2px rgba(60, 64, 67, 0.3), 0px 1px 3px 1px rgba(60, 64, 67, 0.15);\n",
              "      fill: #174EA6;\n",
              "    }\n",
              "\n",
              "    .colab-df-buttons div {\n",
              "      margin-bottom: 4px;\n",
              "    }\n",
              "\n",
              "    [theme=dark] .colab-df-convert {\n",
              "      background-color: #3B4455;\n",
              "      fill: #D2E3FC;\n",
              "    }\n",
              "\n",
              "    [theme=dark] .colab-df-convert:hover {\n",
              "      background-color: #434B5C;\n",
              "      box-shadow: 0px 1px 3px 1px rgba(0, 0, 0, 0.15);\n",
              "      filter: drop-shadow(0px 1px 2px rgba(0, 0, 0, 0.3));\n",
              "      fill: #FFFFFF;\n",
              "    }\n",
              "  </style>\n",
              "\n",
              "    <script>\n",
              "      const buttonEl =\n",
              "        document.querySelector('#df-b7b636c6-590d-43f1-8692-93a3758ac368 button.colab-df-convert');\n",
              "      buttonEl.style.display =\n",
              "        google.colab.kernel.accessAllowed ? 'block' : 'none';\n",
              "\n",
              "      async function convertToInteractive(key) {\n",
              "        const element = document.querySelector('#df-b7b636c6-590d-43f1-8692-93a3758ac368');\n",
              "        const dataTable =\n",
              "          await google.colab.kernel.invokeFunction('convertToInteractive',\n",
              "                                                    [key], {});\n",
              "        if (!dataTable) return;\n",
              "\n",
              "        const docLinkHtml = 'Like what you see? Visit the ' +\n",
              "          '<a target=\"_blank\" href=https://colab.research.google.com/notebooks/data_table.ipynb>data table notebook</a>'\n",
              "          + ' to learn more about interactive tables.';\n",
              "        element.innerHTML = '';\n",
              "        dataTable['output_type'] = 'display_data';\n",
              "        await google.colab.output.renderOutput(dataTable, element);\n",
              "        const docLink = document.createElement('div');\n",
              "        docLink.innerHTML = docLinkHtml;\n",
              "        element.appendChild(docLink);\n",
              "      }\n",
              "    </script>\n",
              "  </div>\n",
              "\n",
              "\n",
              "<div id=\"df-82d3f8a4-7a08-4a2d-980c-3110d5535d36\">\n",
              "  <button class=\"colab-df-quickchart\" onclick=\"quickchart('df-82d3f8a4-7a08-4a2d-980c-3110d5535d36')\"\n",
              "            title=\"Suggest charts\"\n",
              "            style=\"display:none;\">\n",
              "\n",
              "<svg xmlns=\"http://www.w3.org/2000/svg\" height=\"24px\"viewBox=\"0 0 24 24\"\n",
              "     width=\"24px\">\n",
              "    <g>\n",
              "        <path d=\"M19 3H5c-1.1 0-2 .9-2 2v14c0 1.1.9 2 2 2h14c1.1 0 2-.9 2-2V5c0-1.1-.9-2-2-2zM9 17H7v-7h2v7zm4 0h-2V7h2v10zm4 0h-2v-4h2v4z\"/>\n",
              "    </g>\n",
              "</svg>\n",
              "  </button>\n",
              "\n",
              "<style>\n",
              "  .colab-df-quickchart {\n",
              "      --bg-color: #E8F0FE;\n",
              "      --fill-color: #1967D2;\n",
              "      --hover-bg-color: #E2EBFA;\n",
              "      --hover-fill-color: #174EA6;\n",
              "      --disabled-fill-color: #AAA;\n",
              "      --disabled-bg-color: #DDD;\n",
              "  }\n",
              "\n",
              "  [theme=dark] .colab-df-quickchart {\n",
              "      --bg-color: #3B4455;\n",
              "      --fill-color: #D2E3FC;\n",
              "      --hover-bg-color: #434B5C;\n",
              "      --hover-fill-color: #FFFFFF;\n",
              "      --disabled-bg-color: #3B4455;\n",
              "      --disabled-fill-color: #666;\n",
              "  }\n",
              "\n",
              "  .colab-df-quickchart {\n",
              "    background-color: var(--bg-color);\n",
              "    border: none;\n",
              "    border-radius: 50%;\n",
              "    cursor: pointer;\n",
              "    display: none;\n",
              "    fill: var(--fill-color);\n",
              "    height: 32px;\n",
              "    padding: 0;\n",
              "    width: 32px;\n",
              "  }\n",
              "\n",
              "  .colab-df-quickchart:hover {\n",
              "    background-color: var(--hover-bg-color);\n",
              "    box-shadow: 0 1px 2px rgba(60, 64, 67, 0.3), 0 1px 3px 1px rgba(60, 64, 67, 0.15);\n",
              "    fill: var(--button-hover-fill-color);\n",
              "  }\n",
              "\n",
              "  .colab-df-quickchart-complete:disabled,\n",
              "  .colab-df-quickchart-complete:disabled:hover {\n",
              "    background-color: var(--disabled-bg-color);\n",
              "    fill: var(--disabled-fill-color);\n",
              "    box-shadow: none;\n",
              "  }\n",
              "\n",
              "  .colab-df-spinner {\n",
              "    border: 2px solid var(--fill-color);\n",
              "    border-color: transparent;\n",
              "    border-bottom-color: var(--fill-color);\n",
              "    animation:\n",
              "      spin 1s steps(1) infinite;\n",
              "  }\n",
              "\n",
              "  @keyframes spin {\n",
              "    0% {\n",
              "      border-color: transparent;\n",
              "      border-bottom-color: var(--fill-color);\n",
              "      border-left-color: var(--fill-color);\n",
              "    }\n",
              "    20% {\n",
              "      border-color: transparent;\n",
              "      border-left-color: var(--fill-color);\n",
              "      border-top-color: var(--fill-color);\n",
              "    }\n",
              "    30% {\n",
              "      border-color: transparent;\n",
              "      border-left-color: var(--fill-color);\n",
              "      border-top-color: var(--fill-color);\n",
              "      border-right-color: var(--fill-color);\n",
              "    }\n",
              "    40% {\n",
              "      border-color: transparent;\n",
              "      border-right-color: var(--fill-color);\n",
              "      border-top-color: var(--fill-color);\n",
              "    }\n",
              "    60% {\n",
              "      border-color: transparent;\n",
              "      border-right-color: var(--fill-color);\n",
              "    }\n",
              "    80% {\n",
              "      border-color: transparent;\n",
              "      border-right-color: var(--fill-color);\n",
              "      border-bottom-color: var(--fill-color);\n",
              "    }\n",
              "    90% {\n",
              "      border-color: transparent;\n",
              "      border-bottom-color: var(--fill-color);\n",
              "    }\n",
              "  }\n",
              "</style>\n",
              "\n",
              "  <script>\n",
              "    async function quickchart(key) {\n",
              "      const quickchartButtonEl =\n",
              "        document.querySelector('#' + key + ' button');\n",
              "      quickchartButtonEl.disabled = true;  // To prevent multiple clicks.\n",
              "      quickchartButtonEl.classList.add('colab-df-spinner');\n",
              "      try {\n",
              "        const charts = await google.colab.kernel.invokeFunction(\n",
              "            'suggestCharts', [key], {});\n",
              "      } catch (error) {\n",
              "        console.error('Error during call to suggestCharts:', error);\n",
              "      }\n",
              "      quickchartButtonEl.classList.remove('colab-df-spinner');\n",
              "      quickchartButtonEl.classList.add('colab-df-quickchart-complete');\n",
              "    }\n",
              "    (() => {\n",
              "      let quickchartButtonEl =\n",
              "        document.querySelector('#df-82d3f8a4-7a08-4a2d-980c-3110d5535d36 button');\n",
              "      quickchartButtonEl.style.display =\n",
              "        google.colab.kernel.accessAllowed ? 'block' : 'none';\n",
              "    })();\n",
              "  </script>\n",
              "</div>\n",
              "\n",
              "  <div id=\"id_341ff49d-bfad-4d6f-8fdc-f33fae289592\">\n",
              "    <style>\n",
              "      .colab-df-generate {\n",
              "        background-color: #E8F0FE;\n",
              "        border: none;\n",
              "        border-radius: 50%;\n",
              "        cursor: pointer;\n",
              "        display: none;\n",
              "        fill: #1967D2;\n",
              "        height: 32px;\n",
              "        padding: 0 0 0 0;\n",
              "        width: 32px;\n",
              "      }\n",
              "\n",
              "      .colab-df-generate:hover {\n",
              "        background-color: #E2EBFA;\n",
              "        box-shadow: 0px 1px 2px rgba(60, 64, 67, 0.3), 0px 1px 3px 1px rgba(60, 64, 67, 0.15);\n",
              "        fill: #174EA6;\n",
              "      }\n",
              "\n",
              "      [theme=dark] .colab-df-generate {\n",
              "        background-color: #3B4455;\n",
              "        fill: #D2E3FC;\n",
              "      }\n",
              "\n",
              "      [theme=dark] .colab-df-generate:hover {\n",
              "        background-color: #434B5C;\n",
              "        box-shadow: 0px 1px 3px 1px rgba(0, 0, 0, 0.15);\n",
              "        filter: drop-shadow(0px 1px 2px rgba(0, 0, 0, 0.3));\n",
              "        fill: #FFFFFF;\n",
              "      }\n",
              "    </style>\n",
              "    <button class=\"colab-df-generate\" onclick=\"generateWithVariable('df')\"\n",
              "            title=\"Generate code using this dataframe.\"\n",
              "            style=\"display:none;\">\n",
              "\n",
              "  <svg xmlns=\"http://www.w3.org/2000/svg\" height=\"24px\"viewBox=\"0 0 24 24\"\n",
              "       width=\"24px\">\n",
              "    <path d=\"M7,19H8.4L18.45,9,17,7.55,7,17.6ZM5,21V16.75L18.45,3.32a2,2,0,0,1,2.83,0l1.4,1.43a1.91,1.91,0,0,1,.58,1.4,1.91,1.91,0,0,1-.58,1.4L9.25,21ZM18.45,9,17,7.55Zm-12,3A5.31,5.31,0,0,0,4.9,8.1,5.31,5.31,0,0,0,1,6.5,5.31,5.31,0,0,0,4.9,4.9,5.31,5.31,0,0,0,6.5,1,5.31,5.31,0,0,0,8.1,4.9,5.31,5.31,0,0,0,12,6.5,5.46,5.46,0,0,0,6.5,12Z\"/>\n",
              "  </svg>\n",
              "    </button>\n",
              "    <script>\n",
              "      (() => {\n",
              "      const buttonEl =\n",
              "        document.querySelector('#id_341ff49d-bfad-4d6f-8fdc-f33fae289592 button.colab-df-generate');\n",
              "      buttonEl.style.display =\n",
              "        google.colab.kernel.accessAllowed ? 'block' : 'none';\n",
              "\n",
              "      buttonEl.onclick = () => {\n",
              "        google.colab.notebook.generateWithVariable('df');\n",
              "      }\n",
              "      })();\n",
              "    </script>\n",
              "  </div>\n",
              "\n",
              "    </div>\n",
              "  </div>\n"
            ],
            "application/vnd.google.colaboratory.intrinsic+json": {
              "type": "dataframe",
              "variable_name": "df",
              "summary": "{\n  \"name\": \"df\",\n  \"rows\": 10,\n  \"fields\": [\n    {\n      \"column\": \"Column No 1\",\n      \"properties\": {\n        \"dtype\": \"number\",\n        \"std\": 20,\n        \"min\": 0,\n        \"max\": 54,\n        \"num_unique_values\": 8,\n        \"samples\": [\n          5,\n          38,\n          3\n        ],\n        \"semantic_type\": \"\",\n        \"description\": \"\"\n      }\n    },\n    {\n      \"column\": \"Column No 2\",\n      \"properties\": {\n        \"dtype\": \"number\",\n        \"std\": 65,\n        \"min\": 10,\n        \"max\": 154,\n        \"num_unique_values\": 8,\n        \"samples\": [\n          15,\n          138,\n          13\n        ],\n        \"semantic_type\": \"\",\n        \"description\": \"\"\n      }\n    }\n  ]\n}"
            }
          },
          "metadata": {},
          "execution_count": 29
        }
      ]
    },
    {
      "cell_type": "code",
      "source": [
        "import pandas as pd\n",
        "data = [{'square': i**2 } for i in range(10)]\n",
        "df = pd.DataFrame(data)\n",
        "print(df)"
      ],
      "metadata": {
        "colab": {
          "base_uri": "https://localhost:8080/"
        },
        "id": "qpeCXiKFziaE",
        "outputId": "c8092c04-7a9b-4ae1-9e6b-5dff47cec8dc"
      },
      "execution_count": 30,
      "outputs": [
        {
          "output_type": "stream",
          "name": "stdout",
          "text": [
            "   square\n",
            "0       0\n",
            "1       1\n",
            "2       4\n",
            "3       9\n",
            "4      16\n",
            "5      25\n",
            "6      36\n",
            "7      49\n",
            "8      64\n",
            "9      81\n"
          ]
        }
      ]
    },
    {
      "cell_type": "code",
      "source": [
        "import pandas as pd\n",
        "\n",
        "data = [{'square': i**2, 'cube': i**3,\n",
        "         'root': i**0.5} for i in  range(10)]\n",
        "df = pd.DataFrame(data)\n",
        "\n",
        "print(df)"
      ],
      "metadata": {
        "colab": {
          "base_uri": "https://localhost:8080/"
        },
        "id": "wGNBL2Ga0BKW",
        "outputId": "eb282fe5-177d-4d49-ee2e-9421fc6f589f"
      },
      "execution_count": 31,
      "outputs": [
        {
          "output_type": "stream",
          "name": "stdout",
          "text": [
            "   square  cube      root\n",
            "0       0     0  0.000000\n",
            "1       1     1  1.000000\n",
            "2       4     8  1.414214\n",
            "3       9    27  1.732051\n",
            "4      16    64  2.000000\n",
            "5      25   125  2.236068\n",
            "6      36   216  2.449490\n",
            "7      49   343  2.645751\n",
            "8      64   512  2.828427\n",
            "9      81   729  3.000000\n"
          ]
        }
      ]
    },
    {
      "cell_type": "code",
      "source": [
        "import pandas as pd\n",
        "d = pd.DataFrame([{'a':1,'b':2},{'a':3,'b':4},{'a':5,'b':6}])\n",
        "print(d)"
      ],
      "metadata": {
        "colab": {
          "base_uri": "https://localhost:8080/"
        },
        "id": "pQFOWI4p0Xov",
        "outputId": "3654de75-04f0-4bbc-c314-2fa0e7c2d4eb"
      },
      "execution_count": 32,
      "outputs": [
        {
          "output_type": "stream",
          "name": "stdout",
          "text": [
            "   a  b\n",
            "0  1  2\n",
            "1  3  4\n",
            "2  5  6\n"
          ]
        }
      ]
    },
    {
      "cell_type": "code",
      "source": [
        "import pandas as pd\n",
        "d = pd.DataFrame([{'a':1,'b':2},{'b':3,'c':4},{'d':5,'e':6}])\n",
        "print(d)"
      ],
      "metadata": {
        "colab": {
          "base_uri": "https://localhost:8080/"
        },
        "id": "Ho0K48NE0fnn",
        "outputId": "792d8165-7cf0-4560-c28c-c6ab2a848387"
      },
      "execution_count": 33,
      "outputs": [
        {
          "output_type": "stream",
          "name": "stdout",
          "text": [
            "     a    b    c    d    e\n",
            "0  1.0  2.0  NaN  NaN  NaN\n",
            "1  NaN  3.0  4.0  NaN  NaN\n",
            "2  NaN  NaN  NaN  5.0  6.0\n"
          ]
        }
      ]
    },
    {
      "cell_type": "code",
      "source": [
        "import pandas as pd\n",
        "import numpy as np\n",
        "d =pd.DataFrame(np.random.rand(3, 2),\n",
        " columns=['food', 'drink'],index=['a', 'b', 'c'])\n",
        "print(d)"
      ],
      "metadata": {
        "colab": {
          "base_uri": "https://localhost:8080/"
        },
        "id": "QhopYSnA0ipm",
        "outputId": "6fa55d65-c110-45fc-99f0-0b84ff4b15e2"
      },
      "execution_count": 34,
      "outputs": [
        {
          "output_type": "stream",
          "name": "stdout",
          "text": [
            "       food     drink\n",
            "a  0.055794  0.900716\n",
            "b  0.885024  0.670246\n",
            "c  0.267695  0.476014\n"
          ]
        }
      ]
    },
    {
      "cell_type": "code",
      "source": [
        "import pandas as pd\n",
        "\n",
        "def make_df(cols, ind):\n",
        "  data = {c: [str(c) + str(i) for i in ind] for c in cols}\n",
        "  return pd.DataFrame(data, ind)\n",
        "\n",
        "print(make_df('ABC', range(3)))"
      ],
      "metadata": {
        "colab": {
          "base_uri": "https://localhost:8080/"
        },
        "id": "1VqSOuUr0lX_",
        "outputId": "1a55b94d-2d35-4fcc-b7f3-9c399cbaf523"
      },
      "execution_count": 35,
      "outputs": [
        {
          "output_type": "stream",
          "name": "stdout",
          "text": [
            "    A   B   C\n",
            "0  A0  B0  C0\n",
            "1  A1  B1  C1\n",
            "2  A2  B2  C2\n"
          ]
        }
      ]
    },
    {
      "cell_type": "code",
      "source": [
        "import pandas as pd\n",
        "w = pd.Series({'a':1 ,'b':2 ,'c':3 ,'d':4 ,'e':5})\n",
        "x = pd.Series({'a':6 ,'b':7 ,'c':8 ,'d':9 ,'e':10})\n",
        "y = pd.Series({'a':11 ,'b':12 ,'c':13 ,'d':14 ,'e':15})\n",
        "z = pd.Series({'a':16 ,'b':17 ,'c':18 ,'d':19 ,'e':20})\n",
        "\n",
        "grades = pd.DataFrame({'Math':w,'Physics':x,'French':y,'Chemistry':z})\n",
        "print(grades)\n",
        "print(grades['Chemistry'])"
      ],
      "metadata": {
        "colab": {
          "base_uri": "https://localhost:8080/"
        },
        "id": "77h_MQVO057X",
        "outputId": "60029237-7fdf-458b-bfd5-ab491da776ac"
      },
      "execution_count": 36,
      "outputs": [
        {
          "output_type": "stream",
          "name": "stdout",
          "text": [
            "   Math  Physics  French  Chemistry\n",
            "a     1        6      11         16\n",
            "b     2        7      12         17\n",
            "c     3        8      13         18\n",
            "d     4        9      14         19\n",
            "e     5       10      15         20\n",
            "a    16\n",
            "b    17\n",
            "c    18\n",
            "d    19\n",
            "e    20\n",
            "Name: Chemistry, dtype: int64\n"
          ]
        }
      ]
    },
    {
      "cell_type": "code",
      "source": [
        "import pandas as pd\n",
        "w = pd.Series({'a':1 ,'b':2 ,'c':3 ,'d':4 ,'e':5})\n",
        "x = pd.Series({'a':6 ,'b':7 ,'c':8 ,'d':9 ,'e':10})\n",
        "y = pd.Series({'a':11 ,'b':12 ,'c':13 ,'d':14 ,'e':15})\n",
        "z = pd.Series({'a':16 ,'b':17 ,'c':18 ,'d':19 ,'e':20})\n",
        "\n",
        "grades = pd.DataFrame({'Math':w,'Physics':x,'French':y,'Chemistry':z})\n",
        "print(grades.T)"
      ],
      "metadata": {
        "colab": {
          "base_uri": "https://localhost:8080/"
        },
        "id": "jsTzgp3t1FD2",
        "outputId": "adcb31ec-2433-4f10-e575-3db7e0ca37c2"
      },
      "execution_count": 37,
      "outputs": [
        {
          "output_type": "stream",
          "name": "stdout",
          "text": [
            "            a   b   c   d   e\n",
            "Math        1   2   3   4   5\n",
            "Physics     6   7   8   9  10\n",
            "French     11  12  13  14  15\n",
            "Chemistry  16  17  18  19  20\n"
          ]
        }
      ]
    },
    {
      "cell_type": "code",
      "source": [
        "import pandas as pd\n",
        "w = pd.Series({'a':1 ,'b':2 ,'c':3 ,'d':4 ,'e':5})\n",
        "x = pd.Series({'a':6 ,'b':7 ,'c':8 ,'d':9 ,'e':10})\n",
        "y = pd.Series({'a':11 ,'b':12 ,'c':13 ,'d':14 ,'e':15})\n",
        "z = pd.Series({'a':16 ,'b':17 ,'c':18 ,'d':19 ,'e':20})\n",
        "grades = pd.DataFrame({'Math':w,'Physics':x,'French':y,'Chemistry':z})\n",
        "print(grades.keys())\n",
        "print(grades.values)"
      ],
      "metadata": {
        "colab": {
          "base_uri": "https://localhost:8080/"
        },
        "id": "b90DFHBY1NZE",
        "outputId": "1f82eb87-af7c-41c1-abf8-cc1e4bd87cb7"
      },
      "execution_count": 38,
      "outputs": [
        {
          "output_type": "stream",
          "name": "stdout",
          "text": [
            "Index(['Math', 'Physics', 'French', 'Chemistry'], dtype='object')\n",
            "[[ 1  6 11 16]\n",
            " [ 2  7 12 17]\n",
            " [ 3  8 13 18]\n",
            " [ 4  9 14 19]\n",
            " [ 5 10 15 20]]\n"
          ]
        }
      ]
    },
    {
      "cell_type": "code",
      "source": [
        "import pandas as pd\n",
        "w = pd.Series({'a':1 ,'b':2 ,'c':3 ,'d':4 ,'e':5})\n",
        "x = pd.Series({'a':6 ,'b':7 ,'c':8 ,'d':9 ,'e':10})\n",
        "y = pd.Series({'a':11 ,'b':12 ,'c':13 ,'d':14 ,'e':15})\n",
        "z = pd.Series({'a':16 ,'b':17 ,'c':18 ,'d':19 ,'e':20})\n",
        "grades = pd.DataFrame({'Math':w,'Physics':x,'French':y,'Chemistry':z})\n",
        "print('Math' in grades.keys())\n",
        "print('math' in grades.keys())\n",
        "print(12 in grades.values)\n",
        "print(55 in grades.values)"
      ],
      "metadata": {
        "colab": {
          "base_uri": "https://localhost:8080/"
        },
        "id": "T2WTStfW1Tv5",
        "outputId": "365b3940-ca5f-42a8-fddd-cb102bc16338"
      },
      "execution_count": 39,
      "outputs": [
        {
          "output_type": "stream",
          "name": "stdout",
          "text": [
            "True\n",
            "False\n",
            "True\n",
            "False\n"
          ]
        }
      ]
    },
    {
      "cell_type": "code",
      "source": [
        "import pandas as pd\n",
        "w = pd.Series({'a':1 ,'b':2 ,'c':3 ,'d':4 ,'e':5})\n",
        "x = pd.Series({'a':6 ,'b':7 ,'c':8 ,'d':9 ,'e':10})\n",
        "y = pd.Series({'a':11 ,'b':12 ,'c':13 ,'d':14 ,'e':15})\n",
        "z = pd.Series({'a':16 ,'b':17 ,'c':18 ,'d':19 ,'e':20})\n",
        "grades = pd.DataFrame({'Math':w,'Physics':x,'French':y,'Chemistry':z})\n",
        "print(grades.stack())"
      ],
      "metadata": {
        "colab": {
          "base_uri": "https://localhost:8080/"
        },
        "id": "NbSaNRO91YYJ",
        "outputId": "963fc8cd-169f-4989-be12-ca63819383a2"
      },
      "execution_count": 40,
      "outputs": [
        {
          "output_type": "stream",
          "name": "stdout",
          "text": [
            "a  Math          1\n",
            "   Physics       6\n",
            "   French       11\n",
            "   Chemistry    16\n",
            "b  Math          2\n",
            "   Physics       7\n",
            "   French       12\n",
            "   Chemistry    17\n",
            "c  Math          3\n",
            "   Physics       8\n",
            "   French       13\n",
            "   Chemistry    18\n",
            "d  Math          4\n",
            "   Physics       9\n",
            "   French       14\n",
            "   Chemistry    19\n",
            "e  Math          5\n",
            "   Physics      10\n",
            "   French       15\n",
            "   Chemistry    20\n",
            "dtype: int64\n"
          ]
        }
      ]
    },
    {
      "cell_type": "code",
      "source": [
        "import pandas as pd\n",
        "w = pd.Series({'a':1 ,'b':2 ,'c':3 ,'d':4 ,'e':5})\n",
        "x = pd.Series({'a':6 ,'b':7 ,'c':8 ,'d':9 ,'e':10})\n",
        "y = pd.Series({'a':11 ,'b':12 ,'c':13 ,'d':14 ,'e':15})\n",
        "z = pd.Series({'a':16 ,'b':17 ,'c':18 ,'d':19 ,'e':20})\n",
        "grades = pd.DataFrame({'Math':w,'Physics':x,'French':y,'Chemistry':z})\n",
        "\n",
        "print(grades.iloc[:3, :2])"
      ],
      "metadata": {
        "colab": {
          "base_uri": "https://localhost:8080/"
        },
        "id": "7TIkyATt1d7s",
        "outputId": "5cb9489c-6969-43f0-b6a4-ef1607128a77"
      },
      "execution_count": 41,
      "outputs": [
        {
          "output_type": "stream",
          "name": "stdout",
          "text": [
            "   Math  Physics\n",
            "a     1        6\n",
            "b     2        7\n",
            "c     3        8\n"
          ]
        }
      ]
    },
    {
      "cell_type": "code",
      "source": [
        "import pandas as pd\n",
        "w = pd.Series({'a':1 ,'b':2 ,'c':3 ,'d':4 ,'e':5})\n",
        "x = pd.Series({'a':6 ,'b':7 ,'c':8 ,'d':9 ,'e':10})\n",
        "y = pd.Series({'a':11 ,'b':12 ,'c':13 ,'d':14 ,'e':15})\n",
        "z = pd.Series({'a':16 ,'b':17 ,'c':18 ,'d':19 ,'e':20})\n",
        "grades = pd.DataFrame({'Math':w,'Physics':x,'French':y,'Chemistry':z})\n",
        "print(grades.loc['b':'c', 'Math':])"
      ],
      "metadata": {
        "colab": {
          "base_uri": "https://localhost:8080/"
        },
        "id": "deuqomO_1osm",
        "outputId": "f7476e68-1f1f-438e-cd8f-f6193b702de9"
      },
      "execution_count": 42,
      "outputs": [
        {
          "output_type": "stream",
          "name": "stdout",
          "text": [
            "   Math  Physics  French  Chemistry\n",
            "b     2        7      12         17\n",
            "c     3        8      13         18\n"
          ]
        }
      ]
    },
    {
      "cell_type": "code",
      "source": [
        "import pandas as pd\n",
        "w = pd.Series({'a':1 ,'b':2 ,'c':3 ,'d':4 ,'e':5})\n",
        "x = pd.Series({'a':6 ,'b':7 ,'c':8 ,'d':9 ,'e':10})\n",
        "y = pd.Series({'a':11 ,'b':12 ,'c':13 ,'d':14 ,'e':15})\n",
        "z = pd.Series({'a':16 ,'b':17 ,'c':18 ,'d':19 ,'e':20})\n",
        "grades = pd.DataFrame({'Math':w,'Physics':x,'French':y,'Chemistry':z})\n",
        "print(grades.loc[grades.Math >3])"
      ],
      "metadata": {
        "colab": {
          "base_uri": "https://localhost:8080/"
        },
        "id": "2HWwvDaX1yD5",
        "outputId": "6ce88cf8-dd1c-49e6-9cdf-698a70bdc08f"
      },
      "execution_count": 43,
      "outputs": [
        {
          "output_type": "stream",
          "name": "stdout",
          "text": [
            "   Math  Physics  French  Chemistry\n",
            "d     4        9      14         19\n",
            "e     5       10      15         20\n"
          ]
        }
      ]
    },
    {
      "cell_type": "code",
      "source": [
        "import pandas as pd\n",
        "w = pd.Series({'a':1 ,'b':2 ,'c':3 ,'d':4 ,'e':5})\n",
        "x = pd.Series({'a':6 ,'b':7 ,'c':8 ,'d':9 ,'e':10})\n",
        "y = pd.Series({'a':11 ,'b':12 ,'c':13 ,'d':14 ,'e':15})\n",
        "z = pd.Series({'a':16 ,'b':17 ,'c':18 ,'d':19 ,'e':20})\n",
        "grades = pd.DataFrame({'Math':w,'Physics':x,'French':y,'Chemistry':z})\n",
        "\n",
        "print(grades.loc[grades.Math > 3, ['French', 'Math']])"
      ],
      "metadata": {
        "colab": {
          "base_uri": "https://localhost:8080/"
        },
        "id": "hlu7ocUz1_7R",
        "outputId": "4aa14426-8322-4f22-8f3d-baeb746a68ca"
      },
      "execution_count": 44,
      "outputs": [
        {
          "output_type": "stream",
          "name": "stdout",
          "text": [
            "   French  Math\n",
            "d      14     4\n",
            "e      15     5\n"
          ]
        }
      ]
    },
    {
      "cell_type": "code",
      "source": [
        "import pandas as pd\n",
        "w = pd.Series({'a':1 ,'b':2 ,'c':3 ,'d':4 ,'e':5})\n",
        "x = pd.Series({'a':6 ,'b':7 ,'c':8 ,'d':9 ,'e':10})\n",
        "y = pd.Series({'a':11 ,'b':12 ,'c':13 ,'d':14 ,'e':15})\n",
        "z = pd.Series({'a':16 ,'b':17 ,'c':18 ,'d':19 ,'e':20})\n",
        "grades = pd.DataFrame({'Math':w,'Physics':x,'French':y,'Chemistry':z})\n",
        "print(grades.columns) ## same as df.keys()\n",
        "print(grades.index)"
      ],
      "metadata": {
        "colab": {
          "base_uri": "https://localhost:8080/"
        },
        "id": "u_thEJnD2L26",
        "outputId": "f09c7c0d-4d62-45fa-a067-8f95ad04435d"
      },
      "execution_count": 45,
      "outputs": [
        {
          "output_type": "stream",
          "name": "stdout",
          "text": [
            "Index(['Math', 'Physics', 'French', 'Chemistry'], dtype='object')\n",
            "Index(['a', 'b', 'c', 'd', 'e'], dtype='object')\n"
          ]
        }
      ]
    },
    {
      "cell_type": "code",
      "source": [
        "import pandas as pd\n",
        "w = pd.Series({'a':1 ,'b':2 ,'c':3 ,'d':4 ,'e':5})\n",
        "x = pd.Series({'a':6 ,'b':7 ,'c':8 ,'d':9 ,'e':10})\n",
        "y = pd.Series({'a':11 ,'b':12 ,'c':13 ,'d':14 ,'e':15})\n",
        "z = pd.Series({'a':16 ,'b':17 ,'c':18 ,'d':19 ,'e':20})\n",
        "grades = pd.DataFrame({'Math':w,'Physics':x,'French':y,'Chemistry':z})\n",
        "print(grades['Math'])"
      ],
      "metadata": {
        "colab": {
          "base_uri": "https://localhost:8080/"
        },
        "id": "pa6UJhlp2Rpy",
        "outputId": "34102348-f6ee-485b-9432-4e1b2ba1ac5b"
      },
      "execution_count": 46,
      "outputs": [
        {
          "output_type": "stream",
          "name": "stdout",
          "text": [
            "a    1\n",
            "b    2\n",
            "c    3\n",
            "d    4\n",
            "e    5\n",
            "Name: Math, dtype: int64\n"
          ]
        }
      ]
    },
    {
      "cell_type": "code",
      "source": [
        "import pandas as pd\n",
        "df1 = pd.DataFrame({'employee': ['Bob', 'Jake', 'Lisa', 'Sue'],\n",
        " 'group': ['Accounting', 'Engineering',\n",
        " 'Engineering', 'HR']})\n",
        "df2 = pd.DataFrame({'employee': ['Lisa', 'Bob', 'Jake', 'Sue'],\n",
        " 'hire_date': [2004, 2008, 2012, 2014]})\n",
        "df3 = pd.DataFrame({'name': ['Bob', 'Jake', 'Lisa', 'Sue'],\n",
        " 'salary': [70000, 80000, 120000, 90000]})\n",
        "print(df1)\n",
        "\n",
        "df2 = df1.set_index('employee')\n",
        "print(df2)"
      ],
      "metadata": {
        "colab": {
          "base_uri": "https://localhost:8080/"
        },
        "id": "CPG94fYv2UtD",
        "outputId": "33ace9b6-aae4-4798-9f65-876f7b1fea2d"
      },
      "execution_count": 47,
      "outputs": [
        {
          "output_type": "stream",
          "name": "stdout",
          "text": [
            "  employee        group\n",
            "0      Bob   Accounting\n",
            "1     Jake  Engineering\n",
            "2     Lisa  Engineering\n",
            "3      Sue           HR\n",
            "                group\n",
            "employee             \n",
            "Bob        Accounting\n",
            "Jake      Engineering\n",
            "Lisa      Engineering\n",
            "Sue                HR\n"
          ]
        }
      ]
    },
    {
      "cell_type": "markdown",
      "source": [
        "###Sort the elements in the DF\n",
        "Sorting the DataFrame based on the values of a specific column in ascending or\n",
        "descending order (using the parameter ascending=False if needed)."
      ],
      "metadata": {
        "id": "vqn96kVN2pXx"
      }
    },
    {
      "cell_type": "code",
      "source": [
        "import pandas as pd\n",
        "w = pd.Series({'a':1 ,'b':2 ,'c':3 ,'d':4 ,'e':5})\n",
        "x = pd.Series({'a':6 ,'b':7 ,'c':8 ,'d':9 ,'e':10})\n",
        "y = pd.Series({'a':11 ,'b':12 ,'c':13 ,'d':14 ,'e':15})\n",
        "z = pd.Series({'a':16 ,'b':17 ,'c':18 ,'d':19 ,'e':20})\n",
        "grades = pd.DataFrame({'Math':w,'Physics':x,'French':y,'Chemistry':z})\n",
        "print(grades.sort_values(['Math'],ascending= False))\n",
        "print(grades.sort_values(['French'],ascending= True))"
      ],
      "metadata": {
        "colab": {
          "base_uri": "https://localhost:8080/"
        },
        "id": "0u3VqLXq2hIf",
        "outputId": "7bfd44e8-0dc9-46e9-b732-7d1fe1a3ccc5"
      },
      "execution_count": 48,
      "outputs": [
        {
          "output_type": "stream",
          "name": "stdout",
          "text": [
            "   Math  Physics  French  Chemistry\n",
            "e     5       10      15         20\n",
            "d     4        9      14         19\n",
            "c     3        8      13         18\n",
            "b     2        7      12         17\n",
            "a     1        6      11         16\n",
            "   Math  Physics  French  Chemistry\n",
            "a     1        6      11         16\n",
            "b     2        7      12         17\n",
            "c     3        8      13         18\n",
            "d     4        9      14         19\n",
            "e     5       10      15         20\n"
          ]
        }
      ]
    },
    {
      "cell_type": "code",
      "source": [
        "import pandas as pd\n",
        "w = pd.Series({'a':1 ,'b':2 ,'c':3 ,'d':4 ,'e':5})\n",
        "x = pd.Series({'a':6 ,'b':7 ,'c':8 ,'d':9 ,'e':10})\n",
        "y = pd.Series({'a':11 ,'b':12 ,'c':13 ,'d':14 ,'e':15})\n",
        "z = pd.Series({'a':16 ,'b':17 ,'c':18 ,'d':19 ,'e':20})\n",
        "grades = pd.DataFrame({'Math':w,'Physics':x,'French':y,'Chemistry':z})\n",
        "print(\"The max. for DF all columns\\n\", grades.max())\n",
        "print(\"The min. for DF all columns\\n \",grades.min())\n",
        "print(\"The mean for DF all columns\\n \",grades.mean())\n",
        "print(\"The std. for DF all columns\\n \",grades.std())"
      ],
      "metadata": {
        "colab": {
          "base_uri": "https://localhost:8080/"
        },
        "id": "v05pG7Ab2nOf",
        "outputId": "0c982fd2-7e50-4e26-a430-36a9b9c366c8"
      },
      "execution_count": 49,
      "outputs": [
        {
          "output_type": "stream",
          "name": "stdout",
          "text": [
            "The max. for DF all columns\n",
            " Math          5\n",
            "Physics      10\n",
            "French       15\n",
            "Chemistry    20\n",
            "dtype: int64\n",
            "The min. for DF all columns\n",
            "  Math          1\n",
            "Physics       6\n",
            "French       11\n",
            "Chemistry    16\n",
            "dtype: int64\n",
            "The mean for DF all columns\n",
            "  Math          3.0\n",
            "Physics       8.0\n",
            "French       13.0\n",
            "Chemistry    18.0\n",
            "dtype: float64\n",
            "The std. for DF all columns\n",
            "  Math         1.581139\n",
            "Physics      1.581139\n",
            "French       1.581139\n",
            "Chemistry    1.581139\n",
            "dtype: float64\n"
          ]
        }
      ]
    },
    {
      "cell_type": "code",
      "source": [
        "import pandas as pd\n",
        "w = pd.Series({'a':1 ,'b':2 ,'c':3 ,'d':4 ,'e':5})\n",
        "x = pd.Series({'a':6 ,'b':7 ,'c':8 ,'d':9 ,'e':10})\n",
        "y = pd.Series({'a':11 ,'b':12 ,'c':13 ,'d':14 ,'e':15})\n",
        "z = pd.Series({'a':16 ,'b':17 ,'c':18 ,'d':19 ,'e':20})\n",
        "grades = pd.DataFrame({'Math':w,'Physics':x,'French':y,'Chemistry':z})\n",
        "print(grades['Math'].max())\n",
        "print(grades['French'].min())\n",
        "print(grades['Physics'].mean())\n",
        "print(grades['Chemistry'].std())"
      ],
      "metadata": {
        "colab": {
          "base_uri": "https://localhost:8080/"
        },
        "id": "59ycLXuL3ExR",
        "outputId": "bfe573b8-e7e2-4a08-db83-99c76dc8346e"
      },
      "execution_count": 50,
      "outputs": [
        {
          "output_type": "stream",
          "name": "stdout",
          "text": [
            "5\n",
            "11\n",
            "8.0\n",
            "1.5811388300841898\n"
          ]
        }
      ]
    },
    {
      "cell_type": "code",
      "source": [
        "import pandas as pd\n",
        "import numpy as np\n",
        "df = pd.DataFrame(np.random.rand(5, 3), columns=['A', 'B', 'C'])\n",
        "print(df)\n",
        "print(df.corr())"
      ],
      "metadata": {
        "colab": {
          "base_uri": "https://localhost:8080/"
        },
        "id": "_NZ-wxT73JGR",
        "outputId": "2cf63a5e-858a-4859-93bc-19983063ad55"
      },
      "execution_count": 51,
      "outputs": [
        {
          "output_type": "stream",
          "name": "stdout",
          "text": [
            "          A         B         C\n",
            "0  0.289076  0.669405  0.199257\n",
            "1  0.079012  0.239085  0.534292\n",
            "2  0.030353  0.292524  0.227824\n",
            "3  0.858252  0.140707  0.877499\n",
            "4  0.570819  0.483660  0.318282\n",
            "          A         B         C\n",
            "A  1.000000 -0.166859  0.644584\n",
            "B -0.166859  1.000000 -0.766429\n",
            "C  0.644584 -0.766429  1.000000\n"
          ]
        }
      ]
    },
    {
      "cell_type": "code",
      "source": [
        "import pandas as pd\n",
        "import numpy as np\n",
        "df = pd.DataFrame(np.random.rand(5, 3), columns=['A', 'B', 'C'])\n",
        "print(df)\n",
        "print(df.skew())"
      ],
      "metadata": {
        "colab": {
          "base_uri": "https://localhost:8080/"
        },
        "id": "FlOawi5q3MHG",
        "outputId": "fe0144a6-da29-4808-d45b-e9e64a502c10"
      },
      "execution_count": 52,
      "outputs": [
        {
          "output_type": "stream",
          "name": "stdout",
          "text": [
            "          A         B         C\n",
            "0  0.476087  0.343299  0.745680\n",
            "1  0.543383  0.420103  0.209525\n",
            "2  0.304596  0.783820  0.842618\n",
            "3  0.208616  0.218496  0.955095\n",
            "4  0.632175  0.967918  0.057061\n",
            "A   -0.324755\n",
            "B    0.559100\n",
            "C   -0.535716\n",
            "dtype: float64\n"
          ]
        }
      ]
    },
    {
      "cell_type": "code",
      "source": [
        "import pandas as pd\n",
        "w = pd.Series({'a':1 ,'b':2 ,'c':3 ,'d':4 ,'e':5})\n",
        "x = pd.Series({'a':6 ,'b':7 ,'c':8 ,'d':9 ,'e':10})\n",
        "y = pd.Series({'a':11 ,'b':12 ,'c':13 ,'d':14 ,'e':15})\n",
        "z = pd.Series({'a':16 ,'b':17 ,'c':18 ,'d':19 ,'e':20})\n",
        "grades = pd.DataFrame({'Math':w,'Physics':x,'French':y,'Chemistry':z})\n",
        "grades['Total'] = (grades['Math'] + grades['French'] +\n",
        " grades['Chemistry']+ grades['Physics']) /100\n",
        "print(grades)"
      ],
      "metadata": {
        "colab": {
          "base_uri": "https://localhost:8080/"
        },
        "id": "ALKvcXVv3QKM",
        "outputId": "9e849315-f184-4ae2-8e6c-d6f6827af921"
      },
      "execution_count": 53,
      "outputs": [
        {
          "output_type": "stream",
          "name": "stdout",
          "text": [
            "   Math  Physics  French  Chemistry  Total\n",
            "a     1        6      11         16   0.34\n",
            "b     2        7      12         17   0.38\n",
            "c     3        8      13         18   0.42\n",
            "d     4        9      14         19   0.46\n",
            "e     5       10      15         20   0.50\n"
          ]
        }
      ]
    },
    {
      "cell_type": "code",
      "source": [
        "import pandas as pd\n",
        "import numpy as np\n",
        "df = pd.DataFrame(np.random.rand(5, 3), columns=['A', 'B', 'C'])\n",
        "\n",
        "result = (df['A'] + df['B']) / (df['C'] - 1)\n",
        "\n",
        "print(df)\n",
        "print(result)"
      ],
      "metadata": {
        "colab": {
          "base_uri": "https://localhost:8080/"
        },
        "id": "MFdWyX5L3T79",
        "outputId": "eba98daf-6273-4cae-8c34-4cc890547873"
      },
      "execution_count": 54,
      "outputs": [
        {
          "output_type": "stream",
          "name": "stdout",
          "text": [
            "          A         B         C\n",
            "0  0.478642  0.671048  0.390761\n",
            "1  0.970197  0.452453  0.974194\n",
            "2  0.473286  0.467462  0.289697\n",
            "3  0.468144  0.483243  0.124441\n",
            "4  0.261616  0.674787  0.739605\n",
            "0    -1.887092\n",
            "1   -55.128953\n",
            "2    -1.324432\n",
            "3    -1.086605\n",
            "4    -3.596091\n",
            "dtype: float64\n"
          ]
        }
      ]
    },
    {
      "cell_type": "code",
      "source": [
        "# import pandas as pd\n",
        "# import numpy as np\n",
        "# df = pd.DataFrame(np.random.rand(5, 3), columns=['A', 'B', 'C'])\n",
        "# result = pd.eval(\"(df.A + df.B) / (df.C - 1)\")\n",
        "# print(df)\n",
        "# print(result)"
      ],
      "metadata": {
        "id": "QzawLV1p3h3G"
      },
      "execution_count": 57,
      "outputs": []
    },
    {
      "cell_type": "code",
      "source": [
        "import pandas as pd\n",
        "import numpy as np\n",
        "df = pd.DataFrame(np.random.rand(5, 3), columns=['A', 'B', 'C'])\n",
        "result = df.query('A < 0.5 and B < 0.5')\n",
        "print(df)\n",
        "print(result)"
      ],
      "metadata": {
        "colab": {
          "base_uri": "https://localhost:8080/"
        },
        "id": "-6tG_bfl3puL",
        "outputId": "5ba736a2-e563-43b2-9d7f-0e4f7d09dc9d"
      },
      "execution_count": 58,
      "outputs": [
        {
          "output_type": "stream",
          "name": "stdout",
          "text": [
            "          A         B         C\n",
            "0  0.233375  0.403975  0.011084\n",
            "1  0.776527  0.265969  0.713474\n",
            "2  0.112410  0.108777  0.735985\n",
            "3  0.025637  0.972637  0.861838\n",
            "4  0.960221  0.178660  0.278598\n",
            "          A         B         C\n",
            "0  0.233375  0.403975  0.011084\n",
            "2  0.112410  0.108777  0.735985\n"
          ]
        }
      ]
    },
    {
      "cell_type": "code",
      "source": [
        "import pandas as pd\n",
        "import numpy as np\n",
        "df = pd.DataFrame(np.random.rand(5, 3), columns=['A', 'B', 'C'])\n",
        "tmp1 = df.A < 0.5\n",
        "tmp2 = df.B < 0.5\n",
        "tmp3 = tmp1 & tmp2\n",
        "result1 = df[tmp3]\n",
        "result2 = df[(df.A < 0.5) & (df.B < 0.5)]\n",
        "result3 = df[(df.A < 0.5) | (df.B < 0.5)]\n",
        "print(df)\n",
        "print(result1)\n",
        "print(result2)\n",
        "print(result3)"
      ],
      "metadata": {
        "colab": {
          "base_uri": "https://localhost:8080/"
        },
        "id": "I__hJYEn4BH_",
        "outputId": "ea1f8b5a-d2a9-42a4-c9a0-06200fdf76bd"
      },
      "execution_count": 59,
      "outputs": [
        {
          "output_type": "stream",
          "name": "stdout",
          "text": [
            "          A         B         C\n",
            "0  0.568256  0.361649  0.379941\n",
            "1  0.153470  0.107895  0.797900\n",
            "2  0.998660  0.607691  0.478825\n",
            "3  0.936040  0.085432  0.743316\n",
            "4  0.552776  0.887956  0.863982\n",
            "         A         B       C\n",
            "1  0.15347  0.107895  0.7979\n",
            "         A         B       C\n",
            "1  0.15347  0.107895  0.7979\n",
            "          A         B         C\n",
            "0  0.568256  0.361649  0.379941\n",
            "1  0.153470  0.107895  0.797900\n",
            "3  0.936040  0.085432  0.743316\n"
          ]
        }
      ]
    },
    {
      "cell_type": "code",
      "source": [
        "import pandas as pd\n",
        "import numpy as np\n",
        "df = pd.DataFrame(np.random.rand(5, 3), columns=['A', 'B', 'C'])\n",
        "result = df[(df.A < 0.5) | (df.B < 0.5)]\n",
        "print(df)\n",
        "print(result)"
      ],
      "metadata": {
        "colab": {
          "base_uri": "https://localhost:8080/"
        },
        "id": "16vX-RFl4Feu",
        "outputId": "02bd5935-cca0-41b2-8403-c506bf618450"
      },
      "execution_count": 60,
      "outputs": [
        {
          "output_type": "stream",
          "name": "stdout",
          "text": [
            "          A         B         C\n",
            "0  0.257363  0.415224  0.741402\n",
            "1  0.339224  0.288567  0.650305\n",
            "2  0.968066  0.008254  0.294569\n",
            "3  0.637378  0.250792  0.703777\n",
            "4  0.826183  0.176612  0.466840\n",
            "          A         B         C\n",
            "0  0.257363  0.415224  0.741402\n",
            "1  0.339224  0.288567  0.650305\n",
            "2  0.968066  0.008254  0.294569\n",
            "3  0.637378  0.250792  0.703777\n",
            "4  0.826183  0.176612  0.466840\n"
          ]
        }
      ]
    },
    {
      "cell_type": "code",
      "source": [
        "df1 = pd.DataFrame(\n",
        " {\n",
        " \"A\": [\"A0\", \"A1\", \"A2\", \"A3\"],\n",
        " \"B\": [\"B0\", \"B1\", \"B2\", \"B3\"],\n",
        " \"C\": [\"C0\", \"C1\", \"C2\", \"C3\"],\n",
        " \"D\": [\"D0\", \"D1\", \"D2\", \"D3\"],\n",
        " },\n",
        " index=[0, 1, 2, 3],\n",
        ")\n",
        "df2 = pd.DataFrame(\n",
        " {\n",
        " \"A\": [\"A4\", \"A5\", \"A6\", \"A7\"],\n",
        " \"B\": [\"B4\", \"B5\", \"B6\", \"B7\"],\n",
        " \"C\": [\"C4\", \"C5\", \"C6\", \"C7\"],\n",
        " \"D\": [\"D4\", \"D5\", \"D6\", \"D7\"],\n",
        " },\n",
        " index=[4, 5, 6, 7],\n",
        ")\n",
        "df3 = pd.DataFrame(\n",
        " {\n",
        " \"A\": [\"A8\", \"A9\", \"A10\", \"A11\"],\n",
        " \"B\": [\"B8\", \"B9\", \"B10\", \"B11\"],\n",
        " \"C\": [\"C8\", \"C9\", \"C10\", \"C11\"],\n",
        " \"D\": [\"D8\", \"D9\", \"D10\", \"D11\"],\n",
        " },\n",
        "  index=[8, 9, 10, 11],\n",
        ")\n",
        "frames = [df1, df2, df3]\n",
        "result = pd.concat(frames)\n",
        "result\n"
      ],
      "metadata": {
        "colab": {
          "base_uri": "https://localhost:8080/",
          "height": 425
        },
        "id": "w_1Rzww64J_W",
        "outputId": "09fab54d-5def-40e5-a2ee-5768d70a7802"
      },
      "execution_count": 61,
      "outputs": [
        {
          "output_type": "execute_result",
          "data": {
            "text/plain": [
              "      A    B    C    D\n",
              "0    A0   B0   C0   D0\n",
              "1    A1   B1   C1   D1\n",
              "2    A2   B2   C2   D2\n",
              "3    A3   B3   C3   D3\n",
              "4    A4   B4   C4   D4\n",
              "5    A5   B5   C5   D5\n",
              "6    A6   B6   C6   D6\n",
              "7    A7   B7   C7   D7\n",
              "8    A8   B8   C8   D8\n",
              "9    A9   B9   C9   D9\n",
              "10  A10  B10  C10  D10\n",
              "11  A11  B11  C11  D11"
            ],
            "text/html": [
              "\n",
              "  <div id=\"df-a715f869-0cd5-47c2-8972-a07795c67225\" class=\"colab-df-container\">\n",
              "    <div>\n",
              "<style scoped>\n",
              "    .dataframe tbody tr th:only-of-type {\n",
              "        vertical-align: middle;\n",
              "    }\n",
              "\n",
              "    .dataframe tbody tr th {\n",
              "        vertical-align: top;\n",
              "    }\n",
              "\n",
              "    .dataframe thead th {\n",
              "        text-align: right;\n",
              "    }\n",
              "</style>\n",
              "<table border=\"1\" class=\"dataframe\">\n",
              "  <thead>\n",
              "    <tr style=\"text-align: right;\">\n",
              "      <th></th>\n",
              "      <th>A</th>\n",
              "      <th>B</th>\n",
              "      <th>C</th>\n",
              "      <th>D</th>\n",
              "    </tr>\n",
              "  </thead>\n",
              "  <tbody>\n",
              "    <tr>\n",
              "      <th>0</th>\n",
              "      <td>A0</td>\n",
              "      <td>B0</td>\n",
              "      <td>C0</td>\n",
              "      <td>D0</td>\n",
              "    </tr>\n",
              "    <tr>\n",
              "      <th>1</th>\n",
              "      <td>A1</td>\n",
              "      <td>B1</td>\n",
              "      <td>C1</td>\n",
              "      <td>D1</td>\n",
              "    </tr>\n",
              "    <tr>\n",
              "      <th>2</th>\n",
              "      <td>A2</td>\n",
              "      <td>B2</td>\n",
              "      <td>C2</td>\n",
              "      <td>D2</td>\n",
              "    </tr>\n",
              "    <tr>\n",
              "      <th>3</th>\n",
              "      <td>A3</td>\n",
              "      <td>B3</td>\n",
              "      <td>C3</td>\n",
              "      <td>D3</td>\n",
              "    </tr>\n",
              "    <tr>\n",
              "      <th>4</th>\n",
              "      <td>A4</td>\n",
              "      <td>B4</td>\n",
              "      <td>C4</td>\n",
              "      <td>D4</td>\n",
              "    </tr>\n",
              "    <tr>\n",
              "      <th>5</th>\n",
              "      <td>A5</td>\n",
              "      <td>B5</td>\n",
              "      <td>C5</td>\n",
              "      <td>D5</td>\n",
              "    </tr>\n",
              "    <tr>\n",
              "      <th>6</th>\n",
              "      <td>A6</td>\n",
              "      <td>B6</td>\n",
              "      <td>C6</td>\n",
              "      <td>D6</td>\n",
              "    </tr>\n",
              "    <tr>\n",
              "      <th>7</th>\n",
              "      <td>A7</td>\n",
              "      <td>B7</td>\n",
              "      <td>C7</td>\n",
              "      <td>D7</td>\n",
              "    </tr>\n",
              "    <tr>\n",
              "      <th>8</th>\n",
              "      <td>A8</td>\n",
              "      <td>B8</td>\n",
              "      <td>C8</td>\n",
              "      <td>D8</td>\n",
              "    </tr>\n",
              "    <tr>\n",
              "      <th>9</th>\n",
              "      <td>A9</td>\n",
              "      <td>B9</td>\n",
              "      <td>C9</td>\n",
              "      <td>D9</td>\n",
              "    </tr>\n",
              "    <tr>\n",
              "      <th>10</th>\n",
              "      <td>A10</td>\n",
              "      <td>B10</td>\n",
              "      <td>C10</td>\n",
              "      <td>D10</td>\n",
              "    </tr>\n",
              "    <tr>\n",
              "      <th>11</th>\n",
              "      <td>A11</td>\n",
              "      <td>B11</td>\n",
              "      <td>C11</td>\n",
              "      <td>D11</td>\n",
              "    </tr>\n",
              "  </tbody>\n",
              "</table>\n",
              "</div>\n",
              "    <div class=\"colab-df-buttons\">\n",
              "\n",
              "  <div class=\"colab-df-container\">\n",
              "    <button class=\"colab-df-convert\" onclick=\"convertToInteractive('df-a715f869-0cd5-47c2-8972-a07795c67225')\"\n",
              "            title=\"Convert this dataframe to an interactive table.\"\n",
              "            style=\"display:none;\">\n",
              "\n",
              "  <svg xmlns=\"http://www.w3.org/2000/svg\" height=\"24px\" viewBox=\"0 -960 960 960\">\n",
              "    <path d=\"M120-120v-720h720v720H120Zm60-500h600v-160H180v160Zm220 220h160v-160H400v160Zm0 220h160v-160H400v160ZM180-400h160v-160H180v160Zm440 0h160v-160H620v160ZM180-180h160v-160H180v160Zm440 0h160v-160H620v160Z\"/>\n",
              "  </svg>\n",
              "    </button>\n",
              "\n",
              "  <style>\n",
              "    .colab-df-container {\n",
              "      display:flex;\n",
              "      gap: 12px;\n",
              "    }\n",
              "\n",
              "    .colab-df-convert {\n",
              "      background-color: #E8F0FE;\n",
              "      border: none;\n",
              "      border-radius: 50%;\n",
              "      cursor: pointer;\n",
              "      display: none;\n",
              "      fill: #1967D2;\n",
              "      height: 32px;\n",
              "      padding: 0 0 0 0;\n",
              "      width: 32px;\n",
              "    }\n",
              "\n",
              "    .colab-df-convert:hover {\n",
              "      background-color: #E2EBFA;\n",
              "      box-shadow: 0px 1px 2px rgba(60, 64, 67, 0.3), 0px 1px 3px 1px rgba(60, 64, 67, 0.15);\n",
              "      fill: #174EA6;\n",
              "    }\n",
              "\n",
              "    .colab-df-buttons div {\n",
              "      margin-bottom: 4px;\n",
              "    }\n",
              "\n",
              "    [theme=dark] .colab-df-convert {\n",
              "      background-color: #3B4455;\n",
              "      fill: #D2E3FC;\n",
              "    }\n",
              "\n",
              "    [theme=dark] .colab-df-convert:hover {\n",
              "      background-color: #434B5C;\n",
              "      box-shadow: 0px 1px 3px 1px rgba(0, 0, 0, 0.15);\n",
              "      filter: drop-shadow(0px 1px 2px rgba(0, 0, 0, 0.3));\n",
              "      fill: #FFFFFF;\n",
              "    }\n",
              "  </style>\n",
              "\n",
              "    <script>\n",
              "      const buttonEl =\n",
              "        document.querySelector('#df-a715f869-0cd5-47c2-8972-a07795c67225 button.colab-df-convert');\n",
              "      buttonEl.style.display =\n",
              "        google.colab.kernel.accessAllowed ? 'block' : 'none';\n",
              "\n",
              "      async function convertToInteractive(key) {\n",
              "        const element = document.querySelector('#df-a715f869-0cd5-47c2-8972-a07795c67225');\n",
              "        const dataTable =\n",
              "          await google.colab.kernel.invokeFunction('convertToInteractive',\n",
              "                                                    [key], {});\n",
              "        if (!dataTable) return;\n",
              "\n",
              "        const docLinkHtml = 'Like what you see? Visit the ' +\n",
              "          '<a target=\"_blank\" href=https://colab.research.google.com/notebooks/data_table.ipynb>data table notebook</a>'\n",
              "          + ' to learn more about interactive tables.';\n",
              "        element.innerHTML = '';\n",
              "        dataTable['output_type'] = 'display_data';\n",
              "        await google.colab.output.renderOutput(dataTable, element);\n",
              "        const docLink = document.createElement('div');\n",
              "        docLink.innerHTML = docLinkHtml;\n",
              "        element.appendChild(docLink);\n",
              "      }\n",
              "    </script>\n",
              "  </div>\n",
              "\n",
              "\n",
              "<div id=\"df-89691190-01fc-4289-8e3f-cfb2c8f01179\">\n",
              "  <button class=\"colab-df-quickchart\" onclick=\"quickchart('df-89691190-01fc-4289-8e3f-cfb2c8f01179')\"\n",
              "            title=\"Suggest charts\"\n",
              "            style=\"display:none;\">\n",
              "\n",
              "<svg xmlns=\"http://www.w3.org/2000/svg\" height=\"24px\"viewBox=\"0 0 24 24\"\n",
              "     width=\"24px\">\n",
              "    <g>\n",
              "        <path d=\"M19 3H5c-1.1 0-2 .9-2 2v14c0 1.1.9 2 2 2h14c1.1 0 2-.9 2-2V5c0-1.1-.9-2-2-2zM9 17H7v-7h2v7zm4 0h-2V7h2v10zm4 0h-2v-4h2v4z\"/>\n",
              "    </g>\n",
              "</svg>\n",
              "  </button>\n",
              "\n",
              "<style>\n",
              "  .colab-df-quickchart {\n",
              "      --bg-color: #E8F0FE;\n",
              "      --fill-color: #1967D2;\n",
              "      --hover-bg-color: #E2EBFA;\n",
              "      --hover-fill-color: #174EA6;\n",
              "      --disabled-fill-color: #AAA;\n",
              "      --disabled-bg-color: #DDD;\n",
              "  }\n",
              "\n",
              "  [theme=dark] .colab-df-quickchart {\n",
              "      --bg-color: #3B4455;\n",
              "      --fill-color: #D2E3FC;\n",
              "      --hover-bg-color: #434B5C;\n",
              "      --hover-fill-color: #FFFFFF;\n",
              "      --disabled-bg-color: #3B4455;\n",
              "      --disabled-fill-color: #666;\n",
              "  }\n",
              "\n",
              "  .colab-df-quickchart {\n",
              "    background-color: var(--bg-color);\n",
              "    border: none;\n",
              "    border-radius: 50%;\n",
              "    cursor: pointer;\n",
              "    display: none;\n",
              "    fill: var(--fill-color);\n",
              "    height: 32px;\n",
              "    padding: 0;\n",
              "    width: 32px;\n",
              "  }\n",
              "\n",
              "  .colab-df-quickchart:hover {\n",
              "    background-color: var(--hover-bg-color);\n",
              "    box-shadow: 0 1px 2px rgba(60, 64, 67, 0.3), 0 1px 3px 1px rgba(60, 64, 67, 0.15);\n",
              "    fill: var(--button-hover-fill-color);\n",
              "  }\n",
              "\n",
              "  .colab-df-quickchart-complete:disabled,\n",
              "  .colab-df-quickchart-complete:disabled:hover {\n",
              "    background-color: var(--disabled-bg-color);\n",
              "    fill: var(--disabled-fill-color);\n",
              "    box-shadow: none;\n",
              "  }\n",
              "\n",
              "  .colab-df-spinner {\n",
              "    border: 2px solid var(--fill-color);\n",
              "    border-color: transparent;\n",
              "    border-bottom-color: var(--fill-color);\n",
              "    animation:\n",
              "      spin 1s steps(1) infinite;\n",
              "  }\n",
              "\n",
              "  @keyframes spin {\n",
              "    0% {\n",
              "      border-color: transparent;\n",
              "      border-bottom-color: var(--fill-color);\n",
              "      border-left-color: var(--fill-color);\n",
              "    }\n",
              "    20% {\n",
              "      border-color: transparent;\n",
              "      border-left-color: var(--fill-color);\n",
              "      border-top-color: var(--fill-color);\n",
              "    }\n",
              "    30% {\n",
              "      border-color: transparent;\n",
              "      border-left-color: var(--fill-color);\n",
              "      border-top-color: var(--fill-color);\n",
              "      border-right-color: var(--fill-color);\n",
              "    }\n",
              "    40% {\n",
              "      border-color: transparent;\n",
              "      border-right-color: var(--fill-color);\n",
              "      border-top-color: var(--fill-color);\n",
              "    }\n",
              "    60% {\n",
              "      border-color: transparent;\n",
              "      border-right-color: var(--fill-color);\n",
              "    }\n",
              "    80% {\n",
              "      border-color: transparent;\n",
              "      border-right-color: var(--fill-color);\n",
              "      border-bottom-color: var(--fill-color);\n",
              "    }\n",
              "    90% {\n",
              "      border-color: transparent;\n",
              "      border-bottom-color: var(--fill-color);\n",
              "    }\n",
              "  }\n",
              "</style>\n",
              "\n",
              "  <script>\n",
              "    async function quickchart(key) {\n",
              "      const quickchartButtonEl =\n",
              "        document.querySelector('#' + key + ' button');\n",
              "      quickchartButtonEl.disabled = true;  // To prevent multiple clicks.\n",
              "      quickchartButtonEl.classList.add('colab-df-spinner');\n",
              "      try {\n",
              "        const charts = await google.colab.kernel.invokeFunction(\n",
              "            'suggestCharts', [key], {});\n",
              "      } catch (error) {\n",
              "        console.error('Error during call to suggestCharts:', error);\n",
              "      }\n",
              "      quickchartButtonEl.classList.remove('colab-df-spinner');\n",
              "      quickchartButtonEl.classList.add('colab-df-quickchart-complete');\n",
              "    }\n",
              "    (() => {\n",
              "      let quickchartButtonEl =\n",
              "        document.querySelector('#df-89691190-01fc-4289-8e3f-cfb2c8f01179 button');\n",
              "      quickchartButtonEl.style.display =\n",
              "        google.colab.kernel.accessAllowed ? 'block' : 'none';\n",
              "    })();\n",
              "  </script>\n",
              "</div>\n",
              "\n",
              "  <div id=\"id_8268a573-0268-422f-8bae-f18ae6626b29\">\n",
              "    <style>\n",
              "      .colab-df-generate {\n",
              "        background-color: #E8F0FE;\n",
              "        border: none;\n",
              "        border-radius: 50%;\n",
              "        cursor: pointer;\n",
              "        display: none;\n",
              "        fill: #1967D2;\n",
              "        height: 32px;\n",
              "        padding: 0 0 0 0;\n",
              "        width: 32px;\n",
              "      }\n",
              "\n",
              "      .colab-df-generate:hover {\n",
              "        background-color: #E2EBFA;\n",
              "        box-shadow: 0px 1px 2px rgba(60, 64, 67, 0.3), 0px 1px 3px 1px rgba(60, 64, 67, 0.15);\n",
              "        fill: #174EA6;\n",
              "      }\n",
              "\n",
              "      [theme=dark] .colab-df-generate {\n",
              "        background-color: #3B4455;\n",
              "        fill: #D2E3FC;\n",
              "      }\n",
              "\n",
              "      [theme=dark] .colab-df-generate:hover {\n",
              "        background-color: #434B5C;\n",
              "        box-shadow: 0px 1px 3px 1px rgba(0, 0, 0, 0.15);\n",
              "        filter: drop-shadow(0px 1px 2px rgba(0, 0, 0, 0.3));\n",
              "        fill: #FFFFFF;\n",
              "      }\n",
              "    </style>\n",
              "    <button class=\"colab-df-generate\" onclick=\"generateWithVariable('result')\"\n",
              "            title=\"Generate code using this dataframe.\"\n",
              "            style=\"display:none;\">\n",
              "\n",
              "  <svg xmlns=\"http://www.w3.org/2000/svg\" height=\"24px\"viewBox=\"0 0 24 24\"\n",
              "       width=\"24px\">\n",
              "    <path d=\"M7,19H8.4L18.45,9,17,7.55,7,17.6ZM5,21V16.75L18.45,3.32a2,2,0,0,1,2.83,0l1.4,1.43a1.91,1.91,0,0,1,.58,1.4,1.91,1.91,0,0,1-.58,1.4L9.25,21ZM18.45,9,17,7.55Zm-12,3A5.31,5.31,0,0,0,4.9,8.1,5.31,5.31,0,0,0,1,6.5,5.31,5.31,0,0,0,4.9,4.9,5.31,5.31,0,0,0,6.5,1,5.31,5.31,0,0,0,8.1,4.9,5.31,5.31,0,0,0,12,6.5,5.46,5.46,0,0,0,6.5,12Z\"/>\n",
              "  </svg>\n",
              "    </button>\n",
              "    <script>\n",
              "      (() => {\n",
              "      const buttonEl =\n",
              "        document.querySelector('#id_8268a573-0268-422f-8bae-f18ae6626b29 button.colab-df-generate');\n",
              "      buttonEl.style.display =\n",
              "        google.colab.kernel.accessAllowed ? 'block' : 'none';\n",
              "\n",
              "      buttonEl.onclick = () => {\n",
              "        google.colab.notebook.generateWithVariable('result');\n",
              "      }\n",
              "      })();\n",
              "    </script>\n",
              "  </div>\n",
              "\n",
              "    </div>\n",
              "  </div>\n"
            ],
            "application/vnd.google.colaboratory.intrinsic+json": {
              "type": "dataframe",
              "variable_name": "result",
              "summary": "{\n  \"name\": \"result\",\n  \"rows\": 12,\n  \"fields\": [\n    {\n      \"column\": \"A\",\n      \"properties\": {\n        \"dtype\": \"string\",\n        \"num_unique_values\": 12,\n        \"samples\": [\n          \"A10\",\n          \"A9\",\n          \"A0\"\n        ],\n        \"semantic_type\": \"\",\n        \"description\": \"\"\n      }\n    },\n    {\n      \"column\": \"B\",\n      \"properties\": {\n        \"dtype\": \"string\",\n        \"num_unique_values\": 12,\n        \"samples\": [\n          \"B10\",\n          \"B9\",\n          \"B0\"\n        ],\n        \"semantic_type\": \"\",\n        \"description\": \"\"\n      }\n    },\n    {\n      \"column\": \"C\",\n      \"properties\": {\n        \"dtype\": \"string\",\n        \"num_unique_values\": 12,\n        \"samples\": [\n          \"C10\",\n          \"C9\",\n          \"C0\"\n        ],\n        \"semantic_type\": \"\",\n        \"description\": \"\"\n      }\n    },\n    {\n      \"column\": \"D\",\n      \"properties\": {\n        \"dtype\": \"string\",\n        \"num_unique_values\": 12,\n        \"samples\": [\n          \"D10\",\n          \"D9\",\n          \"D0\"\n        ],\n        \"semantic_type\": \"\",\n        \"description\": \"\"\n      }\n    }\n  ]\n}"
            }
          },
          "metadata": {},
          "execution_count": 61
        }
      ]
    },
    {
      "cell_type": "code",
      "source": [
        "result = pd.concat(frames, keys = [\"X\",\"Y\",\"Z\"])\n",
        "result"
      ],
      "metadata": {
        "colab": {
          "base_uri": "https://localhost:8080/",
          "height": 425
        },
        "id": "KogrJS8T4Td_",
        "outputId": "630df366-f4d8-4e1d-f772-b79de572e759"
      },
      "execution_count": 62,
      "outputs": [
        {
          "output_type": "execute_result",
          "data": {
            "text/plain": [
              "        A    B    C    D\n",
              "X 0    A0   B0   C0   D0\n",
              "  1    A1   B1   C1   D1\n",
              "  2    A2   B2   C2   D2\n",
              "  3    A3   B3   C3   D3\n",
              "Y 4    A4   B4   C4   D4\n",
              "  5    A5   B5   C5   D5\n",
              "  6    A6   B6   C6   D6\n",
              "  7    A7   B7   C7   D7\n",
              "Z 8    A8   B8   C8   D8\n",
              "  9    A9   B9   C9   D9\n",
              "  10  A10  B10  C10  D10\n",
              "  11  A11  B11  C11  D11"
            ],
            "text/html": [
              "\n",
              "  <div id=\"df-797c273f-1fe2-4f88-b74a-40f5b327d525\" class=\"colab-df-container\">\n",
              "    <div>\n",
              "<style scoped>\n",
              "    .dataframe tbody tr th:only-of-type {\n",
              "        vertical-align: middle;\n",
              "    }\n",
              "\n",
              "    .dataframe tbody tr th {\n",
              "        vertical-align: top;\n",
              "    }\n",
              "\n",
              "    .dataframe thead th {\n",
              "        text-align: right;\n",
              "    }\n",
              "</style>\n",
              "<table border=\"1\" class=\"dataframe\">\n",
              "  <thead>\n",
              "    <tr style=\"text-align: right;\">\n",
              "      <th></th>\n",
              "      <th></th>\n",
              "      <th>A</th>\n",
              "      <th>B</th>\n",
              "      <th>C</th>\n",
              "      <th>D</th>\n",
              "    </tr>\n",
              "  </thead>\n",
              "  <tbody>\n",
              "    <tr>\n",
              "      <th rowspan=\"4\" valign=\"top\">X</th>\n",
              "      <th>0</th>\n",
              "      <td>A0</td>\n",
              "      <td>B0</td>\n",
              "      <td>C0</td>\n",
              "      <td>D0</td>\n",
              "    </tr>\n",
              "    <tr>\n",
              "      <th>1</th>\n",
              "      <td>A1</td>\n",
              "      <td>B1</td>\n",
              "      <td>C1</td>\n",
              "      <td>D1</td>\n",
              "    </tr>\n",
              "    <tr>\n",
              "      <th>2</th>\n",
              "      <td>A2</td>\n",
              "      <td>B2</td>\n",
              "      <td>C2</td>\n",
              "      <td>D2</td>\n",
              "    </tr>\n",
              "    <tr>\n",
              "      <th>3</th>\n",
              "      <td>A3</td>\n",
              "      <td>B3</td>\n",
              "      <td>C3</td>\n",
              "      <td>D3</td>\n",
              "    </tr>\n",
              "    <tr>\n",
              "      <th rowspan=\"4\" valign=\"top\">Y</th>\n",
              "      <th>4</th>\n",
              "      <td>A4</td>\n",
              "      <td>B4</td>\n",
              "      <td>C4</td>\n",
              "      <td>D4</td>\n",
              "    </tr>\n",
              "    <tr>\n",
              "      <th>5</th>\n",
              "      <td>A5</td>\n",
              "      <td>B5</td>\n",
              "      <td>C5</td>\n",
              "      <td>D5</td>\n",
              "    </tr>\n",
              "    <tr>\n",
              "      <th>6</th>\n",
              "      <td>A6</td>\n",
              "      <td>B6</td>\n",
              "      <td>C6</td>\n",
              "      <td>D6</td>\n",
              "    </tr>\n",
              "    <tr>\n",
              "      <th>7</th>\n",
              "      <td>A7</td>\n",
              "      <td>B7</td>\n",
              "      <td>C7</td>\n",
              "      <td>D7</td>\n",
              "    </tr>\n",
              "    <tr>\n",
              "      <th rowspan=\"4\" valign=\"top\">Z</th>\n",
              "      <th>8</th>\n",
              "      <td>A8</td>\n",
              "      <td>B8</td>\n",
              "      <td>C8</td>\n",
              "      <td>D8</td>\n",
              "    </tr>\n",
              "    <tr>\n",
              "      <th>9</th>\n",
              "      <td>A9</td>\n",
              "      <td>B9</td>\n",
              "      <td>C9</td>\n",
              "      <td>D9</td>\n",
              "    </tr>\n",
              "    <tr>\n",
              "      <th>10</th>\n",
              "      <td>A10</td>\n",
              "      <td>B10</td>\n",
              "      <td>C10</td>\n",
              "      <td>D10</td>\n",
              "    </tr>\n",
              "    <tr>\n",
              "      <th>11</th>\n",
              "      <td>A11</td>\n",
              "      <td>B11</td>\n",
              "      <td>C11</td>\n",
              "      <td>D11</td>\n",
              "    </tr>\n",
              "  </tbody>\n",
              "</table>\n",
              "</div>\n",
              "    <div class=\"colab-df-buttons\">\n",
              "\n",
              "  <div class=\"colab-df-container\">\n",
              "    <button class=\"colab-df-convert\" onclick=\"convertToInteractive('df-797c273f-1fe2-4f88-b74a-40f5b327d525')\"\n",
              "            title=\"Convert this dataframe to an interactive table.\"\n",
              "            style=\"display:none;\">\n",
              "\n",
              "  <svg xmlns=\"http://www.w3.org/2000/svg\" height=\"24px\" viewBox=\"0 -960 960 960\">\n",
              "    <path d=\"M120-120v-720h720v720H120Zm60-500h600v-160H180v160Zm220 220h160v-160H400v160Zm0 220h160v-160H400v160ZM180-400h160v-160H180v160Zm440 0h160v-160H620v160ZM180-180h160v-160H180v160Zm440 0h160v-160H620v160Z\"/>\n",
              "  </svg>\n",
              "    </button>\n",
              "\n",
              "  <style>\n",
              "    .colab-df-container {\n",
              "      display:flex;\n",
              "      gap: 12px;\n",
              "    }\n",
              "\n",
              "    .colab-df-convert {\n",
              "      background-color: #E8F0FE;\n",
              "      border: none;\n",
              "      border-radius: 50%;\n",
              "      cursor: pointer;\n",
              "      display: none;\n",
              "      fill: #1967D2;\n",
              "      height: 32px;\n",
              "      padding: 0 0 0 0;\n",
              "      width: 32px;\n",
              "    }\n",
              "\n",
              "    .colab-df-convert:hover {\n",
              "      background-color: #E2EBFA;\n",
              "      box-shadow: 0px 1px 2px rgba(60, 64, 67, 0.3), 0px 1px 3px 1px rgba(60, 64, 67, 0.15);\n",
              "      fill: #174EA6;\n",
              "    }\n",
              "\n",
              "    .colab-df-buttons div {\n",
              "      margin-bottom: 4px;\n",
              "    }\n",
              "\n",
              "    [theme=dark] .colab-df-convert {\n",
              "      background-color: #3B4455;\n",
              "      fill: #D2E3FC;\n",
              "    }\n",
              "\n",
              "    [theme=dark] .colab-df-convert:hover {\n",
              "      background-color: #434B5C;\n",
              "      box-shadow: 0px 1px 3px 1px rgba(0, 0, 0, 0.15);\n",
              "      filter: drop-shadow(0px 1px 2px rgba(0, 0, 0, 0.3));\n",
              "      fill: #FFFFFF;\n",
              "    }\n",
              "  </style>\n",
              "\n",
              "    <script>\n",
              "      const buttonEl =\n",
              "        document.querySelector('#df-797c273f-1fe2-4f88-b74a-40f5b327d525 button.colab-df-convert');\n",
              "      buttonEl.style.display =\n",
              "        google.colab.kernel.accessAllowed ? 'block' : 'none';\n",
              "\n",
              "      async function convertToInteractive(key) {\n",
              "        const element = document.querySelector('#df-797c273f-1fe2-4f88-b74a-40f5b327d525');\n",
              "        const dataTable =\n",
              "          await google.colab.kernel.invokeFunction('convertToInteractive',\n",
              "                                                    [key], {});\n",
              "        if (!dataTable) return;\n",
              "\n",
              "        const docLinkHtml = 'Like what you see? Visit the ' +\n",
              "          '<a target=\"_blank\" href=https://colab.research.google.com/notebooks/data_table.ipynb>data table notebook</a>'\n",
              "          + ' to learn more about interactive tables.';\n",
              "        element.innerHTML = '';\n",
              "        dataTable['output_type'] = 'display_data';\n",
              "        await google.colab.output.renderOutput(dataTable, element);\n",
              "        const docLink = document.createElement('div');\n",
              "        docLink.innerHTML = docLinkHtml;\n",
              "        element.appendChild(docLink);\n",
              "      }\n",
              "    </script>\n",
              "  </div>\n",
              "\n",
              "\n",
              "<div id=\"df-cbe9b3d1-5803-471b-bb00-db21333a28da\">\n",
              "  <button class=\"colab-df-quickchart\" onclick=\"quickchart('df-cbe9b3d1-5803-471b-bb00-db21333a28da')\"\n",
              "            title=\"Suggest charts\"\n",
              "            style=\"display:none;\">\n",
              "\n",
              "<svg xmlns=\"http://www.w3.org/2000/svg\" height=\"24px\"viewBox=\"0 0 24 24\"\n",
              "     width=\"24px\">\n",
              "    <g>\n",
              "        <path d=\"M19 3H5c-1.1 0-2 .9-2 2v14c0 1.1.9 2 2 2h14c1.1 0 2-.9 2-2V5c0-1.1-.9-2-2-2zM9 17H7v-7h2v7zm4 0h-2V7h2v10zm4 0h-2v-4h2v4z\"/>\n",
              "    </g>\n",
              "</svg>\n",
              "  </button>\n",
              "\n",
              "<style>\n",
              "  .colab-df-quickchart {\n",
              "      --bg-color: #E8F0FE;\n",
              "      --fill-color: #1967D2;\n",
              "      --hover-bg-color: #E2EBFA;\n",
              "      --hover-fill-color: #174EA6;\n",
              "      --disabled-fill-color: #AAA;\n",
              "      --disabled-bg-color: #DDD;\n",
              "  }\n",
              "\n",
              "  [theme=dark] .colab-df-quickchart {\n",
              "      --bg-color: #3B4455;\n",
              "      --fill-color: #D2E3FC;\n",
              "      --hover-bg-color: #434B5C;\n",
              "      --hover-fill-color: #FFFFFF;\n",
              "      --disabled-bg-color: #3B4455;\n",
              "      --disabled-fill-color: #666;\n",
              "  }\n",
              "\n",
              "  .colab-df-quickchart {\n",
              "    background-color: var(--bg-color);\n",
              "    border: none;\n",
              "    border-radius: 50%;\n",
              "    cursor: pointer;\n",
              "    display: none;\n",
              "    fill: var(--fill-color);\n",
              "    height: 32px;\n",
              "    padding: 0;\n",
              "    width: 32px;\n",
              "  }\n",
              "\n",
              "  .colab-df-quickchart:hover {\n",
              "    background-color: var(--hover-bg-color);\n",
              "    box-shadow: 0 1px 2px rgba(60, 64, 67, 0.3), 0 1px 3px 1px rgba(60, 64, 67, 0.15);\n",
              "    fill: var(--button-hover-fill-color);\n",
              "  }\n",
              "\n",
              "  .colab-df-quickchart-complete:disabled,\n",
              "  .colab-df-quickchart-complete:disabled:hover {\n",
              "    background-color: var(--disabled-bg-color);\n",
              "    fill: var(--disabled-fill-color);\n",
              "    box-shadow: none;\n",
              "  }\n",
              "\n",
              "  .colab-df-spinner {\n",
              "    border: 2px solid var(--fill-color);\n",
              "    border-color: transparent;\n",
              "    border-bottom-color: var(--fill-color);\n",
              "    animation:\n",
              "      spin 1s steps(1) infinite;\n",
              "  }\n",
              "\n",
              "  @keyframes spin {\n",
              "    0% {\n",
              "      border-color: transparent;\n",
              "      border-bottom-color: var(--fill-color);\n",
              "      border-left-color: var(--fill-color);\n",
              "    }\n",
              "    20% {\n",
              "      border-color: transparent;\n",
              "      border-left-color: var(--fill-color);\n",
              "      border-top-color: var(--fill-color);\n",
              "    }\n",
              "    30% {\n",
              "      border-color: transparent;\n",
              "      border-left-color: var(--fill-color);\n",
              "      border-top-color: var(--fill-color);\n",
              "      border-right-color: var(--fill-color);\n",
              "    }\n",
              "    40% {\n",
              "      border-color: transparent;\n",
              "      border-right-color: var(--fill-color);\n",
              "      border-top-color: var(--fill-color);\n",
              "    }\n",
              "    60% {\n",
              "      border-color: transparent;\n",
              "      border-right-color: var(--fill-color);\n",
              "    }\n",
              "    80% {\n",
              "      border-color: transparent;\n",
              "      border-right-color: var(--fill-color);\n",
              "      border-bottom-color: var(--fill-color);\n",
              "    }\n",
              "    90% {\n",
              "      border-color: transparent;\n",
              "      border-bottom-color: var(--fill-color);\n",
              "    }\n",
              "  }\n",
              "</style>\n",
              "\n",
              "  <script>\n",
              "    async function quickchart(key) {\n",
              "      const quickchartButtonEl =\n",
              "        document.querySelector('#' + key + ' button');\n",
              "      quickchartButtonEl.disabled = true;  // To prevent multiple clicks.\n",
              "      quickchartButtonEl.classList.add('colab-df-spinner');\n",
              "      try {\n",
              "        const charts = await google.colab.kernel.invokeFunction(\n",
              "            'suggestCharts', [key], {});\n",
              "      } catch (error) {\n",
              "        console.error('Error during call to suggestCharts:', error);\n",
              "      }\n",
              "      quickchartButtonEl.classList.remove('colab-df-spinner');\n",
              "      quickchartButtonEl.classList.add('colab-df-quickchart-complete');\n",
              "    }\n",
              "    (() => {\n",
              "      let quickchartButtonEl =\n",
              "        document.querySelector('#df-cbe9b3d1-5803-471b-bb00-db21333a28da button');\n",
              "      quickchartButtonEl.style.display =\n",
              "        google.colab.kernel.accessAllowed ? 'block' : 'none';\n",
              "    })();\n",
              "  </script>\n",
              "</div>\n",
              "\n",
              "  <div id=\"id_41a4b15f-24e0-46ba-a078-cd25d9bd5902\">\n",
              "    <style>\n",
              "      .colab-df-generate {\n",
              "        background-color: #E8F0FE;\n",
              "        border: none;\n",
              "        border-radius: 50%;\n",
              "        cursor: pointer;\n",
              "        display: none;\n",
              "        fill: #1967D2;\n",
              "        height: 32px;\n",
              "        padding: 0 0 0 0;\n",
              "        width: 32px;\n",
              "      }\n",
              "\n",
              "      .colab-df-generate:hover {\n",
              "        background-color: #E2EBFA;\n",
              "        box-shadow: 0px 1px 2px rgba(60, 64, 67, 0.3), 0px 1px 3px 1px rgba(60, 64, 67, 0.15);\n",
              "        fill: #174EA6;\n",
              "      }\n",
              "\n",
              "      [theme=dark] .colab-df-generate {\n",
              "        background-color: #3B4455;\n",
              "        fill: #D2E3FC;\n",
              "      }\n",
              "\n",
              "      [theme=dark] .colab-df-generate:hover {\n",
              "        background-color: #434B5C;\n",
              "        box-shadow: 0px 1px 3px 1px rgba(0, 0, 0, 0.15);\n",
              "        filter: drop-shadow(0px 1px 2px rgba(0, 0, 0, 0.3));\n",
              "        fill: #FFFFFF;\n",
              "      }\n",
              "    </style>\n",
              "    <button class=\"colab-df-generate\" onclick=\"generateWithVariable('result')\"\n",
              "            title=\"Generate code using this dataframe.\"\n",
              "            style=\"display:none;\">\n",
              "\n",
              "  <svg xmlns=\"http://www.w3.org/2000/svg\" height=\"24px\"viewBox=\"0 0 24 24\"\n",
              "       width=\"24px\">\n",
              "    <path d=\"M7,19H8.4L18.45,9,17,7.55,7,17.6ZM5,21V16.75L18.45,3.32a2,2,0,0,1,2.83,0l1.4,1.43a1.91,1.91,0,0,1,.58,1.4,1.91,1.91,0,0,1-.58,1.4L9.25,21ZM18.45,9,17,7.55Zm-12,3A5.31,5.31,0,0,0,4.9,8.1,5.31,5.31,0,0,0,1,6.5,5.31,5.31,0,0,0,4.9,4.9,5.31,5.31,0,0,0,6.5,1,5.31,5.31,0,0,0,8.1,4.9,5.31,5.31,0,0,0,12,6.5,5.46,5.46,0,0,0,6.5,12Z\"/>\n",
              "  </svg>\n",
              "    </button>\n",
              "    <script>\n",
              "      (() => {\n",
              "      const buttonEl =\n",
              "        document.querySelector('#id_41a4b15f-24e0-46ba-a078-cd25d9bd5902 button.colab-df-generate');\n",
              "      buttonEl.style.display =\n",
              "        google.colab.kernel.accessAllowed ? 'block' : 'none';\n",
              "\n",
              "      buttonEl.onclick = () => {\n",
              "        google.colab.notebook.generateWithVariable('result');\n",
              "      }\n",
              "      })();\n",
              "    </script>\n",
              "  </div>\n",
              "\n",
              "    </div>\n",
              "  </div>\n"
            ],
            "application/vnd.google.colaboratory.intrinsic+json": {
              "type": "dataframe",
              "variable_name": "result",
              "summary": "{\n  \"name\": \"result\",\n  \"rows\": 12,\n  \"fields\": [\n    {\n      \"column\": \"A\",\n      \"properties\": {\n        \"dtype\": \"string\",\n        \"num_unique_values\": 12,\n        \"samples\": [\n          \"A10\",\n          \"A9\",\n          \"A0\"\n        ],\n        \"semantic_type\": \"\",\n        \"description\": \"\"\n      }\n    },\n    {\n      \"column\": \"B\",\n      \"properties\": {\n        \"dtype\": \"string\",\n        \"num_unique_values\": 12,\n        \"samples\": [\n          \"B10\",\n          \"B9\",\n          \"B0\"\n        ],\n        \"semantic_type\": \"\",\n        \"description\": \"\"\n      }\n    },\n    {\n      \"column\": \"C\",\n      \"properties\": {\n        \"dtype\": \"string\",\n        \"num_unique_values\": 12,\n        \"samples\": [\n          \"C10\",\n          \"C9\",\n          \"C0\"\n        ],\n        \"semantic_type\": \"\",\n        \"description\": \"\"\n      }\n    },\n    {\n      \"column\": \"D\",\n      \"properties\": {\n        \"dtype\": \"string\",\n        \"num_unique_values\": 12,\n        \"samples\": [\n          \"D10\",\n          \"D9\",\n          \"D0\"\n        ],\n        \"semantic_type\": \"\",\n        \"description\": \"\"\n      }\n    }\n  ]\n}"
            }
          },
          "metadata": {},
          "execution_count": 62
        }
      ]
    },
    {
      "cell_type": "code",
      "source": [
        "df4 = pd.DataFrame(\n",
        " {\n",
        " \"B\": [\"B2\", \"B3\", \"B6\", \"B7\"],\n",
        " \"D\": [\"D2\", \"D3\", \"D6\", \"D7\"],\n",
        " \"F\": [\"F2\", \"F3\", \"F6\", \"F7\"],\n",
        " },\n",
        " index=[2, 3, 6, 7],\n",
        ")\n",
        "result = pd.concat([df1, df4], axis=1)\n",
        "result"
      ],
      "metadata": {
        "colab": {
          "base_uri": "https://localhost:8080/",
          "height": 237
        },
        "id": "ebo6JZAp4daV",
        "outputId": "69a21546-f54c-4262-836e-d281f5ef853b"
      },
      "execution_count": 63,
      "outputs": [
        {
          "output_type": "execute_result",
          "data": {
            "text/plain": [
              "     A    B    C    D    B    D    F\n",
              "0   A0   B0   C0   D0  NaN  NaN  NaN\n",
              "1   A1   B1   C1   D1  NaN  NaN  NaN\n",
              "2   A2   B2   C2   D2   B2   D2   F2\n",
              "3   A3   B3   C3   D3   B3   D3   F3\n",
              "6  NaN  NaN  NaN  NaN   B6   D6   F6\n",
              "7  NaN  NaN  NaN  NaN   B7   D7   F7"
            ],
            "text/html": [
              "\n",
              "  <div id=\"df-5b79be47-47dc-43d0-b798-ed515fca3911\" class=\"colab-df-container\">\n",
              "    <div>\n",
              "<style scoped>\n",
              "    .dataframe tbody tr th:only-of-type {\n",
              "        vertical-align: middle;\n",
              "    }\n",
              "\n",
              "    .dataframe tbody tr th {\n",
              "        vertical-align: top;\n",
              "    }\n",
              "\n",
              "    .dataframe thead th {\n",
              "        text-align: right;\n",
              "    }\n",
              "</style>\n",
              "<table border=\"1\" class=\"dataframe\">\n",
              "  <thead>\n",
              "    <tr style=\"text-align: right;\">\n",
              "      <th></th>\n",
              "      <th>A</th>\n",
              "      <th>B</th>\n",
              "      <th>C</th>\n",
              "      <th>D</th>\n",
              "      <th>B</th>\n",
              "      <th>D</th>\n",
              "      <th>F</th>\n",
              "    </tr>\n",
              "  </thead>\n",
              "  <tbody>\n",
              "    <tr>\n",
              "      <th>0</th>\n",
              "      <td>A0</td>\n",
              "      <td>B0</td>\n",
              "      <td>C0</td>\n",
              "      <td>D0</td>\n",
              "      <td>NaN</td>\n",
              "      <td>NaN</td>\n",
              "      <td>NaN</td>\n",
              "    </tr>\n",
              "    <tr>\n",
              "      <th>1</th>\n",
              "      <td>A1</td>\n",
              "      <td>B1</td>\n",
              "      <td>C1</td>\n",
              "      <td>D1</td>\n",
              "      <td>NaN</td>\n",
              "      <td>NaN</td>\n",
              "      <td>NaN</td>\n",
              "    </tr>\n",
              "    <tr>\n",
              "      <th>2</th>\n",
              "      <td>A2</td>\n",
              "      <td>B2</td>\n",
              "      <td>C2</td>\n",
              "      <td>D2</td>\n",
              "      <td>B2</td>\n",
              "      <td>D2</td>\n",
              "      <td>F2</td>\n",
              "    </tr>\n",
              "    <tr>\n",
              "      <th>3</th>\n",
              "      <td>A3</td>\n",
              "      <td>B3</td>\n",
              "      <td>C3</td>\n",
              "      <td>D3</td>\n",
              "      <td>B3</td>\n",
              "      <td>D3</td>\n",
              "      <td>F3</td>\n",
              "    </tr>\n",
              "    <tr>\n",
              "      <th>6</th>\n",
              "      <td>NaN</td>\n",
              "      <td>NaN</td>\n",
              "      <td>NaN</td>\n",
              "      <td>NaN</td>\n",
              "      <td>B6</td>\n",
              "      <td>D6</td>\n",
              "      <td>F6</td>\n",
              "    </tr>\n",
              "    <tr>\n",
              "      <th>7</th>\n",
              "      <td>NaN</td>\n",
              "      <td>NaN</td>\n",
              "      <td>NaN</td>\n",
              "      <td>NaN</td>\n",
              "      <td>B7</td>\n",
              "      <td>D7</td>\n",
              "      <td>F7</td>\n",
              "    </tr>\n",
              "  </tbody>\n",
              "</table>\n",
              "</div>\n",
              "    <div class=\"colab-df-buttons\">\n",
              "\n",
              "  <div class=\"colab-df-container\">\n",
              "    <button class=\"colab-df-convert\" onclick=\"convertToInteractive('df-5b79be47-47dc-43d0-b798-ed515fca3911')\"\n",
              "            title=\"Convert this dataframe to an interactive table.\"\n",
              "            style=\"display:none;\">\n",
              "\n",
              "  <svg xmlns=\"http://www.w3.org/2000/svg\" height=\"24px\" viewBox=\"0 -960 960 960\">\n",
              "    <path d=\"M120-120v-720h720v720H120Zm60-500h600v-160H180v160Zm220 220h160v-160H400v160Zm0 220h160v-160H400v160ZM180-400h160v-160H180v160Zm440 0h160v-160H620v160ZM180-180h160v-160H180v160Zm440 0h160v-160H620v160Z\"/>\n",
              "  </svg>\n",
              "    </button>\n",
              "\n",
              "  <style>\n",
              "    .colab-df-container {\n",
              "      display:flex;\n",
              "      gap: 12px;\n",
              "    }\n",
              "\n",
              "    .colab-df-convert {\n",
              "      background-color: #E8F0FE;\n",
              "      border: none;\n",
              "      border-radius: 50%;\n",
              "      cursor: pointer;\n",
              "      display: none;\n",
              "      fill: #1967D2;\n",
              "      height: 32px;\n",
              "      padding: 0 0 0 0;\n",
              "      width: 32px;\n",
              "    }\n",
              "\n",
              "    .colab-df-convert:hover {\n",
              "      background-color: #E2EBFA;\n",
              "      box-shadow: 0px 1px 2px rgba(60, 64, 67, 0.3), 0px 1px 3px 1px rgba(60, 64, 67, 0.15);\n",
              "      fill: #174EA6;\n",
              "    }\n",
              "\n",
              "    .colab-df-buttons div {\n",
              "      margin-bottom: 4px;\n",
              "    }\n",
              "\n",
              "    [theme=dark] .colab-df-convert {\n",
              "      background-color: #3B4455;\n",
              "      fill: #D2E3FC;\n",
              "    }\n",
              "\n",
              "    [theme=dark] .colab-df-convert:hover {\n",
              "      background-color: #434B5C;\n",
              "      box-shadow: 0px 1px 3px 1px rgba(0, 0, 0, 0.15);\n",
              "      filter: drop-shadow(0px 1px 2px rgba(0, 0, 0, 0.3));\n",
              "      fill: #FFFFFF;\n",
              "    }\n",
              "  </style>\n",
              "\n",
              "    <script>\n",
              "      const buttonEl =\n",
              "        document.querySelector('#df-5b79be47-47dc-43d0-b798-ed515fca3911 button.colab-df-convert');\n",
              "      buttonEl.style.display =\n",
              "        google.colab.kernel.accessAllowed ? 'block' : 'none';\n",
              "\n",
              "      async function convertToInteractive(key) {\n",
              "        const element = document.querySelector('#df-5b79be47-47dc-43d0-b798-ed515fca3911');\n",
              "        const dataTable =\n",
              "          await google.colab.kernel.invokeFunction('convertToInteractive',\n",
              "                                                    [key], {});\n",
              "        if (!dataTable) return;\n",
              "\n",
              "        const docLinkHtml = 'Like what you see? Visit the ' +\n",
              "          '<a target=\"_blank\" href=https://colab.research.google.com/notebooks/data_table.ipynb>data table notebook</a>'\n",
              "          + ' to learn more about interactive tables.';\n",
              "        element.innerHTML = '';\n",
              "        dataTable['output_type'] = 'display_data';\n",
              "        await google.colab.output.renderOutput(dataTable, element);\n",
              "        const docLink = document.createElement('div');\n",
              "        docLink.innerHTML = docLinkHtml;\n",
              "        element.appendChild(docLink);\n",
              "      }\n",
              "    </script>\n",
              "  </div>\n",
              "\n",
              "\n",
              "<div id=\"df-d5f5ca66-42af-421d-ad90-108c985c2482\">\n",
              "  <button class=\"colab-df-quickchart\" onclick=\"quickchart('df-d5f5ca66-42af-421d-ad90-108c985c2482')\"\n",
              "            title=\"Suggest charts\"\n",
              "            style=\"display:none;\">\n",
              "\n",
              "<svg xmlns=\"http://www.w3.org/2000/svg\" height=\"24px\"viewBox=\"0 0 24 24\"\n",
              "     width=\"24px\">\n",
              "    <g>\n",
              "        <path d=\"M19 3H5c-1.1 0-2 .9-2 2v14c0 1.1.9 2 2 2h14c1.1 0 2-.9 2-2V5c0-1.1-.9-2-2-2zM9 17H7v-7h2v7zm4 0h-2V7h2v10zm4 0h-2v-4h2v4z\"/>\n",
              "    </g>\n",
              "</svg>\n",
              "  </button>\n",
              "\n",
              "<style>\n",
              "  .colab-df-quickchart {\n",
              "      --bg-color: #E8F0FE;\n",
              "      --fill-color: #1967D2;\n",
              "      --hover-bg-color: #E2EBFA;\n",
              "      --hover-fill-color: #174EA6;\n",
              "      --disabled-fill-color: #AAA;\n",
              "      --disabled-bg-color: #DDD;\n",
              "  }\n",
              "\n",
              "  [theme=dark] .colab-df-quickchart {\n",
              "      --bg-color: #3B4455;\n",
              "      --fill-color: #D2E3FC;\n",
              "      --hover-bg-color: #434B5C;\n",
              "      --hover-fill-color: #FFFFFF;\n",
              "      --disabled-bg-color: #3B4455;\n",
              "      --disabled-fill-color: #666;\n",
              "  }\n",
              "\n",
              "  .colab-df-quickchart {\n",
              "    background-color: var(--bg-color);\n",
              "    border: none;\n",
              "    border-radius: 50%;\n",
              "    cursor: pointer;\n",
              "    display: none;\n",
              "    fill: var(--fill-color);\n",
              "    height: 32px;\n",
              "    padding: 0;\n",
              "    width: 32px;\n",
              "  }\n",
              "\n",
              "  .colab-df-quickchart:hover {\n",
              "    background-color: var(--hover-bg-color);\n",
              "    box-shadow: 0 1px 2px rgba(60, 64, 67, 0.3), 0 1px 3px 1px rgba(60, 64, 67, 0.15);\n",
              "    fill: var(--button-hover-fill-color);\n",
              "  }\n",
              "\n",
              "  .colab-df-quickchart-complete:disabled,\n",
              "  .colab-df-quickchart-complete:disabled:hover {\n",
              "    background-color: var(--disabled-bg-color);\n",
              "    fill: var(--disabled-fill-color);\n",
              "    box-shadow: none;\n",
              "  }\n",
              "\n",
              "  .colab-df-spinner {\n",
              "    border: 2px solid var(--fill-color);\n",
              "    border-color: transparent;\n",
              "    border-bottom-color: var(--fill-color);\n",
              "    animation:\n",
              "      spin 1s steps(1) infinite;\n",
              "  }\n",
              "\n",
              "  @keyframes spin {\n",
              "    0% {\n",
              "      border-color: transparent;\n",
              "      border-bottom-color: var(--fill-color);\n",
              "      border-left-color: var(--fill-color);\n",
              "    }\n",
              "    20% {\n",
              "      border-color: transparent;\n",
              "      border-left-color: var(--fill-color);\n",
              "      border-top-color: var(--fill-color);\n",
              "    }\n",
              "    30% {\n",
              "      border-color: transparent;\n",
              "      border-left-color: var(--fill-color);\n",
              "      border-top-color: var(--fill-color);\n",
              "      border-right-color: var(--fill-color);\n",
              "    }\n",
              "    40% {\n",
              "      border-color: transparent;\n",
              "      border-right-color: var(--fill-color);\n",
              "      border-top-color: var(--fill-color);\n",
              "    }\n",
              "    60% {\n",
              "      border-color: transparent;\n",
              "      border-right-color: var(--fill-color);\n",
              "    }\n",
              "    80% {\n",
              "      border-color: transparent;\n",
              "      border-right-color: var(--fill-color);\n",
              "      border-bottom-color: var(--fill-color);\n",
              "    }\n",
              "    90% {\n",
              "      border-color: transparent;\n",
              "      border-bottom-color: var(--fill-color);\n",
              "    }\n",
              "  }\n",
              "</style>\n",
              "\n",
              "  <script>\n",
              "    async function quickchart(key) {\n",
              "      const quickchartButtonEl =\n",
              "        document.querySelector('#' + key + ' button');\n",
              "      quickchartButtonEl.disabled = true;  // To prevent multiple clicks.\n",
              "      quickchartButtonEl.classList.add('colab-df-spinner');\n",
              "      try {\n",
              "        const charts = await google.colab.kernel.invokeFunction(\n",
              "            'suggestCharts', [key], {});\n",
              "      } catch (error) {\n",
              "        console.error('Error during call to suggestCharts:', error);\n",
              "      }\n",
              "      quickchartButtonEl.classList.remove('colab-df-spinner');\n",
              "      quickchartButtonEl.classList.add('colab-df-quickchart-complete');\n",
              "    }\n",
              "    (() => {\n",
              "      let quickchartButtonEl =\n",
              "        document.querySelector('#df-d5f5ca66-42af-421d-ad90-108c985c2482 button');\n",
              "      quickchartButtonEl.style.display =\n",
              "        google.colab.kernel.accessAllowed ? 'block' : 'none';\n",
              "    })();\n",
              "  </script>\n",
              "</div>\n",
              "\n",
              "  <div id=\"id_a6b8246c-281b-4eaa-9cc0-22ad9f553249\">\n",
              "    <style>\n",
              "      .colab-df-generate {\n",
              "        background-color: #E8F0FE;\n",
              "        border: none;\n",
              "        border-radius: 50%;\n",
              "        cursor: pointer;\n",
              "        display: none;\n",
              "        fill: #1967D2;\n",
              "        height: 32px;\n",
              "        padding: 0 0 0 0;\n",
              "        width: 32px;\n",
              "      }\n",
              "\n",
              "      .colab-df-generate:hover {\n",
              "        background-color: #E2EBFA;\n",
              "        box-shadow: 0px 1px 2px rgba(60, 64, 67, 0.3), 0px 1px 3px 1px rgba(60, 64, 67, 0.15);\n",
              "        fill: #174EA6;\n",
              "      }\n",
              "\n",
              "      [theme=dark] .colab-df-generate {\n",
              "        background-color: #3B4455;\n",
              "        fill: #D2E3FC;\n",
              "      }\n",
              "\n",
              "      [theme=dark] .colab-df-generate:hover {\n",
              "        background-color: #434B5C;\n",
              "        box-shadow: 0px 1px 3px 1px rgba(0, 0, 0, 0.15);\n",
              "        filter: drop-shadow(0px 1px 2px rgba(0, 0, 0, 0.3));\n",
              "        fill: #FFFFFF;\n",
              "      }\n",
              "    </style>\n",
              "    <button class=\"colab-df-generate\" onclick=\"generateWithVariable('result')\"\n",
              "            title=\"Generate code using this dataframe.\"\n",
              "            style=\"display:none;\">\n",
              "\n",
              "  <svg xmlns=\"http://www.w3.org/2000/svg\" height=\"24px\"viewBox=\"0 0 24 24\"\n",
              "       width=\"24px\">\n",
              "    <path d=\"M7,19H8.4L18.45,9,17,7.55,7,17.6ZM5,21V16.75L18.45,3.32a2,2,0,0,1,2.83,0l1.4,1.43a1.91,1.91,0,0,1,.58,1.4,1.91,1.91,0,0,1-.58,1.4L9.25,21ZM18.45,9,17,7.55Zm-12,3A5.31,5.31,0,0,0,4.9,8.1,5.31,5.31,0,0,0,1,6.5,5.31,5.31,0,0,0,4.9,4.9,5.31,5.31,0,0,0,6.5,1,5.31,5.31,0,0,0,8.1,4.9,5.31,5.31,0,0,0,12,6.5,5.46,5.46,0,0,0,6.5,12Z\"/>\n",
              "  </svg>\n",
              "    </button>\n",
              "    <script>\n",
              "      (() => {\n",
              "      const buttonEl =\n",
              "        document.querySelector('#id_a6b8246c-281b-4eaa-9cc0-22ad9f553249 button.colab-df-generate');\n",
              "      buttonEl.style.display =\n",
              "        google.colab.kernel.accessAllowed ? 'block' : 'none';\n",
              "\n",
              "      buttonEl.onclick = () => {\n",
              "        google.colab.notebook.generateWithVariable('result');\n",
              "      }\n",
              "      })();\n",
              "    </script>\n",
              "  </div>\n",
              "\n",
              "    </div>\n",
              "  </div>\n"
            ],
            "application/vnd.google.colaboratory.intrinsic+json": {
              "type": "dataframe",
              "variable_name": "result",
              "summary": "{\n  \"name\": \"result\",\n  \"rows\": 6,\n  \"fields\": [\n    {\n      \"column\": \"A\",\n      \"properties\": {\n        \"dtype\": \"string\",\n        \"num_unique_values\": 4,\n        \"samples\": [\n          \"A1\",\n          \"A3\",\n          \"A0\"\n        ],\n        \"semantic_type\": \"\",\n        \"description\": \"\"\n      }\n    },\n    {\n      \"column\": \"B\",\n      \"properties\": {\n        \"dtype\": \"string\",\n        \"num_unique_values\": 4,\n        \"samples\": [\n          \"B1\",\n          \"B3\",\n          \"B0\"\n        ],\n        \"semantic_type\": \"\",\n        \"description\": \"\"\n      }\n    },\n    {\n      \"column\": \"C\",\n      \"properties\": {\n        \"dtype\": \"string\",\n        \"num_unique_values\": 4,\n        \"samples\": [\n          \"C1\",\n          \"C3\",\n          \"C0\"\n        ],\n        \"semantic_type\": \"\",\n        \"description\": \"\"\n      }\n    },\n    {\n      \"column\": \"D\",\n      \"properties\": {\n        \"dtype\": \"string\",\n        \"num_unique_values\": 4,\n        \"samples\": [\n          \"D1\",\n          \"D3\",\n          \"D0\"\n        ],\n        \"semantic_type\": \"\",\n        \"description\": \"\"\n      }\n    },\n    {\n      \"column\": \"B\",\n      \"properties\": {\n        \"dtype\": \"string\",\n        \"num_unique_values\": 4,\n        \"samples\": [\n          \"B3\",\n          \"B7\",\n          \"B2\"\n        ],\n        \"semantic_type\": \"\",\n        \"description\": \"\"\n      }\n    },\n    {\n      \"column\": \"D\",\n      \"properties\": {\n        \"dtype\": \"string\",\n        \"num_unique_values\": 4,\n        \"samples\": [\n          \"D3\",\n          \"D7\",\n          \"D2\"\n        ],\n        \"semantic_type\": \"\",\n        \"description\": \"\"\n      }\n    },\n    {\n      \"column\": \"F\",\n      \"properties\": {\n        \"dtype\": \"string\",\n        \"num_unique_values\": 4,\n        \"samples\": [\n          \"F3\",\n          \"F7\",\n          \"F2\"\n        ],\n        \"semantic_type\": \"\",\n        \"description\": \"\"\n      }\n    }\n  ]\n}"
            }
          },
          "metadata": {},
          "execution_count": 63
        }
      ]
    },
    {
      "cell_type": "code",
      "source": [
        "result = pd.concat([df1, df4], axis=1, join=\"inner\")\n",
        "result"
      ],
      "metadata": {
        "colab": {
          "base_uri": "https://localhost:8080/",
          "height": 125
        },
        "id": "BbNxAK1C4hvc",
        "outputId": "f5b8dab8-6129-4117-fef6-04a5cdf4e172"
      },
      "execution_count": 64,
      "outputs": [
        {
          "output_type": "execute_result",
          "data": {
            "text/plain": [
              "    A   B   C   D   B   D   F\n",
              "2  A2  B2  C2  D2  B2  D2  F2\n",
              "3  A3  B3  C3  D3  B3  D3  F3"
            ],
            "text/html": [
              "\n",
              "  <div id=\"df-efc126bc-5f1d-4c54-b60d-5ff48f7bb0c1\" class=\"colab-df-container\">\n",
              "    <div>\n",
              "<style scoped>\n",
              "    .dataframe tbody tr th:only-of-type {\n",
              "        vertical-align: middle;\n",
              "    }\n",
              "\n",
              "    .dataframe tbody tr th {\n",
              "        vertical-align: top;\n",
              "    }\n",
              "\n",
              "    .dataframe thead th {\n",
              "        text-align: right;\n",
              "    }\n",
              "</style>\n",
              "<table border=\"1\" class=\"dataframe\">\n",
              "  <thead>\n",
              "    <tr style=\"text-align: right;\">\n",
              "      <th></th>\n",
              "      <th>A</th>\n",
              "      <th>B</th>\n",
              "      <th>C</th>\n",
              "      <th>D</th>\n",
              "      <th>B</th>\n",
              "      <th>D</th>\n",
              "      <th>F</th>\n",
              "    </tr>\n",
              "  </thead>\n",
              "  <tbody>\n",
              "    <tr>\n",
              "      <th>2</th>\n",
              "      <td>A2</td>\n",
              "      <td>B2</td>\n",
              "      <td>C2</td>\n",
              "      <td>D2</td>\n",
              "      <td>B2</td>\n",
              "      <td>D2</td>\n",
              "      <td>F2</td>\n",
              "    </tr>\n",
              "    <tr>\n",
              "      <th>3</th>\n",
              "      <td>A3</td>\n",
              "      <td>B3</td>\n",
              "      <td>C3</td>\n",
              "      <td>D3</td>\n",
              "      <td>B3</td>\n",
              "      <td>D3</td>\n",
              "      <td>F3</td>\n",
              "    </tr>\n",
              "  </tbody>\n",
              "</table>\n",
              "</div>\n",
              "    <div class=\"colab-df-buttons\">\n",
              "\n",
              "  <div class=\"colab-df-container\">\n",
              "    <button class=\"colab-df-convert\" onclick=\"convertToInteractive('df-efc126bc-5f1d-4c54-b60d-5ff48f7bb0c1')\"\n",
              "            title=\"Convert this dataframe to an interactive table.\"\n",
              "            style=\"display:none;\">\n",
              "\n",
              "  <svg xmlns=\"http://www.w3.org/2000/svg\" height=\"24px\" viewBox=\"0 -960 960 960\">\n",
              "    <path d=\"M120-120v-720h720v720H120Zm60-500h600v-160H180v160Zm220 220h160v-160H400v160Zm0 220h160v-160H400v160ZM180-400h160v-160H180v160Zm440 0h160v-160H620v160ZM180-180h160v-160H180v160Zm440 0h160v-160H620v160Z\"/>\n",
              "  </svg>\n",
              "    </button>\n",
              "\n",
              "  <style>\n",
              "    .colab-df-container {\n",
              "      display:flex;\n",
              "      gap: 12px;\n",
              "    }\n",
              "\n",
              "    .colab-df-convert {\n",
              "      background-color: #E8F0FE;\n",
              "      border: none;\n",
              "      border-radius: 50%;\n",
              "      cursor: pointer;\n",
              "      display: none;\n",
              "      fill: #1967D2;\n",
              "      height: 32px;\n",
              "      padding: 0 0 0 0;\n",
              "      width: 32px;\n",
              "    }\n",
              "\n",
              "    .colab-df-convert:hover {\n",
              "      background-color: #E2EBFA;\n",
              "      box-shadow: 0px 1px 2px rgba(60, 64, 67, 0.3), 0px 1px 3px 1px rgba(60, 64, 67, 0.15);\n",
              "      fill: #174EA6;\n",
              "    }\n",
              "\n",
              "    .colab-df-buttons div {\n",
              "      margin-bottom: 4px;\n",
              "    }\n",
              "\n",
              "    [theme=dark] .colab-df-convert {\n",
              "      background-color: #3B4455;\n",
              "      fill: #D2E3FC;\n",
              "    }\n",
              "\n",
              "    [theme=dark] .colab-df-convert:hover {\n",
              "      background-color: #434B5C;\n",
              "      box-shadow: 0px 1px 3px 1px rgba(0, 0, 0, 0.15);\n",
              "      filter: drop-shadow(0px 1px 2px rgba(0, 0, 0, 0.3));\n",
              "      fill: #FFFFFF;\n",
              "    }\n",
              "  </style>\n",
              "\n",
              "    <script>\n",
              "      const buttonEl =\n",
              "        document.querySelector('#df-efc126bc-5f1d-4c54-b60d-5ff48f7bb0c1 button.colab-df-convert');\n",
              "      buttonEl.style.display =\n",
              "        google.colab.kernel.accessAllowed ? 'block' : 'none';\n",
              "\n",
              "      async function convertToInteractive(key) {\n",
              "        const element = document.querySelector('#df-efc126bc-5f1d-4c54-b60d-5ff48f7bb0c1');\n",
              "        const dataTable =\n",
              "          await google.colab.kernel.invokeFunction('convertToInteractive',\n",
              "                                                    [key], {});\n",
              "        if (!dataTable) return;\n",
              "\n",
              "        const docLinkHtml = 'Like what you see? Visit the ' +\n",
              "          '<a target=\"_blank\" href=https://colab.research.google.com/notebooks/data_table.ipynb>data table notebook</a>'\n",
              "          + ' to learn more about interactive tables.';\n",
              "        element.innerHTML = '';\n",
              "        dataTable['output_type'] = 'display_data';\n",
              "        await google.colab.output.renderOutput(dataTable, element);\n",
              "        const docLink = document.createElement('div');\n",
              "        docLink.innerHTML = docLinkHtml;\n",
              "        element.appendChild(docLink);\n",
              "      }\n",
              "    </script>\n",
              "  </div>\n",
              "\n",
              "\n",
              "<div id=\"df-72c4bd85-11b7-436e-b7dd-f6cf09496e5b\">\n",
              "  <button class=\"colab-df-quickchart\" onclick=\"quickchart('df-72c4bd85-11b7-436e-b7dd-f6cf09496e5b')\"\n",
              "            title=\"Suggest charts\"\n",
              "            style=\"display:none;\">\n",
              "\n",
              "<svg xmlns=\"http://www.w3.org/2000/svg\" height=\"24px\"viewBox=\"0 0 24 24\"\n",
              "     width=\"24px\">\n",
              "    <g>\n",
              "        <path d=\"M19 3H5c-1.1 0-2 .9-2 2v14c0 1.1.9 2 2 2h14c1.1 0 2-.9 2-2V5c0-1.1-.9-2-2-2zM9 17H7v-7h2v7zm4 0h-2V7h2v10zm4 0h-2v-4h2v4z\"/>\n",
              "    </g>\n",
              "</svg>\n",
              "  </button>\n",
              "\n",
              "<style>\n",
              "  .colab-df-quickchart {\n",
              "      --bg-color: #E8F0FE;\n",
              "      --fill-color: #1967D2;\n",
              "      --hover-bg-color: #E2EBFA;\n",
              "      --hover-fill-color: #174EA6;\n",
              "      --disabled-fill-color: #AAA;\n",
              "      --disabled-bg-color: #DDD;\n",
              "  }\n",
              "\n",
              "  [theme=dark] .colab-df-quickchart {\n",
              "      --bg-color: #3B4455;\n",
              "      --fill-color: #D2E3FC;\n",
              "      --hover-bg-color: #434B5C;\n",
              "      --hover-fill-color: #FFFFFF;\n",
              "      --disabled-bg-color: #3B4455;\n",
              "      --disabled-fill-color: #666;\n",
              "  }\n",
              "\n",
              "  .colab-df-quickchart {\n",
              "    background-color: var(--bg-color);\n",
              "    border: none;\n",
              "    border-radius: 50%;\n",
              "    cursor: pointer;\n",
              "    display: none;\n",
              "    fill: var(--fill-color);\n",
              "    height: 32px;\n",
              "    padding: 0;\n",
              "    width: 32px;\n",
              "  }\n",
              "\n",
              "  .colab-df-quickchart:hover {\n",
              "    background-color: var(--hover-bg-color);\n",
              "    box-shadow: 0 1px 2px rgba(60, 64, 67, 0.3), 0 1px 3px 1px rgba(60, 64, 67, 0.15);\n",
              "    fill: var(--button-hover-fill-color);\n",
              "  }\n",
              "\n",
              "  .colab-df-quickchart-complete:disabled,\n",
              "  .colab-df-quickchart-complete:disabled:hover {\n",
              "    background-color: var(--disabled-bg-color);\n",
              "    fill: var(--disabled-fill-color);\n",
              "    box-shadow: none;\n",
              "  }\n",
              "\n",
              "  .colab-df-spinner {\n",
              "    border: 2px solid var(--fill-color);\n",
              "    border-color: transparent;\n",
              "    border-bottom-color: var(--fill-color);\n",
              "    animation:\n",
              "      spin 1s steps(1) infinite;\n",
              "  }\n",
              "\n",
              "  @keyframes spin {\n",
              "    0% {\n",
              "      border-color: transparent;\n",
              "      border-bottom-color: var(--fill-color);\n",
              "      border-left-color: var(--fill-color);\n",
              "    }\n",
              "    20% {\n",
              "      border-color: transparent;\n",
              "      border-left-color: var(--fill-color);\n",
              "      border-top-color: var(--fill-color);\n",
              "    }\n",
              "    30% {\n",
              "      border-color: transparent;\n",
              "      border-left-color: var(--fill-color);\n",
              "      border-top-color: var(--fill-color);\n",
              "      border-right-color: var(--fill-color);\n",
              "    }\n",
              "    40% {\n",
              "      border-color: transparent;\n",
              "      border-right-color: var(--fill-color);\n",
              "      border-top-color: var(--fill-color);\n",
              "    }\n",
              "    60% {\n",
              "      border-color: transparent;\n",
              "      border-right-color: var(--fill-color);\n",
              "    }\n",
              "    80% {\n",
              "      border-color: transparent;\n",
              "      border-right-color: var(--fill-color);\n",
              "      border-bottom-color: var(--fill-color);\n",
              "    }\n",
              "    90% {\n",
              "      border-color: transparent;\n",
              "      border-bottom-color: var(--fill-color);\n",
              "    }\n",
              "  }\n",
              "</style>\n",
              "\n",
              "  <script>\n",
              "    async function quickchart(key) {\n",
              "      const quickchartButtonEl =\n",
              "        document.querySelector('#' + key + ' button');\n",
              "      quickchartButtonEl.disabled = true;  // To prevent multiple clicks.\n",
              "      quickchartButtonEl.classList.add('colab-df-spinner');\n",
              "      try {\n",
              "        const charts = await google.colab.kernel.invokeFunction(\n",
              "            'suggestCharts', [key], {});\n",
              "      } catch (error) {\n",
              "        console.error('Error during call to suggestCharts:', error);\n",
              "      }\n",
              "      quickchartButtonEl.classList.remove('colab-df-spinner');\n",
              "      quickchartButtonEl.classList.add('colab-df-quickchart-complete');\n",
              "    }\n",
              "    (() => {\n",
              "      let quickchartButtonEl =\n",
              "        document.querySelector('#df-72c4bd85-11b7-436e-b7dd-f6cf09496e5b button');\n",
              "      quickchartButtonEl.style.display =\n",
              "        google.colab.kernel.accessAllowed ? 'block' : 'none';\n",
              "    })();\n",
              "  </script>\n",
              "</div>\n",
              "\n",
              "  <div id=\"id_1973ef6f-db2f-436e-aa39-770c86d7f27e\">\n",
              "    <style>\n",
              "      .colab-df-generate {\n",
              "        background-color: #E8F0FE;\n",
              "        border: none;\n",
              "        border-radius: 50%;\n",
              "        cursor: pointer;\n",
              "        display: none;\n",
              "        fill: #1967D2;\n",
              "        height: 32px;\n",
              "        padding: 0 0 0 0;\n",
              "        width: 32px;\n",
              "      }\n",
              "\n",
              "      .colab-df-generate:hover {\n",
              "        background-color: #E2EBFA;\n",
              "        box-shadow: 0px 1px 2px rgba(60, 64, 67, 0.3), 0px 1px 3px 1px rgba(60, 64, 67, 0.15);\n",
              "        fill: #174EA6;\n",
              "      }\n",
              "\n",
              "      [theme=dark] .colab-df-generate {\n",
              "        background-color: #3B4455;\n",
              "        fill: #D2E3FC;\n",
              "      }\n",
              "\n",
              "      [theme=dark] .colab-df-generate:hover {\n",
              "        background-color: #434B5C;\n",
              "        box-shadow: 0px 1px 3px 1px rgba(0, 0, 0, 0.15);\n",
              "        filter: drop-shadow(0px 1px 2px rgba(0, 0, 0, 0.3));\n",
              "        fill: #FFFFFF;\n",
              "      }\n",
              "    </style>\n",
              "    <button class=\"colab-df-generate\" onclick=\"generateWithVariable('result')\"\n",
              "            title=\"Generate code using this dataframe.\"\n",
              "            style=\"display:none;\">\n",
              "\n",
              "  <svg xmlns=\"http://www.w3.org/2000/svg\" height=\"24px\"viewBox=\"0 0 24 24\"\n",
              "       width=\"24px\">\n",
              "    <path d=\"M7,19H8.4L18.45,9,17,7.55,7,17.6ZM5,21V16.75L18.45,3.32a2,2,0,0,1,2.83,0l1.4,1.43a1.91,1.91,0,0,1,.58,1.4,1.91,1.91,0,0,1-.58,1.4L9.25,21ZM18.45,9,17,7.55Zm-12,3A5.31,5.31,0,0,0,4.9,8.1,5.31,5.31,0,0,0,1,6.5,5.31,5.31,0,0,0,4.9,4.9,5.31,5.31,0,0,0,6.5,1,5.31,5.31,0,0,0,8.1,4.9,5.31,5.31,0,0,0,12,6.5,5.46,5.46,0,0,0,6.5,12Z\"/>\n",
              "  </svg>\n",
              "    </button>\n",
              "    <script>\n",
              "      (() => {\n",
              "      const buttonEl =\n",
              "        document.querySelector('#id_1973ef6f-db2f-436e-aa39-770c86d7f27e button.colab-df-generate');\n",
              "      buttonEl.style.display =\n",
              "        google.colab.kernel.accessAllowed ? 'block' : 'none';\n",
              "\n",
              "      buttonEl.onclick = () => {\n",
              "        google.colab.notebook.generateWithVariable('result');\n",
              "      }\n",
              "      })();\n",
              "    </script>\n",
              "  </div>\n",
              "\n",
              "    </div>\n",
              "  </div>\n"
            ],
            "application/vnd.google.colaboratory.intrinsic+json": {
              "type": "dataframe",
              "variable_name": "result",
              "summary": "{\n  \"name\": \"result\",\n  \"rows\": 2,\n  \"fields\": [\n    {\n      \"column\": \"A\",\n      \"properties\": {\n        \"dtype\": \"string\",\n        \"num_unique_values\": 2,\n        \"samples\": [\n          \"A3\",\n          \"A2\"\n        ],\n        \"semantic_type\": \"\",\n        \"description\": \"\"\n      }\n    },\n    {\n      \"column\": \"B\",\n      \"properties\": {\n        \"dtype\": \"string\",\n        \"num_unique_values\": 2,\n        \"samples\": [\n          \"B3\",\n          \"B2\"\n        ],\n        \"semantic_type\": \"\",\n        \"description\": \"\"\n      }\n    },\n    {\n      \"column\": \"C\",\n      \"properties\": {\n        \"dtype\": \"string\",\n        \"num_unique_values\": 2,\n        \"samples\": [\n          \"C3\",\n          \"C2\"\n        ],\n        \"semantic_type\": \"\",\n        \"description\": \"\"\n      }\n    },\n    {\n      \"column\": \"D\",\n      \"properties\": {\n        \"dtype\": \"string\",\n        \"num_unique_values\": 2,\n        \"samples\": [\n          \"D3\",\n          \"D2\"\n        ],\n        \"semantic_type\": \"\",\n        \"description\": \"\"\n      }\n    },\n    {\n      \"column\": \"B\",\n      \"properties\": {\n        \"dtype\": \"string\",\n        \"num_unique_values\": 2,\n        \"samples\": [\n          \"B3\",\n          \"B2\"\n        ],\n        \"semantic_type\": \"\",\n        \"description\": \"\"\n      }\n    },\n    {\n      \"column\": \"D\",\n      \"properties\": {\n        \"dtype\": \"string\",\n        \"num_unique_values\": 2,\n        \"samples\": [\n          \"D3\",\n          \"D2\"\n        ],\n        \"semantic_type\": \"\",\n        \"description\": \"\"\n      }\n    },\n    {\n      \"column\": \"F\",\n      \"properties\": {\n        \"dtype\": \"string\",\n        \"num_unique_values\": 2,\n        \"samples\": [\n          \"F3\",\n          \"F2\"\n        ],\n        \"semantic_type\": \"\",\n        \"description\": \"\"\n      }\n    }\n  ]\n}"
            }
          },
          "metadata": {},
          "execution_count": 64
        }
      ]
    },
    {
      "cell_type": "code",
      "source": [
        "result = pd.concat([df1, df4], ignore_index=True, sort=False)\n",
        "result"
      ],
      "metadata": {
        "colab": {
          "base_uri": "https://localhost:8080/",
          "height": 300
        },
        "id": "hqFVj5yy4lk_",
        "outputId": "bbd3428f-845c-45a6-984e-f034b9fd3707"
      },
      "execution_count": 65,
      "outputs": [
        {
          "output_type": "execute_result",
          "data": {
            "text/plain": [
              "     A   B    C   D    F\n",
              "0   A0  B0   C0  D0  NaN\n",
              "1   A1  B1   C1  D1  NaN\n",
              "2   A2  B2   C2  D2  NaN\n",
              "3   A3  B3   C3  D3  NaN\n",
              "4  NaN  B2  NaN  D2   F2\n",
              "5  NaN  B3  NaN  D3   F3\n",
              "6  NaN  B6  NaN  D6   F6\n",
              "7  NaN  B7  NaN  D7   F7"
            ],
            "text/html": [
              "\n",
              "  <div id=\"df-31921f75-7249-4752-955b-699895045e9e\" class=\"colab-df-container\">\n",
              "    <div>\n",
              "<style scoped>\n",
              "    .dataframe tbody tr th:only-of-type {\n",
              "        vertical-align: middle;\n",
              "    }\n",
              "\n",
              "    .dataframe tbody tr th {\n",
              "        vertical-align: top;\n",
              "    }\n",
              "\n",
              "    .dataframe thead th {\n",
              "        text-align: right;\n",
              "    }\n",
              "</style>\n",
              "<table border=\"1\" class=\"dataframe\">\n",
              "  <thead>\n",
              "    <tr style=\"text-align: right;\">\n",
              "      <th></th>\n",
              "      <th>A</th>\n",
              "      <th>B</th>\n",
              "      <th>C</th>\n",
              "      <th>D</th>\n",
              "      <th>F</th>\n",
              "    </tr>\n",
              "  </thead>\n",
              "  <tbody>\n",
              "    <tr>\n",
              "      <th>0</th>\n",
              "      <td>A0</td>\n",
              "      <td>B0</td>\n",
              "      <td>C0</td>\n",
              "      <td>D0</td>\n",
              "      <td>NaN</td>\n",
              "    </tr>\n",
              "    <tr>\n",
              "      <th>1</th>\n",
              "      <td>A1</td>\n",
              "      <td>B1</td>\n",
              "      <td>C1</td>\n",
              "      <td>D1</td>\n",
              "      <td>NaN</td>\n",
              "    </tr>\n",
              "    <tr>\n",
              "      <th>2</th>\n",
              "      <td>A2</td>\n",
              "      <td>B2</td>\n",
              "      <td>C2</td>\n",
              "      <td>D2</td>\n",
              "      <td>NaN</td>\n",
              "    </tr>\n",
              "    <tr>\n",
              "      <th>3</th>\n",
              "      <td>A3</td>\n",
              "      <td>B3</td>\n",
              "      <td>C3</td>\n",
              "      <td>D3</td>\n",
              "      <td>NaN</td>\n",
              "    </tr>\n",
              "    <tr>\n",
              "      <th>4</th>\n",
              "      <td>NaN</td>\n",
              "      <td>B2</td>\n",
              "      <td>NaN</td>\n",
              "      <td>D2</td>\n",
              "      <td>F2</td>\n",
              "    </tr>\n",
              "    <tr>\n",
              "      <th>5</th>\n",
              "      <td>NaN</td>\n",
              "      <td>B3</td>\n",
              "      <td>NaN</td>\n",
              "      <td>D3</td>\n",
              "      <td>F3</td>\n",
              "    </tr>\n",
              "    <tr>\n",
              "      <th>6</th>\n",
              "      <td>NaN</td>\n",
              "      <td>B6</td>\n",
              "      <td>NaN</td>\n",
              "      <td>D6</td>\n",
              "      <td>F6</td>\n",
              "    </tr>\n",
              "    <tr>\n",
              "      <th>7</th>\n",
              "      <td>NaN</td>\n",
              "      <td>B7</td>\n",
              "      <td>NaN</td>\n",
              "      <td>D7</td>\n",
              "      <td>F7</td>\n",
              "    </tr>\n",
              "  </tbody>\n",
              "</table>\n",
              "</div>\n",
              "    <div class=\"colab-df-buttons\">\n",
              "\n",
              "  <div class=\"colab-df-container\">\n",
              "    <button class=\"colab-df-convert\" onclick=\"convertToInteractive('df-31921f75-7249-4752-955b-699895045e9e')\"\n",
              "            title=\"Convert this dataframe to an interactive table.\"\n",
              "            style=\"display:none;\">\n",
              "\n",
              "  <svg xmlns=\"http://www.w3.org/2000/svg\" height=\"24px\" viewBox=\"0 -960 960 960\">\n",
              "    <path d=\"M120-120v-720h720v720H120Zm60-500h600v-160H180v160Zm220 220h160v-160H400v160Zm0 220h160v-160H400v160ZM180-400h160v-160H180v160Zm440 0h160v-160H620v160ZM180-180h160v-160H180v160Zm440 0h160v-160H620v160Z\"/>\n",
              "  </svg>\n",
              "    </button>\n",
              "\n",
              "  <style>\n",
              "    .colab-df-container {\n",
              "      display:flex;\n",
              "      gap: 12px;\n",
              "    }\n",
              "\n",
              "    .colab-df-convert {\n",
              "      background-color: #E8F0FE;\n",
              "      border: none;\n",
              "      border-radius: 50%;\n",
              "      cursor: pointer;\n",
              "      display: none;\n",
              "      fill: #1967D2;\n",
              "      height: 32px;\n",
              "      padding: 0 0 0 0;\n",
              "      width: 32px;\n",
              "    }\n",
              "\n",
              "    .colab-df-convert:hover {\n",
              "      background-color: #E2EBFA;\n",
              "      box-shadow: 0px 1px 2px rgba(60, 64, 67, 0.3), 0px 1px 3px 1px rgba(60, 64, 67, 0.15);\n",
              "      fill: #174EA6;\n",
              "    }\n",
              "\n",
              "    .colab-df-buttons div {\n",
              "      margin-bottom: 4px;\n",
              "    }\n",
              "\n",
              "    [theme=dark] .colab-df-convert {\n",
              "      background-color: #3B4455;\n",
              "      fill: #D2E3FC;\n",
              "    }\n",
              "\n",
              "    [theme=dark] .colab-df-convert:hover {\n",
              "      background-color: #434B5C;\n",
              "      box-shadow: 0px 1px 3px 1px rgba(0, 0, 0, 0.15);\n",
              "      filter: drop-shadow(0px 1px 2px rgba(0, 0, 0, 0.3));\n",
              "      fill: #FFFFFF;\n",
              "    }\n",
              "  </style>\n",
              "\n",
              "    <script>\n",
              "      const buttonEl =\n",
              "        document.querySelector('#df-31921f75-7249-4752-955b-699895045e9e button.colab-df-convert');\n",
              "      buttonEl.style.display =\n",
              "        google.colab.kernel.accessAllowed ? 'block' : 'none';\n",
              "\n",
              "      async function convertToInteractive(key) {\n",
              "        const element = document.querySelector('#df-31921f75-7249-4752-955b-699895045e9e');\n",
              "        const dataTable =\n",
              "          await google.colab.kernel.invokeFunction('convertToInteractive',\n",
              "                                                    [key], {});\n",
              "        if (!dataTable) return;\n",
              "\n",
              "        const docLinkHtml = 'Like what you see? Visit the ' +\n",
              "          '<a target=\"_blank\" href=https://colab.research.google.com/notebooks/data_table.ipynb>data table notebook</a>'\n",
              "          + ' to learn more about interactive tables.';\n",
              "        element.innerHTML = '';\n",
              "        dataTable['output_type'] = 'display_data';\n",
              "        await google.colab.output.renderOutput(dataTable, element);\n",
              "        const docLink = document.createElement('div');\n",
              "        docLink.innerHTML = docLinkHtml;\n",
              "        element.appendChild(docLink);\n",
              "      }\n",
              "    </script>\n",
              "  </div>\n",
              "\n",
              "\n",
              "<div id=\"df-2fe59e49-f1e8-4ede-900d-9a6a86b903df\">\n",
              "  <button class=\"colab-df-quickchart\" onclick=\"quickchart('df-2fe59e49-f1e8-4ede-900d-9a6a86b903df')\"\n",
              "            title=\"Suggest charts\"\n",
              "            style=\"display:none;\">\n",
              "\n",
              "<svg xmlns=\"http://www.w3.org/2000/svg\" height=\"24px\"viewBox=\"0 0 24 24\"\n",
              "     width=\"24px\">\n",
              "    <g>\n",
              "        <path d=\"M19 3H5c-1.1 0-2 .9-2 2v14c0 1.1.9 2 2 2h14c1.1 0 2-.9 2-2V5c0-1.1-.9-2-2-2zM9 17H7v-7h2v7zm4 0h-2V7h2v10zm4 0h-2v-4h2v4z\"/>\n",
              "    </g>\n",
              "</svg>\n",
              "  </button>\n",
              "\n",
              "<style>\n",
              "  .colab-df-quickchart {\n",
              "      --bg-color: #E8F0FE;\n",
              "      --fill-color: #1967D2;\n",
              "      --hover-bg-color: #E2EBFA;\n",
              "      --hover-fill-color: #174EA6;\n",
              "      --disabled-fill-color: #AAA;\n",
              "      --disabled-bg-color: #DDD;\n",
              "  }\n",
              "\n",
              "  [theme=dark] .colab-df-quickchart {\n",
              "      --bg-color: #3B4455;\n",
              "      --fill-color: #D2E3FC;\n",
              "      --hover-bg-color: #434B5C;\n",
              "      --hover-fill-color: #FFFFFF;\n",
              "      --disabled-bg-color: #3B4455;\n",
              "      --disabled-fill-color: #666;\n",
              "  }\n",
              "\n",
              "  .colab-df-quickchart {\n",
              "    background-color: var(--bg-color);\n",
              "    border: none;\n",
              "    border-radius: 50%;\n",
              "    cursor: pointer;\n",
              "    display: none;\n",
              "    fill: var(--fill-color);\n",
              "    height: 32px;\n",
              "    padding: 0;\n",
              "    width: 32px;\n",
              "  }\n",
              "\n",
              "  .colab-df-quickchart:hover {\n",
              "    background-color: var(--hover-bg-color);\n",
              "    box-shadow: 0 1px 2px rgba(60, 64, 67, 0.3), 0 1px 3px 1px rgba(60, 64, 67, 0.15);\n",
              "    fill: var(--button-hover-fill-color);\n",
              "  }\n",
              "\n",
              "  .colab-df-quickchart-complete:disabled,\n",
              "  .colab-df-quickchart-complete:disabled:hover {\n",
              "    background-color: var(--disabled-bg-color);\n",
              "    fill: var(--disabled-fill-color);\n",
              "    box-shadow: none;\n",
              "  }\n",
              "\n",
              "  .colab-df-spinner {\n",
              "    border: 2px solid var(--fill-color);\n",
              "    border-color: transparent;\n",
              "    border-bottom-color: var(--fill-color);\n",
              "    animation:\n",
              "      spin 1s steps(1) infinite;\n",
              "  }\n",
              "\n",
              "  @keyframes spin {\n",
              "    0% {\n",
              "      border-color: transparent;\n",
              "      border-bottom-color: var(--fill-color);\n",
              "      border-left-color: var(--fill-color);\n",
              "    }\n",
              "    20% {\n",
              "      border-color: transparent;\n",
              "      border-left-color: var(--fill-color);\n",
              "      border-top-color: var(--fill-color);\n",
              "    }\n",
              "    30% {\n",
              "      border-color: transparent;\n",
              "      border-left-color: var(--fill-color);\n",
              "      border-top-color: var(--fill-color);\n",
              "      border-right-color: var(--fill-color);\n",
              "    }\n",
              "    40% {\n",
              "      border-color: transparent;\n",
              "      border-right-color: var(--fill-color);\n",
              "      border-top-color: var(--fill-color);\n",
              "    }\n",
              "    60% {\n",
              "      border-color: transparent;\n",
              "      border-right-color: var(--fill-color);\n",
              "    }\n",
              "    80% {\n",
              "      border-color: transparent;\n",
              "      border-right-color: var(--fill-color);\n",
              "      border-bottom-color: var(--fill-color);\n",
              "    }\n",
              "    90% {\n",
              "      border-color: transparent;\n",
              "      border-bottom-color: var(--fill-color);\n",
              "    }\n",
              "  }\n",
              "</style>\n",
              "\n",
              "  <script>\n",
              "    async function quickchart(key) {\n",
              "      const quickchartButtonEl =\n",
              "        document.querySelector('#' + key + ' button');\n",
              "      quickchartButtonEl.disabled = true;  // To prevent multiple clicks.\n",
              "      quickchartButtonEl.classList.add('colab-df-spinner');\n",
              "      try {\n",
              "        const charts = await google.colab.kernel.invokeFunction(\n",
              "            'suggestCharts', [key], {});\n",
              "      } catch (error) {\n",
              "        console.error('Error during call to suggestCharts:', error);\n",
              "      }\n",
              "      quickchartButtonEl.classList.remove('colab-df-spinner');\n",
              "      quickchartButtonEl.classList.add('colab-df-quickchart-complete');\n",
              "    }\n",
              "    (() => {\n",
              "      let quickchartButtonEl =\n",
              "        document.querySelector('#df-2fe59e49-f1e8-4ede-900d-9a6a86b903df button');\n",
              "      quickchartButtonEl.style.display =\n",
              "        google.colab.kernel.accessAllowed ? 'block' : 'none';\n",
              "    })();\n",
              "  </script>\n",
              "</div>\n",
              "\n",
              "  <div id=\"id_854b80f2-adc3-452e-9958-ebbfc175842c\">\n",
              "    <style>\n",
              "      .colab-df-generate {\n",
              "        background-color: #E8F0FE;\n",
              "        border: none;\n",
              "        border-radius: 50%;\n",
              "        cursor: pointer;\n",
              "        display: none;\n",
              "        fill: #1967D2;\n",
              "        height: 32px;\n",
              "        padding: 0 0 0 0;\n",
              "        width: 32px;\n",
              "      }\n",
              "\n",
              "      .colab-df-generate:hover {\n",
              "        background-color: #E2EBFA;\n",
              "        box-shadow: 0px 1px 2px rgba(60, 64, 67, 0.3), 0px 1px 3px 1px rgba(60, 64, 67, 0.15);\n",
              "        fill: #174EA6;\n",
              "      }\n",
              "\n",
              "      [theme=dark] .colab-df-generate {\n",
              "        background-color: #3B4455;\n",
              "        fill: #D2E3FC;\n",
              "      }\n",
              "\n",
              "      [theme=dark] .colab-df-generate:hover {\n",
              "        background-color: #434B5C;\n",
              "        box-shadow: 0px 1px 3px 1px rgba(0, 0, 0, 0.15);\n",
              "        filter: drop-shadow(0px 1px 2px rgba(0, 0, 0, 0.3));\n",
              "        fill: #FFFFFF;\n",
              "      }\n",
              "    </style>\n",
              "    <button class=\"colab-df-generate\" onclick=\"generateWithVariable('result')\"\n",
              "            title=\"Generate code using this dataframe.\"\n",
              "            style=\"display:none;\">\n",
              "\n",
              "  <svg xmlns=\"http://www.w3.org/2000/svg\" height=\"24px\"viewBox=\"0 0 24 24\"\n",
              "       width=\"24px\">\n",
              "    <path d=\"M7,19H8.4L18.45,9,17,7.55,7,17.6ZM5,21V16.75L18.45,3.32a2,2,0,0,1,2.83,0l1.4,1.43a1.91,1.91,0,0,1,.58,1.4,1.91,1.91,0,0,1-.58,1.4L9.25,21ZM18.45,9,17,7.55Zm-12,3A5.31,5.31,0,0,0,4.9,8.1,5.31,5.31,0,0,0,1,6.5,5.31,5.31,0,0,0,4.9,4.9,5.31,5.31,0,0,0,6.5,1,5.31,5.31,0,0,0,8.1,4.9,5.31,5.31,0,0,0,12,6.5,5.46,5.46,0,0,0,6.5,12Z\"/>\n",
              "  </svg>\n",
              "    </button>\n",
              "    <script>\n",
              "      (() => {\n",
              "      const buttonEl =\n",
              "        document.querySelector('#id_854b80f2-adc3-452e-9958-ebbfc175842c button.colab-df-generate');\n",
              "      buttonEl.style.display =\n",
              "        google.colab.kernel.accessAllowed ? 'block' : 'none';\n",
              "\n",
              "      buttonEl.onclick = () => {\n",
              "        google.colab.notebook.generateWithVariable('result');\n",
              "      }\n",
              "      })();\n",
              "    </script>\n",
              "  </div>\n",
              "\n",
              "    </div>\n",
              "  </div>\n"
            ],
            "application/vnd.google.colaboratory.intrinsic+json": {
              "type": "dataframe",
              "variable_name": "result",
              "summary": "{\n  \"name\": \"result\",\n  \"rows\": 8,\n  \"fields\": [\n    {\n      \"column\": \"A\",\n      \"properties\": {\n        \"dtype\": \"string\",\n        \"num_unique_values\": 4,\n        \"samples\": [\n          \"A1\",\n          \"A3\",\n          \"A0\"\n        ],\n        \"semantic_type\": \"\",\n        \"description\": \"\"\n      }\n    },\n    {\n      \"column\": \"B\",\n      \"properties\": {\n        \"dtype\": \"string\",\n        \"num_unique_values\": 6,\n        \"samples\": [\n          \"B0\",\n          \"B1\",\n          \"B7\"\n        ],\n        \"semantic_type\": \"\",\n        \"description\": \"\"\n      }\n    },\n    {\n      \"column\": \"C\",\n      \"properties\": {\n        \"dtype\": \"string\",\n        \"num_unique_values\": 4,\n        \"samples\": [\n          \"C1\",\n          \"C3\",\n          \"C0\"\n        ],\n        \"semantic_type\": \"\",\n        \"description\": \"\"\n      }\n    },\n    {\n      \"column\": \"D\",\n      \"properties\": {\n        \"dtype\": \"string\",\n        \"num_unique_values\": 6,\n        \"samples\": [\n          \"D0\",\n          \"D1\",\n          \"D7\"\n        ],\n        \"semantic_type\": \"\",\n        \"description\": \"\"\n      }\n    },\n    {\n      \"column\": \"F\",\n      \"properties\": {\n        \"dtype\": \"string\",\n        \"num_unique_values\": 4,\n        \"samples\": [\n          \"F3\",\n          \"F7\",\n          \"F2\"\n        ],\n        \"semantic_type\": \"\",\n        \"description\": \"\"\n      }\n    }\n  ]\n}"
            }
          },
          "metadata": {},
          "execution_count": 65
        }
      ]
    },
    {
      "cell_type": "code",
      "source": [
        "df1 = pd.DataFrame({'employee': ['Bob', 'Jake', 'Lisa', 'Sue'],\n",
        " 'group': ['Accounting', 'Engineering',\n",
        " 'Engineering', 'HR']})\n",
        "df2 = pd.DataFrame({'employee': ['Lisa', 'Bob', 'Jake', 'Sue'],\n",
        " 'hire_date': [2004, 2008, 2012, 2014]})\n",
        "print(df1)\n",
        "print(df2)\n",
        "df3 = pd.merge(df1, df2)\n",
        "print('--------------------------')\n",
        "print(df3)"
      ],
      "metadata": {
        "colab": {
          "base_uri": "https://localhost:8080/"
        },
        "id": "AVgLg86y4qRa",
        "outputId": "28958f8c-b88e-450c-c237-a0ab95e940f5"
      },
      "execution_count": 66,
      "outputs": [
        {
          "output_type": "stream",
          "name": "stdout",
          "text": [
            "  employee        group\n",
            "0      Bob   Accounting\n",
            "1     Jake  Engineering\n",
            "2     Lisa  Engineering\n",
            "3      Sue           HR\n",
            "  employee  hire_date\n",
            "0     Lisa       2004\n",
            "1      Bob       2008\n",
            "2     Jake       2012\n",
            "3      Sue       2014\n",
            "--------------------------\n",
            "  employee        group  hire_date\n",
            "0      Bob   Accounting       2008\n",
            "1     Jake  Engineering       2012\n",
            "2     Lisa  Engineering       2004\n",
            "3      Sue           HR       2014\n"
          ]
        }
      ]
    },
    {
      "cell_type": "code",
      "source": [
        "import pandas as pd\n",
        "df1 = pd.DataFrame({'employee': ['Bob', 'Jake', 'Lisa', 'Sue'],\n",
        " 'group': ['Accounting', 'Engineering',\n",
        " 'Engineering', 'HR']})\n",
        "df2 = pd.DataFrame({'employee': ['Lisa', 'Bob', 'Jake', 'Sue'],\n",
        " 'hire_date': [2004, 2008, 2012, 2014]})\n",
        "df3 = pd.merge(df1, df2)\n",
        "print(df3)\n",
        "print('--------------------------')\n",
        "df4 = pd.DataFrame({'group': ['Accounting', 'Engineering', 'HR'],\n",
        " 'supervisor': ['Carly', 'Guido', 'Steve']})\n",
        "df5 = pd.merge(df3, df4)\n",
        "print(df4)\n",
        "print('--------------------------')\n",
        "print(df5)"
      ],
      "metadata": {
        "colab": {
          "base_uri": "https://localhost:8080/"
        },
        "id": "cNqeaP344tW3",
        "outputId": "8abc3225-eb2b-4e9f-c8d3-89b55635f843"
      },
      "execution_count": 67,
      "outputs": [
        {
          "output_type": "stream",
          "name": "stdout",
          "text": [
            "  employee        group  hire_date\n",
            "0      Bob   Accounting       2008\n",
            "1     Jake  Engineering       2012\n",
            "2     Lisa  Engineering       2004\n",
            "3      Sue           HR       2014\n",
            "--------------------------\n",
            "         group supervisor\n",
            "0   Accounting      Carly\n",
            "1  Engineering      Guido\n",
            "2           HR      Steve\n",
            "--------------------------\n",
            "  employee        group  hire_date supervisor\n",
            "0      Bob   Accounting       2008      Carly\n",
            "1     Jake  Engineering       2012      Guido\n",
            "2     Lisa  Engineering       2004      Guido\n",
            "3      Sue           HR       2014      Steve\n"
          ]
        }
      ]
    },
    {
      "cell_type": "code",
      "source": [
        "import pandas as pd\n",
        "df1 = pd.DataFrame({'employee': ['Bob', 'Jake', 'Lisa', 'Sue'],\n",
        " 'group': ['Accounting', 'Engineering',\n",
        " 'Engineering', 'HR']})\n",
        "df2 = pd.DataFrame({'employee': ['Lisa', 'Bob', 'Jake', 'Sue'],\n",
        " 'hire_date': [2004, 2008, 2012, 2014]})\n",
        "df3 = pd.DataFrame({'name': ['Bob', 'Jake', 'Lisa', 'Sue'],\n",
        " 'salary': [70000, 80000, 120000, 90000]})\n",
        "print(df1)\n",
        "print(df3)\n",
        "print(pd.merge(df1, df3, left_on=\"employee\", right_on=\"name\"))"
      ],
      "metadata": {
        "colab": {
          "base_uri": "https://localhost:8080/"
        },
        "id": "xfylwXH64w2X",
        "outputId": "5955162f-f280-4ab6-ab3e-2da44f8fca3d"
      },
      "execution_count": 68,
      "outputs": [
        {
          "output_type": "stream",
          "name": "stdout",
          "text": [
            "  employee        group\n",
            "0      Bob   Accounting\n",
            "1     Jake  Engineering\n",
            "2     Lisa  Engineering\n",
            "3      Sue           HR\n",
            "   name  salary\n",
            "0   Bob   70000\n",
            "1  Jake   80000\n",
            "2  Lisa  120000\n",
            "3   Sue   90000\n",
            "  employee        group  name  salary\n",
            "0      Bob   Accounting   Bob   70000\n",
            "1     Jake  Engineering  Jake   80000\n",
            "2     Lisa  Engineering  Lisa  120000\n",
            "3      Sue           HR   Sue   90000\n"
          ]
        }
      ]
    },
    {
      "cell_type": "code",
      "source": [
        "import pandas as pd\n",
        "df1 = pd.DataFrame({'employee': ['Bob', 'Jake', 'Lisa', 'Sue'],\n",
        " 'group': ['Accounting', 'Engineering',\n",
        " 'Engineering', 'HR']})\n",
        "df2 = pd.DataFrame({'employee': ['Lisa', 'Bob', 'Jake', 'Sue'],\n",
        " 'hire_date': [2004, 2008, 2012, 2014]})\n",
        "df3 = pd.DataFrame({'name': ['Bob', 'Jake', 'Lisa', 'Sue'],\n",
        " 'salary': [70000, 80000, 120000, 90000]})\n",
        "print(df1)\n",
        "print(df3)\n",
        "print(pd.merge(df1, df3, left_on=\"employee\",\n",
        " right_on=\"name\").drop('name', axis=1))"
      ],
      "metadata": {
        "colab": {
          "base_uri": "https://localhost:8080/"
        },
        "id": "zFtsOIfS405Y",
        "outputId": "fb528e65-2a7e-4f76-903b-8a51561c331d"
      },
      "execution_count": 69,
      "outputs": [
        {
          "output_type": "stream",
          "name": "stdout",
          "text": [
            "  employee        group\n",
            "0      Bob   Accounting\n",
            "1     Jake  Engineering\n",
            "2     Lisa  Engineering\n",
            "3      Sue           HR\n",
            "   name  salary\n",
            "0   Bob   70000\n",
            "1  Jake   80000\n",
            "2  Lisa  120000\n",
            "3   Sue   90000\n",
            "  employee        group  salary\n",
            "0      Bob   Accounting   70000\n",
            "1     Jake  Engineering   80000\n",
            "2     Lisa  Engineering  120000\n",
            "3      Sue           HR   90000\n"
          ]
        }
      ]
    },
    {
      "cell_type": "code",
      "source": [
        "import pandas as pd\n",
        "df1 = pd.DataFrame({'name': ['Peter', 'Paul', 'Mary'],\n",
        " 'food': ['fish', 'beans', 'bread']},\n",
        " columns=['name', 'food'])\n",
        "df2 = pd.DataFrame({'name': ['Mary', 'Joseph'],\n",
        " 'drink': ['cola', '7 up']},\n",
        " columns=['name', 'drink'])\n",
        "print(df1)\n",
        "print('-----------------------------')\n",
        "print(df2)\n",
        "print('-----------------------------')\n",
        "df3 = pd.merge(df1, df2)\n",
        "print(df3)"
      ],
      "metadata": {
        "colab": {
          "base_uri": "https://localhost:8080/"
        },
        "id": "uDIn8qNF47IR",
        "outputId": "a36ae9fd-1e43-4c71-e695-0ffd978118fc"
      },
      "execution_count": 71,
      "outputs": [
        {
          "output_type": "stream",
          "name": "stdout",
          "text": [
            "    name   food\n",
            "0  Peter   fish\n",
            "1   Paul  beans\n",
            "2   Mary  bread\n",
            "-----------------------------\n",
            "     name drink\n",
            "0    Mary  cola\n",
            "1  Joseph  7 up\n",
            "-----------------------------\n",
            "   name   food drink\n",
            "0  Mary  bread  cola\n"
          ]
        }
      ]
    },
    {
      "cell_type": "code",
      "source": [
        "import pandas as pd\n",
        "df1 = pd.DataFrame({'name': ['Peter', 'Paul', 'Mary'],\n",
        " 'food': ['fish', 'beans', 'bread']},\n",
        " columns=['name', 'food'])\n",
        "df2 = pd.DataFrame({'name': ['Mary', 'Joseph'],\n",
        " 'drink': ['cola', '7 up']},\n",
        " columns=['name', 'drink'])\n",
        "print(df1)\n",
        "print('-----------------------------')\n",
        "print(df2)\n",
        "print('-----------------------------')\n",
        "df3 = pd.merge(df1, df2, how='inner')\n",
        "print(df3)"
      ],
      "metadata": {
        "colab": {
          "base_uri": "https://localhost:8080/"
        },
        "id": "N_Rq6k1-4_O_",
        "outputId": "11856783-d4c9-42cd-eda0-ebe00945c2a5"
      },
      "execution_count": 72,
      "outputs": [
        {
          "output_type": "stream",
          "name": "stdout",
          "text": [
            "    name   food\n",
            "0  Peter   fish\n",
            "1   Paul  beans\n",
            "2   Mary  bread\n",
            "-----------------------------\n",
            "     name drink\n",
            "0    Mary  cola\n",
            "1  Joseph  7 up\n",
            "-----------------------------\n",
            "   name   food drink\n",
            "0  Mary  bread  cola\n"
          ]
        }
      ]
    },
    {
      "cell_type": "code",
      "source": [
        "import pandas as pd\n",
        "df1 = pd.DataFrame({'name': ['Peter', 'Paul', 'Mary'],\n",
        " 'food': ['fish', 'beans', 'bread']},\n",
        " columns=['name', 'food'])\n",
        "df2 = pd.DataFrame({'name': ['Mary', 'Joseph'],\n",
        " 'drink': ['cola', '7 up']},\n",
        " columns=['name', 'drink'])\n",
        "print(df1)\n",
        "print('-----------------------------')\n",
        "print(df2)\n",
        "print('-----------------------------')\n",
        "df3 = pd.merge(df1, df2, how='outer')\n",
        "print(df3)"
      ],
      "metadata": {
        "colab": {
          "base_uri": "https://localhost:8080/"
        },
        "id": "h-jtK5pA5Jdt",
        "outputId": "57859276-ee94-492c-b54c-ddb3b101f308"
      },
      "execution_count": 73,
      "outputs": [
        {
          "output_type": "stream",
          "name": "stdout",
          "text": [
            "    name   food\n",
            "0  Peter   fish\n",
            "1   Paul  beans\n",
            "2   Mary  bread\n",
            "-----------------------------\n",
            "     name drink\n",
            "0    Mary  cola\n",
            "1  Joseph  7 up\n",
            "-----------------------------\n",
            "     name   food drink\n",
            "0  Joseph    NaN  7 up\n",
            "1    Mary  bread  cola\n",
            "2    Paul  beans   NaN\n",
            "3   Peter   fish   NaN\n"
          ]
        }
      ]
    },
    {
      "cell_type": "code",
      "source": [
        "import pandas as pd\n",
        "df1 = pd.DataFrame({'name': ['Peter', 'Paul', 'Mary'],\n",
        " 'food': ['fish', 'beans', 'bread']},\n",
        " columns=['name', 'food'])\n",
        "df2 = pd.DataFrame({'name': ['Mary', 'Joseph'],\n",
        " 'drink': ['cola', '7 up']},\n",
        " columns=['name', 'drink'])\n",
        "print(df1)\n",
        "print('-----------------------------')\n",
        "print(df2)\n",
        "print('-----------------------------')\n",
        "df3 = pd.merge(df1, df2, how='right')\n",
        "print(df3)"
      ],
      "metadata": {
        "colab": {
          "base_uri": "https://localhost:8080/"
        },
        "id": "dH9Mpcur5ijP",
        "outputId": "5ed7ecc1-f8fe-435f-f786-218556e061d8"
      },
      "execution_count": 75,
      "outputs": [
        {
          "output_type": "stream",
          "name": "stdout",
          "text": [
            "    name   food\n",
            "0  Peter   fish\n",
            "1   Paul  beans\n",
            "2   Mary  bread\n",
            "-----------------------------\n",
            "     name drink\n",
            "0    Mary  cola\n",
            "1  Joseph  7 up\n",
            "-----------------------------\n",
            "     name   food drink\n",
            "0    Mary  bread  cola\n",
            "1  Joseph    NaN  7 up\n"
          ]
        }
      ]
    },
    {
      "cell_type": "code",
      "source": [
        "import pandas as pd\n",
        "df1 = pd.DataFrame({'name': ['Peter', 'Paul', 'Mary'],\n",
        " 'food': ['fish', 'beans', 'bread']},\n",
        " columns=['name', 'food'])\n",
        "df2 = pd.DataFrame({'name': ['Mary', 'Joseph'],\n",
        " 'drink': ['cola', '7 up']},\n",
        " columns=['name', 'drink'])\n",
        "print(df1)\n",
        "print('-----------------------------')\n",
        "print(df2)\n",
        "print('-----------------------------')\n",
        "df3 = pd.merge(df1, df2, how='left')\n",
        "print(df3)"
      ],
      "metadata": {
        "colab": {
          "base_uri": "https://localhost:8080/"
        },
        "id": "IVBGLq7B5lv2",
        "outputId": "2f2c7d83-b60e-42a9-e22c-1222bd6eb664"
      },
      "execution_count": 76,
      "outputs": [
        {
          "output_type": "stream",
          "name": "stdout",
          "text": [
            "    name   food\n",
            "0  Peter   fish\n",
            "1   Paul  beans\n",
            "2   Mary  bread\n",
            "-----------------------------\n",
            "     name drink\n",
            "0    Mary  cola\n",
            "1  Joseph  7 up\n",
            "-----------------------------\n",
            "    name   food drink\n",
            "0  Peter   fish   NaN\n",
            "1   Paul  beans   NaN\n",
            "2   Mary  bread  cola\n"
          ]
        }
      ]
    },
    {
      "cell_type": "code",
      "source": [
        "import pandas as pd\n",
        "import numpy as np\n",
        "df = pd.DataFrame({'A': np.random.rand(10),'B': np.random.rand(10)})\n",
        "print(df)\n",
        "print('------------------------------')\n",
        "print(df.sum())\n",
        "print('------------------------------')\n",
        "print(df.prod())\n",
        "print('------------------------------')\n",
        "print(df.mean())\n"
      ],
      "metadata": {
        "colab": {
          "base_uri": "https://localhost:8080/"
        },
        "id": "VOxL7vqs5q4s",
        "outputId": "2bcfdd3a-eb3f-41bf-8121-a75d8b78ab49"
      },
      "execution_count": 77,
      "outputs": [
        {
          "output_type": "stream",
          "name": "stdout",
          "text": [
            "          A         B\n",
            "0  0.845960  0.065258\n",
            "1  0.180190  0.085449\n",
            "2  0.742400  0.939682\n",
            "3  0.114311  0.573782\n",
            "4  0.539010  0.241491\n",
            "5  0.712759  0.201018\n",
            "6  0.047033  0.815150\n",
            "7  0.196067  0.735729\n",
            "8  0.808765  0.784693\n",
            "9  0.862786  0.060677\n",
            "------------------------------\n",
            "A    5.049281\n",
            "B    4.502928\n",
            "dtype: float64\n",
            "------------------------------\n",
            "A    0.000032\n",
            "B    0.000004\n",
            "dtype: float64\n",
            "------------------------------\n",
            "A    0.504928\n",
            "B    0.450293\n",
            "dtype: float64\n"
          ]
        }
      ]
    },
    {
      "cell_type": "code",
      "source": [
        "import pandas as pd\n",
        "import numpy as np\n",
        "df = pd.DataFrame({'A': np.random.rand(10),'B': np.random.rand(10)})\n",
        "print(df)\n",
        "print('------------------------------')\n",
        "print(df['A'].sum())\n",
        "print('------------------------------')\n",
        "print(df['B'].prod())\n",
        "print('------------------------------')\n",
        "print(df['A'].mean())"
      ],
      "metadata": {
        "colab": {
          "base_uri": "https://localhost:8080/"
        },
        "id": "eA8bQsWx5xM3",
        "outputId": "8eb678a8-7f87-4b29-d430-0204630f6bb0"
      },
      "execution_count": 78,
      "outputs": [
        {
          "output_type": "stream",
          "name": "stdout",
          "text": [
            "          A         B\n",
            "0  0.912256  0.409907\n",
            "1  0.933350  0.935138\n",
            "2  0.678295  0.962657\n",
            "3  0.764262  0.762277\n",
            "4  0.767407  0.214991\n",
            "5  0.683776  0.355794\n",
            "6  0.849425  0.430572\n",
            "7  0.421328  0.884872\n",
            "8  0.671043  0.036550\n",
            "9  0.406447  0.124108\n",
            "------------------------------\n",
            "7.087590068099289\n",
            "------------------------------\n",
            "3.718546876030209e-05\n",
            "------------------------------\n",
            "0.708759006809929\n"
          ]
        }
      ]
    },
    {
      "cell_type": "code",
      "source": [
        "import pandas as pd\n",
        "import numpy as np\n",
        "df = pd.DataFrame({'A': np.random.rand(10),'B': np.random.rand(10)})\n",
        "print(df)\n",
        "print('------------------------------')\n",
        "print(df.mean(axis='rows'))\n",
        "print('------------------------------')\n",
        "print(df.count())\n",
        "print('------------------------------')\n",
        "print(df.min())\n",
        "print('------------------------------')\n",
        "print(df.max())\n",
        "print('------------------------------')\n",
        "print(df.std())\n",
        "print('------------------------------')"
      ],
      "metadata": {
        "colab": {
          "base_uri": "https://localhost:8080/"
        },
        "id": "0JTIFhqo50K8",
        "outputId": "ad9761bb-a7dd-4ea0-d20e-31eb7fed887c"
      },
      "execution_count": 79,
      "outputs": [
        {
          "output_type": "stream",
          "name": "stdout",
          "text": [
            "          A         B\n",
            "0  0.190967  0.170432\n",
            "1  0.190743  0.196903\n",
            "2  0.378949  0.657110\n",
            "3  0.970664  0.392238\n",
            "4  0.059479  0.072528\n",
            "5  0.518497  0.282743\n",
            "6  0.253544  0.820940\n",
            "7  0.209820  0.508329\n",
            "8  0.306457  0.932740\n",
            "9  0.474997  0.702484\n",
            "------------------------------\n",
            "A    0.355412\n",
            "B    0.473645\n",
            "dtype: float64\n",
            "------------------------------\n",
            "A    10\n",
            "B    10\n",
            "dtype: int64\n",
            "------------------------------\n",
            "A    0.059479\n",
            "B    0.072528\n",
            "dtype: float64\n",
            "------------------------------\n",
            "A    0.970664\n",
            "B    0.932740\n",
            "dtype: float64\n",
            "------------------------------\n",
            "A    0.25727\n",
            "B    0.29648\n",
            "dtype: float64\n",
            "------------------------------\n"
          ]
        }
      ]
    },
    {
      "cell_type": "code",
      "source": [
        "import pandas as pd\n",
        "import numpy as np\n",
        "df = pd.DataFrame({'A': np.random.rand(10),'B': np.random.rand(10)})\n",
        "print(df)\n",
        "print('------------------------------')\n",
        "print(df.mean(axis='columns'))"
      ],
      "metadata": {
        "colab": {
          "base_uri": "https://localhost:8080/"
        },
        "id": "NM447az353ty",
        "outputId": "0c5d41db-7098-46be-82a1-3fab2cf73dce"
      },
      "execution_count": 80,
      "outputs": [
        {
          "output_type": "stream",
          "name": "stdout",
          "text": [
            "          A         B\n",
            "0  0.810490  0.927919\n",
            "1  0.551842  0.441185\n",
            "2  0.195350  0.565998\n",
            "3  0.450309  0.234626\n",
            "4  0.285849  0.604748\n",
            "5  0.728300  0.010471\n",
            "6  0.313024  0.753334\n",
            "7  0.071419  0.477968\n",
            "8  0.781537  0.254351\n",
            "9  0.545979  0.099599\n",
            "------------------------------\n",
            "0    0.869205\n",
            "1    0.496513\n",
            "2    0.380674\n",
            "3    0.342467\n",
            "4    0.445299\n",
            "5    0.369386\n",
            "6    0.533179\n",
            "7    0.274694\n",
            "8    0.517944\n",
            "9    0.322789\n",
            "dtype: float64\n"
          ]
        }
      ]
    },
    {
      "cell_type": "code",
      "source": [
        "import pandas as pd\n",
        "df = pd.DataFrame({'key':['A','B','C','A','B','C'],\n",
        " 'data': range(6)},columns=['key', 'data'])\n",
        "print(df)\n",
        "print(df.describe())"
      ],
      "metadata": {
        "colab": {
          "base_uri": "https://localhost:8080/"
        },
        "id": "1zlbZ38_57wt",
        "outputId": "7b38f396-3e8b-445f-e40d-3e77a10b84df"
      },
      "execution_count": 81,
      "outputs": [
        {
          "output_type": "stream",
          "name": "stdout",
          "text": [
            "  key  data\n",
            "0   A     0\n",
            "1   B     1\n",
            "2   C     2\n",
            "3   A     3\n",
            "4   B     4\n",
            "5   C     5\n",
            "           data\n",
            "count  6.000000\n",
            "mean   2.500000\n",
            "std    1.870829\n",
            "min    0.000000\n",
            "25%    1.250000\n",
            "50%    2.500000\n",
            "75%    3.750000\n",
            "max    5.000000\n"
          ]
        }
      ]
    },
    {
      "cell_type": "code",
      "source": [
        "import pandas as pd\n",
        "df = pd.DataFrame({'key':['A','B','C','A','B','C'],\n",
        " 'data': range(6)},columns=['key', 'data'])\n",
        "print(df)\n",
        "print(df.groupby('key').sum())"
      ],
      "metadata": {
        "colab": {
          "base_uri": "https://localhost:8080/"
        },
        "id": "QwyJio795-5C",
        "outputId": "289307b7-1ab6-4127-8cc8-67c4824345ac"
      },
      "execution_count": 82,
      "outputs": [
        {
          "output_type": "stream",
          "name": "stdout",
          "text": [
            "  key  data\n",
            "0   A     0\n",
            "1   B     1\n",
            "2   C     2\n",
            "3   A     3\n",
            "4   B     4\n",
            "5   C     5\n",
            "     data\n",
            "key      \n",
            "A       3\n",
            "B       5\n",
            "C       7\n"
          ]
        }
      ]
    },
    {
      "cell_type": "code",
      "source": [
        "import pandas as pd\n",
        "df = pd.DataFrame({'key':['A','B','C','A','B','C'],\n",
        " 'data': range(6)},columns=['key', 'data'])\n",
        "print(df)\n",
        "print(df.groupby('key').describe())"
      ],
      "metadata": {
        "colab": {
          "base_uri": "https://localhost:8080/"
        },
        "id": "E--xbgl16CZ-",
        "outputId": "9506ba84-f114-4671-bb6c-778cdf3b564e"
      },
      "execution_count": 83,
      "outputs": [
        {
          "output_type": "stream",
          "name": "stdout",
          "text": [
            "  key  data\n",
            "0   A     0\n",
            "1   B     1\n",
            "2   C     2\n",
            "3   A     3\n",
            "4   B     4\n",
            "5   C     5\n",
            "     data                                         \n",
            "    count mean      std  min   25%  50%   75%  max\n",
            "key                                               \n",
            "A     2.0  1.5  2.12132  0.0  0.75  1.5  2.25  3.0\n",
            "B     2.0  2.5  2.12132  1.0  1.75  2.5  3.25  4.0\n",
            "C     2.0  3.5  2.12132  2.0  2.75  3.5  4.25  5.0\n"
          ]
        }
      ]
    },
    {
      "cell_type": "code",
      "source": [
        "import pandas as pd\n",
        "df = pd.DataFrame({'key':['A','B','C','A','B','C'],\n",
        " 'data': range(6)},columns=['key', 'data'])\n",
        "print(df)\n",
        "print(df.groupby('key').describe().unstack())"
      ],
      "metadata": {
        "colab": {
          "base_uri": "https://localhost:8080/"
        },
        "id": "a0LuoPTw6GIg",
        "outputId": "0390d522-e597-4681-c4e9-b59fab921186"
      },
      "execution_count": 84,
      "outputs": [
        {
          "output_type": "stream",
          "name": "stdout",
          "text": [
            "  key  data\n",
            "0   A     0\n",
            "1   B     1\n",
            "2   C     2\n",
            "3   A     3\n",
            "4   B     4\n",
            "5   C     5\n",
            "             key\n",
            "data  count  A      2.00000\n",
            "             B      2.00000\n",
            "             C      2.00000\n",
            "      mean   A      1.50000\n",
            "             B      2.50000\n",
            "             C      3.50000\n",
            "      std    A      2.12132\n",
            "             B      2.12132\n",
            "             C      2.12132\n",
            "      min    A      0.00000\n",
            "             B      1.00000\n",
            "             C      2.00000\n",
            "      25%    A      0.75000\n",
            "             B      1.75000\n",
            "             C      2.75000\n",
            "      50%    A      1.50000\n",
            "             B      2.50000\n",
            "             C      3.50000\n",
            "      75%    A      2.25000\n",
            "             B      3.25000\n",
            "             C      4.25000\n",
            "      max    A      3.00000\n",
            "             B      4.00000\n",
            "             C      5.00000\n",
            "dtype: float64\n"
          ]
        }
      ]
    },
    {
      "cell_type": "code",
      "source": [
        "import pandas as pd\n",
        "import numpy as np\n",
        "df = pd.DataFrame({'key': ['A', 'B', 'C', 'A', 'B', 'C'],\n",
        " 'data1': range(6),\n",
        " 'data2': np.random.randint(0, 10, 6)},\n",
        " columns = ['key', 'data1', 'data2'])\n",
        "print(df)\n",
        "df2 = df.groupby('key').aggregate({'data1': 'min','data2': 'max'})\n",
        "print(df2)"
      ],
      "metadata": {
        "colab": {
          "base_uri": "https://localhost:8080/"
        },
        "id": "_12gw-0x6KIM",
        "outputId": "0d5c4f05-5220-42c3-ddcf-09b9741d2344"
      },
      "execution_count": 85,
      "outputs": [
        {
          "output_type": "stream",
          "name": "stdout",
          "text": [
            "  key  data1  data2\n",
            "0   A      0      9\n",
            "1   B      1      1\n",
            "2   C      2      7\n",
            "3   A      3      7\n",
            "4   B      4      5\n",
            "5   C      5      0\n",
            "     data1  data2\n",
            "key              \n",
            "A        0      9\n",
            "B        1      5\n",
            "C        2      7\n"
          ]
        }
      ]
    },
    {
      "cell_type": "code",
      "source": [
        "import pandas as pd\n",
        "import numpy as np\n",
        "df = pd.DataFrame({'key': ['A', 'B', 'C', 'A', 'B', 'C'],\n",
        " 'data1': range(6),\n",
        " 'data2': np.random.randint(0, 10, 6)},\n",
        " columns = ['key', 'data1', 'data2'])\n",
        "print(df)\n",
        "def filter_func(x):\n",
        " return x['data2'].std() > 4\n",
        "df2 = df.groupby('key').filter(filter_func)\n",
        "print(df2)"
      ],
      "metadata": {
        "colab": {
          "base_uri": "https://localhost:8080/"
        },
        "id": "KqJ7zkz86NKv",
        "outputId": "5c8d8093-d6ec-4004-cf8e-b76f218d90f9"
      },
      "execution_count": 86,
      "outputs": [
        {
          "output_type": "stream",
          "name": "stdout",
          "text": [
            "  key  data1  data2\n",
            "0   A      0      9\n",
            "1   B      1      1\n",
            "2   C      2      1\n",
            "3   A      3      7\n",
            "4   B      4      0\n",
            "5   C      5      7\n",
            "  key  data1  data2\n",
            "2   C      2      1\n",
            "5   C      5      7\n"
          ]
        }
      ]
    },
    {
      "cell_type": "code",
      "source": [
        "import pandas as pd\n",
        "import numpy as np\n",
        "df = pd.DataFrame({'key': ['A', 'B', 'C', 'A', 'B', 'C'],\n",
        " 'data1': range(6),\n",
        " 'data2': np.random.randint(0, 10, 6)},\n",
        " columns = ['key', 'data1', 'data2'])\n",
        "print(df)\n",
        "df2 = df.groupby('key').transform(lambda x: x**2)"
      ],
      "metadata": {
        "colab": {
          "base_uri": "https://localhost:8080/"
        },
        "id": "mklIRdel6REy",
        "outputId": "1d7a51b7-9f39-47c4-c2f3-7200797de90d"
      },
      "execution_count": 87,
      "outputs": [
        {
          "output_type": "stream",
          "name": "stdout",
          "text": [
            "  key  data1  data2\n",
            "0   A      0      4\n",
            "1   B      1      6\n",
            "2   C      2      8\n",
            "3   A      3      6\n",
            "4   B      4      4\n",
            "5   C      5      6\n"
          ]
        }
      ]
    },
    {
      "cell_type": "code",
      "source": [
        "# Sample DataFrame with unnecessary data\n",
        "data = {'Name': ['Alice', 'Bob', 'Charlie'],\n",
        " 'Age': [25, 30, 22],\n",
        " 'Unneeded_Column': ['A', 'B', 'C']}\n",
        "df = pd.DataFrame(data)\n",
        "# Displaying the original DataFrame\n",
        "print(\"Original DataFrame:\")\n",
        "print(df)\n",
        "# Dropping the unneeded column\n",
        "df = df.drop(columns=['Unneeded_Column'])\n",
        "# Displaying the DataFrame after dropping the column\n",
        "print(\"\\nDataFrame after streamlining data:\")\n",
        "print(df)"
      ],
      "metadata": {
        "colab": {
          "base_uri": "https://localhost:8080/"
        },
        "id": "y8S2P8HN6XtI",
        "outputId": "77529477-594b-4a30-fae8-c75b300a8c07"
      },
      "execution_count": 88,
      "outputs": [
        {
          "output_type": "stream",
          "name": "stdout",
          "text": [
            "Original DataFrame:\n",
            "      Name  Age Unneeded_Column\n",
            "0    Alice   25               A\n",
            "1      Bob   30               B\n",
            "2  Charlie   22               C\n",
            "\n",
            "DataFrame after streamlining data:\n",
            "      Name  Age\n",
            "0    Alice   25\n",
            "1      Bob   30\n",
            "2  Charlie   22\n"
          ]
        }
      ]
    },
    {
      "cell_type": "code",
      "source": [
        "import pandas as pd\n",
        "# Sample DataFrame with missing values\n",
        "data = {'Name': ['Alice', 'Bob', None, 'Charlie'],\n",
        " 'Age': [25, 30, None, 22],\n",
        " 'Salary': [50000, None, 60000, 70000]}\n",
        "df = pd.DataFrame(data)\n",
        "# Displaying the original DataFrame\n",
        "print(\"Original DataFrame:\")\n",
        "print(df)\n",
        "# Drop the entire row if there is any one missing data\n",
        "df_clean = df.dropna()\n",
        "print(\"\\nDataFrame with all rows without missing value \")\n",
        "print(df_clean)\n"
      ],
      "metadata": {
        "colab": {
          "base_uri": "https://localhost:8080/"
        },
        "id": "09C3o41b6f_-",
        "outputId": "60a9c48e-91c0-424d-e92e-7dfd4ac42719"
      },
      "execution_count": 89,
      "outputs": [
        {
          "output_type": "stream",
          "name": "stdout",
          "text": [
            "Original DataFrame:\n",
            "      Name   Age   Salary\n",
            "0    Alice  25.0  50000.0\n",
            "1      Bob  30.0      NaN\n",
            "2     None   NaN  60000.0\n",
            "3  Charlie  22.0  70000.0\n",
            "\n",
            "DataFrame with all rows without missing value \n",
            "      Name   Age   Salary\n",
            "0    Alice  25.0  50000.0\n",
            "3  Charlie  22.0  70000.0\n"
          ]
        }
      ]
    },
    {
      "cell_type": "code",
      "source": [
        "import pandas as pd\n",
        "# Sample DataFrame with missing values\n",
        "data = {'Name': ['Alice', 'Bob', None, 'Charlie'],\n",
        " 'Age': [25, 30, None, 22],\n",
        " 'Salary': [50000, None, 60000, 70000]}\n",
        "df = pd.DataFrame(data)\n",
        "# Displaying the original DataFrame\n",
        "print(\"Original DataFrame:\")\n",
        "print(df)\n",
        "# Drop the entire row if there is any one missing data\n",
        "df_clean = df.drop(2, axis=0)\n",
        "print(\"\\nDataFrame with all rows without missing value \")\n",
        "print(df_clean)"
      ],
      "metadata": {
        "colab": {
          "base_uri": "https://localhost:8080/"
        },
        "id": "u6G4jmFN6nLC",
        "outputId": "2b5b546d-4889-48c4-b14e-be1a0164fd0f"
      },
      "execution_count": 90,
      "outputs": [
        {
          "output_type": "stream",
          "name": "stdout",
          "text": [
            "Original DataFrame:\n",
            "      Name   Age   Salary\n",
            "0    Alice  25.0  50000.0\n",
            "1      Bob  30.0      NaN\n",
            "2     None   NaN  60000.0\n",
            "3  Charlie  22.0  70000.0\n",
            "\n",
            "DataFrame with all rows without missing value \n",
            "      Name   Age   Salary\n",
            "0    Alice  25.0  50000.0\n",
            "1      Bob  30.0      NaN\n",
            "3  Charlie  22.0  70000.0\n"
          ]
        }
      ]
    },
    {
      "cell_type": "code",
      "source": [
        "import pandas as pd\n",
        "# Sample DataFrame with missing values\n",
        "data = {'Name': ['Alice', 'Bob', None, 'Charlie'],\n",
        " 'Age': [25, 30, None, 22],\n",
        " 'Salary': [50000, None, 60000, 70000]}\n",
        "df = pd.DataFrame(data)\n",
        "# Displaying the original DataFrame\n",
        "print(\"Original DataFrame:\")\n",
        "print(df)\n",
        "# Checking for missing values\n",
        "missing_values = df.isnull()\n",
        "# Displaying the DataFrame with missing value indicators\n",
        "print(\"\\nDataFrame with Missing Value Indicators:\")\n",
        "print(missing_values)\n",
        "# Show rows where any one of them have missing value in the Salary column\n",
        "rows_with_missing = df[df[\"Salary\"].isnull()]\n",
        "print(\"\\nDataFrame with all rows contain Missing Value \")\n",
        "print(rows_with_missing)"
      ],
      "metadata": {
        "colab": {
          "base_uri": "https://localhost:8080/"
        },
        "id": "7rlO29-U6q-O",
        "outputId": "891cd5c5-efb0-4d1b-c914-09d15d34fd75"
      },
      "execution_count": 91,
      "outputs": [
        {
          "output_type": "stream",
          "name": "stdout",
          "text": [
            "Original DataFrame:\n",
            "      Name   Age   Salary\n",
            "0    Alice  25.0  50000.0\n",
            "1      Bob  30.0      NaN\n",
            "2     None   NaN  60000.0\n",
            "3  Charlie  22.0  70000.0\n",
            "\n",
            "DataFrame with Missing Value Indicators:\n",
            "    Name    Age  Salary\n",
            "0  False  False   False\n",
            "1  False  False    True\n",
            "2   True   True   False\n",
            "3  False  False   False\n",
            "\n",
            "DataFrame with all rows contain Missing Value \n",
            "  Name   Age  Salary\n",
            "1  Bob  30.0     NaN\n"
          ]
        }
      ]
    },
    {
      "cell_type": "code",
      "source": [
        "import pandas as pd\n",
        "# Sample DataFrame with duplicate data\n",
        "data = {'Name': ['Alice', 'Bob', 'Alice', 'Charlie', 'Bob'],\n",
        " 'Age': [25, 30, 25, 22, 30],\n",
        " 'Salary': [50000, 60000, 50000, 70000, 60000]}\n",
        "df = pd.DataFrame(data)\n",
        "# Displaying the original DataFrame\n",
        "print(\"Original DataFrame:\")\n",
        "print(df)\n",
        "# Dropping duplicates based on all columns\n",
        "df_no_duplicates = df.drop_duplicates()\n",
        "# Displaying the DataFrame after dropping duplicates\n",
        "print(\"\\nDataFrame after dropping duplicates:\")\n",
        "print(df_no_duplicates)"
      ],
      "metadata": {
        "colab": {
          "base_uri": "https://localhost:8080/"
        },
        "id": "8of6jOK56wV7",
        "outputId": "cbaaee05-38e7-4b5b-996e-6215dac30fb9"
      },
      "execution_count": 92,
      "outputs": [
        {
          "output_type": "stream",
          "name": "stdout",
          "text": [
            "Original DataFrame:\n",
            "      Name  Age  Salary\n",
            "0    Alice   25   50000\n",
            "1      Bob   30   60000\n",
            "2    Alice   25   50000\n",
            "3  Charlie   22   70000\n",
            "4      Bob   30   60000\n",
            "\n",
            "DataFrame after dropping duplicates:\n",
            "      Name  Age  Salary\n",
            "0    Alice   25   50000\n",
            "1      Bob   30   60000\n",
            "3  Charlie   22   70000\n"
          ]
        }
      ]
    },
    {
      "cell_type": "code",
      "source": [
        "# create DataFrame with duplicate entries\n",
        "df = pd.DataFrame({'k1':['one']*3 + ['two']*4, 'k2':[1,1,2,3,3,4,4]})\n",
        "# Displaying the original DataFrame\n",
        "print(\"Original DataFrame:\")\n",
        "print(df)\n",
        "# see the duplicate entries\n",
        "duplicates = df.duplicated()\n",
        "# Displaying the duplicates to look at them\n",
        "print(\"\\nThe duplicate entries :\")\n",
        "print(duplicates)\n",
        "# Dropping duplicates based on all columns\n",
        "df_no_duplicates = df.drop_duplicates()\n",
        "# Displaying the DataFrame after dropping duplicates\n",
        "print(\"\\nDataFrame after dropping duplicates:\")\n",
        "print(df_no_duplicates)"
      ],
      "metadata": {
        "colab": {
          "base_uri": "https://localhost:8080/"
        },
        "id": "ehpgGPc_61D_",
        "outputId": "683784da-7f15-46da-d4b0-c0bd807ae9d3"
      },
      "execution_count": 93,
      "outputs": [
        {
          "output_type": "stream",
          "name": "stdout",
          "text": [
            "Original DataFrame:\n",
            "    k1  k2\n",
            "0  one   1\n",
            "1  one   1\n",
            "2  one   2\n",
            "3  two   3\n",
            "4  two   3\n",
            "5  two   4\n",
            "6  two   4\n",
            "\n",
            "The duplicate entries :\n",
            "0    False\n",
            "1     True\n",
            "2    False\n",
            "3    False\n",
            "4     True\n",
            "5    False\n",
            "6     True\n",
            "dtype: bool\n",
            "\n",
            "DataFrame after dropping duplicates:\n",
            "    k1  k2\n",
            "0  one   1\n",
            "2  one   2\n",
            "3  two   3\n",
            "5  two   4\n"
          ]
        }
      ]
    },
    {
      "cell_type": "code",
      "source": [
        "# create DataFrame with duplicate entries\n",
        "df = pd.DataFrame({'k1':['one']*3 + ['two']*4, 'k2':[1,1,2,3,3,4,4]})\n",
        "# Displaying the original DataFrame\n",
        "print(\"Original DataFrame:\")\n",
        "print(df)\n",
        "# drop duplicate entries based on k1 only\n",
        "df_k1 = df.drop_duplicates(['k1'])\n",
        "# Displaying the df after drop the duplicates based on k1\n",
        "print(\"\\n The DF without duplicate (k1 based) :\")\n",
        "print(df_k1)\n",
        "# drop if k1 and k2 column matched\n",
        "df_k1_k2 =df.drop_duplicates(['k1', 'k2'])\n",
        "# Displaying the df after drop the duplicates based on k1 and k2\n",
        "print(\"\\n The DF without duplicate (k1_k2 based) :\")\n",
        "print(df_k1_k2)"
      ],
      "metadata": {
        "colab": {
          "base_uri": "https://localhost:8080/"
        },
        "id": "lqER9Axt64e0",
        "outputId": "bee34752-30e9-4c55-f144-8db792be8afe"
      },
      "execution_count": 94,
      "outputs": [
        {
          "output_type": "stream",
          "name": "stdout",
          "text": [
            "Original DataFrame:\n",
            "    k1  k2\n",
            "0  one   1\n",
            "1  one   1\n",
            "2  one   2\n",
            "3  two   3\n",
            "4  two   3\n",
            "5  two   4\n",
            "6  two   4\n",
            "\n",
            " The DF without duplicate (k1 based) :\n",
            "    k1  k2\n",
            "0  one   1\n",
            "3  two   3\n",
            "\n",
            " The DF without duplicate (k1_k2 based) :\n",
            "    k1  k2\n",
            "0  one   1\n",
            "2  one   2\n",
            "3  two   3\n",
            "5  two   4\n"
          ]
        }
      ]
    },
    {
      "cell_type": "code",
      "source": [
        "import pandas as pd\n",
        "# Sample DataFrame with a column containing specific values to be replaced\n",
        "data = {'Category': ['Fruit', 'Vegetable', 'Fruit', 'Meat', 'Vegetable', 'Fruit','Meat'],\n",
        "        'Price': [2.5, 1.8, 3.0, 5.5, 2.0, 3.2, 6.0]}\n",
        "df = pd.DataFrame(data)\n",
        "# Displaying the original DataFrame\n",
        "print(\"Original DataFrame:\")\n",
        "print(df)\n",
        "# Replacing 'Fruit' with 'Healthy Snack' in the 'Category' column\n",
        "df['Category'] = df['Category'].replace('Fruit', 'Healthy Snack')\n",
        "# Displaying the DataFrame after replacement\n",
        "print(\"\\nDataFrame after Replacement:\")\n",
        "print(df)\n"
      ],
      "metadata": {
        "colab": {
          "base_uri": "https://localhost:8080/"
        },
        "id": "MzD8heK66769",
        "outputId": "79a86053-e35d-46a4-a6d7-a09c691e0d18"
      },
      "execution_count": 97,
      "outputs": [
        {
          "output_type": "stream",
          "name": "stdout",
          "text": [
            "Original DataFrame:\n",
            "    Category  Price\n",
            "0      Fruit    2.5\n",
            "1  Vegetable    1.8\n",
            "2      Fruit    3.0\n",
            "3       Meat    5.5\n",
            "4  Vegetable    2.0\n",
            "5      Fruit    3.2\n",
            "6       Meat    6.0\n",
            "\n",
            "DataFrame after Replacement:\n",
            "        Category  Price\n",
            "0  Healthy Snack    2.5\n",
            "1      Vegetable    1.8\n",
            "2  Healthy Snack    3.0\n",
            "3           Meat    5.5\n",
            "4      Vegetable    2.0\n",
            "5  Healthy Snack    3.2\n",
            "6           Meat    6.0\n"
          ]
        }
      ]
    },
    {
      "cell_type": "code",
      "source": [
        "df = pd.DataFrame({'k1':['one']*3 + ['two']*4, 'k2':[1,1,2,3,3,4,4]})\n",
        "# Displaying the original DataFrame\n",
        "print(\"Original DataFrame:\")\n",
        "print(df)\n",
        "df_replaced=df.replace(['one', 3], ['One', '30'])\n",
        "# Displaying the DataFrame after replacement\n",
        "print(\"\\nDataFrame after Replacement:\")\n",
        "print(df_replaced)"
      ],
      "metadata": {
        "colab": {
          "base_uri": "https://localhost:8080/"
        },
        "id": "gn2MSQ6E7D2W",
        "outputId": "e8b10ed6-c1b9-4ff0-a190-7f497b4ed7a6"
      },
      "execution_count": 98,
      "outputs": [
        {
          "output_type": "stream",
          "name": "stdout",
          "text": [
            "Original DataFrame:\n",
            "    k1  k2\n",
            "0  one   1\n",
            "1  one   1\n",
            "2  one   2\n",
            "3  two   3\n",
            "4  two   3\n",
            "5  two   4\n",
            "6  two   4\n",
            "\n",
            "DataFrame after Replacement:\n",
            "    k1  k2\n",
            "0  One   1\n",
            "1  One   1\n",
            "2  One   2\n",
            "3  two  30\n",
            "4  two  30\n",
            "5  two   4\n",
            "6  two   4\n"
          ]
        }
      ]
    },
    {
      "cell_type": "code",
      "source": [
        "import pandas as pd\n",
        "# Sample DataFrame with a column containing repeated elements\n",
        "data = {'Category': ['Fruit', 'Vegetable', 'Fruit', 'Meat', 'Vegetable', 'Fruit','Meat']}\n",
        "df = pd.DataFrame(data)\n",
        "# Displaying the original DataFrame\n",
        "print(\"Original DataFrame:\")\n",
        "print(df)\n",
        "# Extracting unique elements from the 'Category' column\n",
        "unique_categories = df['Category'].unique()\n",
        "# Displaying the unique elements\n",
        "print(\"\\nUnique Categories:\")\n",
        "print(unique_categories)"
      ],
      "metadata": {
        "colab": {
          "base_uri": "https://localhost:8080/"
        },
        "id": "g6EjvIMo7bKm",
        "outputId": "23ef5661-ef2d-47d1-b7ae-1c653e4b986a"
      },
      "execution_count": 102,
      "outputs": [
        {
          "output_type": "stream",
          "name": "stdout",
          "text": [
            "Original DataFrame:\n",
            "    Category\n",
            "0      Fruit\n",
            "1  Vegetable\n",
            "2      Fruit\n",
            "3       Meat\n",
            "4  Vegetable\n",
            "5      Fruit\n",
            "6       Meat\n",
            "\n",
            "Unique Categories:\n",
            "['Fruit' 'Vegetable' 'Meat']\n"
          ]
        }
      ]
    },
    {
      "cell_type": "code",
      "source": [
        "import pandas as pd\n",
        "# Sample DataFrame with a column containing repeated elements\n",
        "data = {'Category': ['Fruit', 'Vegetable', 'Fruit', 'Meat', 'Vegetable', 'Fruit','Meat']}\n",
        "df = pd.DataFrame(data)\n",
        "# Displaying the original DataFrame\n",
        "print(\"Original DataFrame:\")\n",
        "print(df)\n",
        "# Counting the number of unique elements in the 'Category' column\n",
        "num_unique_categories = df['Category'].nunique()\n",
        "# Displaying the number of unique elements\n",
        "print(\"\\nNumber of Unique Categories:\", num_unique_categories)"
      ],
      "metadata": {
        "colab": {
          "base_uri": "https://localhost:8080/"
        },
        "id": "JguYY9qD7eZM",
        "outputId": "b5d5df25-4fde-4801-ffd0-9f7e4f64f422"
      },
      "execution_count": 104,
      "outputs": [
        {
          "output_type": "stream",
          "name": "stdout",
          "text": [
            "Original DataFrame:\n",
            "    Category\n",
            "0      Fruit\n",
            "1  Vegetable\n",
            "2      Fruit\n",
            "3       Meat\n",
            "4  Vegetable\n",
            "5      Fruit\n",
            "6       Meat\n",
            "\n",
            "Number of Unique Categories: 3\n"
          ]
        }
      ]
    },
    {
      "cell_type": "code",
      "source": [
        "import pandas as pd\n",
        "index = [('California', 2000),('California', 2010),\n",
        " ('New York', 2000),('New York', 2010),\n",
        " ('Texas', 2000),('Texas', 2010)]\n",
        "populations = [10000,15000,\n",
        " 20000,25000,\n",
        " 30000,35000]\n",
        "index = pd.MultiIndex.from_tuples(index)\n",
        "pop = pd.Series(populations, index=index)\n",
        "pop = pop.reindex(index)\n",
        "print(pop)"
      ],
      "metadata": {
        "colab": {
          "base_uri": "https://localhost:8080/"
        },
        "id": "EfAX27mE7zSW",
        "outputId": "1ef3c418-007b-445b-ef6d-5e6af50c2a7d"
      },
      "execution_count": 105,
      "outputs": [
        {
          "output_type": "stream",
          "name": "stdout",
          "text": [
            "California  2000    10000\n",
            "            2010    15000\n",
            "New York    2000    20000\n",
            "            2010    25000\n",
            "Texas       2000    30000\n",
            "            2010    35000\n",
            "dtype: int64\n"
          ]
        }
      ]
    },
    {
      "cell_type": "code",
      "source": [
        "import pandas as pd\n",
        "import numpy as np\n",
        "df = pd.DataFrame(np.random.rand(4, 2),\n",
        " index=[['a', 'a', 'b', 'b'],\n",
        " [1, 2, 1, 2]],columns=['income', 'profit'])\n",
        "print(df)"
      ],
      "metadata": {
        "colab": {
          "base_uri": "https://localhost:8080/"
        },
        "id": "wqFu8qb576pG",
        "outputId": "fc80c0f8-549a-4fd6-bb9e-a6f022eff3d9"
      },
      "execution_count": 106,
      "outputs": [
        {
          "output_type": "stream",
          "name": "stdout",
          "text": [
            "       income    profit\n",
            "a 1  0.664491  0.299160\n",
            "  2  0.445556  0.141731\n",
            "b 1  0.306324  0.582750\n",
            "  2  0.298869  0.746219\n"
          ]
        }
      ]
    },
    {
      "cell_type": "code",
      "source": [
        "import pandas as pd\n",
        "data = {('California', 2000): 10000,('California', 2010):15000,\n",
        " ('Texas', 2000): 20000,('Texas', 2010): 25000,\n",
        " ('New York', 2000): 30000,('New York', 2010): 35000}\n",
        "df = pd.Series(data)\n",
        "print(df)"
      ],
      "metadata": {
        "colab": {
          "base_uri": "https://localhost:8080/"
        },
        "id": "AYQhAujV7_Yg",
        "outputId": "a94d7fa9-f9c8-4fb1-9235-56826a7ee8f6"
      },
      "execution_count": 107,
      "outputs": [
        {
          "output_type": "stream",
          "name": "stdout",
          "text": [
            "California  2000    10000\n",
            "            2010    15000\n",
            "Texas       2000    20000\n",
            "            2010    25000\n",
            "New York    2000    30000\n",
            "            2010    35000\n",
            "dtype: int64\n"
          ]
        }
      ]
    },
    {
      "cell_type": "code",
      "source": [
        "import pandas as pd\n",
        "index = [('California', 2000),('California', 2010),\n",
        " ('New York', 2000),('New York', 2010),\n",
        " ('Texas', 2000),('Texas', 2010)]\n",
        "populations = [10000,15000,\n",
        " 20000,25000,\n",
        " 30000,35000]\n",
        "index = pd.MultiIndex.from_tuples(index)\n",
        "pop = pd.Series(populations, index=index)\n",
        "pop = pop.reindex(index)\n",
        "print(pop[:, 2010])"
      ],
      "metadata": {
        "colab": {
          "base_uri": "https://localhost:8080/"
        },
        "id": "owWkVT3p8Cqx",
        "outputId": "032b1cd8-8c26-4d12-83d6-674548e442c5"
      },
      "execution_count": 108,
      "outputs": [
        {
          "output_type": "stream",
          "name": "stdout",
          "text": [
            "California    15000\n",
            "New York      25000\n",
            "Texas         35000\n",
            "dtype: int64\n"
          ]
        }
      ]
    },
    {
      "cell_type": "code",
      "source": [
        "import pandas as pd\n",
        "index = [('California', 2000),('California', 2010),\n",
        " ('New York', 2000),('New York', 2010),\n",
        "      ('Texas', 2000),('Texas', 2010)]\n",
        "populations = [10000,15000,\n",
        " 20000,25000,\n",
        " 30000,35000]\n",
        "index = pd.MultiIndex.from_tuples(index)\n",
        "pop = pd.Series(populations, index=index)\n",
        "pop = pop.reindex(index)\n",
        "print(pop.unstack())"
      ],
      "metadata": {
        "colab": {
          "base_uri": "https://localhost:8080/"
        },
        "id": "5oLH9U2B8Fj_",
        "outputId": "1d26bfc9-3b43-4678-98e3-295abe049491"
      },
      "execution_count": 109,
      "outputs": [
        {
          "output_type": "stream",
          "name": "stdout",
          "text": [
            "             2000   2010\n",
            "California  10000  15000\n",
            "New York    20000  25000\n",
            "Texas       30000  35000\n"
          ]
        }
      ]
    },
    {
      "cell_type": "code",
      "source": [
        "import pandas as pd\n",
        "index = [('California', 2000),('California', 2010),\n",
        " ('New York', 2000),('New York', 2010),\n",
        " ('Texas', 2000),('Texas', 2010)]\n",
        "populations = [10000,15000,\n",
        " 20000,25000,\n",
        " 30000,35000]\n",
        "index = pd.MultiIndex.from_tuples(index)\n",
        "pop = pd.Series(populations, index=index)\n",
        "pop = pop.reindex(index)\n",
        "pop_df = pd.DataFrame({'total': pop,\n",
        " 'under18':[9267089, 9284094,4687374,\n",
        " 4318033,5906301, 6879014]})\n",
        "print(pop)\n",
        "print(pop_df)"
      ],
      "metadata": {
        "colab": {
          "base_uri": "https://localhost:8080/"
        },
        "id": "FbQJVjmW8K22",
        "outputId": "519d415d-df46-4027-b213-47ebf955da23"
      },
      "execution_count": 110,
      "outputs": [
        {
          "output_type": "stream",
          "name": "stdout",
          "text": [
            "California  2000    10000\n",
            "            2010    15000\n",
            "New York    2000    20000\n",
            "            2010    25000\n",
            "Texas       2000    30000\n",
            "            2010    35000\n",
            "dtype: int64\n",
            "                 total  under18\n",
            "California 2000  10000  9267089\n",
            "           2010  15000  9284094\n",
            "New York   2000  20000  4687374\n",
            "           2010  25000  4318033\n",
            "Texas      2000  30000  5906301\n",
            "           2010  35000  6879014\n"
          ]
        }
      ]
    },
    {
      "cell_type": "code",
      "source": [
        "import pandas as pd\n",
        "import numpy as np\n",
        "index = pd.MultiIndex.from_product([[2013, 2014],[1, 2]],\n",
        " names=['year', 'visit'])\n",
        "columns = pd.MultiIndex.from_product([['Bob', 'Guido', 'Sue'],\n",
        " ['HR', 'Temp']],\n",
        " names=['subject', 'type'])\n",
        "data = np.round(np.random.randn(4, 6))\n",
        "health_data = pd.DataFrame(data, index=index, columns=columns)\n",
        "\n",
        "idx = pd.IndexSlice\n",
        "print(health_data.loc[idx[:, 1], idx[:, 'HR']])"
      ],
      "metadata": {
        "colab": {
          "base_uri": "https://localhost:8080/"
        },
        "id": "fSqInzNQ8eWM",
        "outputId": "15c27bdd-19c5-4336-a369-167234dea080"
      },
      "execution_count": 114,
      "outputs": [
        {
          "output_type": "stream",
          "name": "stdout",
          "text": [
            "subject     Bob Guido  Sue\n",
            "type         HR    HR   HR\n",
            "year visit                \n",
            "2013 1     -0.0  -1.0  0.0\n",
            "2014 1      1.0   0.0 -0.0\n"
          ]
        }
      ]
    },
    {
      "cell_type": "code",
      "source": [
        "import pandas as pd\n",
        "import numpy as np\n",
        "index = pd.MultiIndex.from_product([[2013, 2014],[1, 2]],\n",
        " names=['year', 'visit'])\n",
        "columns = pd.MultiIndex.from_product([['Bob', 'Guido', 'Sue'],\n",
        " ['HR', 'Temp']],\n",
        " names=['subject', 'type'])\n",
        "data = np.round(np.random.randn(4, 6))\n",
        "health_data = pd.DataFrame(data, index=index, columns=columns)\n",
        "print(health_data['Guido', 'HR'])"
      ],
      "metadata": {
        "colab": {
          "base_uri": "https://localhost:8080/"
        },
        "id": "onqEDGRo8bRp",
        "outputId": "1fdde53c-3f66-4996-b40f-f136b8261e25"
      },
      "execution_count": 113,
      "outputs": [
        {
          "output_type": "stream",
          "name": "stdout",
          "text": [
            "year  visit\n",
            "2013  1        1.0\n",
            "      2        0.0\n",
            "2014  1        0.0\n",
            "      2        2.0\n",
            "Name: (Guido, HR), dtype: float64\n"
          ]
        }
      ]
    },
    {
      "cell_type": "code",
      "source": [
        "import pandas as pd\n",
        "import numpy as np\n",
        "index = pd.MultiIndex.from_product([[2013, 2014],[1, 2]],\n",
        " names=['year', 'visit'])\n",
        "columns = pd.MultiIndex.from_product([['Bob', 'Guido', 'Sue'],\n",
        " ['HR', 'Temp']],\n",
        " names=['subject', 'type'])\n",
        "data = np.round(np.random.randn(4, 6))\n",
        "health_data = pd.DataFrame(data, index=index, columns=columns)\n",
        "print(health_data.loc[:, ('Bob', 'HR')])"
      ],
      "metadata": {
        "colab": {
          "base_uri": "https://localhost:8080/"
        },
        "id": "1ltwCCv38YUK",
        "outputId": "cd31172c-358d-4ea3-f52a-0d61182781d2"
      },
      "execution_count": 112,
      "outputs": [
        {
          "output_type": "stream",
          "name": "stdout",
          "text": [
            "year  visit\n",
            "2013  1       -1.0\n",
            "      2        1.0\n",
            "2014  1       -0.0\n",
            "      2       -1.0\n",
            "Name: (Bob, HR), dtype: float64\n"
          ]
        }
      ]
    },
    {
      "cell_type": "code",
      "source": [
        "import pandas as pd\n",
        "data = ['peter', 'Paul', 'MARY', '15' , ' ' ]\n",
        "print( pd.Series(data).str.len()) # length\n",
        "print( pd.Series(data).str.startswith('p'))# is it start with \"p\"\n",
        "print( pd.Series(data).str.endswith('Y')) #does is end with \"r\"\n",
        "print( pd.Series(data).str.find('t')) # find this letter\n",
        "print( pd.Series(data).str.rfind('A'))# find it from right"
      ],
      "metadata": {
        "colab": {
          "base_uri": "https://localhost:8080/"
        },
        "id": "lrHANU4s8NMO",
        "outputId": "41b86460-b765-4e8b-fb05-c8945b6ed8dc"
      },
      "execution_count": 111,
      "outputs": [
        {
          "output_type": "stream",
          "name": "stdout",
          "text": [
            "0    5\n",
            "1    4\n",
            "2    4\n",
            "3    2\n",
            "4    1\n",
            "dtype: int64\n",
            "0     True\n",
            "1    False\n",
            "2    False\n",
            "3    False\n",
            "4    False\n",
            "dtype: bool\n",
            "0    False\n",
            "1    False\n",
            "2     True\n",
            "3    False\n",
            "4    False\n",
            "dtype: bool\n",
            "0    2\n",
            "1   -1\n",
            "2   -1\n",
            "3   -1\n",
            "4   -1\n",
            "dtype: int64\n",
            "0   -1\n",
            "1   -1\n",
            "2    1\n",
            "3   -1\n",
            "4   -1\n",
            "dtype: int64\n"
          ]
        }
      ]
    },
    {
      "cell_type": "code",
      "source": [
        "import pandas as pd\n",
        "data = ['peter', 'Paul', 'MARY', '15' , ' ' ]\n",
        "print( pd.Series(data).str.isupper())# is it all calpital\n",
        "print( pd.Series(data).str.islower())# is it lower ?\n",
        "print( pd.Series(data).str.istitle())# is like like \"This\"\n",
        "print( pd.Series(data).str.isspace())# is it all spaces ?\n",
        "print( pd.Series(data).str.isdigit())# is it numbers ?\n",
        "print( pd.Series(data).str.isalpha())# is it all letters ?\n",
        "print( pd.Series(data).str.isalnum())# is it not got any spaces ?\n",
        "print( pd.Series(data).str.isdecimal())# is it decimals ?\n",
        "print( pd.Series(data).str.isnumeric()) # is it number\n",
        "print( pd.Series(data).str.upper())# make it capital\n",
        "print( pd.Series(data).str.capitalize())# make it like 'This'\n",
        "print( pd.Series(data).str.lower())# make it lower\n",
        "print( pd.Series(data).str.swapcase())# switch capital & small"
      ],
      "metadata": {
        "colab": {
          "base_uri": "https://localhost:8080/"
        },
        "id": "60PCECgC8VHz",
        "outputId": "375188a6-52f3-468d-f186-90dff109e046"
      },
      "execution_count": 115,
      "outputs": [
        {
          "output_type": "stream",
          "name": "stdout",
          "text": [
            "0    False\n",
            "1    False\n",
            "2     True\n",
            "3    False\n",
            "4    False\n",
            "dtype: bool\n",
            "0     True\n",
            "1    False\n",
            "2    False\n",
            "3    False\n",
            "4    False\n",
            "dtype: bool\n",
            "0    False\n",
            "1     True\n",
            "2    False\n",
            "3    False\n",
            "4    False\n",
            "dtype: bool\n",
            "0    False\n",
            "1    False\n",
            "2    False\n",
            "3    False\n",
            "4     True\n",
            "dtype: bool\n",
            "0    False\n",
            "1    False\n",
            "2    False\n",
            "3     True\n",
            "4    False\n",
            "dtype: bool\n",
            "0     True\n",
            "1     True\n",
            "2     True\n",
            "3    False\n",
            "4    False\n",
            "dtype: bool\n",
            "0     True\n",
            "1     True\n",
            "2     True\n",
            "3     True\n",
            "4    False\n",
            "dtype: bool\n",
            "0    False\n",
            "1    False\n",
            "2    False\n",
            "3     True\n",
            "4    False\n",
            "dtype: bool\n",
            "0    False\n",
            "1    False\n",
            "2    False\n",
            "3     True\n",
            "4    False\n",
            "dtype: bool\n",
            "0    PETER\n",
            "1     PAUL\n",
            "2     MARY\n",
            "3       15\n",
            "4         \n",
            "dtype: object\n",
            "0    Peter\n",
            "1     Paul\n",
            "2     Mary\n",
            "3       15\n",
            "4         \n",
            "dtype: object\n",
            "0    peter\n",
            "1     paul\n",
            "2     mary\n",
            "3       15\n",
            "4         \n",
            "dtype: object\n",
            "0    PETER\n",
            "1     pAUL\n",
            "2     mary\n",
            "3       15\n",
            "4         \n",
            "dtype: object\n"
          ]
        }
      ]
    },
    {
      "cell_type": "code",
      "source": [
        "import pandas as pd\n",
        "x = pd.to_datetime(\"4th of July, 2018\")\n",
        "print(x)"
      ],
      "metadata": {
        "colab": {
          "base_uri": "https://localhost:8080/"
        },
        "id": "y-SHuHxA8ing",
        "outputId": "6357b90c-a8fa-4aa6-c72f-a9805dd023c0"
      },
      "execution_count": 116,
      "outputs": [
        {
          "output_type": "stream",
          "name": "stdout",
          "text": [
            "2018-07-04 00:00:00\n"
          ]
        }
      ]
    },
    {
      "cell_type": "code",
      "source": [
        "import pandas as pd\n",
        "import numpy as np\n",
        "x = pd.to_datetime(\"4th of July, 2018\")\n",
        "y = x + pd.to_timedelta(np.arange(20),'D')\n",
        "z = x - pd.to_timedelta(np.arange(20),'D')\n",
        "print(x)\n",
        "print(y)\n",
        "print(z)"
      ],
      "metadata": {
        "colab": {
          "base_uri": "https://localhost:8080/"
        },
        "id": "NGIY4UVR8ocH",
        "outputId": "5f03c05f-a5bd-4a34-9681-ff87bab518f5"
      },
      "execution_count": 117,
      "outputs": [
        {
          "output_type": "stream",
          "name": "stdout",
          "text": [
            "2018-07-04 00:00:00\n",
            "DatetimeIndex(['2018-07-04', '2018-07-05', '2018-07-06', '2018-07-07',\n",
            "               '2018-07-08', '2018-07-09', '2018-07-10', '2018-07-11',\n",
            "               '2018-07-12', '2018-07-13', '2018-07-14', '2018-07-15',\n",
            "               '2018-07-16', '2018-07-17', '2018-07-18', '2018-07-19',\n",
            "               '2018-07-20', '2018-07-21', '2018-07-22', '2018-07-23'],\n",
            "              dtype='datetime64[ns]', freq=None)\n",
            "DatetimeIndex(['2018-07-04', '2018-07-03', '2018-07-02', '2018-07-01',\n",
            "               '2018-06-30', '2018-06-29', '2018-06-28', '2018-06-27',\n",
            "               '2018-06-26', '2018-06-25', '2018-06-24', '2018-06-23',\n",
            "               '2018-06-22', '2018-06-21', '2018-06-20', '2018-06-19',\n",
            "               '2018-06-18', '2018-06-17', '2018-06-16', '2018-06-15'],\n",
            "              dtype='datetime64[ns]', freq=None)\n"
          ]
        }
      ]
    },
    {
      "cell_type": "code",
      "source": [
        "import pandas as pd\n",
        "index = pd.DatetimeIndex(['2014-07-04', '2014-08-04',\n",
        " '2015-07-04','2015-08-04'])\n",
        "data = pd.Series([0, 1, 2, 3], index=index)\n",
        "print(data)"
      ],
      "metadata": {
        "colab": {
          "base_uri": "https://localhost:8080/"
        },
        "id": "e8gT4e1i8qB8",
        "outputId": "e7353017-7534-4b0f-d542-98e294183750"
      },
      "execution_count": 118,
      "outputs": [
        {
          "output_type": "stream",
          "name": "stdout",
          "text": [
            "2014-07-04    0\n",
            "2014-08-04    1\n",
            "2015-07-04    2\n",
            "2015-08-04    3\n",
            "dtype: int64\n"
          ]
        }
      ]
    },
    {
      "cell_type": "code",
      "source": [
        "import pandas as pd\n",
        "index = pd.DatetimeIndex(['2011-03-12', '2012-08-21',\n",
        " '2013-07-11','2014-11-08'])\n",
        "data = pd.Series([0, 1, 2, 3], index=index)\n",
        "print(data['2011-01-01':'2012-12-31'])"
      ],
      "metadata": {
        "colab": {
          "base_uri": "https://localhost:8080/"
        },
        "id": "QhHwMZEK8trb",
        "outputId": "84f180dd-1ccd-48da-ae5b-5cf3919b56df"
      },
      "execution_count": 119,
      "outputs": [
        {
          "output_type": "stream",
          "name": "stdout",
          "text": [
            "2011-03-12    0\n",
            "2012-08-21    1\n",
            "dtype: int64\n"
          ]
        }
      ]
    },
    {
      "cell_type": "code",
      "source": [
        "import pandas as pd\n",
        "index = pd.DatetimeIndex(['2011-03-12', '2012-08-21',\n",
        " '2013-07-11','2014-11-08'])\n",
        "data = pd.Series([0, 1, 2, 3], index=index)\n",
        "print(data['2012'])"
      ],
      "metadata": {
        "colab": {
          "base_uri": "https://localhost:8080/"
        },
        "id": "xJWmjPnn8wPT",
        "outputId": "151b923b-41d8-48fa-9807-e705394d7652"
      },
      "execution_count": 120,
      "outputs": [
        {
          "output_type": "stream",
          "name": "stdout",
          "text": [
            "2012-08-21    1\n",
            "dtype: int64\n"
          ]
        }
      ]
    },
    {
      "cell_type": "code",
      "source": [
        "import pandas as pd\n",
        "index = pd.DatetimeIndex(['2011-03-12', '2012-08-21',\n",
        " '2013-07-11','2014-11-08'])\n",
        "data = pd.Series([0, 1, 2, 3], index=index)\n",
        "print(data['2012-08'])"
      ],
      "metadata": {
        "colab": {
          "base_uri": "https://localhost:8080/"
        },
        "id": "nrGXd21R8y5T",
        "outputId": "63ddd621-3ba6-45e5-cd1b-9e7a77600231"
      },
      "execution_count": 121,
      "outputs": [
        {
          "output_type": "stream",
          "name": "stdout",
          "text": [
            "2012-08-21    1\n",
            "dtype: int64\n"
          ]
        }
      ]
    },
    {
      "cell_type": "code",
      "source": [
        "import pandas as pd\n",
        "data = pd.date_range('2011-12-25', '2012-01-08')\n",
        "print(data)"
      ],
      "metadata": {
        "colab": {
          "base_uri": "https://localhost:8080/"
        },
        "id": "cxz2qjyf81ek",
        "outputId": "81fdeb45-ea52-4b11-a359-af3585da06a3"
      },
      "execution_count": 122,
      "outputs": [
        {
          "output_type": "stream",
          "name": "stdout",
          "text": [
            "DatetimeIndex(['2011-12-25', '2011-12-26', '2011-12-27', '2011-12-28',\n",
            "               '2011-12-29', '2011-12-30', '2011-12-31', '2012-01-01',\n",
            "               '2012-01-02', '2012-01-03', '2012-01-04', '2012-01-05',\n",
            "               '2012-01-06', '2012-01-07', '2012-01-08'],\n",
            "              dtype='datetime64[ns]', freq='D')\n"
          ]
        }
      ]
    },
    {
      "cell_type": "code",
      "source": [
        "import pandas as pd\n",
        "data = pd.date_range('2011-12-25', periods=8)\n",
        "print(data)"
      ],
      "metadata": {
        "colab": {
          "base_uri": "https://localhost:8080/"
        },
        "id": "HvC59Fe-83bY",
        "outputId": "0574d535-b367-466c-e384-8bf40681e295"
      },
      "execution_count": 123,
      "outputs": [
        {
          "output_type": "stream",
          "name": "stdout",
          "text": [
            "DatetimeIndex(['2011-12-25', '2011-12-26', '2011-12-27', '2011-12-28',\n",
            "               '2011-12-29', '2011-12-30', '2011-12-31', '2012-01-01'],\n",
            "              dtype='datetime64[ns]', freq='D')\n"
          ]
        }
      ]
    },
    {
      "cell_type": "code",
      "source": [
        "import pandas as pd\n",
        "data = pd.timedelta_range(0, periods=10, freq='H')\n",
        "print(data)"
      ],
      "metadata": {
        "colab": {
          "base_uri": "https://localhost:8080/"
        },
        "id": "uNWIne7T850U",
        "outputId": "141d61cc-1e0e-4b53-bb5c-6f70f5f805a4"
      },
      "execution_count": 124,
      "outputs": [
        {
          "output_type": "stream",
          "name": "stdout",
          "text": [
            "TimedeltaIndex(['0 days 00:00:00', '0 days 01:00:00', '0 days 02:00:00',\n",
            "                '0 days 03:00:00', '0 days 04:00:00', '0 days 05:00:00',\n",
            "                '0 days 06:00:00', '0 days 07:00:00', '0 days 08:00:00',\n",
            "                '0 days 09:00:00'],\n",
            "               dtype='timedelta64[ns]', freq='h')\n"
          ]
        },
        {
          "output_type": "stream",
          "name": "stderr",
          "text": [
            "<ipython-input-124-abb9efdadda2>:2: FutureWarning: 'H' is deprecated and will be removed in a future version, please use 'h' instead.\n",
            "  data = pd.timedelta_range(0, periods=10, freq='H')\n"
          ]
        }
      ]
    },
    {
      "cell_type": "code",
      "source": [
        "import pandas as pd\n",
        "data = pd.timedelta_range(0, periods=9, freq=\"2H30T40S\")\n",
        "print(data)"
      ],
      "metadata": {
        "colab": {
          "base_uri": "https://localhost:8080/"
        },
        "id": "4D_AopeT88cB",
        "outputId": "dec79f2f-787b-428a-dbf4-39dd40547209"
      },
      "execution_count": 125,
      "outputs": [
        {
          "output_type": "stream",
          "name": "stdout",
          "text": [
            "TimedeltaIndex(['0 days 00:00:00', '0 days 02:30:40', '0 days 05:01:20',\n",
            "                '0 days 07:32:00', '0 days 10:02:40', '0 days 12:33:20',\n",
            "                '0 days 15:04:00', '0 days 17:34:40', '0 days 20:05:20'],\n",
            "               dtype='timedelta64[ns]', freq='9040s')\n"
          ]
        },
        {
          "output_type": "stream",
          "name": "stderr",
          "text": [
            "<ipython-input-125-e560f35a9e1b>:2: FutureWarning: 'H' is deprecated and will be removed in a future version, please use 'h' instead.\n",
            "  data = pd.timedelta_range(0, periods=9, freq=\"2H30T40S\")\n",
            "<ipython-input-125-e560f35a9e1b>:2: FutureWarning: 'T' is deprecated and will be removed in a future version, please use 'min' instead.\n",
            "  data = pd.timedelta_range(0, periods=9, freq=\"2H30T40S\")\n",
            "<ipython-input-125-e560f35a9e1b>:2: FutureWarning: 'S' is deprecated and will be removed in a future version, please use 's' instead.\n",
            "  data = pd.timedelta_range(0, periods=9, freq=\"2H30T40S\")\n"
          ]
        }
      ]
    },
    {
      "cell_type": "code",
      "source": [
        "import pandas as pd\n",
        "from pandas.tseries.offsets import BDay\n",
        "data = pd.date_range('2018-07-01', periods=5, freq=BDay())\n",
        "print(data)"
      ],
      "metadata": {
        "colab": {
          "base_uri": "https://localhost:8080/"
        },
        "id": "G2T6GVi38_o3",
        "outputId": "39803838-fda6-4171-b940-b4defae64b1c"
      },
      "execution_count": 126,
      "outputs": [
        {
          "output_type": "stream",
          "name": "stdout",
          "text": [
            "DatetimeIndex(['2018-07-02', '2018-07-03', '2018-07-04', '2018-07-05',\n",
            "               '2018-07-06'],\n",
            "              dtype='datetime64[ns]', freq='B')\n"
          ]
        }
      ]
    },
    {
      "cell_type": "code",
      "source": [],
      "metadata": {
        "id": "fpj5XmMe9CNn"
      },
      "execution_count": null,
      "outputs": []
    }
  ]
}